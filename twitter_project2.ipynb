{
  "nbformat": 4,
  "nbformat_minor": 0,
  "metadata": {
    "colab": {
      "provenance": []
    },
    "kernelspec": {
      "name": "python3",
      "display_name": "Python 3"
    },
    "language_info": {
      "name": "python"
    }
  },
  "cells": [
    {
      "cell_type": "markdown",
      "source": [
        "# EDA"
      ],
      "metadata": {
        "id": "neRv1TYBxDMb"
      }
    },
    {
      "cell_type": "code",
      "execution_count": 4,
      "metadata": {
        "id": "cdOeAglM8lR7"
      },
      "outputs": [],
      "source": [
        "import pandas as pd\n",
        "import seaborn as sns\n",
        "import matplotlib.pyplot as plt\n",
        "import sklearn\n",
        "import numpy"
      ]
    },
    {
      "cell_type": "code",
      "source": [
        "df = pd.read_csv(\"/content/nasa2.csv\")\n",
        "df.head(3)"
      ],
      "metadata": {
        "id": "oOz2A5Kd9I8l",
        "colab": {
          "base_uri": "https://localhost:8080/"
        },
        "outputId": "85db22dc-8551-4941-c62b-e6a3504b2f9d"
      },
      "execution_count": null,
      "outputs": [
        {
          "output_type": "execute_result",
          "data": {
            "text/plain": [
              "     id  replies  reposts  likes  bookmarks   views  Is_reposted  Images  \\\n",
              "0  is_1      174      278   1748         33  494034            0       1   \n",
              "1  is_2      123     1015   4748         66  617053            1       2   \n",
              "2  is_3      286      784   3521         71  716856            0       1   \n",
              "\n",
              "   Videos        date      time  \\\n",
              "0       1  2023-12-29  15:06:23   \n",
              "1       1  2023-12-28  17:06:29   \n",
              "2       0  2023-12-28  15:54:57   \n",
              "\n",
              "                                                text  \n",
              "0  It's been a year full of science on the @Space...  \n",
              "1  Hey look – I’m a sundial! Ok, not exactly, but...  \n",
              "2  The first commercial robotic launch to the Moo...  "
            ],
            "text/html": [
              "\n",
              "  <div id=\"df-825aeeed-98ca-4d0e-91ce-371c239b58bb\" class=\"colab-df-container\">\n",
              "    <div>\n",
              "<style scoped>\n",
              "    .dataframe tbody tr th:only-of-type {\n",
              "        vertical-align: middle;\n",
              "    }\n",
              "\n",
              "    .dataframe tbody tr th {\n",
              "        vertical-align: top;\n",
              "    }\n",
              "\n",
              "    .dataframe thead th {\n",
              "        text-align: right;\n",
              "    }\n",
              "</style>\n",
              "<table border=\"1\" class=\"dataframe\">\n",
              "  <thead>\n",
              "    <tr style=\"text-align: right;\">\n",
              "      <th></th>\n",
              "      <th>id</th>\n",
              "      <th>replies</th>\n",
              "      <th>reposts</th>\n",
              "      <th>likes</th>\n",
              "      <th>bookmarks</th>\n",
              "      <th>views</th>\n",
              "      <th>Is_reposted</th>\n",
              "      <th>Images</th>\n",
              "      <th>Videos</th>\n",
              "      <th>date</th>\n",
              "      <th>time</th>\n",
              "      <th>text</th>\n",
              "    </tr>\n",
              "  </thead>\n",
              "  <tbody>\n",
              "    <tr>\n",
              "      <th>0</th>\n",
              "      <td>is_1</td>\n",
              "      <td>174</td>\n",
              "      <td>278</td>\n",
              "      <td>1748</td>\n",
              "      <td>33</td>\n",
              "      <td>494034</td>\n",
              "      <td>0</td>\n",
              "      <td>1</td>\n",
              "      <td>1</td>\n",
              "      <td>2023-12-29</td>\n",
              "      <td>15:06:23</td>\n",
              "      <td>It's been a year full of science on the @Space...</td>\n",
              "    </tr>\n",
              "    <tr>\n",
              "      <th>1</th>\n",
              "      <td>is_2</td>\n",
              "      <td>123</td>\n",
              "      <td>1015</td>\n",
              "      <td>4748</td>\n",
              "      <td>66</td>\n",
              "      <td>617053</td>\n",
              "      <td>1</td>\n",
              "      <td>2</td>\n",
              "      <td>1</td>\n",
              "      <td>2023-12-28</td>\n",
              "      <td>17:06:29</td>\n",
              "      <td>Hey look – I’m a sundial! Ok, not exactly, but...</td>\n",
              "    </tr>\n",
              "    <tr>\n",
              "      <th>2</th>\n",
              "      <td>is_3</td>\n",
              "      <td>286</td>\n",
              "      <td>784</td>\n",
              "      <td>3521</td>\n",
              "      <td>71</td>\n",
              "      <td>716856</td>\n",
              "      <td>0</td>\n",
              "      <td>1</td>\n",
              "      <td>0</td>\n",
              "      <td>2023-12-28</td>\n",
              "      <td>15:54:57</td>\n",
              "      <td>The first commercial robotic launch to the Moo...</td>\n",
              "    </tr>\n",
              "  </tbody>\n",
              "</table>\n",
              "</div>\n",
              "    <div class=\"colab-df-buttons\">\n",
              "\n",
              "  <div class=\"colab-df-container\">\n",
              "    <button class=\"colab-df-convert\" onclick=\"convertToInteractive('df-825aeeed-98ca-4d0e-91ce-371c239b58bb')\"\n",
              "            title=\"Convert this dataframe to an interactive table.\"\n",
              "            style=\"display:none;\">\n",
              "\n",
              "  <svg xmlns=\"http://www.w3.org/2000/svg\" height=\"24px\" viewBox=\"0 -960 960 960\">\n",
              "    <path d=\"M120-120v-720h720v720H120Zm60-500h600v-160H180v160Zm220 220h160v-160H400v160Zm0 220h160v-160H400v160ZM180-400h160v-160H180v160Zm440 0h160v-160H620v160ZM180-180h160v-160H180v160Zm440 0h160v-160H620v160Z\"/>\n",
              "  </svg>\n",
              "    </button>\n",
              "\n",
              "  <style>\n",
              "    .colab-df-container {\n",
              "      display:flex;\n",
              "      gap: 12px;\n",
              "    }\n",
              "\n",
              "    .colab-df-convert {\n",
              "      background-color: #E8F0FE;\n",
              "      border: none;\n",
              "      border-radius: 50%;\n",
              "      cursor: pointer;\n",
              "      display: none;\n",
              "      fill: #1967D2;\n",
              "      height: 32px;\n",
              "      padding: 0 0 0 0;\n",
              "      width: 32px;\n",
              "    }\n",
              "\n",
              "    .colab-df-convert:hover {\n",
              "      background-color: #E2EBFA;\n",
              "      box-shadow: 0px 1px 2px rgba(60, 64, 67, 0.3), 0px 1px 3px 1px rgba(60, 64, 67, 0.15);\n",
              "      fill: #174EA6;\n",
              "    }\n",
              "\n",
              "    .colab-df-buttons div {\n",
              "      margin-bottom: 4px;\n",
              "    }\n",
              "\n",
              "    [theme=dark] .colab-df-convert {\n",
              "      background-color: #3B4455;\n",
              "      fill: #D2E3FC;\n",
              "    }\n",
              "\n",
              "    [theme=dark] .colab-df-convert:hover {\n",
              "      background-color: #434B5C;\n",
              "      box-shadow: 0px 1px 3px 1px rgba(0, 0, 0, 0.15);\n",
              "      filter: drop-shadow(0px 1px 2px rgba(0, 0, 0, 0.3));\n",
              "      fill: #FFFFFF;\n",
              "    }\n",
              "  </style>\n",
              "\n",
              "    <script>\n",
              "      const buttonEl =\n",
              "        document.querySelector('#df-825aeeed-98ca-4d0e-91ce-371c239b58bb button.colab-df-convert');\n",
              "      buttonEl.style.display =\n",
              "        google.colab.kernel.accessAllowed ? 'block' : 'none';\n",
              "\n",
              "      async function convertToInteractive(key) {\n",
              "        const element = document.querySelector('#df-825aeeed-98ca-4d0e-91ce-371c239b58bb');\n",
              "        const dataTable =\n",
              "          await google.colab.kernel.invokeFunction('convertToInteractive',\n",
              "                                                    [key], {});\n",
              "        if (!dataTable) return;\n",
              "\n",
              "        const docLinkHtml = 'Like what you see? Visit the ' +\n",
              "          '<a target=\"_blank\" href=https://colab.research.google.com/notebooks/data_table.ipynb>data table notebook</a>'\n",
              "          + ' to learn more about interactive tables.';\n",
              "        element.innerHTML = '';\n",
              "        dataTable['output_type'] = 'display_data';\n",
              "        await google.colab.output.renderOutput(dataTable, element);\n",
              "        const docLink = document.createElement('div');\n",
              "        docLink.innerHTML = docLinkHtml;\n",
              "        element.appendChild(docLink);\n",
              "      }\n",
              "    </script>\n",
              "  </div>\n",
              "\n",
              "\n",
              "<div id=\"df-8e74db22-3a9b-41cc-a64f-7dc945c27515\">\n",
              "  <button class=\"colab-df-quickchart\" onclick=\"quickchart('df-8e74db22-3a9b-41cc-a64f-7dc945c27515')\"\n",
              "            title=\"Suggest charts\"\n",
              "            style=\"display:none;\">\n",
              "\n",
              "<svg xmlns=\"http://www.w3.org/2000/svg\" height=\"24px\"viewBox=\"0 0 24 24\"\n",
              "     width=\"24px\">\n",
              "    <g>\n",
              "        <path d=\"M19 3H5c-1.1 0-2 .9-2 2v14c0 1.1.9 2 2 2h14c1.1 0 2-.9 2-2V5c0-1.1-.9-2-2-2zM9 17H7v-7h2v7zm4 0h-2V7h2v10zm4 0h-2v-4h2v4z\"/>\n",
              "    </g>\n",
              "</svg>\n",
              "  </button>\n",
              "\n",
              "<style>\n",
              "  .colab-df-quickchart {\n",
              "      --bg-color: #E8F0FE;\n",
              "      --fill-color: #1967D2;\n",
              "      --hover-bg-color: #E2EBFA;\n",
              "      --hover-fill-color: #174EA6;\n",
              "      --disabled-fill-color: #AAA;\n",
              "      --disabled-bg-color: #DDD;\n",
              "  }\n",
              "\n",
              "  [theme=dark] .colab-df-quickchart {\n",
              "      --bg-color: #3B4455;\n",
              "      --fill-color: #D2E3FC;\n",
              "      --hover-bg-color: #434B5C;\n",
              "      --hover-fill-color: #FFFFFF;\n",
              "      --disabled-bg-color: #3B4455;\n",
              "      --disabled-fill-color: #666;\n",
              "  }\n",
              "\n",
              "  .colab-df-quickchart {\n",
              "    background-color: var(--bg-color);\n",
              "    border: none;\n",
              "    border-radius: 50%;\n",
              "    cursor: pointer;\n",
              "    display: none;\n",
              "    fill: var(--fill-color);\n",
              "    height: 32px;\n",
              "    padding: 0;\n",
              "    width: 32px;\n",
              "  }\n",
              "\n",
              "  .colab-df-quickchart:hover {\n",
              "    background-color: var(--hover-bg-color);\n",
              "    box-shadow: 0 1px 2px rgba(60, 64, 67, 0.3), 0 1px 3px 1px rgba(60, 64, 67, 0.15);\n",
              "    fill: var(--button-hover-fill-color);\n",
              "  }\n",
              "\n",
              "  .colab-df-quickchart-complete:disabled,\n",
              "  .colab-df-quickchart-complete:disabled:hover {\n",
              "    background-color: var(--disabled-bg-color);\n",
              "    fill: var(--disabled-fill-color);\n",
              "    box-shadow: none;\n",
              "  }\n",
              "\n",
              "  .colab-df-spinner {\n",
              "    border: 2px solid var(--fill-color);\n",
              "    border-color: transparent;\n",
              "    border-bottom-color: var(--fill-color);\n",
              "    animation:\n",
              "      spin 1s steps(1) infinite;\n",
              "  }\n",
              "\n",
              "  @keyframes spin {\n",
              "    0% {\n",
              "      border-color: transparent;\n",
              "      border-bottom-color: var(--fill-color);\n",
              "      border-left-color: var(--fill-color);\n",
              "    }\n",
              "    20% {\n",
              "      border-color: transparent;\n",
              "      border-left-color: var(--fill-color);\n",
              "      border-top-color: var(--fill-color);\n",
              "    }\n",
              "    30% {\n",
              "      border-color: transparent;\n",
              "      border-left-color: var(--fill-color);\n",
              "      border-top-color: var(--fill-color);\n",
              "      border-right-color: var(--fill-color);\n",
              "    }\n",
              "    40% {\n",
              "      border-color: transparent;\n",
              "      border-right-color: var(--fill-color);\n",
              "      border-top-color: var(--fill-color);\n",
              "    }\n",
              "    60% {\n",
              "      border-color: transparent;\n",
              "      border-right-color: var(--fill-color);\n",
              "    }\n",
              "    80% {\n",
              "      border-color: transparent;\n",
              "      border-right-color: var(--fill-color);\n",
              "      border-bottom-color: var(--fill-color);\n",
              "    }\n",
              "    90% {\n",
              "      border-color: transparent;\n",
              "      border-bottom-color: var(--fill-color);\n",
              "    }\n",
              "  }\n",
              "</style>\n",
              "\n",
              "  <script>\n",
              "    async function quickchart(key) {\n",
              "      const quickchartButtonEl =\n",
              "        document.querySelector('#' + key + ' button');\n",
              "      quickchartButtonEl.disabled = true;  // To prevent multiple clicks.\n",
              "      quickchartButtonEl.classList.add('colab-df-spinner');\n",
              "      try {\n",
              "        const charts = await google.colab.kernel.invokeFunction(\n",
              "            'suggestCharts', [key], {});\n",
              "      } catch (error) {\n",
              "        console.error('Error during call to suggestCharts:', error);\n",
              "      }\n",
              "      quickchartButtonEl.classList.remove('colab-df-spinner');\n",
              "      quickchartButtonEl.classList.add('colab-df-quickchart-complete');\n",
              "    }\n",
              "    (() => {\n",
              "      let quickchartButtonEl =\n",
              "        document.querySelector('#df-8e74db22-3a9b-41cc-a64f-7dc945c27515 button');\n",
              "      quickchartButtonEl.style.display =\n",
              "        google.colab.kernel.accessAllowed ? 'block' : 'none';\n",
              "    })();\n",
              "  </script>\n",
              "</div>\n",
              "\n",
              "    </div>\n",
              "  </div>\n"
            ]
          },
          "metadata": {},
          "execution_count": 621
        }
      ]
    },
    {
      "cell_type": "code",
      "source": [
        "df.drop(columns=[\"id\"],inplace=True)"
      ],
      "metadata": {
        "id": "w7orZqX2DcHv"
      },
      "execution_count": null,
      "outputs": []
    },
    {
      "cell_type": "code",
      "source": [
        "df.drop\n",
        "df.head(2)"
      ],
      "metadata": {
        "colab": {
          "base_uri": "https://localhost:8080/"
        },
        "id": "0UbB2VzRDIGQ",
        "outputId": "76aca72c-12e4-4e7f-f2fb-e8103f7afac7"
      },
      "execution_count": null,
      "outputs": [
        {
          "output_type": "execute_result",
          "data": {
            "text/plain": [
              "   replies  reposts  likes  bookmarks   views  Is_reposted  Images  Videos  \\\n",
              "0      174      278   1748         33  494034            0       1       1   \n",
              "1      123     1015   4748         66  617053            1       2       1   \n",
              "\n",
              "         date      time                                               text  \n",
              "0  2023-12-29  15:06:23  It's been a year full of science on the @Space...  \n",
              "1  2023-12-28  17:06:29  Hey look – I’m a sundial! Ok, not exactly, but...  "
            ],
            "text/html": [
              "\n",
              "  <div id=\"df-2f7fb6b6-8a2f-4b44-89de-283cf1e9f2e7\" class=\"colab-df-container\">\n",
              "    <div>\n",
              "<style scoped>\n",
              "    .dataframe tbody tr th:only-of-type {\n",
              "        vertical-align: middle;\n",
              "    }\n",
              "\n",
              "    .dataframe tbody tr th {\n",
              "        vertical-align: top;\n",
              "    }\n",
              "\n",
              "    .dataframe thead th {\n",
              "        text-align: right;\n",
              "    }\n",
              "</style>\n",
              "<table border=\"1\" class=\"dataframe\">\n",
              "  <thead>\n",
              "    <tr style=\"text-align: right;\">\n",
              "      <th></th>\n",
              "      <th>replies</th>\n",
              "      <th>reposts</th>\n",
              "      <th>likes</th>\n",
              "      <th>bookmarks</th>\n",
              "      <th>views</th>\n",
              "      <th>Is_reposted</th>\n",
              "      <th>Images</th>\n",
              "      <th>Videos</th>\n",
              "      <th>date</th>\n",
              "      <th>time</th>\n",
              "      <th>text</th>\n",
              "    </tr>\n",
              "  </thead>\n",
              "  <tbody>\n",
              "    <tr>\n",
              "      <th>0</th>\n",
              "      <td>174</td>\n",
              "      <td>278</td>\n",
              "      <td>1748</td>\n",
              "      <td>33</td>\n",
              "      <td>494034</td>\n",
              "      <td>0</td>\n",
              "      <td>1</td>\n",
              "      <td>1</td>\n",
              "      <td>2023-12-29</td>\n",
              "      <td>15:06:23</td>\n",
              "      <td>It's been a year full of science on the @Space...</td>\n",
              "    </tr>\n",
              "    <tr>\n",
              "      <th>1</th>\n",
              "      <td>123</td>\n",
              "      <td>1015</td>\n",
              "      <td>4748</td>\n",
              "      <td>66</td>\n",
              "      <td>617053</td>\n",
              "      <td>1</td>\n",
              "      <td>2</td>\n",
              "      <td>1</td>\n",
              "      <td>2023-12-28</td>\n",
              "      <td>17:06:29</td>\n",
              "      <td>Hey look – I’m a sundial! Ok, not exactly, but...</td>\n",
              "    </tr>\n",
              "  </tbody>\n",
              "</table>\n",
              "</div>\n",
              "    <div class=\"colab-df-buttons\">\n",
              "\n",
              "  <div class=\"colab-df-container\">\n",
              "    <button class=\"colab-df-convert\" onclick=\"convertToInteractive('df-2f7fb6b6-8a2f-4b44-89de-283cf1e9f2e7')\"\n",
              "            title=\"Convert this dataframe to an interactive table.\"\n",
              "            style=\"display:none;\">\n",
              "\n",
              "  <svg xmlns=\"http://www.w3.org/2000/svg\" height=\"24px\" viewBox=\"0 -960 960 960\">\n",
              "    <path d=\"M120-120v-720h720v720H120Zm60-500h600v-160H180v160Zm220 220h160v-160H400v160Zm0 220h160v-160H400v160ZM180-400h160v-160H180v160Zm440 0h160v-160H620v160ZM180-180h160v-160H180v160Zm440 0h160v-160H620v160Z\"/>\n",
              "  </svg>\n",
              "    </button>\n",
              "\n",
              "  <style>\n",
              "    .colab-df-container {\n",
              "      display:flex;\n",
              "      gap: 12px;\n",
              "    }\n",
              "\n",
              "    .colab-df-convert {\n",
              "      background-color: #E8F0FE;\n",
              "      border: none;\n",
              "      border-radius: 50%;\n",
              "      cursor: pointer;\n",
              "      display: none;\n",
              "      fill: #1967D2;\n",
              "      height: 32px;\n",
              "      padding: 0 0 0 0;\n",
              "      width: 32px;\n",
              "    }\n",
              "\n",
              "    .colab-df-convert:hover {\n",
              "      background-color: #E2EBFA;\n",
              "      box-shadow: 0px 1px 2px rgba(60, 64, 67, 0.3), 0px 1px 3px 1px rgba(60, 64, 67, 0.15);\n",
              "      fill: #174EA6;\n",
              "    }\n",
              "\n",
              "    .colab-df-buttons div {\n",
              "      margin-bottom: 4px;\n",
              "    }\n",
              "\n",
              "    [theme=dark] .colab-df-convert {\n",
              "      background-color: #3B4455;\n",
              "      fill: #D2E3FC;\n",
              "    }\n",
              "\n",
              "    [theme=dark] .colab-df-convert:hover {\n",
              "      background-color: #434B5C;\n",
              "      box-shadow: 0px 1px 3px 1px rgba(0, 0, 0, 0.15);\n",
              "      filter: drop-shadow(0px 1px 2px rgba(0, 0, 0, 0.3));\n",
              "      fill: #FFFFFF;\n",
              "    }\n",
              "  </style>\n",
              "\n",
              "    <script>\n",
              "      const buttonEl =\n",
              "        document.querySelector('#df-2f7fb6b6-8a2f-4b44-89de-283cf1e9f2e7 button.colab-df-convert');\n",
              "      buttonEl.style.display =\n",
              "        google.colab.kernel.accessAllowed ? 'block' : 'none';\n",
              "\n",
              "      async function convertToInteractive(key) {\n",
              "        const element = document.querySelector('#df-2f7fb6b6-8a2f-4b44-89de-283cf1e9f2e7');\n",
              "        const dataTable =\n",
              "          await google.colab.kernel.invokeFunction('convertToInteractive',\n",
              "                                                    [key], {});\n",
              "        if (!dataTable) return;\n",
              "\n",
              "        const docLinkHtml = 'Like what you see? Visit the ' +\n",
              "          '<a target=\"_blank\" href=https://colab.research.google.com/notebooks/data_table.ipynb>data table notebook</a>'\n",
              "          + ' to learn more about interactive tables.';\n",
              "        element.innerHTML = '';\n",
              "        dataTable['output_type'] = 'display_data';\n",
              "        await google.colab.output.renderOutput(dataTable, element);\n",
              "        const docLink = document.createElement('div');\n",
              "        docLink.innerHTML = docLinkHtml;\n",
              "        element.appendChild(docLink);\n",
              "      }\n",
              "    </script>\n",
              "  </div>\n",
              "\n",
              "\n",
              "<div id=\"df-fb88b74d-f601-4d6b-9432-ff114b3a31f6\">\n",
              "  <button class=\"colab-df-quickchart\" onclick=\"quickchart('df-fb88b74d-f601-4d6b-9432-ff114b3a31f6')\"\n",
              "            title=\"Suggest charts\"\n",
              "            style=\"display:none;\">\n",
              "\n",
              "<svg xmlns=\"http://www.w3.org/2000/svg\" height=\"24px\"viewBox=\"0 0 24 24\"\n",
              "     width=\"24px\">\n",
              "    <g>\n",
              "        <path d=\"M19 3H5c-1.1 0-2 .9-2 2v14c0 1.1.9 2 2 2h14c1.1 0 2-.9 2-2V5c0-1.1-.9-2-2-2zM9 17H7v-7h2v7zm4 0h-2V7h2v10zm4 0h-2v-4h2v4z\"/>\n",
              "    </g>\n",
              "</svg>\n",
              "  </button>\n",
              "\n",
              "<style>\n",
              "  .colab-df-quickchart {\n",
              "      --bg-color: #E8F0FE;\n",
              "      --fill-color: #1967D2;\n",
              "      --hover-bg-color: #E2EBFA;\n",
              "      --hover-fill-color: #174EA6;\n",
              "      --disabled-fill-color: #AAA;\n",
              "      --disabled-bg-color: #DDD;\n",
              "  }\n",
              "\n",
              "  [theme=dark] .colab-df-quickchart {\n",
              "      --bg-color: #3B4455;\n",
              "      --fill-color: #D2E3FC;\n",
              "      --hover-bg-color: #434B5C;\n",
              "      --hover-fill-color: #FFFFFF;\n",
              "      --disabled-bg-color: #3B4455;\n",
              "      --disabled-fill-color: #666;\n",
              "  }\n",
              "\n",
              "  .colab-df-quickchart {\n",
              "    background-color: var(--bg-color);\n",
              "    border: none;\n",
              "    border-radius: 50%;\n",
              "    cursor: pointer;\n",
              "    display: none;\n",
              "    fill: var(--fill-color);\n",
              "    height: 32px;\n",
              "    padding: 0;\n",
              "    width: 32px;\n",
              "  }\n",
              "\n",
              "  .colab-df-quickchart:hover {\n",
              "    background-color: var(--hover-bg-color);\n",
              "    box-shadow: 0 1px 2px rgba(60, 64, 67, 0.3), 0 1px 3px 1px rgba(60, 64, 67, 0.15);\n",
              "    fill: var(--button-hover-fill-color);\n",
              "  }\n",
              "\n",
              "  .colab-df-quickchart-complete:disabled,\n",
              "  .colab-df-quickchart-complete:disabled:hover {\n",
              "    background-color: var(--disabled-bg-color);\n",
              "    fill: var(--disabled-fill-color);\n",
              "    box-shadow: none;\n",
              "  }\n",
              "\n",
              "  .colab-df-spinner {\n",
              "    border: 2px solid var(--fill-color);\n",
              "    border-color: transparent;\n",
              "    border-bottom-color: var(--fill-color);\n",
              "    animation:\n",
              "      spin 1s steps(1) infinite;\n",
              "  }\n",
              "\n",
              "  @keyframes spin {\n",
              "    0% {\n",
              "      border-color: transparent;\n",
              "      border-bottom-color: var(--fill-color);\n",
              "      border-left-color: var(--fill-color);\n",
              "    }\n",
              "    20% {\n",
              "      border-color: transparent;\n",
              "      border-left-color: var(--fill-color);\n",
              "      border-top-color: var(--fill-color);\n",
              "    }\n",
              "    30% {\n",
              "      border-color: transparent;\n",
              "      border-left-color: var(--fill-color);\n",
              "      border-top-color: var(--fill-color);\n",
              "      border-right-color: var(--fill-color);\n",
              "    }\n",
              "    40% {\n",
              "      border-color: transparent;\n",
              "      border-right-color: var(--fill-color);\n",
              "      border-top-color: var(--fill-color);\n",
              "    }\n",
              "    60% {\n",
              "      border-color: transparent;\n",
              "      border-right-color: var(--fill-color);\n",
              "    }\n",
              "    80% {\n",
              "      border-color: transparent;\n",
              "      border-right-color: var(--fill-color);\n",
              "      border-bottom-color: var(--fill-color);\n",
              "    }\n",
              "    90% {\n",
              "      border-color: transparent;\n",
              "      border-bottom-color: var(--fill-color);\n",
              "    }\n",
              "  }\n",
              "</style>\n",
              "\n",
              "  <script>\n",
              "    async function quickchart(key) {\n",
              "      const quickchartButtonEl =\n",
              "        document.querySelector('#' + key + ' button');\n",
              "      quickchartButtonEl.disabled = true;  // To prevent multiple clicks.\n",
              "      quickchartButtonEl.classList.add('colab-df-spinner');\n",
              "      try {\n",
              "        const charts = await google.colab.kernel.invokeFunction(\n",
              "            'suggestCharts', [key], {});\n",
              "      } catch (error) {\n",
              "        console.error('Error during call to suggestCharts:', error);\n",
              "      }\n",
              "      quickchartButtonEl.classList.remove('colab-df-spinner');\n",
              "      quickchartButtonEl.classList.add('colab-df-quickchart-complete');\n",
              "    }\n",
              "    (() => {\n",
              "      let quickchartButtonEl =\n",
              "        document.querySelector('#df-fb88b74d-f601-4d6b-9432-ff114b3a31f6 button');\n",
              "      quickchartButtonEl.style.display =\n",
              "        google.colab.kernel.accessAllowed ? 'block' : 'none';\n",
              "    })();\n",
              "  </script>\n",
              "</div>\n",
              "\n",
              "    </div>\n",
              "  </div>\n"
            ]
          },
          "metadata": {},
          "execution_count": 623
        }
      ]
    },
    {
      "cell_type": "code",
      "source": [
        "df.info()"
      ],
      "metadata": {
        "colab": {
          "base_uri": "https://localhost:8080/"
        },
        "id": "9MesR9Z_jKuk",
        "outputId": "74980102-14e2-4d70-fa4b-7813c3bfbe2a"
      },
      "execution_count": null,
      "outputs": [
        {
          "output_type": "stream",
          "name": "stdout",
          "text": [
            "<class 'pandas.core.frame.DataFrame'>\n",
            "RangeIndex: 833 entries, 0 to 832\n",
            "Data columns (total 11 columns):\n",
            " #   Column       Non-Null Count  Dtype \n",
            "---  ------       --------------  ----- \n",
            " 0   replies      833 non-null    int64 \n",
            " 1   reposts      833 non-null    int64 \n",
            " 2   likes        833 non-null    int64 \n",
            " 3   bookmarks    833 non-null    int64 \n",
            " 4   views        833 non-null    int64 \n",
            " 5   Is_reposted  833 non-null    int64 \n",
            " 6   Images       833 non-null    int64 \n",
            " 7   Videos       833 non-null    int64 \n",
            " 8   date         833 non-null    object\n",
            " 9   time         833 non-null    object\n",
            " 10  text         808 non-null    object\n",
            "dtypes: int64(8), object(3)\n",
            "memory usage: 71.7+ KB\n"
          ]
        }
      ]
    },
    {
      "cell_type": "code",
      "source": [
        "df.describe()"
      ],
      "metadata": {
        "colab": {
          "base_uri": "https://localhost:8080/"
        },
        "id": "7Gkgj4UWjWex",
        "outputId": "0d1f8b44-d263-47c1-a35c-3df0f5e531f9"
      },
      "execution_count": null,
      "outputs": [
        {
          "output_type": "execute_result",
          "data": {
            "text/plain": [
              "            replies       reposts         likes    bookmarks         views  \\\n",
              "count    833.000000    833.000000    833.000000   833.000000  8.330000e+02   \n",
              "mean     235.291717    882.779112   4839.412965    71.373349  1.377775e+06   \n",
              "std      979.260734   1147.321810   5357.028971   142.511786  1.225122e+06   \n",
              "min        0.000000      9.000000     63.000000     0.000000  6.473000e+03   \n",
              "25%       95.000000    340.000000   2043.000000    18.000000  8.794870e+05   \n",
              "50%      151.000000    582.000000   3402.000000    33.000000  1.164175e+06   \n",
              "75%      232.000000   1000.000000   5508.000000    76.000000  1.546063e+06   \n",
              "max    27233.000000  15554.000000  63636.000000  2821.000000  2.241870e+07   \n",
              "\n",
              "       Is_reposted      Images      Videos  \n",
              "count   833.000000  833.000000  833.000000  \n",
              "mean      0.152461    1.313325    0.297719  \n",
              "std       0.359683    0.825686    0.457530  \n",
              "min       0.000000    0.000000    0.000000  \n",
              "25%       0.000000    1.000000    0.000000  \n",
              "50%       0.000000    1.000000    0.000000  \n",
              "75%       0.000000    2.000000    1.000000  \n",
              "max       1.000000    6.000000    1.000000  "
            ],
            "text/html": [
              "\n",
              "  <div id=\"df-bc8603fb-d1bc-4f24-aca1-2575be92091c\" class=\"colab-df-container\">\n",
              "    <div>\n",
              "<style scoped>\n",
              "    .dataframe tbody tr th:only-of-type {\n",
              "        vertical-align: middle;\n",
              "    }\n",
              "\n",
              "    .dataframe tbody tr th {\n",
              "        vertical-align: top;\n",
              "    }\n",
              "\n",
              "    .dataframe thead th {\n",
              "        text-align: right;\n",
              "    }\n",
              "</style>\n",
              "<table border=\"1\" class=\"dataframe\">\n",
              "  <thead>\n",
              "    <tr style=\"text-align: right;\">\n",
              "      <th></th>\n",
              "      <th>replies</th>\n",
              "      <th>reposts</th>\n",
              "      <th>likes</th>\n",
              "      <th>bookmarks</th>\n",
              "      <th>views</th>\n",
              "      <th>Is_reposted</th>\n",
              "      <th>Images</th>\n",
              "      <th>Videos</th>\n",
              "    </tr>\n",
              "  </thead>\n",
              "  <tbody>\n",
              "    <tr>\n",
              "      <th>count</th>\n",
              "      <td>833.000000</td>\n",
              "      <td>833.000000</td>\n",
              "      <td>833.000000</td>\n",
              "      <td>833.000000</td>\n",
              "      <td>8.330000e+02</td>\n",
              "      <td>833.000000</td>\n",
              "      <td>833.000000</td>\n",
              "      <td>833.000000</td>\n",
              "    </tr>\n",
              "    <tr>\n",
              "      <th>mean</th>\n",
              "      <td>235.291717</td>\n",
              "      <td>882.779112</td>\n",
              "      <td>4839.412965</td>\n",
              "      <td>71.373349</td>\n",
              "      <td>1.377775e+06</td>\n",
              "      <td>0.152461</td>\n",
              "      <td>1.313325</td>\n",
              "      <td>0.297719</td>\n",
              "    </tr>\n",
              "    <tr>\n",
              "      <th>std</th>\n",
              "      <td>979.260734</td>\n",
              "      <td>1147.321810</td>\n",
              "      <td>5357.028971</td>\n",
              "      <td>142.511786</td>\n",
              "      <td>1.225122e+06</td>\n",
              "      <td>0.359683</td>\n",
              "      <td>0.825686</td>\n",
              "      <td>0.457530</td>\n",
              "    </tr>\n",
              "    <tr>\n",
              "      <th>min</th>\n",
              "      <td>0.000000</td>\n",
              "      <td>9.000000</td>\n",
              "      <td>63.000000</td>\n",
              "      <td>0.000000</td>\n",
              "      <td>6.473000e+03</td>\n",
              "      <td>0.000000</td>\n",
              "      <td>0.000000</td>\n",
              "      <td>0.000000</td>\n",
              "    </tr>\n",
              "    <tr>\n",
              "      <th>25%</th>\n",
              "      <td>95.000000</td>\n",
              "      <td>340.000000</td>\n",
              "      <td>2043.000000</td>\n",
              "      <td>18.000000</td>\n",
              "      <td>8.794870e+05</td>\n",
              "      <td>0.000000</td>\n",
              "      <td>1.000000</td>\n",
              "      <td>0.000000</td>\n",
              "    </tr>\n",
              "    <tr>\n",
              "      <th>50%</th>\n",
              "      <td>151.000000</td>\n",
              "      <td>582.000000</td>\n",
              "      <td>3402.000000</td>\n",
              "      <td>33.000000</td>\n",
              "      <td>1.164175e+06</td>\n",
              "      <td>0.000000</td>\n",
              "      <td>1.000000</td>\n",
              "      <td>0.000000</td>\n",
              "    </tr>\n",
              "    <tr>\n",
              "      <th>75%</th>\n",
              "      <td>232.000000</td>\n",
              "      <td>1000.000000</td>\n",
              "      <td>5508.000000</td>\n",
              "      <td>76.000000</td>\n",
              "      <td>1.546063e+06</td>\n",
              "      <td>0.000000</td>\n",
              "      <td>2.000000</td>\n",
              "      <td>1.000000</td>\n",
              "    </tr>\n",
              "    <tr>\n",
              "      <th>max</th>\n",
              "      <td>27233.000000</td>\n",
              "      <td>15554.000000</td>\n",
              "      <td>63636.000000</td>\n",
              "      <td>2821.000000</td>\n",
              "      <td>2.241870e+07</td>\n",
              "      <td>1.000000</td>\n",
              "      <td>6.000000</td>\n",
              "      <td>1.000000</td>\n",
              "    </tr>\n",
              "  </tbody>\n",
              "</table>\n",
              "</div>\n",
              "    <div class=\"colab-df-buttons\">\n",
              "\n",
              "  <div class=\"colab-df-container\">\n",
              "    <button class=\"colab-df-convert\" onclick=\"convertToInteractive('df-bc8603fb-d1bc-4f24-aca1-2575be92091c')\"\n",
              "            title=\"Convert this dataframe to an interactive table.\"\n",
              "            style=\"display:none;\">\n",
              "\n",
              "  <svg xmlns=\"http://www.w3.org/2000/svg\" height=\"24px\" viewBox=\"0 -960 960 960\">\n",
              "    <path d=\"M120-120v-720h720v720H120Zm60-500h600v-160H180v160Zm220 220h160v-160H400v160Zm0 220h160v-160H400v160ZM180-400h160v-160H180v160Zm440 0h160v-160H620v160ZM180-180h160v-160H180v160Zm440 0h160v-160H620v160Z\"/>\n",
              "  </svg>\n",
              "    </button>\n",
              "\n",
              "  <style>\n",
              "    .colab-df-container {\n",
              "      display:flex;\n",
              "      gap: 12px;\n",
              "    }\n",
              "\n",
              "    .colab-df-convert {\n",
              "      background-color: #E8F0FE;\n",
              "      border: none;\n",
              "      border-radius: 50%;\n",
              "      cursor: pointer;\n",
              "      display: none;\n",
              "      fill: #1967D2;\n",
              "      height: 32px;\n",
              "      padding: 0 0 0 0;\n",
              "      width: 32px;\n",
              "    }\n",
              "\n",
              "    .colab-df-convert:hover {\n",
              "      background-color: #E2EBFA;\n",
              "      box-shadow: 0px 1px 2px rgba(60, 64, 67, 0.3), 0px 1px 3px 1px rgba(60, 64, 67, 0.15);\n",
              "      fill: #174EA6;\n",
              "    }\n",
              "\n",
              "    .colab-df-buttons div {\n",
              "      margin-bottom: 4px;\n",
              "    }\n",
              "\n",
              "    [theme=dark] .colab-df-convert {\n",
              "      background-color: #3B4455;\n",
              "      fill: #D2E3FC;\n",
              "    }\n",
              "\n",
              "    [theme=dark] .colab-df-convert:hover {\n",
              "      background-color: #434B5C;\n",
              "      box-shadow: 0px 1px 3px 1px rgba(0, 0, 0, 0.15);\n",
              "      filter: drop-shadow(0px 1px 2px rgba(0, 0, 0, 0.3));\n",
              "      fill: #FFFFFF;\n",
              "    }\n",
              "  </style>\n",
              "\n",
              "    <script>\n",
              "      const buttonEl =\n",
              "        document.querySelector('#df-bc8603fb-d1bc-4f24-aca1-2575be92091c button.colab-df-convert');\n",
              "      buttonEl.style.display =\n",
              "        google.colab.kernel.accessAllowed ? 'block' : 'none';\n",
              "\n",
              "      async function convertToInteractive(key) {\n",
              "        const element = document.querySelector('#df-bc8603fb-d1bc-4f24-aca1-2575be92091c');\n",
              "        const dataTable =\n",
              "          await google.colab.kernel.invokeFunction('convertToInteractive',\n",
              "                                                    [key], {});\n",
              "        if (!dataTable) return;\n",
              "\n",
              "        const docLinkHtml = 'Like what you see? Visit the ' +\n",
              "          '<a target=\"_blank\" href=https://colab.research.google.com/notebooks/data_table.ipynb>data table notebook</a>'\n",
              "          + ' to learn more about interactive tables.';\n",
              "        element.innerHTML = '';\n",
              "        dataTable['output_type'] = 'display_data';\n",
              "        await google.colab.output.renderOutput(dataTable, element);\n",
              "        const docLink = document.createElement('div');\n",
              "        docLink.innerHTML = docLinkHtml;\n",
              "        element.appendChild(docLink);\n",
              "      }\n",
              "    </script>\n",
              "  </div>\n",
              "\n",
              "\n",
              "<div id=\"df-e69cb02d-cf81-46dc-ae6a-8ea9f23f3675\">\n",
              "  <button class=\"colab-df-quickchart\" onclick=\"quickchart('df-e69cb02d-cf81-46dc-ae6a-8ea9f23f3675')\"\n",
              "            title=\"Suggest charts\"\n",
              "            style=\"display:none;\">\n",
              "\n",
              "<svg xmlns=\"http://www.w3.org/2000/svg\" height=\"24px\"viewBox=\"0 0 24 24\"\n",
              "     width=\"24px\">\n",
              "    <g>\n",
              "        <path d=\"M19 3H5c-1.1 0-2 .9-2 2v14c0 1.1.9 2 2 2h14c1.1 0 2-.9 2-2V5c0-1.1-.9-2-2-2zM9 17H7v-7h2v7zm4 0h-2V7h2v10zm4 0h-2v-4h2v4z\"/>\n",
              "    </g>\n",
              "</svg>\n",
              "  </button>\n",
              "\n",
              "<style>\n",
              "  .colab-df-quickchart {\n",
              "      --bg-color: #E8F0FE;\n",
              "      --fill-color: #1967D2;\n",
              "      --hover-bg-color: #E2EBFA;\n",
              "      --hover-fill-color: #174EA6;\n",
              "      --disabled-fill-color: #AAA;\n",
              "      --disabled-bg-color: #DDD;\n",
              "  }\n",
              "\n",
              "  [theme=dark] .colab-df-quickchart {\n",
              "      --bg-color: #3B4455;\n",
              "      --fill-color: #D2E3FC;\n",
              "      --hover-bg-color: #434B5C;\n",
              "      --hover-fill-color: #FFFFFF;\n",
              "      --disabled-bg-color: #3B4455;\n",
              "      --disabled-fill-color: #666;\n",
              "  }\n",
              "\n",
              "  .colab-df-quickchart {\n",
              "    background-color: var(--bg-color);\n",
              "    border: none;\n",
              "    border-radius: 50%;\n",
              "    cursor: pointer;\n",
              "    display: none;\n",
              "    fill: var(--fill-color);\n",
              "    height: 32px;\n",
              "    padding: 0;\n",
              "    width: 32px;\n",
              "  }\n",
              "\n",
              "  .colab-df-quickchart:hover {\n",
              "    background-color: var(--hover-bg-color);\n",
              "    box-shadow: 0 1px 2px rgba(60, 64, 67, 0.3), 0 1px 3px 1px rgba(60, 64, 67, 0.15);\n",
              "    fill: var(--button-hover-fill-color);\n",
              "  }\n",
              "\n",
              "  .colab-df-quickchart-complete:disabled,\n",
              "  .colab-df-quickchart-complete:disabled:hover {\n",
              "    background-color: var(--disabled-bg-color);\n",
              "    fill: var(--disabled-fill-color);\n",
              "    box-shadow: none;\n",
              "  }\n",
              "\n",
              "  .colab-df-spinner {\n",
              "    border: 2px solid var(--fill-color);\n",
              "    border-color: transparent;\n",
              "    border-bottom-color: var(--fill-color);\n",
              "    animation:\n",
              "      spin 1s steps(1) infinite;\n",
              "  }\n",
              "\n",
              "  @keyframes spin {\n",
              "    0% {\n",
              "      border-color: transparent;\n",
              "      border-bottom-color: var(--fill-color);\n",
              "      border-left-color: var(--fill-color);\n",
              "    }\n",
              "    20% {\n",
              "      border-color: transparent;\n",
              "      border-left-color: var(--fill-color);\n",
              "      border-top-color: var(--fill-color);\n",
              "    }\n",
              "    30% {\n",
              "      border-color: transparent;\n",
              "      border-left-color: var(--fill-color);\n",
              "      border-top-color: var(--fill-color);\n",
              "      border-right-color: var(--fill-color);\n",
              "    }\n",
              "    40% {\n",
              "      border-color: transparent;\n",
              "      border-right-color: var(--fill-color);\n",
              "      border-top-color: var(--fill-color);\n",
              "    }\n",
              "    60% {\n",
              "      border-color: transparent;\n",
              "      border-right-color: var(--fill-color);\n",
              "    }\n",
              "    80% {\n",
              "      border-color: transparent;\n",
              "      border-right-color: var(--fill-color);\n",
              "      border-bottom-color: var(--fill-color);\n",
              "    }\n",
              "    90% {\n",
              "      border-color: transparent;\n",
              "      border-bottom-color: var(--fill-color);\n",
              "    }\n",
              "  }\n",
              "</style>\n",
              "\n",
              "  <script>\n",
              "    async function quickchart(key) {\n",
              "      const quickchartButtonEl =\n",
              "        document.querySelector('#' + key + ' button');\n",
              "      quickchartButtonEl.disabled = true;  // To prevent multiple clicks.\n",
              "      quickchartButtonEl.classList.add('colab-df-spinner');\n",
              "      try {\n",
              "        const charts = await google.colab.kernel.invokeFunction(\n",
              "            'suggestCharts', [key], {});\n",
              "      } catch (error) {\n",
              "        console.error('Error during call to suggestCharts:', error);\n",
              "      }\n",
              "      quickchartButtonEl.classList.remove('colab-df-spinner');\n",
              "      quickchartButtonEl.classList.add('colab-df-quickchart-complete');\n",
              "    }\n",
              "    (() => {\n",
              "      let quickchartButtonEl =\n",
              "        document.querySelector('#df-e69cb02d-cf81-46dc-ae6a-8ea9f23f3675 button');\n",
              "      quickchartButtonEl.style.display =\n",
              "        google.colab.kernel.accessAllowed ? 'block' : 'none';\n",
              "    })();\n",
              "  </script>\n",
              "</div>\n",
              "\n",
              "    </div>\n",
              "  </div>\n"
            ]
          },
          "metadata": {},
          "execution_count": 625
        }
      ]
    },
    {
      "cell_type": "code",
      "source": [
        "df.isnull().sum()"
      ],
      "metadata": {
        "colab": {
          "base_uri": "https://localhost:8080/"
        },
        "id": "oVje6JnE3njR",
        "outputId": "c44533c5-6f71-4be2-bbaa-1b0126c936c5"
      },
      "execution_count": null,
      "outputs": [
        {
          "output_type": "execute_result",
          "data": {
            "text/plain": [
              "replies         0\n",
              "reposts         0\n",
              "likes           0\n",
              "bookmarks       0\n",
              "views           0\n",
              "Is_reposted     0\n",
              "Images          0\n",
              "Videos          0\n",
              "date            0\n",
              "time            0\n",
              "text           25\n",
              "dtype: int64"
            ]
          },
          "metadata": {},
          "execution_count": 626
        }
      ]
    },
    {
      "cell_type": "code",
      "source": [
        "df['date'] = pd.to_datetime(df['date'])\n",
        "df.head(1)"
      ],
      "metadata": {
        "colab": {
          "base_uri": "https://localhost:8080/"
        },
        "id": "UpDA0WAR6uL4",
        "outputId": "4027072e-a84d-4181-98d7-1228ad89fce4"
      },
      "execution_count": null,
      "outputs": [
        {
          "output_type": "execute_result",
          "data": {
            "text/plain": [
              "   replies  reposts  likes  bookmarks   views  Is_reposted  Images  Videos  \\\n",
              "0      174      278   1748         33  494034            0       1       1   \n",
              "\n",
              "        date      time                                               text  \n",
              "0 2023-12-29  15:06:23  It's been a year full of science on the @Space...  "
            ],
            "text/html": [
              "\n",
              "  <div id=\"df-d501be03-cc63-4ec8-b4ec-ff21dbe9988f\" class=\"colab-df-container\">\n",
              "    <div>\n",
              "<style scoped>\n",
              "    .dataframe tbody tr th:only-of-type {\n",
              "        vertical-align: middle;\n",
              "    }\n",
              "\n",
              "    .dataframe tbody tr th {\n",
              "        vertical-align: top;\n",
              "    }\n",
              "\n",
              "    .dataframe thead th {\n",
              "        text-align: right;\n",
              "    }\n",
              "</style>\n",
              "<table border=\"1\" class=\"dataframe\">\n",
              "  <thead>\n",
              "    <tr style=\"text-align: right;\">\n",
              "      <th></th>\n",
              "      <th>replies</th>\n",
              "      <th>reposts</th>\n",
              "      <th>likes</th>\n",
              "      <th>bookmarks</th>\n",
              "      <th>views</th>\n",
              "      <th>Is_reposted</th>\n",
              "      <th>Images</th>\n",
              "      <th>Videos</th>\n",
              "      <th>date</th>\n",
              "      <th>time</th>\n",
              "      <th>text</th>\n",
              "    </tr>\n",
              "  </thead>\n",
              "  <tbody>\n",
              "    <tr>\n",
              "      <th>0</th>\n",
              "      <td>174</td>\n",
              "      <td>278</td>\n",
              "      <td>1748</td>\n",
              "      <td>33</td>\n",
              "      <td>494034</td>\n",
              "      <td>0</td>\n",
              "      <td>1</td>\n",
              "      <td>1</td>\n",
              "      <td>2023-12-29</td>\n",
              "      <td>15:06:23</td>\n",
              "      <td>It's been a year full of science on the @Space...</td>\n",
              "    </tr>\n",
              "  </tbody>\n",
              "</table>\n",
              "</div>\n",
              "    <div class=\"colab-df-buttons\">\n",
              "\n",
              "  <div class=\"colab-df-container\">\n",
              "    <button class=\"colab-df-convert\" onclick=\"convertToInteractive('df-d501be03-cc63-4ec8-b4ec-ff21dbe9988f')\"\n",
              "            title=\"Convert this dataframe to an interactive table.\"\n",
              "            style=\"display:none;\">\n",
              "\n",
              "  <svg xmlns=\"http://www.w3.org/2000/svg\" height=\"24px\" viewBox=\"0 -960 960 960\">\n",
              "    <path d=\"M120-120v-720h720v720H120Zm60-500h600v-160H180v160Zm220 220h160v-160H400v160Zm0 220h160v-160H400v160ZM180-400h160v-160H180v160Zm440 0h160v-160H620v160ZM180-180h160v-160H180v160Zm440 0h160v-160H620v160Z\"/>\n",
              "  </svg>\n",
              "    </button>\n",
              "\n",
              "  <style>\n",
              "    .colab-df-container {\n",
              "      display:flex;\n",
              "      gap: 12px;\n",
              "    }\n",
              "\n",
              "    .colab-df-convert {\n",
              "      background-color: #E8F0FE;\n",
              "      border: none;\n",
              "      border-radius: 50%;\n",
              "      cursor: pointer;\n",
              "      display: none;\n",
              "      fill: #1967D2;\n",
              "      height: 32px;\n",
              "      padding: 0 0 0 0;\n",
              "      width: 32px;\n",
              "    }\n",
              "\n",
              "    .colab-df-convert:hover {\n",
              "      background-color: #E2EBFA;\n",
              "      box-shadow: 0px 1px 2px rgba(60, 64, 67, 0.3), 0px 1px 3px 1px rgba(60, 64, 67, 0.15);\n",
              "      fill: #174EA6;\n",
              "    }\n",
              "\n",
              "    .colab-df-buttons div {\n",
              "      margin-bottom: 4px;\n",
              "    }\n",
              "\n",
              "    [theme=dark] .colab-df-convert {\n",
              "      background-color: #3B4455;\n",
              "      fill: #D2E3FC;\n",
              "    }\n",
              "\n",
              "    [theme=dark] .colab-df-convert:hover {\n",
              "      background-color: #434B5C;\n",
              "      box-shadow: 0px 1px 3px 1px rgba(0, 0, 0, 0.15);\n",
              "      filter: drop-shadow(0px 1px 2px rgba(0, 0, 0, 0.3));\n",
              "      fill: #FFFFFF;\n",
              "    }\n",
              "  </style>\n",
              "\n",
              "    <script>\n",
              "      const buttonEl =\n",
              "        document.querySelector('#df-d501be03-cc63-4ec8-b4ec-ff21dbe9988f button.colab-df-convert');\n",
              "      buttonEl.style.display =\n",
              "        google.colab.kernel.accessAllowed ? 'block' : 'none';\n",
              "\n",
              "      async function convertToInteractive(key) {\n",
              "        const element = document.querySelector('#df-d501be03-cc63-4ec8-b4ec-ff21dbe9988f');\n",
              "        const dataTable =\n",
              "          await google.colab.kernel.invokeFunction('convertToInteractive',\n",
              "                                                    [key], {});\n",
              "        if (!dataTable) return;\n",
              "\n",
              "        const docLinkHtml = 'Like what you see? Visit the ' +\n",
              "          '<a target=\"_blank\" href=https://colab.research.google.com/notebooks/data_table.ipynb>data table notebook</a>'\n",
              "          + ' to learn more about interactive tables.';\n",
              "        element.innerHTML = '';\n",
              "        dataTable['output_type'] = 'display_data';\n",
              "        await google.colab.output.renderOutput(dataTable, element);\n",
              "        const docLink = document.createElement('div');\n",
              "        docLink.innerHTML = docLinkHtml;\n",
              "        element.appendChild(docLink);\n",
              "      }\n",
              "    </script>\n",
              "  </div>\n",
              "\n",
              "\n",
              "    </div>\n",
              "  </div>\n"
            ]
          },
          "metadata": {},
          "execution_count": 627
        }
      ]
    },
    {
      "cell_type": "code",
      "source": [
        "# Extract month name into a new column\n",
        "df['month_name'] = df['date'].dt.month_name()\n",
        "\n",
        "# Extract day of the week into a new column\n",
        "df['day_of_week'] = df['date'].dt.day_name()\n",
        "df.head(2)"
      ],
      "metadata": {
        "colab": {
          "base_uri": "https://localhost:8080/"
        },
        "id": "zJ9NL8OA7Ai2",
        "outputId": "bcbaf46f-ddcd-4d41-e5cc-8c9e48404c68"
      },
      "execution_count": null,
      "outputs": [
        {
          "output_type": "execute_result",
          "data": {
            "text/plain": [
              "   replies  reposts  likes  bookmarks   views  Is_reposted  Images  Videos  \\\n",
              "0      174      278   1748         33  494034            0       1       1   \n",
              "1      123     1015   4748         66  617053            1       2       1   \n",
              "\n",
              "        date      time                                               text  \\\n",
              "0 2023-12-29  15:06:23  It's been a year full of science on the @Space...   \n",
              "1 2023-12-28  17:06:29  Hey look – I’m a sundial! Ok, not exactly, but...   \n",
              "\n",
              "  month_name day_of_week  \n",
              "0   December      Friday  \n",
              "1   December    Thursday  "
            ],
            "text/html": [
              "\n",
              "  <div id=\"df-c2d14a13-ed9b-498b-8db0-36601cd507fd\" class=\"colab-df-container\">\n",
              "    <div>\n",
              "<style scoped>\n",
              "    .dataframe tbody tr th:only-of-type {\n",
              "        vertical-align: middle;\n",
              "    }\n",
              "\n",
              "    .dataframe tbody tr th {\n",
              "        vertical-align: top;\n",
              "    }\n",
              "\n",
              "    .dataframe thead th {\n",
              "        text-align: right;\n",
              "    }\n",
              "</style>\n",
              "<table border=\"1\" class=\"dataframe\">\n",
              "  <thead>\n",
              "    <tr style=\"text-align: right;\">\n",
              "      <th></th>\n",
              "      <th>replies</th>\n",
              "      <th>reposts</th>\n",
              "      <th>likes</th>\n",
              "      <th>bookmarks</th>\n",
              "      <th>views</th>\n",
              "      <th>Is_reposted</th>\n",
              "      <th>Images</th>\n",
              "      <th>Videos</th>\n",
              "      <th>date</th>\n",
              "      <th>time</th>\n",
              "      <th>text</th>\n",
              "      <th>month_name</th>\n",
              "      <th>day_of_week</th>\n",
              "    </tr>\n",
              "  </thead>\n",
              "  <tbody>\n",
              "    <tr>\n",
              "      <th>0</th>\n",
              "      <td>174</td>\n",
              "      <td>278</td>\n",
              "      <td>1748</td>\n",
              "      <td>33</td>\n",
              "      <td>494034</td>\n",
              "      <td>0</td>\n",
              "      <td>1</td>\n",
              "      <td>1</td>\n",
              "      <td>2023-12-29</td>\n",
              "      <td>15:06:23</td>\n",
              "      <td>It's been a year full of science on the @Space...</td>\n",
              "      <td>December</td>\n",
              "      <td>Friday</td>\n",
              "    </tr>\n",
              "    <tr>\n",
              "      <th>1</th>\n",
              "      <td>123</td>\n",
              "      <td>1015</td>\n",
              "      <td>4748</td>\n",
              "      <td>66</td>\n",
              "      <td>617053</td>\n",
              "      <td>1</td>\n",
              "      <td>2</td>\n",
              "      <td>1</td>\n",
              "      <td>2023-12-28</td>\n",
              "      <td>17:06:29</td>\n",
              "      <td>Hey look – I’m a sundial! Ok, not exactly, but...</td>\n",
              "      <td>December</td>\n",
              "      <td>Thursday</td>\n",
              "    </tr>\n",
              "  </tbody>\n",
              "</table>\n",
              "</div>\n",
              "    <div class=\"colab-df-buttons\">\n",
              "\n",
              "  <div class=\"colab-df-container\">\n",
              "    <button class=\"colab-df-convert\" onclick=\"convertToInteractive('df-c2d14a13-ed9b-498b-8db0-36601cd507fd')\"\n",
              "            title=\"Convert this dataframe to an interactive table.\"\n",
              "            style=\"display:none;\">\n",
              "\n",
              "  <svg xmlns=\"http://www.w3.org/2000/svg\" height=\"24px\" viewBox=\"0 -960 960 960\">\n",
              "    <path d=\"M120-120v-720h720v720H120Zm60-500h600v-160H180v160Zm220 220h160v-160H400v160Zm0 220h160v-160H400v160ZM180-400h160v-160H180v160Zm440 0h160v-160H620v160ZM180-180h160v-160H180v160Zm440 0h160v-160H620v160Z\"/>\n",
              "  </svg>\n",
              "    </button>\n",
              "\n",
              "  <style>\n",
              "    .colab-df-container {\n",
              "      display:flex;\n",
              "      gap: 12px;\n",
              "    }\n",
              "\n",
              "    .colab-df-convert {\n",
              "      background-color: #E8F0FE;\n",
              "      border: none;\n",
              "      border-radius: 50%;\n",
              "      cursor: pointer;\n",
              "      display: none;\n",
              "      fill: #1967D2;\n",
              "      height: 32px;\n",
              "      padding: 0 0 0 0;\n",
              "      width: 32px;\n",
              "    }\n",
              "\n",
              "    .colab-df-convert:hover {\n",
              "      background-color: #E2EBFA;\n",
              "      box-shadow: 0px 1px 2px rgba(60, 64, 67, 0.3), 0px 1px 3px 1px rgba(60, 64, 67, 0.15);\n",
              "      fill: #174EA6;\n",
              "    }\n",
              "\n",
              "    .colab-df-buttons div {\n",
              "      margin-bottom: 4px;\n",
              "    }\n",
              "\n",
              "    [theme=dark] .colab-df-convert {\n",
              "      background-color: #3B4455;\n",
              "      fill: #D2E3FC;\n",
              "    }\n",
              "\n",
              "    [theme=dark] .colab-df-convert:hover {\n",
              "      background-color: #434B5C;\n",
              "      box-shadow: 0px 1px 3px 1px rgba(0, 0, 0, 0.15);\n",
              "      filter: drop-shadow(0px 1px 2px rgba(0, 0, 0, 0.3));\n",
              "      fill: #FFFFFF;\n",
              "    }\n",
              "  </style>\n",
              "\n",
              "    <script>\n",
              "      const buttonEl =\n",
              "        document.querySelector('#df-c2d14a13-ed9b-498b-8db0-36601cd507fd button.colab-df-convert');\n",
              "      buttonEl.style.display =\n",
              "        google.colab.kernel.accessAllowed ? 'block' : 'none';\n",
              "\n",
              "      async function convertToInteractive(key) {\n",
              "        const element = document.querySelector('#df-c2d14a13-ed9b-498b-8db0-36601cd507fd');\n",
              "        const dataTable =\n",
              "          await google.colab.kernel.invokeFunction('convertToInteractive',\n",
              "                                                    [key], {});\n",
              "        if (!dataTable) return;\n",
              "\n",
              "        const docLinkHtml = 'Like what you see? Visit the ' +\n",
              "          '<a target=\"_blank\" href=https://colab.research.google.com/notebooks/data_table.ipynb>data table notebook</a>'\n",
              "          + ' to learn more about interactive tables.';\n",
              "        element.innerHTML = '';\n",
              "        dataTable['output_type'] = 'display_data';\n",
              "        await google.colab.output.renderOutput(dataTable, element);\n",
              "        const docLink = document.createElement('div');\n",
              "        docLink.innerHTML = docLinkHtml;\n",
              "        element.appendChild(docLink);\n",
              "      }\n",
              "    </script>\n",
              "  </div>\n",
              "\n",
              "\n",
              "<div id=\"df-f3010416-ab56-40d6-a9cc-f0cdfb4ec8d9\">\n",
              "  <button class=\"colab-df-quickchart\" onclick=\"quickchart('df-f3010416-ab56-40d6-a9cc-f0cdfb4ec8d9')\"\n",
              "            title=\"Suggest charts\"\n",
              "            style=\"display:none;\">\n",
              "\n",
              "<svg xmlns=\"http://www.w3.org/2000/svg\" height=\"24px\"viewBox=\"0 0 24 24\"\n",
              "     width=\"24px\">\n",
              "    <g>\n",
              "        <path d=\"M19 3H5c-1.1 0-2 .9-2 2v14c0 1.1.9 2 2 2h14c1.1 0 2-.9 2-2V5c0-1.1-.9-2-2-2zM9 17H7v-7h2v7zm4 0h-2V7h2v10zm4 0h-2v-4h2v4z\"/>\n",
              "    </g>\n",
              "</svg>\n",
              "  </button>\n",
              "\n",
              "<style>\n",
              "  .colab-df-quickchart {\n",
              "      --bg-color: #E8F0FE;\n",
              "      --fill-color: #1967D2;\n",
              "      --hover-bg-color: #E2EBFA;\n",
              "      --hover-fill-color: #174EA6;\n",
              "      --disabled-fill-color: #AAA;\n",
              "      --disabled-bg-color: #DDD;\n",
              "  }\n",
              "\n",
              "  [theme=dark] .colab-df-quickchart {\n",
              "      --bg-color: #3B4455;\n",
              "      --fill-color: #D2E3FC;\n",
              "      --hover-bg-color: #434B5C;\n",
              "      --hover-fill-color: #FFFFFF;\n",
              "      --disabled-bg-color: #3B4455;\n",
              "      --disabled-fill-color: #666;\n",
              "  }\n",
              "\n",
              "  .colab-df-quickchart {\n",
              "    background-color: var(--bg-color);\n",
              "    border: none;\n",
              "    border-radius: 50%;\n",
              "    cursor: pointer;\n",
              "    display: none;\n",
              "    fill: var(--fill-color);\n",
              "    height: 32px;\n",
              "    padding: 0;\n",
              "    width: 32px;\n",
              "  }\n",
              "\n",
              "  .colab-df-quickchart:hover {\n",
              "    background-color: var(--hover-bg-color);\n",
              "    box-shadow: 0 1px 2px rgba(60, 64, 67, 0.3), 0 1px 3px 1px rgba(60, 64, 67, 0.15);\n",
              "    fill: var(--button-hover-fill-color);\n",
              "  }\n",
              "\n",
              "  .colab-df-quickchart-complete:disabled,\n",
              "  .colab-df-quickchart-complete:disabled:hover {\n",
              "    background-color: var(--disabled-bg-color);\n",
              "    fill: var(--disabled-fill-color);\n",
              "    box-shadow: none;\n",
              "  }\n",
              "\n",
              "  .colab-df-spinner {\n",
              "    border: 2px solid var(--fill-color);\n",
              "    border-color: transparent;\n",
              "    border-bottom-color: var(--fill-color);\n",
              "    animation:\n",
              "      spin 1s steps(1) infinite;\n",
              "  }\n",
              "\n",
              "  @keyframes spin {\n",
              "    0% {\n",
              "      border-color: transparent;\n",
              "      border-bottom-color: var(--fill-color);\n",
              "      border-left-color: var(--fill-color);\n",
              "    }\n",
              "    20% {\n",
              "      border-color: transparent;\n",
              "      border-left-color: var(--fill-color);\n",
              "      border-top-color: var(--fill-color);\n",
              "    }\n",
              "    30% {\n",
              "      border-color: transparent;\n",
              "      border-left-color: var(--fill-color);\n",
              "      border-top-color: var(--fill-color);\n",
              "      border-right-color: var(--fill-color);\n",
              "    }\n",
              "    40% {\n",
              "      border-color: transparent;\n",
              "      border-right-color: var(--fill-color);\n",
              "      border-top-color: var(--fill-color);\n",
              "    }\n",
              "    60% {\n",
              "      border-color: transparent;\n",
              "      border-right-color: var(--fill-color);\n",
              "    }\n",
              "    80% {\n",
              "      border-color: transparent;\n",
              "      border-right-color: var(--fill-color);\n",
              "      border-bottom-color: var(--fill-color);\n",
              "    }\n",
              "    90% {\n",
              "      border-color: transparent;\n",
              "      border-bottom-color: var(--fill-color);\n",
              "    }\n",
              "  }\n",
              "</style>\n",
              "\n",
              "  <script>\n",
              "    async function quickchart(key) {\n",
              "      const quickchartButtonEl =\n",
              "        document.querySelector('#' + key + ' button');\n",
              "      quickchartButtonEl.disabled = true;  // To prevent multiple clicks.\n",
              "      quickchartButtonEl.classList.add('colab-df-spinner');\n",
              "      try {\n",
              "        const charts = await google.colab.kernel.invokeFunction(\n",
              "            'suggestCharts', [key], {});\n",
              "      } catch (error) {\n",
              "        console.error('Error during call to suggestCharts:', error);\n",
              "      }\n",
              "      quickchartButtonEl.classList.remove('colab-df-spinner');\n",
              "      quickchartButtonEl.classList.add('colab-df-quickchart-complete');\n",
              "    }\n",
              "    (() => {\n",
              "      let quickchartButtonEl =\n",
              "        document.querySelector('#df-f3010416-ab56-40d6-a9cc-f0cdfb4ec8d9 button');\n",
              "      quickchartButtonEl.style.display =\n",
              "        google.colab.kernel.accessAllowed ? 'block' : 'none';\n",
              "    })();\n",
              "  </script>\n",
              "</div>\n",
              "\n",
              "    </div>\n",
              "  </div>\n"
            ]
          },
          "metadata": {},
          "execution_count": 628
        }
      ]
    },
    {
      "cell_type": "code",
      "source": [
        "repoted_bookmarks = df.groupby('Is_reposted')['bookmarks'].sum().reset_index()\n",
        "\n",
        "day_bookmarks = repoted_bookmarks.sort_values(by=\"bookmarks\",ascending=False)\n",
        "\n",
        "# Plot the data\n",
        "plt.figure(figsize=(5,3))\n",
        "sns.barplot(x='Is_reposted', y='bookmarks', data=repoted_bookmarks)\n",
        "plt.title('Total Bookmarks by self_posts or reposted')\n",
        "plt.xlabel('Resposted_0')\n",
        "plt.ylabel('Total Bookmarks')\n",
        "plt.show()"
      ],
      "metadata": {
        "colab": {
          "base_uri": "https://localhost:8080/",
          "height": 245
        },
        "id": "NgmVskgZ7kbj",
        "outputId": "95ca0f92-78cc-45af-c50c-e02524bdb15b"
      },
      "execution_count": 2,
      "outputs": [
        {
          "output_type": "error",
          "ename": "NameError",
          "evalue": "name 'df' is not defined",
          "traceback": [
            "\u001b[0;31m---------------------------------------------------------------------------\u001b[0m",
            "\u001b[0;31mNameError\u001b[0m                                 Traceback (most recent call last)",
            "\u001b[0;32m<ipython-input-2-1c1ddf3e9da4>\u001b[0m in \u001b[0;36m<cell line: 3>\u001b[0;34m()\u001b[0m\n\u001b[1;32m      1\u001b[0m \u001b[0;32mimport\u001b[0m \u001b[0mseaborn\u001b[0m \u001b[0;32mas\u001b[0m \u001b[0msns\u001b[0m\u001b[0;34m\u001b[0m\u001b[0;34m\u001b[0m\u001b[0m\n\u001b[1;32m      2\u001b[0m \u001b[0;32mimport\u001b[0m \u001b[0mmatplotlib\u001b[0m\u001b[0;34m.\u001b[0m\u001b[0mpyplot\u001b[0m \u001b[0;32mas\u001b[0m \u001b[0mplt\u001b[0m\u001b[0;34m\u001b[0m\u001b[0;34m\u001b[0m\u001b[0m\n\u001b[0;32m----> 3\u001b[0;31m \u001b[0mrepoted_bookmarks\u001b[0m \u001b[0;34m=\u001b[0m \u001b[0mdf\u001b[0m\u001b[0;34m.\u001b[0m\u001b[0mgroupby\u001b[0m\u001b[0;34m(\u001b[0m\u001b[0;34m'Is_reposted'\u001b[0m\u001b[0;34m)\u001b[0m\u001b[0;34m[\u001b[0m\u001b[0;34m'bookmarks'\u001b[0m\u001b[0;34m]\u001b[0m\u001b[0;34m.\u001b[0m\u001b[0msum\u001b[0m\u001b[0;34m(\u001b[0m\u001b[0;34m)\u001b[0m\u001b[0;34m.\u001b[0m\u001b[0mreset_index\u001b[0m\u001b[0;34m(\u001b[0m\u001b[0;34m)\u001b[0m\u001b[0;34m\u001b[0m\u001b[0;34m\u001b[0m\u001b[0m\n\u001b[0m\u001b[1;32m      4\u001b[0m \u001b[0;34m\u001b[0m\u001b[0m\n\u001b[1;32m      5\u001b[0m \u001b[0mday_bookmarks\u001b[0m \u001b[0;34m=\u001b[0m \u001b[0mrepoted_bookmarks\u001b[0m\u001b[0;34m.\u001b[0m\u001b[0msort_values\u001b[0m\u001b[0;34m(\u001b[0m\u001b[0mby\u001b[0m\u001b[0;34m=\u001b[0m\u001b[0;34m\"bookmarks\"\u001b[0m\u001b[0;34m,\u001b[0m\u001b[0mascending\u001b[0m\u001b[0;34m=\u001b[0m\u001b[0;32mFalse\u001b[0m\u001b[0;34m)\u001b[0m\u001b[0;34m\u001b[0m\u001b[0;34m\u001b[0m\u001b[0m\n",
            "\u001b[0;31mNameError\u001b[0m: name 'df' is not defined"
          ]
        }
      ]
    },
    {
      "cell_type": "code",
      "source": [
        "df['time'] = pd.to_datetime(df['time'])\n",
        "# Define the bins and labels for the time intervals\n",
        "bins = [0, 6, 12, 18, 24]\n",
        "labels = [1, 2, 3, 4]\n",
        "\n",
        "# Create a new column 'hour_interval' based on the specified ranges\n",
        "df['hour_interval'] = pd.cut(df['time'].dt.hour, bins=bins, labels=labels, include_lowest=True)\n"
      ],
      "metadata": {
        "id": "IHszbSwxCkfo"
      },
      "execution_count": null,
      "outputs": []
    },
    {
      "cell_type": "code",
      "source": [
        "# Assuming your DataFrame is named df and 'hour' is the column you want to plot\n",
        "hour_interval_counts = df['hour_interval'].value_counts().reset_index()\n",
        "\n",
        "# Sort the DataFrame by counts\n",
        "hour_interval_counts = hour_interval_counts.sort_values(by='hour_interval')\n",
        "\n",
        "# Plot the data\n",
        "plt.figure(figsize=(5, 3))\n",
        "sns.barplot(x='index', y='hour_interval', data=hour_interval_counts,order=hour_interval_counts['index'])\n",
        "plt.title('Distribution of Entries by Hour Intervals')\n",
        "plt.xlabel('Hour Intervals')\n",
        "plt.ylabel('Number of Entries')\n",
        "plt.show()"
      ],
      "metadata": {
        "colab": {
          "base_uri": "https://localhost:8080/"
        },
        "id": "oXinwBrER0hh",
        "outputId": "09bd49ed-05e0-429f-d9d4-80a89f85ec18"
      },
      "execution_count": null,
      "outputs": [
        {
          "output_type": "display_data",
          "data": {
            "text/plain": [
              "<Figure size 500x300 with 1 Axes>"
            ],
            "image/png": "[encoded data removed]"
          },
          "metadata": {}
        }
      ]
    },
    {
      "cell_type": "code",
      "source": [
        "plt.figure(figsize=(10, 8))\n",
        "sns.countplot(x='month_name', data=df)\n",
        "plt.title('Distribution of the total posts by month name')\n",
        "plt.show()"
      ],
      "metadata": {
        "colab": {
          "base_uri": "https://localhost:8080/"
        },
        "id": "T0TzLnQz4C0v",
        "outputId": "52ae8f3c-0b89-4add-bf05-4b9e9b3d5bed"
      },
      "execution_count": null,
      "outputs": [
        {
          "output_type": "display_data",
          "data": {
            "text/plain": [
              "<Figure size 1000x800 with 1 Axes>"
            ],
            "image/png": "[encoded data removed]"
          },
          "metadata": {}
        }
      ]
    },
    {
      "cell_type": "code",
      "source": [
        "day_counts = df['day_of_week'].value_counts().reset_index().rename(columns={'index': 'day_of_week', 'day_of_week': 'count'})\n",
        "\n",
        "# Sort the DataFrame by counts\n",
        "day_counts = day_counts.sort_values(by='count')\n",
        "\n",
        "# Plot the data\n",
        "plt.figure(figsize=(10, 8))\n",
        "sns.barplot(x='day_of_week', y='count', data=day_counts, order=day_counts['day_of_week'])\n",
        "plt.title('Distribution of the total posts by weekdays (sorted)')\n",
        "plt.xlabel('Day of the Week')\n",
        "plt.ylabel('Number of Entries')\n",
        "plt.show()"
      ],
      "metadata": {
        "colab": {
          "base_uri": "https://localhost:8080/"
        },
        "id": "hI3ZCJqa-x8V",
        "outputId": "3560d95b-9085-4568-cbd7-78abc3fc3dd8"
      },
      "execution_count": null,
      "outputs": [
        {
          "output_type": "display_data",
          "data": {
            "text/plain": [
              "<Figure size 1000x800 with 1 Axes>"
            ],
            "image/png": "[encoded data removed]"
          },
          "metadata": {}
        }
      ]
    },
    {
      "cell_type": "code",
      "source": [
        "# Calculate the total bookmarks for each day\n",
        "day_bookmarks = df.groupby('day_of_week')['bookmarks'].sum().reset_index()\n",
        "\n",
        "# Sort the DataFrame by day_of_week\n",
        "day_bookmarks = day_bookmarks.sort_values(by=\"bookmarks\",ascending=False)\n",
        "\n",
        "# Plot the data\n",
        "plt.figure(figsize=(8,5))\n",
        "sns.barplot(x='day_of_week', y='bookmarks', data=day_bookmarks, order=day_bookmarks['day_of_week'])\n",
        "plt.title('Total Bookmarks by Day of the Week')\n",
        "plt.xlabel('Day of the Week')\n",
        "plt.ylabel('Total Bookmarks')\n",
        "plt.show()"
      ],
      "metadata": {
        "colab": {
          "base_uri": "https://localhost:8080/"
        },
        "id": "cSdlWx_6_zYi",
        "outputId": "3767e6b0-984a-4abb-de23-bb10848833e4"
      },
      "execution_count": null,
      "outputs": [
        {
          "output_type": "display_data",
          "data": {
            "text/plain": [
              "<Figure size 800x500 with 1 Axes>"
            ],
            "image/png": "[encoded data removed]"
          },
          "metadata": {}
        }
      ]
    },
    {
      "cell_type": "code",
      "source": [
        "correlation = df.corr()\n",
        "print(correlation[\"bookmarks\"].sort_values(ascending=False))"
      ],
      "metadata": {
        "colab": {
          "base_uri": "https://localhost:8080/"
        },
        "id": "aLKCs92UAsGf",
        "outputId": "6f6dc1a6-3f29-4a90-a3c0-0f4028adeec8"
      },
      "execution_count": null,
      "outputs": [
        {
          "output_type": "stream",
          "name": "stdout",
          "text": [
            "bookmarks      1.000000\n",
            "reposts        0.800549\n",
            "likes          0.596523\n",
            "views          0.477344\n",
            "replies        0.289367\n",
            "Videos         0.096027\n",
            "Is_reposted   -0.037784\n",
            "Images        -0.055601\n",
            "Name: bookmarks, dtype: float64\n"
          ]
        }
      ]
    },
    {
      "cell_type": "code",
      "source": [
        "import plotly.express as px\n",
        "figure = px.scatter(data_frame = df, x=\"bookmarks\",\n",
        "                    y=\"reposts\", size=\"reposts\", trendline=\"ols\",\n",
        "                    title = \"Relationship Between reposts and bookmarks\")\n",
        "figure.show()"
      ],
      "metadata": {
        "colab": {
          "base_uri": "https://localhost:8080/"
        },
        "id": "EpgvYrfGY-yx",
        "outputId": "581c0134-38a4-46cd-9f3a-e16b4ddf5913"
      },
      "execution_count": null,
      "outputs": [
        {
          "output_type": "display_data",
          "data": {
            "text/html": [
              "<html>\n",
              "<head><meta charset=\"utf-8\" /></head>\n",
              "<body>\n",
              "    <div>            <script src=\"https://cdnjs.cloudflare.com/ajax/libs/mathjax/2.7.5/MathJax.js?config=TeX-AMS-MML_SVG\"></script><script type=\"text/javascript\">if (window.MathJax && window.MathJax.Hub && window.MathJax.Hub.Config) {window.MathJax.Hub.Config({SVG: {font: \"STIX-Web\"}});}</script>                <script type=\"text/javascript\">window.PlotlyConfig = {MathJaxConfig: 'local'};</script>\n",
              "        <script charset=\"utf-8\" src=\"https://cdn.plot.ly/plotly-2.24.1.min.js\"></script>                <div id=\"0c99f9c3-93e4-423f-a423-4772d3a42dc7\" class=\"plotly-graph-div\" style=\"height:525px; width:100%;\"></div>            <script type=\"text/javascript\">                                    window.PLOTLYENV=window.PLOTLYENV || {};                                    if (document.getElementById(\"0c99f9c3-93e4-423f-a423-4772d3a42dc7\")) {                    Plotly.newPlot(                        \"0c99f9c3-93e4-423f-a423-4772d3a42dc7\",                        [{\"hovertemplate\":\"bookmarks=%{x}\\u003cbr\\u003ereposts=%{marker.size}\\u003cextra\\u003e\\u003c\\u002fextra\\u003e\",\"legendgroup\":\"\",\"marker\":{\"color\":\"#636efa\",\"size\":[278,1015,784,900,1326,1253,567,96,1019,1293,370,1178,447,1594,597,138,395,752,352,509,947,243,1205,343,923,278,68,48,217,434,328,207,437,3195,2772,268,2684,386,2501,1239,560,2684,861,390,500,444,1420,277,780,292,482,361,195,474,807,499,2531,499,431,1123,226,1760,401,299,303,1292,327,285,338,962,450,282,73,934,279,311,1336,399,510,363,308,310,509,431,237,376,258,502,733,1306,290,268,343,209,607,149,1096,138,370,417,369,560,1096,408,551,55,63,604,479,67,24,12,9,9,13,14,9,11,13,20,13,18,13,815,780,521,1066,941,483,661,344,246,434,447,721,414,673,426,1039,717,244,459,387,480,640,454,3083,2012,611,1093,256,506,545,279,490,321,112,5566,40,43,708,167,40,36,183,124,180,272,1407,1080,205,301,340,953,614,193,772,482,590,478,485,528,813,296,699,402,389,419,1351,455,2099,397,570,279,584,649,905,96,48,291,543,925,1987,1032,543,1261,1032,452,753,966,670,477,361,437,570,71,474,1505,650,639,778,638,557,602,428,538,613,267,1686,602,395,228,226,975,1007,226,423,255,557,2266,5619,3249,503,517,180,1345,103,422,573,872,1518,1395,1087,198,877,306,173,54,323,2218,1186,612,210,758,334,676,1135,524,273,485,475,245,2122,653,292,748,172,748,456,421,2464,1160,684,1227,455,3118,1076,653,196,864,1950,564,537,453,794,998,743,297,279,473,580,1625,2469,581,3288,330,421,642,2707,243,762,4991,817,2550,665,109,582,1670,1270,1001,65,894,302,321,324,152,535,471,2050,597,539,719,280,461,219,539,1317,2277,569,489,581,240,459,231,494,805,462,675,223,1232,5265,2568,2218,807,46,593,412,446,1143,366,440,2735,643,158,1797,1647,2998,428,538,1606,703,516,1333,1382,414,1179,484,594,899,240,339,718,193,223,1513,718,291,720,778,689,217,622,179,551,504,831,274,1287,1244,630,587,801,4580,969,716,334,779,411,1304,2862,793,546,308,2777,1270,805,866,1435,219,662,1393,3743,556,1456,1000,248,343,233,2274,1550,1382,1429,4811,263,218,2332,1489,196,1324,2450,752,634,726,1136,196,10204,625,667,871,979,1514,327,841,317,265,640,667,749,952,484,315,718,197,154,455,826,430,806,628,15554,449,265,2778,593,793,125,510,1360,2235,170,595,1000,321,523,1264,809,500,748,852,478,562,704,908,533,133,512,107,376,593,550,428,429,1089,567,207,554,397,1031,532,2279,1690,506,5551,482,995,772,619,1128,505,751,1297,362,1080,384,48,4014,158,340,422,336,136,1114,350,559,2269,372,382,621,558,371,100,1405,481,1674,763,757,1492,1229,291,646,354,1441,4347,575,661,583,859,328,708,489,289,585,480,457,309,893,727,762,661,509,2110,430,763,1524,930,618,376,3496,4184,652,847,534,897,1098,915,1461,1853,436,1976,154,372,922,680,634,2646,2360,977,276,142,1036,671,1346,1824,419,1093,582,3382,559,859,1003,750,477,60,3767,191,370,194,349,666,577,563,342,201,2052,2212,583,446,802,1307,1159,175,1014,185,386,312,77,895,1189,603,416,2308,518,106,3992,5189,748,706,2095,2939,1652,737,301,447,285,238,1803,1212,318,146,411,141,266,210,668,396,136,302,1001,258,275,123,37,243,523,1213,731,1028,1294,1213,844,726,761,211,399,456,424,1042,593,1279,1572,56,334,422,688,347,399,408,293,1340,2639,279,166,2439,792,825,353,593,330,202,397,459,1372,1004,190,430,174,104,421,1035,891,1396,583,231,359,1722,100,219,823,487,234,785,594,1097,1684,1163,706,630,2623,339,595,328,734,291,610,553,507,115,344,381,963,606,390,8452,600,481,1392,1172,701,989,2417,458,846,152,793,1133,156,1121,600,690,326,626,269,2383,618,230,408,1146,833,689,245,817,498,1649,613,1543,1800,2551,1860,767,276,1574,572,198,952,1659,6650,439,10321,823,627,832,593,546,668,244,972,722,1007,539,845,562,717,391,56,887,1824,1419,2266,1206,4881,244,8746,346,786,687,316,662,1303,1140,745,330,1544,1095],\"sizemode\":\"area\",\"sizeref\":38.885,\"symbol\":\"circle\"},\"mode\":\"markers\",\"name\":\"\",\"orientation\":\"v\",\"showlegend\":false,\"x\":[33,66,71,113,93,121,88,12,98,214,43,36,51,108,56,8,35,73,23,114,89,31,84,23,39,29,3,3,17,38,32,16,37,144,292,18,419,42,360,67,52,419,76,39,73,33,89,16,52,27,47,19,14,95,104,109,294,97,46,90,13,169,26,19,33,106,18,54,36,74,31,22,8,102,17,28,215,36,43,37,30,28,87,40,42,43,17,106,63,86,17,14,23,14,62,11,253,11,83,47,28,55,253,40,43,0,5,70,51,5,0,0,0,0,0,0,0,0,2,2,0,0,0,54,92,23,128,117,34,29,20,21,41,31,23,47,44,36,238,79,27,80,63,51,185,20,204,118,36,88,22,31,27,22,32,45,7,473,6,7,36,17,4,2,31,4,12,15,204,116,17,37,29,99,44,20,82,88,31,42,50,18,175,54,98,30,41,74,161,31,522,22,31,19,30,28,148,5,0,23,80,58,173,107,23,66,107,29,93,156,83,21,26,83,136,6,17,215,34,86,49,64,18,38,113,28,54,14,176,38,32,31,11,169,111,19,15,46,76,152,478,282,33,46,12,170,10,21,32,29,92,104,302,10,55,21,12,0,23,174,81,56,11,33,15,53,102,26,25,70,16,18,964,35,15,38,10,103,35,32,395,154,18,123,59,252,79,20,11,38,266,27,24,19,74,49,151,13,9,30,29,358,232,51,325,15,39,38,173,19,34,316,38,107,29,3,24,91,65,84,0,42,13,25,11,17,16,70,486,34,23,24,16,67,15,24,144,259,44,24,37,11,16,14,17,42,25,95,32,102,825,522,336,64,0,36,32,11,64,25,29,528,53,10,173,87,93,31,13,69,53,20,151,65,20,112,20,26,66,30,13,23,6,8,65,23,11,38,40,22,11,16,5,26,17,81,3,136,109,33,33,29,321,50,40,10,71,91,67,288,4,34,11,131,38,29,42,52,9,20,60,123,22,59,48,16,14,11,100,113,78,99,370,12,13,68,151,15,114,118,54,41,22,55,13,212,34,147,88,71,125,17,81,15,25,42,22,25,79,19,27,41,20,24,23,70,14,100,25,2821,26,36,196,15,60,9,19,159,154,45,45,49,41,24,101,52,29,20,30,21,22,21,61,27,7,24,6,17,23,26,22,45,102,24,6,14,26,23,19,249,91,24,339,20,37,31,15,108,16,17,115,15,66,118,7,744,10,26,6,20,9,139,13,44,219,21,59,21,34,17,5,74,27,70,17,17,78,78,23,19,14,164,154,15,32,39,29,12,44,18,12,26,13,17,41,330,27,80,31,13,81,33,40,118,22,42,36,186,245,17,55,55,115,33,34,54,78,16,104,3,25,62,35,40,106,133,13,15,4,31,9,53,76,26,87,61,196,21,27,108,19,21,2,618,58,19,16,51,18,27,28,21,9,109,283,33,29,35,93,68,7,127,12,26,15,3,29,72,35,33,64,31,7,654,749,13,31,60,128,80,23,8,25,12,22,100,55,19,6,12,11,21,22,47,13,23,15,40,15,20,13,0,9,52,62,35,85,76,62,192,20,40,10,12,15,20,42,30,134,78,0,18,18,42,11,36,34,7,49,102,13,6,312,23,20,13,21,13,8,19,44,140,38,5,35,9,8,12,40,33,134,30,33,77,264,6,12,29,44,6,28,19,32,85,56,23,19,239,23,12,28,20,16,30,21,86,34,13,16,80,18,10,309,25,16,106,68,26,49,64,18,35,4,35,44,8,49,17,22,14,24,13,120,27,7,24,71,157,36,10,9,56,84,18,42,124,134,65,31,20,277,19,18,28,77,928,52,760,43,15,20,15,17,26,15,25,30,30,28,20,21,21,80,3,44,118,153,500,67,204,17,517,16,41,20,20,62,130,54,48,14,47,84],\"xaxis\":\"x\",\"y\":[278,1015,784,900,1326,1253,567,96,1019,1293,370,1178,447,1594,597,138,395,752,352,509,947,243,1205,343,923,278,68,48,217,434,328,207,437,3195,2772,268,2684,386,2501,1239,560,2684,861,390,500,444,1420,277,780,292,482,361,195,474,807,499,2531,499,431,1123,226,1760,401,299,303,1292,327,285,338,962,450,282,73,934,279,311,1336,399,510,363,308,310,509,431,237,376,258,502,733,1306,290,268,343,209,607,149,1096,138,370,417,369,560,1096,408,551,55,63,604,479,67,24,12,9,9,13,14,9,11,13,20,13,18,13,815,780,521,1066,941,483,661,344,246,434,447,721,414,673,426,1039,717,244,459,387,480,640,454,3083,2012,611,1093,256,506,545,279,490,321,112,5566,40,43,708,167,40,36,183,124,180,272,1407,1080,205,301,340,953,614,193,772,482,590,478,485,528,813,296,699,402,389,419,1351,455,2099,397,570,279,584,649,905,96,48,291,543,925,1987,1032,543,1261,1032,452,753,966,670,477,361,437,570,71,474,1505,650,639,778,638,557,602,428,538,613,267,1686,602,395,228,226,975,1007,226,423,255,557,2266,5619,3249,503,517,180,1345,103,422,573,872,1518,1395,1087,198,877,306,173,54,323,2218,1186,612,210,758,334,676,1135,524,273,485,475,245,2122,653,292,748,172,748,456,421,2464,1160,684,1227,455,3118,1076,653,196,864,1950,564,537,453,794,998,743,297,279,473,580,1625,2469,581,3288,330,421,642,2707,243,762,4991,817,2550,665,109,582,1670,1270,1001,65,894,302,321,324,152,535,471,2050,597,539,719,280,461,219,539,1317,2277,569,489,581,240,459,231,494,805,462,675,223,1232,5265,2568,2218,807,46,593,412,446,1143,366,440,2735,643,158,1797,1647,2998,428,538,1606,703,516,1333,1382,414,1179,484,594,899,240,339,718,193,223,1513,718,291,720,778,689,217,622,179,551,504,831,274,1287,1244,630,587,801,4580,969,716,334,779,411,1304,2862,793,546,308,2777,1270,805,866,1435,219,662,1393,3743,556,1456,1000,248,343,233,2274,1550,1382,1429,4811,263,218,2332,1489,196,1324,2450,752,634,726,1136,196,10204,625,667,871,979,1514,327,841,317,265,640,667,749,952,484,315,718,197,154,455,826,430,806,628,15554,449,265,2778,593,793,125,510,1360,2235,170,595,1000,321,523,1264,809,500,748,852,478,562,704,908,533,133,512,107,376,593,550,428,429,1089,567,207,554,397,1031,532,2279,1690,506,5551,482,995,772,619,1128,505,751,1297,362,1080,384,48,4014,158,340,422,336,136,1114,350,559,2269,372,382,621,558,371,100,1405,481,1674,763,757,1492,1229,291,646,354,1441,4347,575,661,583,859,328,708,489,289,585,480,457,309,893,727,762,661,509,2110,430,763,1524,930,618,376,3496,4184,652,847,534,897,1098,915,1461,1853,436,1976,154,372,922,680,634,2646,2360,977,276,142,1036,671,1346,1824,419,1093,582,3382,559,859,1003,750,477,60,3767,191,370,194,349,666,577,563,342,201,2052,2212,583,446,802,1307,1159,175,1014,185,386,312,77,895,1189,603,416,2308,518,106,3992,5189,748,706,2095,2939,1652,737,301,447,285,238,1803,1212,318,146,411,141,266,210,668,396,136,302,1001,258,275,123,37,243,523,1213,731,1028,1294,1213,844,726,761,211,399,456,424,1042,593,1279,1572,56,334,422,688,347,399,408,293,1340,2639,279,166,2439,792,825,353,593,330,202,397,459,1372,1004,190,430,174,104,421,1035,891,1396,583,231,359,1722,100,219,823,487,234,785,594,1097,1684,1163,706,630,2623,339,595,328,734,291,610,553,507,115,344,381,963,606,390,8452,600,481,1392,1172,701,989,2417,458,846,152,793,1133,156,1121,600,690,326,626,269,2383,618,230,408,1146,833,689,245,817,498,1649,613,1543,1800,2551,1860,767,276,1574,572,198,952,1659,6650,439,10321,823,627,832,593,546,668,244,972,722,1007,539,845,562,717,391,56,887,1824,1419,2266,1206,4881,244,8746,346,786,687,316,662,1303,1140,745,330,1544,1095],\"yaxis\":\"y\",\"type\":\"scatter\"},{\"hovertemplate\":\"\\u003cb\\u003eOLS trendline\\u003c\\u002fb\\u003e\\u003cbr\\u003ereposts = 6.44499 * bookmarks + 422.779\\u003cbr\\u003eR\\u003csup\\u003e2\\u003c\\u002fsup\\u003e=0.640878\\u003cbr\\u003e\\u003cbr\\u003ebookmarks=%{x}\\u003cbr\\u003ereposts=%{y} \\u003cb\\u003e(trend)\\u003c\\u002fb\\u003e\\u003cextra\\u003e\\u003c\\u002fextra\\u003e\",\"legendgroup\":\"\",\"marker\":{\"color\":\"#636efa\",\"symbol\":\"circle\"},\"mode\":\"lines\",\"name\":\"\",\"showlegend\":false,\"x\":[0,0,0,0,0,0,0,0,0,0,0,0,0,0,0,0,0,0,2,2,2,2,3,3,3,3,3,3,3,4,4,4,4,4,5,5,5,5,5,5,6,6,6,6,6,6,6,6,6,6,7,7,7,7,7,7,7,7,8,8,8,8,8,8,8,9,9,9,9,9,9,9,9,9,10,10,10,10,10,10,10,10,10,11,11,11,11,11,11,11,11,11,11,11,11,11,11,12,12,12,12,12,12,12,12,12,12,12,12,12,12,13,13,13,13,13,13,13,13,13,13,13,13,13,13,13,13,13,13,13,14,14,14,14,14,14,14,14,14,14,14,15,15,15,15,15,15,15,15,15,15,15,15,15,15,15,15,15,15,15,15,16,16,16,16,16,16,16,16,16,16,16,16,16,16,16,17,17,17,17,17,17,17,17,17,17,17,17,17,17,17,17,17,17,17,17,17,18,18,18,18,18,18,18,18,18,18,18,18,18,18,19,19,19,19,19,19,19,19,19,19,19,19,19,19,19,19,19,20,20,20,20,20,20,20,20,20,20,20,20,20,20,20,20,20,20,20,20,20,20,21,21,21,21,21,21,21,21,21,21,21,21,21,21,21,21,22,22,22,22,22,22,22,22,22,22,22,22,22,22,23,23,23,23,23,23,23,23,23,23,23,23,23,23,23,23,23,23,23,23,24,24,24,24,24,24,24,24,24,24,24,24,25,25,25,25,25,25,25,25,25,25,25,26,26,26,26,26,26,26,26,26,26,26,26,26,26,27,27,27,27,27,27,27,27,27,27,27,28,28,28,28,28,28,28,28,28,28,29,29,29,29,29,29,29,29,29,29,29,29,29,29,29,30,30,30,30,30,30,30,30,30,30,30,31,31,31,31,31,31,31,31,31,31,31,31,31,31,31,31,32,32,32,32,32,32,32,32,32,33,33,33,33,33,33,33,33,33,33,33,33,33,34,34,34,34,34,34,34,34,34,34,35,35,35,35,35,35,35,35,35,35,36,36,36,36,36,36,36,36,36,36,36,37,37,37,37,37,38,38,38,38,38,38,38,38,38,38,39,39,39,39,40,40,40,40,40,40,40,40,40,41,41,41,41,41,41,41,42,42,42,42,42,42,42,42,42,42,42,43,43,43,43,43,44,44,44,44,44,44,44,44,44,45,45,45,45,46,46,46,47,47,47,47,47,48,48,49,49,49,49,49,49,50,50,51,51,51,51,51,52,52,52,52,52,52,53,53,53,53,54,54,54,54,54,54,54,55,55,55,55,55,55,56,56,56,56,58,58,59,59,59,60,60,60,61,61,62,62,62,62,62,63,63,64,64,64,64,64,65,65,65,65,66,66,66,66,67,67,67,67,68,68,68,69,70,70,70,70,70,71,71,71,71,72,73,73,74,74,74,74,76,76,76,76,77,77,78,78,78,78,78,79,79,79,80,80,80,80,80,80,81,81,81,81,82,83,83,83,84,84,84,84,85,85,86,86,86,87,87,87,88,88,88,88,89,89,90,91,91,91,92,92,93,93,93,93,95,95,97,98,98,99,99,100,100,100,101,102,102,102,102,102,103,104,104,104,106,106,106,106,107,107,107,108,108,108,109,109,109,111,112,113,113,113,114,114,115,115,116,117,118,118,118,118,118,120,121,123,123,124,125,127,128,128,130,131,133,134,134,134,136,136,139,140,144,144,147,148,151,151,151,152,153,154,154,154,156,157,159,161,164,169,169,170,173,173,173,174,175,176,185,186,192,196,196,204,204,204,212,214,215,215,219,232,238,239,245,249,252,253,253,259,264,266,277,282,283,288,292,294,302,309,312,316,321,325,330,336,339,358,360,370,395,419,419,473,478,486,500,517,522,522,528,618,654,744,749,760,825,928,964,2821],\"xaxis\":\"x\",\"y\":[422.77868765139215,422.77868765139215,422.77868765139215,422.77868765139215,422.77868765139215,422.77868765139215,422.77868765139215,422.77868765139215,422.77868765139215,422.77868765139215,422.77868765139215,422.77868765139215,422.77868765139215,422.77868765139215,422.77868765139215,422.77868765139215,422.77868765139215,422.77868765139215,435.66866488375297,435.66866488375297,435.66866488375297,435.66866488375297,442.1136534999334,442.1136534999334,442.1136534999334,442.1136534999334,442.1136534999334,442.1136534999334,442.1136534999334,448.5586421161138,448.5586421161138,448.5586421161138,448.5586421161138,448.5586421161138,455.0036307322942,455.0036307322942,455.0036307322942,455.0036307322942,455.0036307322942,455.0036307322942,461.4486193484746,461.4486193484746,461.4486193484746,461.4486193484746,461.4486193484746,461.4486193484746,461.4486193484746,461.4486193484746,461.4486193484746,461.4486193484746,467.893607964655,467.893607964655,467.893607964655,467.893607964655,467.893607964655,467.893607964655,467.893607964655,467.893607964655,474.33859658083543,474.33859658083543,474.33859658083543,474.33859658083543,474.33859658083543,474.33859658083543,474.33859658083543,480.78358519701584,480.78358519701584,480.78358519701584,480.78358519701584,480.78358519701584,480.78358519701584,480.78358519701584,480.78358519701584,480.78358519701584,487.22857381319625,487.22857381319625,487.22857381319625,487.22857381319625,487.22857381319625,487.22857381319625,487.22857381319625,487.22857381319625,487.22857381319625,493.6735624293767,493.6735624293767,493.6735624293767,493.6735624293767,493.6735624293767,493.6735624293767,493.6735624293767,493.6735624293767,493.6735624293767,493.6735624293767,493.6735624293767,493.6735624293767,493.6735624293767,493.6735624293767,500.11855104555707,500.11855104555707,500.11855104555707,500.11855104555707,500.11855104555707,500.11855104555707,500.11855104555707,500.11855104555707,500.11855104555707,500.11855104555707,500.11855104555707,500.11855104555707,500.11855104555707,500.11855104555707,506.56353966173754,506.56353966173754,506.56353966173754,506.56353966173754,506.56353966173754,506.56353966173754,506.56353966173754,506.56353966173754,506.56353966173754,506.56353966173754,506.56353966173754,506.56353966173754,506.56353966173754,506.56353966173754,506.56353966173754,506.56353966173754,506.56353966173754,506.56353966173754,506.56353966173754,513.0085282779179,513.0085282779179,513.0085282779179,513.0085282779179,513.0085282779179,513.0085282779179,513.0085282779179,513.0085282779179,513.0085282779179,513.0085282779179,513.0085282779179,519.4535168940984,519.4535168940984,519.4535168940984,519.4535168940984,519.4535168940984,519.4535168940984,519.4535168940984,519.4535168940984,519.4535168940984,519.4535168940984,519.4535168940984,519.4535168940984,519.4535168940984,519.4535168940984,519.4535168940984,519.4535168940984,519.4535168940984,519.4535168940984,519.4535168940984,519.4535168940984,525.8985055102787,525.8985055102787,525.8985055102787,525.8985055102787,525.8985055102787,525.8985055102787,525.8985055102787,525.8985055102787,525.8985055102787,525.8985055102787,525.8985055102787,525.8985055102787,525.8985055102787,525.8985055102787,525.8985055102787,532.3434941264592,532.3434941264592,532.3434941264592,532.3434941264592,532.3434941264592,532.3434941264592,532.3434941264592,532.3434941264592,532.3434941264592,532.3434941264592,532.3434941264592,532.3434941264592,532.3434941264592,532.3434941264592,532.3434941264592,532.3434941264592,532.3434941264592,532.3434941264592,532.3434941264592,532.3434941264592,532.3434941264592,538.7884827426395,538.7884827426395,538.7884827426395,538.7884827426395,538.7884827426395,538.7884827426395,538.7884827426395,538.7884827426395,538.7884827426395,538.7884827426395,538.7884827426395,538.7884827426395,538.7884827426395,538.7884827426395,545.23347135882,545.23347135882,545.23347135882,545.23347135882,545.23347135882,545.23347135882,545.23347135882,545.23347135882,545.23347135882,545.23347135882,545.23347135882,545.23347135882,545.23347135882,545.23347135882,545.23347135882,545.23347135882,545.23347135882,551.6784599750004,551.6784599750004,551.6784599750004,551.6784599750004,551.6784599750004,551.6784599750004,551.6784599750004,551.6784599750004,551.6784599750004,551.6784599750004,551.6784599750004,551.6784599750004,551.6784599750004,551.6784599750004,551.6784599750004,551.6784599750004,551.6784599750004,551.6784599750004,551.6784599750004,551.6784599750004,551.6784599750004,551.6784599750004,558.1234485911808,558.1234485911808,558.1234485911808,558.1234485911808,558.1234485911808,558.1234485911808,558.1234485911808,558.1234485911808,558.1234485911808,558.1234485911808,558.1234485911808,558.1234485911808,558.1234485911808,558.1234485911808,558.1234485911808,558.1234485911808,564.5684372073613,564.5684372073613,564.5684372073613,564.5684372073613,564.5684372073613,564.5684372073613,564.5684372073613,564.5684372073613,564.5684372073613,564.5684372073613,564.5684372073613,564.5684372073613,564.5684372073613,564.5684372073613,571.0134258235416,571.0134258235416,571.0134258235416,571.0134258235416,571.0134258235416,571.0134258235416,571.0134258235416,571.0134258235416,571.0134258235416,571.0134258235416,571.0134258235416,571.0134258235416,571.0134258235416,571.0134258235416,571.0134258235416,571.0134258235416,571.0134258235416,571.0134258235416,571.0134258235416,571.0134258235416,577.458414439722,577.458414439722,577.458414439722,577.458414439722,577.458414439722,577.458414439722,577.458414439722,577.458414439722,577.458414439722,577.458414439722,577.458414439722,577.458414439722,583.9034030559025,583.9034030559025,583.9034030559025,583.9034030559025,583.9034030559025,583.9034030559025,583.9034030559025,583.9034030559025,583.9034030559025,583.9034030559025,583.9034030559025,590.3483916720829,590.3483916720829,590.3483916720829,590.3483916720829,590.3483916720829,590.3483916720829,590.3483916720829,590.3483916720829,590.3483916720829,590.3483916720829,590.3483916720829,590.3483916720829,590.3483916720829,590.3483916720829,596.7933802882633,596.7933802882633,596.7933802882633,596.7933802882633,596.7933802882633,596.7933802882633,596.7933802882633,596.7933802882633,596.7933802882633,596.7933802882633,596.7933802882633,603.2383689044437,603.2383689044437,603.2383689044437,603.2383689044437,603.2383689044437,603.2383689044437,603.2383689044437,603.2383689044437,603.2383689044437,603.2383689044437,609.6833575206241,609.6833575206241,609.6833575206241,609.6833575206241,609.6833575206241,609.6833575206241,609.6833575206241,609.6833575206241,609.6833575206241,609.6833575206241,609.6833575206241,609.6833575206241,609.6833575206241,609.6833575206241,609.6833575206241,616.1283461368046,616.1283461368046,616.1283461368046,616.1283461368046,616.1283461368046,616.1283461368046,616.1283461368046,616.1283461368046,616.1283461368046,616.1283461368046,616.1283461368046,622.5733347529849,622.5733347529849,622.5733347529849,622.5733347529849,622.5733347529849,622.5733347529849,622.5733347529849,622.5733347529849,622.5733347529849,622.5733347529849,622.5733347529849,622.5733347529849,622.5733347529849,622.5733347529849,622.5733347529849,622.5733347529849,629.0183233691654,629.0183233691654,629.0183233691654,629.0183233691654,629.0183233691654,629.0183233691654,629.0183233691654,629.0183233691654,629.0183233691654,635.4633119853457,635.4633119853457,635.4633119853457,635.4633119853457,635.4633119853457,635.4633119853457,635.4633119853457,635.4633119853457,635.4633119853457,635.4633119853457,635.4633119853457,635.4633119853457,635.4633119853457,641.9083006015262,641.9083006015262,641.9083006015262,641.9083006015262,641.9083006015262,641.9083006015262,641.9083006015262,641.9083006015262,641.9083006015262,641.9083006015262,648.3532892177066,648.3532892177066,648.3532892177066,648.3532892177066,648.3532892177066,648.3532892177066,648.3532892177066,648.3532892177066,648.3532892177066,648.3532892177066,654.798277833887,654.798277833887,654.798277833887,654.798277833887,654.798277833887,654.798277833887,654.798277833887,654.798277833887,654.798277833887,654.798277833887,654.798277833887,661.2432664500674,661.2432664500674,661.2432664500674,661.2432664500674,661.2432664500674,667.6882550662478,667.6882550662478,667.6882550662478,667.6882550662478,667.6882550662478,667.6882550662478,667.6882550662478,667.6882550662478,667.6882550662478,667.6882550662478,674.1332436824282,674.1332436824282,674.1332436824282,674.1332436824282,680.5782322986087,680.5782322986087,680.5782322986087,680.5782322986087,680.5782322986087,680.5782322986087,680.5782322986087,680.5782322986087,680.5782322986087,687.0232209147891,687.0232209147891,687.0232209147891,687.0232209147891,687.0232209147891,687.0232209147891,687.0232209147891,693.4682095309695,693.4682095309695,693.4682095309695,693.4682095309695,693.4682095309695,693.4682095309695,693.4682095309695,693.4682095309695,693.4682095309695,693.4682095309695,693.4682095309695,699.9131981471498,699.9131981471498,699.9131981471498,699.9131981471498,699.9131981471498,706.3581867633303,706.3581867633303,706.3581867633303,706.3581867633303,706.3581867633303,706.3581867633303,706.3581867633303,706.3581867633303,706.3581867633303,712.8031753795108,712.8031753795108,712.8031753795108,712.8031753795108,719.2481639956911,719.2481639956911,719.2481639956911,725.6931526118715,725.6931526118715,725.6931526118715,725.6931526118715,725.6931526118715,732.138141228052,732.138141228052,738.5831298442324,738.5831298442324,738.5831298442324,738.5831298442324,738.5831298442324,738.5831298442324,745.0281184604128,745.0281184604128,751.4731070765931,751.4731070765931,751.4731070765931,751.4731070765931,751.4731070765931,757.9180956927736,757.9180956927736,757.9180956927736,757.9180956927736,757.9180956927736,757.9180956927736,764.3630843089541,764.3630843089541,764.3630843089541,764.3630843089541,770.8080729251344,770.8080729251344,770.8080729251344,770.8080729251344,770.8080729251344,770.8080729251344,770.8080729251344,777.2530615413149,777.2530615413149,777.2530615413149,777.2530615413149,777.2530615413149,777.2530615413149,783.6980501574953,783.6980501574953,783.6980501574953,783.6980501574953,796.588027389856,796.588027389856,803.0330160060365,803.0330160060365,803.0330160060365,809.478004622217,809.478004622217,809.478004622217,815.9229932383973,815.9229932383973,822.3679818545777,822.3679818545777,822.3679818545777,822.3679818545777,822.3679818545777,828.8129704707582,828.8129704707582,835.2579590869386,835.2579590869386,835.2579590869386,835.2579590869386,835.2579590869386,841.702947703119,841.702947703119,841.702947703119,841.702947703119,848.1479363192993,848.1479363192993,848.1479363192993,848.1479363192993,854.5929249354798,854.5929249354798,854.5929249354798,854.5929249354798,861.0379135516603,861.0379135516603,861.0379135516603,867.4829021678406,873.927890784021,873.927890784021,873.927890784021,873.927890784021,873.927890784021,880.3728794002014,880.3728794002014,880.3728794002014,880.3728794002014,886.8178680163819,893.2628566325623,893.2628566325623,899.7078452487426,899.7078452487426,899.7078452487426,899.7078452487426,912.5978224811035,912.5978224811035,912.5978224811035,912.5978224811035,919.0428110972839,919.0428110972839,925.4877997134644,925.4877997134644,925.4877997134644,925.4877997134644,925.4877997134644,931.9327883296448,931.9327883296448,931.9327883296448,938.3777769458252,938.3777769458252,938.3777769458252,938.3777769458252,938.3777769458252,938.3777769458252,944.8227655620055,944.8227655620055,944.8227655620055,944.8227655620055,951.267754178186,957.7127427943664,957.7127427943664,957.7127427943664,964.1577314105468,964.1577314105468,964.1577314105468,964.1577314105468,970.6027200267272,970.6027200267272,977.0477086429077,977.0477086429077,977.0477086429077,983.4926972590881,983.4926972590881,983.4926972590881,989.9376858752685,989.9376858752685,989.9376858752685,989.9376858752685,996.3826744914489,996.3826744914489,1002.8276631076293,1009.2726517238098,1009.2726517238098,1009.2726517238098,1015.7176403399901,1015.7176403399901,1022.1626289561706,1022.1626289561706,1022.1626289561706,1022.1626289561706,1035.0526061885314,1035.0526061885314,1047.9425834208923,1054.3875720370725,1054.3875720370725,1060.832560653253,1060.832560653253,1067.2775492694334,1067.2775492694334,1067.2775492694334,1073.7225378856137,1080.1675265017943,1080.1675265017943,1080.1675265017943,1080.1675265017943,1080.1675265017943,1086.6125151179747,1093.057503734155,1093.057503734155,1093.057503734155,1105.9474809665157,1105.9474809665157,1105.9474809665157,1105.9474809665157,1112.3924695826963,1112.3924695826963,1112.3924695826963,1118.837458198877,1118.837458198877,1118.837458198877,1125.282446815057,1125.282446815057,1125.282446815057,1138.172424047418,1144.6174126635983,1151.062401279779,1151.062401279779,1151.062401279779,1157.5073898959592,1157.5073898959592,1163.9523785121396,1163.9523785121396,1170.3973671283202,1176.8423557445003,1183.287344360681,1183.287344360681,1183.287344360681,1183.287344360681,1183.287344360681,1196.1773215930416,1202.6223102092222,1215.5122874415829,1215.5122874415829,1221.9572760577635,1228.4022646739436,1241.2922419063045,1247.7372305224849,1247.7372305224849,1260.6272077548458,1267.0721963710262,1279.962173603387,1286.4071622195675,1286.4071622195675,1286.4071622195675,1299.2971394519282,1299.2971394519282,1318.6321053004694,1325.07709391665,1350.8570483813714,1350.8570483813714,1370.1920142299127,1376.6370028460933,1395.9719686946346,1395.9719686946346,1395.9719686946346,1402.416957310815,1408.8619459269953,1415.3069345431759,1415.3069345431759,1415.3069345431759,1428.1969117755366,1434.641900391717,1447.5318776240779,1460.4218548564386,1479.7568207049799,1511.9817637858819,1511.9817637858819,1518.4267524020622,1537.7617182506035,1537.7617182506035,1537.7617182506035,1544.206706866784,1550.6516954829644,1557.0966840991448,1615.1015816447684,1621.546570260949,1660.2165019580314,1685.996456422753,1685.996456422753,1737.5563653521963,1737.5563653521963,1737.5563653521963,1789.1162742816396,1802.0062515140005,1808.4512401301808,1808.4512401301808,1834.2311945949025,1918.016046605248,1956.6859783023303,1963.130966918511,2001.8008986155933,2027.580853080315,2046.9158189288562,2053.3608075450366,2053.3608075450366,2092.030739242119,2124.255682323021,2137.145659555382,2208.0405343333664,2240.2654774142684,2246.710466030449,2278.935409111351,2304.7153635760724,2317.6053408084335,2369.165249737877,2414.28017005114,2433.6151358996813,2459.3950903644027,2491.620033445305,2517.3999879100265,2549.624930990928,2588.2948626880107,2607.629828536552,2730.08461224398,2742.974589476341,2807.424475638145,2968.5491910426554,3123.2289178309848,3123.2289178309848,3471.258303104727,3503.4832461856295,3555.043155115073,3645.2729957415986,3754.8378022166653,3787.0627452975677,3787.0627452975677,3825.7326769946503,4405.781652450887,4637.801242633382,5217.850218089619,5250.075161170521,5320.970035948506,5739.894296000232,6403.728123466815,6635.74771364931,18604.091573896338],\"yaxis\":\"y\",\"type\":\"scatter\"}],                        {\"template\":{\"data\":{\"histogram2dcontour\":[{\"type\":\"histogram2dcontour\",\"colorbar\":{\"outlinewidth\":0,\"ticks\":\"\"},\"colorscale\":[[0.0,\"#0d0887\"],[0.1111111111111111,\"#46039f\"],[0.2222222222222222,\"#7201a8\"],[0.3333333333333333,\"#9c179e\"],[0.4444444444444444,\"#bd3786\"],[0.5555555555555556,\"#d8576b\"],[0.6666666666666666,\"#ed7953\"],[0.7777777777777778,\"#fb9f3a\"],[0.8888888888888888,\"#fdca26\"],[1.0,\"#f0f921\"]]}],\"choropleth\":[{\"type\":\"choropleth\",\"colorbar\":{\"outlinewidth\":0,\"ticks\":\"\"}}],\"histogram2d\":[{\"type\":\"histogram2d\",\"colorbar\":{\"outlinewidth\":0,\"ticks\":\"\"},\"colorscale\":[[0.0,\"#0d0887\"],[0.1111111111111111,\"#46039f\"],[0.2222222222222222,\"#7201a8\"],[0.3333333333333333,\"#9c179e\"],[0.4444444444444444,\"#bd3786\"],[0.5555555555555556,\"#d8576b\"],[0.6666666666666666,\"#ed7953\"],[0.7777777777777778,\"#fb9f3a\"],[0.8888888888888888,\"#fdca26\"],[1.0,\"#f0f921\"]]}],\"heatmap\":[{\"type\":\"heatmap\",\"colorbar\":{\"outlinewidth\":0,\"ticks\":\"\"},\"colorscale\":[[0.0,\"#0d0887\"],[0.1111111111111111,\"#46039f\"],[0.2222222222222222,\"#7201a8\"],[0.3333333333333333,\"#9c179e\"],[0.4444444444444444,\"#bd3786\"],[0.5555555555555556,\"#d8576b\"],[0.6666666666666666,\"#ed7953\"],[0.7777777777777778,\"#fb9f3a\"],[0.8888888888888888,\"#fdca26\"],[1.0,\"#f0f921\"]]}],\"heatmapgl\":[{\"type\":\"heatmapgl\",\"colorbar\":{\"outlinewidth\":0,\"ticks\":\"\"},\"colorscale\":[[0.0,\"#0d0887\"],[0.1111111111111111,\"#46039f\"],[0.2222222222222222,\"#7201a8\"],[0.3333333333333333,\"#9c179e\"],[0.4444444444444444,\"#bd3786\"],[0.5555555555555556,\"#d8576b\"],[0.6666666666666666,\"#ed7953\"],[0.7777777777777778,\"#fb9f3a\"],[0.8888888888888888,\"#fdca26\"],[1.0,\"#f0f921\"]]}],\"contourcarpet\":[{\"type\":\"contourcarpet\",\"colorbar\":{\"outlinewidth\":0,\"ticks\":\"\"}}],\"contour\":[{\"type\":\"contour\",\"colorbar\":{\"outlinewidth\":0,\"ticks\":\"\"},\"colorscale\":[[0.0,\"#0d0887\"],[0.1111111111111111,\"#46039f\"],[0.2222222222222222,\"#7201a8\"],[0.3333333333333333,\"#9c179e\"],[0.4444444444444444,\"#bd3786\"],[0.5555555555555556,\"#d8576b\"],[0.6666666666666666,\"#ed7953\"],[0.7777777777777778,\"#fb9f3a\"],[0.8888888888888888,\"#fdca26\"],[1.0,\"#f0f921\"]]}],\"surface\":[{\"type\":\"surface\",\"colorbar\":{\"outlinewidth\":0,\"ticks\":\"\"},\"colorscale\":[[0.0,\"#0d0887\"],[0.1111111111111111,\"#46039f\"],[0.2222222222222222,\"#7201a8\"],[0.3333333333333333,\"#9c179e\"],[0.4444444444444444,\"#bd3786\"],[0.5555555555555556,\"#d8576b\"],[0.6666666666666666,\"#ed7953\"],[0.7777777777777778,\"#fb9f3a\"],[0.8888888888888888,\"#fdca26\"],[1.0,\"#f0f921\"]]}],\"mesh3d\":[{\"type\":\"mesh3d\",\"colorbar\":{\"outlinewidth\":0,\"ticks\":\"\"}}],\"scatter\":[{\"fillpattern\":{\"fillmode\":\"overlay\",\"size\":10,\"solidity\":0.2},\"type\":\"scatter\"}],\"parcoords\":[{\"type\":\"parcoords\",\"line\":{\"colorbar\":{\"outlinewidth\":0,\"ticks\":\"\"}}}],\"scatterpolargl\":[{\"type\":\"scatterpolargl\",\"marker\":{\"colorbar\":{\"outlinewidth\":0,\"ticks\":\"\"}}}],\"bar\":[{\"error_x\":{\"color\":\"#2a3f5f\"},\"error_y\":{\"color\":\"#2a3f5f\"},\"marker\":{\"line\":{\"color\":\"#E5ECF6\",\"width\":0.5},\"pattern\":{\"fillmode\":\"overlay\",\"size\":10,\"solidity\":0.2}},\"type\":\"bar\"}],\"scattergeo\":[{\"type\":\"scattergeo\",\"marker\":{\"colorbar\":{\"outlinewidth\":0,\"ticks\":\"\"}}}],\"scatterpolar\":[{\"type\":\"scatterpolar\",\"marker\":{\"colorbar\":{\"outlinewidth\":0,\"ticks\":\"\"}}}],\"histogram\":[{\"marker\":{\"pattern\":{\"fillmode\":\"overlay\",\"size\":10,\"solidity\":0.2}},\"type\":\"histogram\"}],\"scattergl\":[{\"type\":\"scattergl\",\"marker\":{\"colorbar\":{\"outlinewidth\":0,\"ticks\":\"\"}}}],\"scatter3d\":[{\"type\":\"scatter3d\",\"line\":{\"colorbar\":{\"outlinewidth\":0,\"ticks\":\"\"}},\"marker\":{\"colorbar\":{\"outlinewidth\":0,\"ticks\":\"\"}}}],\"scattermapbox\":[{\"type\":\"scattermapbox\",\"marker\":{\"colorbar\":{\"outlinewidth\":0,\"ticks\":\"\"}}}],\"scatterternary\":[{\"type\":\"scatterternary\",\"marker\":{\"colorbar\":{\"outlinewidth\":0,\"ticks\":\"\"}}}],\"scattercarpet\":[{\"type\":\"scattercarpet\",\"marker\":{\"colorbar\":{\"outlinewidth\":0,\"ticks\":\"\"}}}],\"carpet\":[{\"aaxis\":{\"endlinecolor\":\"#2a3f5f\",\"gridcolor\":\"white\",\"linecolor\":\"white\",\"minorgridcolor\":\"white\",\"startlinecolor\":\"#2a3f5f\"},\"baxis\":{\"endlinecolor\":\"#2a3f5f\",\"gridcolor\":\"white\",\"linecolor\":\"white\",\"minorgridcolor\":\"white\",\"startlinecolor\":\"#2a3f5f\"},\"type\":\"carpet\"}],\"table\":[{\"cells\":{\"fill\":{\"color\":\"#EBF0F8\"},\"line\":{\"color\":\"white\"}},\"header\":{\"fill\":{\"color\":\"#C8D4E3\"},\"line\":{\"color\":\"white\"}},\"type\":\"table\"}],\"barpolar\":[{\"marker\":{\"line\":{\"color\":\"#E5ECF6\",\"width\":0.5},\"pattern\":{\"fillmode\":\"overlay\",\"size\":10,\"solidity\":0.2}},\"type\":\"barpolar\"}],\"pie\":[{\"automargin\":true,\"type\":\"pie\"}]},\"layout\":{\"autotypenumbers\":\"strict\",\"colorway\":[\"#636efa\",\"#EF553B\",\"#00cc96\",\"#ab63fa\",\"#FFA15A\",\"#19d3f3\",\"#FF6692\",\"#B6E880\",\"#FF97FF\",\"#FECB52\"],\"font\":{\"color\":\"#2a3f5f\"},\"hovermode\":\"closest\",\"hoverlabel\":{\"align\":\"left\"},\"paper_bgcolor\":\"white\",\"plot_bgcolor\":\"#E5ECF6\",\"polar\":{\"bgcolor\":\"#E5ECF6\",\"angularaxis\":{\"gridcolor\":\"white\",\"linecolor\":\"white\",\"ticks\":\"\"},\"radialaxis\":{\"gridcolor\":\"white\",\"linecolor\":\"white\",\"ticks\":\"\"}},\"ternary\":{\"bgcolor\":\"#E5ECF6\",\"aaxis\":{\"gridcolor\":\"white\",\"linecolor\":\"white\",\"ticks\":\"\"},\"baxis\":{\"gridcolor\":\"white\",\"linecolor\":\"white\",\"ticks\":\"\"},\"caxis\":{\"gridcolor\":\"white\",\"linecolor\":\"white\",\"ticks\":\"\"}},\"coloraxis\":{\"colorbar\":{\"outlinewidth\":0,\"ticks\":\"\"}},\"colorscale\":{\"sequential\":[[0.0,\"#0d0887\"],[0.1111111111111111,\"#46039f\"],[0.2222222222222222,\"#7201a8\"],[0.3333333333333333,\"#9c179e\"],[0.4444444444444444,\"#bd3786\"],[0.5555555555555556,\"#d8576b\"],[0.6666666666666666,\"#ed7953\"],[0.7777777777777778,\"#fb9f3a\"],[0.8888888888888888,\"#fdca26\"],[1.0,\"#f0f921\"]],\"sequentialminus\":[[0.0,\"#0d0887\"],[0.1111111111111111,\"#46039f\"],[0.2222222222222222,\"#7201a8\"],[0.3333333333333333,\"#9c179e\"],[0.4444444444444444,\"#bd3786\"],[0.5555555555555556,\"#d8576b\"],[0.6666666666666666,\"#ed7953\"],[0.7777777777777778,\"#fb9f3a\"],[0.8888888888888888,\"#fdca26\"],[1.0,\"#f0f921\"]],\"diverging\":[[0,\"#8e0152\"],[0.1,\"#c51b7d\"],[0.2,\"#de77ae\"],[0.3,\"#f1b6da\"],[0.4,\"#fde0ef\"],[0.5,\"#f7f7f7\"],[0.6,\"#e6f5d0\"],[0.7,\"#b8e186\"],[0.8,\"#7fbc41\"],[0.9,\"#4d9221\"],[1,\"#276419\"]]},\"xaxis\":{\"gridcolor\":\"white\",\"linecolor\":\"white\",\"ticks\":\"\",\"title\":{\"standoff\":15},\"zerolinecolor\":\"white\",\"automargin\":true,\"zerolinewidth\":2},\"yaxis\":{\"gridcolor\":\"white\",\"linecolor\":\"white\",\"ticks\":\"\",\"title\":{\"standoff\":15},\"zerolinecolor\":\"white\",\"automargin\":true,\"zerolinewidth\":2},\"scene\":{\"xaxis\":{\"backgroundcolor\":\"#E5ECF6\",\"gridcolor\":\"white\",\"linecolor\":\"white\",\"showbackground\":true,\"ticks\":\"\",\"zerolinecolor\":\"white\",\"gridwidth\":2},\"yaxis\":{\"backgroundcolor\":\"#E5ECF6\",\"gridcolor\":\"white\",\"linecolor\":\"white\",\"showbackground\":true,\"ticks\":\"\",\"zerolinecolor\":\"white\",\"gridwidth\":2},\"zaxis\":{\"backgroundcolor\":\"#E5ECF6\",\"gridcolor\":\"white\",\"linecolor\":\"white\",\"showbackground\":true,\"ticks\":\"\",\"zerolinecolor\":\"white\",\"gridwidth\":2}},\"shapedefaults\":{\"line\":{\"color\":\"#2a3f5f\"}},\"annotationdefaults\":{\"arrowcolor\":\"#2a3f5f\",\"arrowhead\":0,\"arrowwidth\":1},\"geo\":{\"bgcolor\":\"white\",\"landcolor\":\"#E5ECF6\",\"subunitcolor\":\"white\",\"showland\":true,\"showlakes\":true,\"lakecolor\":\"white\"},\"title\":{\"x\":0.05},\"mapbox\":{\"style\":\"light\"}}},\"xaxis\":{\"anchor\":\"y\",\"domain\":[0.0,1.0],\"title\":{\"text\":\"bookmarks\"}},\"yaxis\":{\"anchor\":\"x\",\"domain\":[0.0,1.0],\"title\":{\"text\":\"reposts\"}},\"legend\":{\"tracegroupgap\":0,\"itemsizing\":\"constant\"},\"title\":{\"text\":\"Relationship Between reposts and bookmarks\"}},                        {\"responsive\": true}                    ).then(function(){\n",
              "                            \n",
              "var gd = document.getElementById('0c99f9c3-93e4-423f-a423-4772d3a42dc7');\n",
              "var x = new MutationObserver(function (mutations, observer) {{\n",
              "        var display = window.getComputedStyle(gd).display;\n",
              "        if (!display || display === 'none') {{\n",
              "            console.log([gd, 'removed!']);\n",
              "            Plotly.purge(gd);\n",
              "            observer.disconnect();\n",
              "        }}\n",
              "}});\n",
              "\n",
              "// Listen for the removal of the full notebook cells\n",
              "var notebookContainer = gd.closest('#notebook-container');\n",
              "if (notebookContainer) {{\n",
              "    x.observe(notebookContainer, {childList: true});\n",
              "}}\n",
              "\n",
              "// Listen for the clearing of the current output cell\n",
              "var outputEl = gd.closest('.output');\n",
              "if (outputEl) {{\n",
              "    x.observe(outputEl, {childList: true});\n",
              "}}\n",
              "\n",
              "                        })                };                            </script>        </div>\n",
              "</body>\n",
              "</html>"
            ]
          },
          "metadata": {}
        }
      ]
    },
    {
      "cell_type": "code",
      "source": [
        "figure = px.scatter(data_frame = df, x=\"bookmarks\",\n",
        "                    y=\"likes\", size=\"likes\", trendline=\"ols\",\n",
        "                    title = \"Relationship Between likes and bookmarks\")\n",
        "figure.show()"
      ],
      "metadata": {
        "colab": {
          "base_uri": "https://localhost:8080/"
        },
        "id": "qbrXljs4ap-N",
        "outputId": "17d9aa87-2301-42f9-9cfa-ed202e380840"
      },
      "execution_count": null,
      "outputs": [
        {
          "output_type": "display_data",
          "data": {
            "text/html": [
              "<html>\n",
              "<head><meta charset=\"utf-8\" /></head>\n",
              "<body>\n",
              "    <div>            <script src=\"https://cdnjs.cloudflare.com/ajax/libs/mathjax/2.7.5/MathJax.js?config=TeX-AMS-MML_SVG\"></script><script type=\"text/javascript\">if (window.MathJax && window.MathJax.Hub && window.MathJax.Hub.Config) {window.MathJax.Hub.Config({SVG: {font: \"STIX-Web\"}});}</script>                <script type=\"text/javascript\">window.PlotlyConfig = {MathJaxConfig: 'local'};</script>\n",
              "        <script charset=\"utf-8\" src=\"https://cdn.plot.ly/plotly-2.24.1.min.js\"></script>                <div id=\"436785bc-da50-4e0f-be1d-0b98fa029d88\" class=\"plotly-graph-div\" style=\"height:525px; width:100%;\"></div>            <script type=\"text/javascript\">                                    window.PLOTLYENV=window.PLOTLYENV || {};                                    if (document.getElementById(\"436785bc-da50-4e0f-be1d-0b98fa029d88\")) {                    Plotly.newPlot(                        \"436785bc-da50-4e0f-be1d-0b98fa029d88\",                        [{\"hovertemplate\":\"bookmarks=%{x}\\u003cbr\\u003elikes=%{marker.size}\\u003cextra\\u003e\\u003c\\u002fextra\\u003e\",\"legendgroup\":\"\",\"marker\":{\"color\":\"#636efa\",\"size\":[1748,4748,3521,4280,7393,6157,3820,692,3665,6390,1967,4533,2224,6530,3517,898,2388,4028,1748,2594,3705,1012,4602,2102,3324,1684,754,446,1442,3145,1868,1409,2406,12258,9522,1688,7691,2603,9791,5064,2605,7691,3930,2112,1772,2325,5348,1667,3862,1625,1959,2464,1163,2309,3365,2251,10078,2456,2315,4239,1507,6630,1720,1943,1632,5988,2161,1319,1684,4764,2151,2082,784,3949,1755,1714,5649,2315,2980,2829,1991,1922,2425,3104,1528,2495,1826,2881,4326,10161,1665,1729,2484,1406,4089,1123,5393,1037,2033,2981,2203,2661,5393,1862,4162,441,538,3404,2662,710,299,138,63,70,155,159,77,71,77,149,123,125,115,4339,4501,2599,5339,4964,2838,3813,2191,1591,2662,1774,3688,2000,3848,1468,4449,4429,2398,3267,1910,2859,3061,3072,16563,11276,3936,3890,1672,3825,3068,1749,2495,2041,678,9154,337,322,4471,1254,402,305,926,908,1413,1379,8885,4335,1762,2293,2708,5379,5442,1432,4421,2147,3754,2686,3010,2660,3396,2047,3795,2563,2283,1970,6249,2026,8508,2513,2968,1679,3410,2832,5795,1645,1165,1190,2987,5568,10627,5455,3371,6325,5455,2166,4114,4550,3706,2993,2281,1966,2158,492,3060,8500,3805,3482,4700,3276,3766,4119,2191,3586,4286,1593,11713,4119,3231,1151,1567,4368,6780,1544,3440,1525,2892,11012,20858,7802,2883,3614,1461,4395,740,2212,3592,4196,7464,6263,3308,1432,4912,2355,1056,509,1847,9163,5404,2274,1454,6245,2195,3203,4871,3052,2045,3005,2603,1345,5423,4683,2209,4544,1180,3014,2745,1953,11277,5310,3003,5500,3189,16178,4045,3900,1569,6306,8353,2725,2920,2347,3439,7598,3596,1652,2277,2406,3056,7446,13607,2936,17672,2944,2570,4927,12033,2006,5195,22140,4537,9024,3780,757,3356,4852,5130,4307,482,5231,2081,2203,2290,1056,4334,2808,10285,3622,3884,5730,2123,2902,1627,3365,5530,14048,3728,3014,3438,1521,2458,1370,2507,5390,2346,4125,1232,8367,15865,7590,4772,5993,456,5568,2805,2536,8500,2178,2691,9226,4469,1288,9666,9815,21684,3526,3797,11458,4124,4342,7043,10951,2961,7282,2418,3910,5988,1425,2260,4664,1188,1752,10340,4664,1559,3335,3824,3472,1316,3693,1271,4166,3184,4273,1790,7089,9170,5508,3293,5246,19242,4389,4259,1975,5348,2118,5670,10864,1947,3427,1757,17269,8521,4025,5488,10846,2278,3727,9179,23758,2759,11638,6127,1524,2744,2218,17719,12228,5133,8382,27560,2093,1823,16658,8281,1390,6788,13855,4496,3966,3867,10095,1350,63636,6371,3497,6997,9245,8615,2616,4952,1875,1314,3004,3728,5119,5527,4224,1769,3869,1418,897,2844,5991,1886,3418,3083,35950,2364,1768,12716,3402,5306,687,2994,7881,10836,1092,2933,5337,2096,4449,9657,3769,3663,5043,6184,4128,3863,6028,5973,2886,1011,2862,965,2221,4626,2988,2931,2204,7060,4314,1388,3852,2525,4643,2516,9235,12715,2454,34283,3045,5728,4749,3902,8239,2407,3471,6039,1888,4374,1507,452,11277,1437,1248,2043,2297,1005,5668,1141,2040,10384,1625,2998,2693,3344,2001,877,8421,3603,8517,3474,3701,9427,6548,1391,2743,1898,7212,16988,2669,2875,2283,3978,1780,2723,2498,1393,3393,2931,2261,2042,6101,3534,4128,3704,3318,17375,2011,2173,5976,3636,2914,1937,17897,18920,3803,4035,2643,3589,5947,3951,9152,12416,2019,12690,1706,1765,4859,4094,2128,14815,10762,3212,1641,1064,4627,2766,7078,13918,4337,4140,2171,14932,1857,3932,5045,3933,2533,566,19914,1302,1931,1053,1715,3960,2865,3456,1845,1184,12196,9971,3322,2061,4708,6432,7987,975,5152,903,2687,2240,789,5762,8366,4149,2180,11148,2980,795,19540,26938,4703,2950,12999,17800,11003,4120,1857,3012,2433,1388,9308,6924,2185,1240,2565,1385,1863,1197,2980,2201,621,2548,5945,1537,1483,786,209,1686,2779,8366,4335,5775,8144,8366,3048,4215,3553,1160,2477,2653,2582,4981,4637,6434,8001,556,1762,2454,4520,2400,2088,2650,2188,9898,17048,1732,1186,12203,5574,4638,2865,3626,2369,1506,2304,2513,6674,6151,1389,2446,1261,754,2667,6978,6170,11114,6687,4120,1814,5392,848,2121,6061,3238,1578,5366,3423,8451,11576,7984,5101,4459,15118,2018,4297,1950,5450,1735,4071,3290,2740,617,2576,2222,5901,4851,3061,33603,4589,3743,10178,6301,5303,6197,15742,2600,4515,1146,5434,5889,1103,5276,4231,5397,2617,3730,1560,12401,4390,2068,3021,8644,5569,5252,1455,5932,4816,10994,4263,13047,12366,20428,13654,5222,2169,7870,4776,1366,7046,10480,56041,3945,39556,10517,5420,6438,3794,4059,5728,1821,6553,3919,7021,3061,4664,5842,4961,1537,496,6033,12040,9498,10544,8279,28948,1720,30810,2746,6103,5467,1624,4365,6381,8838,5552,2747,17702,7934],\"sizemode\":\"area\",\"sizeref\":159.09,\"symbol\":\"circle\"},\"mode\":\"markers\",\"name\":\"\",\"orientation\":\"v\",\"showlegend\":false,\"x\":[33,66,71,113,93,121,88,12,98,214,43,36,51,108,56,8,35,73,23,114,89,31,84,23,39,29,3,3,17,38,32,16,37,144,292,18,419,42,360,67,52,419,76,39,73,33,89,16,52,27,47,19,14,95,104,109,294,97,46,90,13,169,26,19,33,106,18,54,36,74,31,22,8,102,17,28,215,36,43,37,30,28,87,40,42,43,17,106,63,86,17,14,23,14,62,11,253,11,83,47,28,55,253,40,43,0,5,70,51,5,0,0,0,0,0,0,0,0,2,2,0,0,0,54,92,23,128,117,34,29,20,21,41,31,23,47,44,36,238,79,27,80,63,51,185,20,204,118,36,88,22,31,27,22,32,45,7,473,6,7,36,17,4,2,31,4,12,15,204,116,17,37,29,99,44,20,82,88,31,42,50,18,175,54,98,30,41,74,161,31,522,22,31,19,30,28,148,5,0,23,80,58,173,107,23,66,107,29,93,156,83,21,26,83,136,6,17,215,34,86,49,64,18,38,113,28,54,14,176,38,32,31,11,169,111,19,15,46,76,152,478,282,33,46,12,170,10,21,32,29,92,104,302,10,55,21,12,0,23,174,81,56,11,33,15,53,102,26,25,70,16,18,964,35,15,38,10,103,35,32,395,154,18,123,59,252,79,20,11,38,266,27,24,19,74,49,151,13,9,30,29,358,232,51,325,15,39,38,173,19,34,316,38,107,29,3,24,91,65,84,0,42,13,25,11,17,16,70,486,34,23,24,16,67,15,24,144,259,44,24,37,11,16,14,17,42,25,95,32,102,825,522,336,64,0,36,32,11,64,25,29,528,53,10,173,87,93,31,13,69,53,20,151,65,20,112,20,26,66,30,13,23,6,8,65,23,11,38,40,22,11,16,5,26,17,81,3,136,109,33,33,29,321,50,40,10,71,91,67,288,4,34,11,131,38,29,42,52,9,20,60,123,22,59,48,16,14,11,100,113,78,99,370,12,13,68,151,15,114,118,54,41,22,55,13,212,34,147,88,71,125,17,81,15,25,42,22,25,79,19,27,41,20,24,23,70,14,100,25,2821,26,36,196,15,60,9,19,159,154,45,45,49,41,24,101,52,29,20,30,21,22,21,61,27,7,24,6,17,23,26,22,45,102,24,6,14,26,23,19,249,91,24,339,20,37,31,15,108,16,17,115,15,66,118,7,744,10,26,6,20,9,139,13,44,219,21,59,21,34,17,5,74,27,70,17,17,78,78,23,19,14,164,154,15,32,39,29,12,44,18,12,26,13,17,41,330,27,80,31,13,81,33,40,118,22,42,36,186,245,17,55,55,115,33,34,54,78,16,104,3,25,62,35,40,106,133,13,15,4,31,9,53,76,26,87,61,196,21,27,108,19,21,2,618,58,19,16,51,18,27,28,21,9,109,283,33,29,35,93,68,7,127,12,26,15,3,29,72,35,33,64,31,7,654,749,13,31,60,128,80,23,8,25,12,22,100,55,19,6,12,11,21,22,47,13,23,15,40,15,20,13,0,9,52,62,35,85,76,62,192,20,40,10,12,15,20,42,30,134,78,0,18,18,42,11,36,34,7,49,102,13,6,312,23,20,13,21,13,8,19,44,140,38,5,35,9,8,12,40,33,134,30,33,77,264,6,12,29,44,6,28,19,32,85,56,23,19,239,23,12,28,20,16,30,21,86,34,13,16,80,18,10,309,25,16,106,68,26,49,64,18,35,4,35,44,8,49,17,22,14,24,13,120,27,7,24,71,157,36,10,9,56,84,18,42,124,134,65,31,20,277,19,18,28,77,928,52,760,43,15,20,15,17,26,15,25,30,30,28,20,21,21,80,3,44,118,153,500,67,204,17,517,16,41,20,20,62,130,54,48,14,47,84],\"xaxis\":\"x\",\"y\":[1748,4748,3521,4280,7393,6157,3820,692,3665,6390,1967,4533,2224,6530,3517,898,2388,4028,1748,2594,3705,1012,4602,2102,3324,1684,754,446,1442,3145,1868,1409,2406,12258,9522,1688,7691,2603,9791,5064,2605,7691,3930,2112,1772,2325,5348,1667,3862,1625,1959,2464,1163,2309,3365,2251,10078,2456,2315,4239,1507,6630,1720,1943,1632,5988,2161,1319,1684,4764,2151,2082,784,3949,1755,1714,5649,2315,2980,2829,1991,1922,2425,3104,1528,2495,1826,2881,4326,10161,1665,1729,2484,1406,4089,1123,5393,1037,2033,2981,2203,2661,5393,1862,4162,441,538,3404,2662,710,299,138,63,70,155,159,77,71,77,149,123,125,115,4339,4501,2599,5339,4964,2838,3813,2191,1591,2662,1774,3688,2000,3848,1468,4449,4429,2398,3267,1910,2859,3061,3072,16563,11276,3936,3890,1672,3825,3068,1749,2495,2041,678,9154,337,322,4471,1254,402,305,926,908,1413,1379,8885,4335,1762,2293,2708,5379,5442,1432,4421,2147,3754,2686,3010,2660,3396,2047,3795,2563,2283,1970,6249,2026,8508,2513,2968,1679,3410,2832,5795,1645,1165,1190,2987,5568,10627,5455,3371,6325,5455,2166,4114,4550,3706,2993,2281,1966,2158,492,3060,8500,3805,3482,4700,3276,3766,4119,2191,3586,4286,1593,11713,4119,3231,1151,1567,4368,6780,1544,3440,1525,2892,11012,20858,7802,2883,3614,1461,4395,740,2212,3592,4196,7464,6263,3308,1432,4912,2355,1056,509,1847,9163,5404,2274,1454,6245,2195,3203,4871,3052,2045,3005,2603,1345,5423,4683,2209,4544,1180,3014,2745,1953,11277,5310,3003,5500,3189,16178,4045,3900,1569,6306,8353,2725,2920,2347,3439,7598,3596,1652,2277,2406,3056,7446,13607,2936,17672,2944,2570,4927,12033,2006,5195,22140,4537,9024,3780,757,3356,4852,5130,4307,482,5231,2081,2203,2290,1056,4334,2808,10285,3622,3884,5730,2123,2902,1627,3365,5530,14048,3728,3014,3438,1521,2458,1370,2507,5390,2346,4125,1232,8367,15865,7590,4772,5993,456,5568,2805,2536,8500,2178,2691,9226,4469,1288,9666,9815,21684,3526,3797,11458,4124,4342,7043,10951,2961,7282,2418,3910,5988,1425,2260,4664,1188,1752,10340,4664,1559,3335,3824,3472,1316,3693,1271,4166,3184,4273,1790,7089,9170,5508,3293,5246,19242,4389,4259,1975,5348,2118,5670,10864,1947,3427,1757,17269,8521,4025,5488,10846,2278,3727,9179,23758,2759,11638,6127,1524,2744,2218,17719,12228,5133,8382,27560,2093,1823,16658,8281,1390,6788,13855,4496,3966,3867,10095,1350,63636,6371,3497,6997,9245,8615,2616,4952,1875,1314,3004,3728,5119,5527,4224,1769,3869,1418,897,2844,5991,1886,3418,3083,35950,2364,1768,12716,3402,5306,687,2994,7881,10836,1092,2933,5337,2096,4449,9657,3769,3663,5043,6184,4128,3863,6028,5973,2886,1011,2862,965,2221,4626,2988,2931,2204,7060,4314,1388,3852,2525,4643,2516,9235,12715,2454,34283,3045,5728,4749,3902,8239,2407,3471,6039,1888,4374,1507,452,11277,1437,1248,2043,2297,1005,5668,1141,2040,10384,1625,2998,2693,3344,2001,877,8421,3603,8517,3474,3701,9427,6548,1391,2743,1898,7212,16988,2669,2875,2283,3978,1780,2723,2498,1393,3393,2931,2261,2042,6101,3534,4128,3704,3318,17375,2011,2173,5976,3636,2914,1937,17897,18920,3803,4035,2643,3589,5947,3951,9152,12416,2019,12690,1706,1765,4859,4094,2128,14815,10762,3212,1641,1064,4627,2766,7078,13918,4337,4140,2171,14932,1857,3932,5045,3933,2533,566,19914,1302,1931,1053,1715,3960,2865,3456,1845,1184,12196,9971,3322,2061,4708,6432,7987,975,5152,903,2687,2240,789,5762,8366,4149,2180,11148,2980,795,19540,26938,4703,2950,12999,17800,11003,4120,1857,3012,2433,1388,9308,6924,2185,1240,2565,1385,1863,1197,2980,2201,621,2548,5945,1537,1483,786,209,1686,2779,8366,4335,5775,8144,8366,3048,4215,3553,1160,2477,2653,2582,4981,4637,6434,8001,556,1762,2454,4520,2400,2088,2650,2188,9898,17048,1732,1186,12203,5574,4638,2865,3626,2369,1506,2304,2513,6674,6151,1389,2446,1261,754,2667,6978,6170,11114,6687,4120,1814,5392,848,2121,6061,3238,1578,5366,3423,8451,11576,7984,5101,4459,15118,2018,4297,1950,5450,1735,4071,3290,2740,617,2576,2222,5901,4851,3061,33603,4589,3743,10178,6301,5303,6197,15742,2600,4515,1146,5434,5889,1103,5276,4231,5397,2617,3730,1560,12401,4390,2068,3021,8644,5569,5252,1455,5932,4816,10994,4263,13047,12366,20428,13654,5222,2169,7870,4776,1366,7046,10480,56041,3945,39556,10517,5420,6438,3794,4059,5728,1821,6553,3919,7021,3061,4664,5842,4961,1537,496,6033,12040,9498,10544,8279,28948,1720,30810,2746,6103,5467,1624,4365,6381,8838,5552,2747,17702,7934],\"yaxis\":\"y\",\"type\":\"scatter\"},{\"hovertemplate\":\"\\u003cb\\u003eOLS trendline\\u003c\\u002fb\\u003e\\u003cbr\\u003elikes = 22.4233 * bookmarks + 3238.98\\u003cbr\\u003eR\\u003csup\\u003e2\\u003c\\u002fsup\\u003e=0.355839\\u003cbr\\u003e\\u003cbr\\u003ebookmarks=%{x}\\u003cbr\\u003elikes=%{y} \\u003cb\\u003e(trend)\\u003c\\u002fb\\u003e\\u003cextra\\u003e\\u003c\\u002fextra\\u003e\",\"legendgroup\":\"\",\"marker\":{\"color\":\"#636efa\",\"symbol\":\"circle\"},\"mode\":\"lines\",\"name\":\"\",\"showlegend\":false,\"x\":[0,0,0,0,0,0,0,0,0,0,0,0,0,0,0,0,0,0,2,2,2,2,3,3,3,3,3,3,3,4,4,4,4,4,5,5,5,5,5,5,6,6,6,6,6,6,6,6,6,6,7,7,7,7,7,7,7,7,8,8,8,8,8,8,8,9,9,9,9,9,9,9,9,9,10,10,10,10,10,10,10,10,10,11,11,11,11,11,11,11,11,11,11,11,11,11,11,12,12,12,12,12,12,12,12,12,12,12,12,12,12,13,13,13,13,13,13,13,13,13,13,13,13,13,13,13,13,13,13,13,14,14,14,14,14,14,14,14,14,14,14,15,15,15,15,15,15,15,15,15,15,15,15,15,15,15,15,15,15,15,15,16,16,16,16,16,16,16,16,16,16,16,16,16,16,16,17,17,17,17,17,17,17,17,17,17,17,17,17,17,17,17,17,17,17,17,17,18,18,18,18,18,18,18,18,18,18,18,18,18,18,19,19,19,19,19,19,19,19,19,19,19,19,19,19,19,19,19,20,20,20,20,20,20,20,20,20,20,20,20,20,20,20,20,20,20,20,20,20,20,21,21,21,21,21,21,21,21,21,21,21,21,21,21,21,21,22,22,22,22,22,22,22,22,22,22,22,22,22,22,23,23,23,23,23,23,23,23,23,23,23,23,23,23,23,23,23,23,23,23,24,24,24,24,24,24,24,24,24,24,24,24,25,25,25,25,25,25,25,25,25,25,25,26,26,26,26,26,26,26,26,26,26,26,26,26,26,27,27,27,27,27,27,27,27,27,27,27,28,28,28,28,28,28,28,28,28,28,29,29,29,29,29,29,29,29,29,29,29,29,29,29,29,30,30,30,30,30,30,30,30,30,30,30,31,31,31,31,31,31,31,31,31,31,31,31,31,31,31,31,32,32,32,32,32,32,32,32,32,33,33,33,33,33,33,33,33,33,33,33,33,33,34,34,34,34,34,34,34,34,34,34,35,35,35,35,35,35,35,35,35,35,36,36,36,36,36,36,36,36,36,36,36,37,37,37,37,37,38,38,38,38,38,38,38,38,38,38,39,39,39,39,40,40,40,40,40,40,40,40,40,41,41,41,41,41,41,41,42,42,42,42,42,42,42,42,42,42,42,43,43,43,43,43,44,44,44,44,44,44,44,44,44,45,45,45,45,46,46,46,47,47,47,47,47,48,48,49,49,49,49,49,49,50,50,51,51,51,51,51,52,52,52,52,52,52,53,53,53,53,54,54,54,54,54,54,54,55,55,55,55,55,55,56,56,56,56,58,58,59,59,59,60,60,60,61,61,62,62,62,62,62,63,63,64,64,64,64,64,65,65,65,65,66,66,66,66,67,67,67,67,68,68,68,69,70,70,70,70,70,71,71,71,71,72,73,73,74,74,74,74,76,76,76,76,77,77,78,78,78,78,78,79,79,79,80,80,80,80,80,80,81,81,81,81,82,83,83,83,84,84,84,84,85,85,86,86,86,87,87,87,88,88,88,88,89,89,90,91,91,91,92,92,93,93,93,93,95,95,97,98,98,99,99,100,100,100,101,102,102,102,102,102,103,104,104,104,106,106,106,106,107,107,107,108,108,108,109,109,109,111,112,113,113,113,114,114,115,115,116,117,118,118,118,118,118,120,121,123,123,124,125,127,128,128,130,131,133,134,134,134,136,136,139,140,144,144,147,148,151,151,151,152,153,154,154,154,156,157,159,161,164,169,169,170,173,173,173,174,175,176,185,186,192,196,196,204,204,204,212,214,215,215,219,232,238,239,245,249,252,253,253,259,264,266,277,282,283,288,292,294,302,309,312,316,321,325,330,336,339,358,360,370,395,419,419,473,478,486,500,517,522,522,528,618,654,744,749,760,825,928,964,2821],\"xaxis\":\"x\",\"y\":[3238.9846553641337,3238.9846553641337,3238.9846553641337,3238.9846553641337,3238.9846553641337,3238.9846553641337,3238.9846553641337,3238.9846553641337,3238.9846553641337,3238.9846553641337,3238.9846553641337,3238.9846553641337,3238.9846553641337,3238.9846553641337,3238.9846553641337,3238.9846553641337,3238.9846553641337,3238.9846553641337,3283.8313194096704,3283.8313194096704,3283.8313194096704,3283.8313194096704,3306.254651432439,3306.254651432439,3306.254651432439,3306.254651432439,3306.254651432439,3306.254651432439,3306.254651432439,3328.6779834552076,3328.6779834552076,3328.6779834552076,3328.6779834552076,3328.6779834552076,3351.101315477976,3351.101315477976,3351.101315477976,3351.101315477976,3351.101315477976,3351.101315477976,3373.5246475007443,3373.5246475007443,3373.5246475007443,3373.5246475007443,3373.5246475007443,3373.5246475007443,3373.5246475007443,3373.5246475007443,3373.5246475007443,3373.5246475007443,3395.947979523513,3395.947979523513,3395.947979523513,3395.947979523513,3395.947979523513,3395.947979523513,3395.947979523513,3395.947979523513,3418.3713115462815,3418.3713115462815,3418.3713115462815,3418.3713115462815,3418.3713115462815,3418.3713115462815,3418.3713115462815,3440.79464356905,3440.79464356905,3440.79464356905,3440.79464356905,3440.79464356905,3440.79464356905,3440.79464356905,3440.79464356905,3440.79464356905,3463.2179755918182,3463.2179755918182,3463.2179755918182,3463.2179755918182,3463.2179755918182,3463.2179755918182,3463.2179755918182,3463.2179755918182,3463.2179755918182,3485.641307614587,3485.641307614587,3485.641307614587,3485.641307614587,3485.641307614587,3485.641307614587,3485.641307614587,3485.641307614587,3485.641307614587,3485.641307614587,3485.641307614587,3485.641307614587,3485.641307614587,3485.641307614587,3508.0646396373554,3508.0646396373554,3508.0646396373554,3508.0646396373554,3508.0646396373554,3508.0646396373554,3508.0646396373554,3508.0646396373554,3508.0646396373554,3508.0646396373554,3508.0646396373554,3508.0646396373554,3508.0646396373554,3508.0646396373554,3530.4879716601235,3530.4879716601235,3530.4879716601235,3530.4879716601235,3530.4879716601235,3530.4879716601235,3530.4879716601235,3530.4879716601235,3530.4879716601235,3530.4879716601235,3530.4879716601235,3530.4879716601235,3530.4879716601235,3530.4879716601235,3530.4879716601235,3530.4879716601235,3530.4879716601235,3530.4879716601235,3530.4879716601235,3552.911303682892,3552.911303682892,3552.911303682892,3552.911303682892,3552.911303682892,3552.911303682892,3552.911303682892,3552.911303682892,3552.911303682892,3552.911303682892,3552.911303682892,3575.3346357056607,3575.3346357056607,3575.3346357056607,3575.3346357056607,3575.3346357056607,3575.3346357056607,3575.3346357056607,3575.3346357056607,3575.3346357056607,3575.3346357056607,3575.3346357056607,3575.3346357056607,3575.3346357056607,3575.3346357056607,3575.3346357056607,3575.3346357056607,3575.3346357056607,3575.3346357056607,3575.3346357056607,3575.3346357056607,3597.7579677284293,3597.7579677284293,3597.7579677284293,3597.7579677284293,3597.7579677284293,3597.7579677284293,3597.7579677284293,3597.7579677284293,3597.7579677284293,3597.7579677284293,3597.7579677284293,3597.7579677284293,3597.7579677284293,3597.7579677284293,3597.7579677284293,3620.181299751198,3620.181299751198,3620.181299751198,3620.181299751198,3620.181299751198,3620.181299751198,3620.181299751198,3620.181299751198,3620.181299751198,3620.181299751198,3620.181299751198,3620.181299751198,3620.181299751198,3620.181299751198,3620.181299751198,3620.181299751198,3620.181299751198,3620.181299751198,3620.181299751198,3620.181299751198,3620.181299751198,3642.604631773966,3642.604631773966,3642.604631773966,3642.604631773966,3642.604631773966,3642.604631773966,3642.604631773966,3642.604631773966,3642.604631773966,3642.604631773966,3642.604631773966,3642.604631773966,3642.604631773966,3642.604631773966,3665.0279637967346,3665.0279637967346,3665.0279637967346,3665.0279637967346,3665.0279637967346,3665.0279637967346,3665.0279637967346,3665.0279637967346,3665.0279637967346,3665.0279637967346,3665.0279637967346,3665.0279637967346,3665.0279637967346,3665.0279637967346,3665.0279637967346,3665.0279637967346,3665.0279637967346,3687.4512958195032,3687.4512958195032,3687.4512958195032,3687.4512958195032,3687.4512958195032,3687.4512958195032,3687.4512958195032,3687.4512958195032,3687.4512958195032,3687.4512958195032,3687.4512958195032,3687.4512958195032,3687.4512958195032,3687.4512958195032,3687.4512958195032,3687.4512958195032,3687.4512958195032,3687.4512958195032,3687.4512958195032,3687.4512958195032,3687.4512958195032,3687.4512958195032,3709.8746278422714,3709.8746278422714,3709.8746278422714,3709.8746278422714,3709.8746278422714,3709.8746278422714,3709.8746278422714,3709.8746278422714,3709.8746278422714,3709.8746278422714,3709.8746278422714,3709.8746278422714,3709.8746278422714,3709.8746278422714,3709.8746278422714,3709.8746278422714,3732.29795986504,3732.29795986504,3732.29795986504,3732.29795986504,3732.29795986504,3732.29795986504,3732.29795986504,3732.29795986504,3732.29795986504,3732.29795986504,3732.29795986504,3732.29795986504,3732.29795986504,3732.29795986504,3754.7212918878085,3754.7212918878085,3754.7212918878085,3754.7212918878085,3754.7212918878085,3754.7212918878085,3754.7212918878085,3754.7212918878085,3754.7212918878085,3754.7212918878085,3754.7212918878085,3754.7212918878085,3754.7212918878085,3754.7212918878085,3754.7212918878085,3754.7212918878085,3754.7212918878085,3754.7212918878085,3754.7212918878085,3754.7212918878085,3777.144623910577,3777.144623910577,3777.144623910577,3777.144623910577,3777.144623910577,3777.144623910577,3777.144623910577,3777.144623910577,3777.144623910577,3777.144623910577,3777.144623910577,3777.144623910577,3799.5679559333453,3799.5679559333453,3799.5679559333453,3799.5679559333453,3799.5679559333453,3799.5679559333453,3799.5679559333453,3799.5679559333453,3799.5679559333453,3799.5679559333453,3799.5679559333453,3821.991287956114,3821.991287956114,3821.991287956114,3821.991287956114,3821.991287956114,3821.991287956114,3821.991287956114,3821.991287956114,3821.991287956114,3821.991287956114,3821.991287956114,3821.991287956114,3821.991287956114,3821.991287956114,3844.4146199788825,3844.4146199788825,3844.4146199788825,3844.4146199788825,3844.4146199788825,3844.4146199788825,3844.4146199788825,3844.4146199788825,3844.4146199788825,3844.4146199788825,3844.4146199788825,3866.8379520016506,3866.8379520016506,3866.8379520016506,3866.8379520016506,3866.8379520016506,3866.8379520016506,3866.8379520016506,3866.8379520016506,3866.8379520016506,3866.8379520016506,3889.261284024419,3889.261284024419,3889.261284024419,3889.261284024419,3889.261284024419,3889.261284024419,3889.261284024419,3889.261284024419,3889.261284024419,3889.261284024419,3889.261284024419,3889.261284024419,3889.261284024419,3889.261284024419,3889.261284024419,3911.684616047188,3911.684616047188,3911.684616047188,3911.684616047188,3911.684616047188,3911.684616047188,3911.684616047188,3911.684616047188,3911.684616047188,3911.684616047188,3911.684616047188,3934.1079480699564,3934.1079480699564,3934.1079480699564,3934.1079480699564,3934.1079480699564,3934.1079480699564,3934.1079480699564,3934.1079480699564,3934.1079480699564,3934.1079480699564,3934.1079480699564,3934.1079480699564,3934.1079480699564,3934.1079480699564,3934.1079480699564,3934.1079480699564,3956.531280092725,3956.531280092725,3956.531280092725,3956.531280092725,3956.531280092725,3956.531280092725,3956.531280092725,3956.531280092725,3956.531280092725,3978.954612115493,3978.954612115493,3978.954612115493,3978.954612115493,3978.954612115493,3978.954612115493,3978.954612115493,3978.954612115493,3978.954612115493,3978.954612115493,3978.954612115493,3978.954612115493,3978.954612115493,4001.3779441382617,4001.3779441382617,4001.3779441382617,4001.3779441382617,4001.3779441382617,4001.3779441382617,4001.3779441382617,4001.3779441382617,4001.3779441382617,4001.3779441382617,4023.8012761610303,4023.8012761610303,4023.8012761610303,4023.8012761610303,4023.8012761610303,4023.8012761610303,4023.8012761610303,4023.8012761610303,4023.8012761610303,4023.8012761610303,4046.2246081837984,4046.2246081837984,4046.2246081837984,4046.2246081837984,4046.2246081837984,4046.2246081837984,4046.2246081837984,4046.2246081837984,4046.2246081837984,4046.2246081837984,4046.2246081837984,4068.647940206567,4068.647940206567,4068.647940206567,4068.647940206567,4068.647940206567,4091.0712722293356,4091.0712722293356,4091.0712722293356,4091.0712722293356,4091.0712722293356,4091.0712722293356,4091.0712722293356,4091.0712722293356,4091.0712722293356,4091.0712722293356,4113.494604252104,4113.494604252104,4113.494604252104,4113.494604252104,4135.917936274873,4135.917936274873,4135.917936274873,4135.917936274873,4135.917936274873,4135.917936274873,4135.917936274873,4135.917936274873,4135.917936274873,4158.341268297641,4158.341268297641,4158.341268297641,4158.341268297641,4158.341268297641,4158.341268297641,4158.341268297641,4180.764600320409,4180.764600320409,4180.764600320409,4180.764600320409,4180.764600320409,4180.764600320409,4180.764600320409,4180.764600320409,4180.764600320409,4180.764600320409,4180.764600320409,4203.187932343178,4203.187932343178,4203.187932343178,4203.187932343178,4203.187932343178,4225.611264365946,4225.611264365946,4225.611264365946,4225.611264365946,4225.611264365946,4225.611264365946,4225.611264365946,4225.611264365946,4225.611264365946,4248.034596388715,4248.034596388715,4248.034596388715,4248.034596388715,4270.457928411483,4270.457928411483,4270.457928411483,4292.881260434252,4292.881260434252,4292.881260434252,4292.881260434252,4292.881260434252,4315.30459245702,4315.30459245702,4337.727924479788,4337.727924479788,4337.727924479788,4337.727924479788,4337.727924479788,4337.727924479788,4360.151256502557,4360.151256502557,4382.574588525325,4382.574588525325,4382.574588525325,4382.574588525325,4382.574588525325,4404.997920548094,4404.997920548094,4404.997920548094,4404.997920548094,4404.997920548094,4404.997920548094,4427.421252570863,4427.421252570863,4427.421252570863,4427.421252570863,4449.844584593631,4449.844584593631,4449.844584593631,4449.844584593631,4449.844584593631,4449.844584593631,4449.844584593631,4472.2679166164,4472.2679166164,4472.2679166164,4472.2679166164,4472.2679166164,4472.2679166164,4494.691248639168,4494.691248639168,4494.691248639168,4494.691248639168,4539.537912684705,4539.537912684705,4561.961244707473,4561.961244707473,4561.961244707473,4584.384576730242,4584.384576730242,4584.384576730242,4606.80790875301,4606.80790875301,4629.231240775779,4629.231240775779,4629.231240775779,4629.231240775779,4629.231240775779,4651.654572798548,4651.654572798548,4674.077904821315,4674.077904821315,4674.077904821315,4674.077904821315,4674.077904821315,4696.501236844084,4696.501236844084,4696.501236844084,4696.501236844084,4718.9245688668525,4718.9245688668525,4718.9245688668525,4718.9245688668525,4741.347900889621,4741.347900889621,4741.347900889621,4741.347900889621,4763.77123291239,4763.77123291239,4763.77123291239,4786.194564935158,4808.617896957927,4808.617896957927,4808.617896957927,4808.617896957927,4808.617896957927,4831.041228980695,4831.041228980695,4831.041228980695,4831.041228980695,4853.464561003464,4875.887893026232,4875.887893026232,4898.311225049,4898.311225049,4898.311225049,4898.311225049,4943.1578890945375,4943.1578890945375,4943.1578890945375,4943.1578890945375,4965.581221117306,4965.581221117306,4988.004553140075,4988.004553140075,4988.004553140075,4988.004553140075,4988.004553140075,5010.427885162842,5010.427885162842,5010.427885162842,5032.851217185611,5032.851217185611,5032.851217185611,5032.851217185611,5032.851217185611,5032.851217185611,5055.2745492083795,5055.2745492083795,5055.2745492083795,5055.2745492083795,5077.697881231148,5100.121213253917,5100.121213253917,5100.121213253917,5122.544545276685,5122.544545276685,5122.544545276685,5122.544545276685,5144.967877299454,5144.967877299454,5167.3912093222225,5167.3912093222225,5167.3912093222225,5189.814541344991,5189.814541344991,5189.814541344991,5212.237873367759,5212.237873367759,5212.237873367759,5212.237873367759,5234.661205390527,5234.661205390527,5257.084537413296,5279.5078694360645,5279.5078694360645,5279.5078694360645,5301.931201458833,5301.931201458833,5324.354533481601,5324.354533481601,5324.354533481601,5324.354533481601,5369.201197527138,5369.201197527138,5414.047861572675,5436.471193595444,5436.471193595444,5458.894525618212,5458.894525618212,5481.317857640981,5481.317857640981,5481.317857640981,5503.7411896637495,5526.164521686518,5526.164521686518,5526.164521686518,5526.164521686518,5526.164521686518,5548.587853709287,5571.011185732054,5571.011185732054,5571.011185732054,5615.857849777592,5615.857849777592,5615.857849777592,5615.857849777592,5638.28118180036,5638.28118180036,5638.28118180036,5660.704513823128,5660.704513823128,5660.704513823128,5683.127845845896,5683.127845845896,5683.127845845896,5727.974509891434,5750.397841914202,5772.821173936971,5772.821173936971,5772.821173936971,5795.244505959739,5795.244505959739,5817.667837982508,5817.667837982508,5840.091170005277,5862.514502028045,5884.937834050814,5884.937834050814,5884.937834050814,5884.937834050814,5884.937834050814,5929.78449809635,5952.207830119119,5997.054494164655,5997.054494164655,6019.4778261874235,6041.901158210192,6086.747822255729,6109.171154278498,6109.171154278498,6154.017818324035,6176.441150346804,6221.287814392341,6243.7111464151085,6243.7111464151085,6243.7111464151085,6288.557810460646,6288.557810460646,6355.8278065289505,6378.251138551719,6467.9444666427935,6467.9444666427935,6535.214462711099,6557.637794733868,6624.907790802173,6624.907790802173,6624.907790802173,6647.331122824941,6669.754454847709,6692.177786870478,6692.177786870478,6692.177786870478,6737.024450916015,6759.447782938783,6804.2944469843205,6849.141111029858,6916.411107098163,7028.527767212005,7028.527767212005,7050.951099234773,7118.221095303079,7118.221095303079,7118.221095303079,7140.644427325848,7163.067759348616,7185.491091371385,7387.3010795763,7409.724411599069,7544.2644037356795,7633.957731826754,7633.957731826754,7813.344388008902,7813.344388008902,7813.344388008902,7992.7310441910495,8037.577708236587,8060.001040259354,8060.001040259354,8149.694368350429,8441.197684646419,8575.737676783028,8598.161008805797,8732.701000942408,8822.394329033483,8889.664325101789,8912.087657124557,8912.087657124557,9046.627649261169,9158.74430937501,9203.590973420547,9450.247625671,9562.364285784843,9584.787617807611,9696.904277921454,9786.597606012527,9831.444270058064,10010.83092624021,10167.794250399591,10235.064246467897,10324.757574558971,10436.874234672812,10526.567562763887,10638.684222877728,10773.22421501434,10840.494211082645,11266.537519515245,11311.384183560782,11535.617503788468,12096.200804357679,12634.360772904121,12634.360772904121,13845.220702133622,13957.337362247461,14136.72401842961,14450.65066674837,14831.847311135432,14943.963971249275,14943.963971249275,15078.503963385887,17096.60384543505,17903.843798254715,19921.943680303873,20034.060340417716,20280.71699266817,21738.233574148122,24047.836772493272,24855.076725312938,66495.204291594],\"yaxis\":\"y\",\"type\":\"scatter\"}],                        {\"template\":{\"data\":{\"histogram2dcontour\":[{\"type\":\"histogram2dcontour\",\"colorbar\":{\"outlinewidth\":0,\"ticks\":\"\"},\"colorscale\":[[0.0,\"#0d0887\"],[0.1111111111111111,\"#46039f\"],[0.2222222222222222,\"#7201a8\"],[0.3333333333333333,\"#9c179e\"],[0.4444444444444444,\"#bd3786\"],[0.5555555555555556,\"#d8576b\"],[0.6666666666666666,\"#ed7953\"],[0.7777777777777778,\"#fb9f3a\"],[0.8888888888888888,\"#fdca26\"],[1.0,\"#f0f921\"]]}],\"choropleth\":[{\"type\":\"choropleth\",\"colorbar\":{\"outlinewidth\":0,\"ticks\":\"\"}}],\"histogram2d\":[{\"type\":\"histogram2d\",\"colorbar\":{\"outlinewidth\":0,\"ticks\":\"\"},\"colorscale\":[[0.0,\"#0d0887\"],[0.1111111111111111,\"#46039f\"],[0.2222222222222222,\"#7201a8\"],[0.3333333333333333,\"#9c179e\"],[0.4444444444444444,\"#bd3786\"],[0.5555555555555556,\"#d8576b\"],[0.6666666666666666,\"#ed7953\"],[0.7777777777777778,\"#fb9f3a\"],[0.8888888888888888,\"#fdca26\"],[1.0,\"#f0f921\"]]}],\"heatmap\":[{\"type\":\"heatmap\",\"colorbar\":{\"outlinewidth\":0,\"ticks\":\"\"},\"colorscale\":[[0.0,\"#0d0887\"],[0.1111111111111111,\"#46039f\"],[0.2222222222222222,\"#7201a8\"],[0.3333333333333333,\"#9c179e\"],[0.4444444444444444,\"#bd3786\"],[0.5555555555555556,\"#d8576b\"],[0.6666666666666666,\"#ed7953\"],[0.7777777777777778,\"#fb9f3a\"],[0.8888888888888888,\"#fdca26\"],[1.0,\"#f0f921\"]]}],\"heatmapgl\":[{\"type\":\"heatmapgl\",\"colorbar\":{\"outlinewidth\":0,\"ticks\":\"\"},\"colorscale\":[[0.0,\"#0d0887\"],[0.1111111111111111,\"#46039f\"],[0.2222222222222222,\"#7201a8\"],[0.3333333333333333,\"#9c179e\"],[0.4444444444444444,\"#bd3786\"],[0.5555555555555556,\"#d8576b\"],[0.6666666666666666,\"#ed7953\"],[0.7777777777777778,\"#fb9f3a\"],[0.8888888888888888,\"#fdca26\"],[1.0,\"#f0f921\"]]}],\"contourcarpet\":[{\"type\":\"contourcarpet\",\"colorbar\":{\"outlinewidth\":0,\"ticks\":\"\"}}],\"contour\":[{\"type\":\"contour\",\"colorbar\":{\"outlinewidth\":0,\"ticks\":\"\"},\"colorscale\":[[0.0,\"#0d0887\"],[0.1111111111111111,\"#46039f\"],[0.2222222222222222,\"#7201a8\"],[0.3333333333333333,\"#9c179e\"],[0.4444444444444444,\"#bd3786\"],[0.5555555555555556,\"#d8576b\"],[0.6666666666666666,\"#ed7953\"],[0.7777777777777778,\"#fb9f3a\"],[0.8888888888888888,\"#fdca26\"],[1.0,\"#f0f921\"]]}],\"surface\":[{\"type\":\"surface\",\"colorbar\":{\"outlinewidth\":0,\"ticks\":\"\"},\"colorscale\":[[0.0,\"#0d0887\"],[0.1111111111111111,\"#46039f\"],[0.2222222222222222,\"#7201a8\"],[0.3333333333333333,\"#9c179e\"],[0.4444444444444444,\"#bd3786\"],[0.5555555555555556,\"#d8576b\"],[0.6666666666666666,\"#ed7953\"],[0.7777777777777778,\"#fb9f3a\"],[0.8888888888888888,\"#fdca26\"],[1.0,\"#f0f921\"]]}],\"mesh3d\":[{\"type\":\"mesh3d\",\"colorbar\":{\"outlinewidth\":0,\"ticks\":\"\"}}],\"scatter\":[{\"fillpattern\":{\"fillmode\":\"overlay\",\"size\":10,\"solidity\":0.2},\"type\":\"scatter\"}],\"parcoords\":[{\"type\":\"parcoords\",\"line\":{\"colorbar\":{\"outlinewidth\":0,\"ticks\":\"\"}}}],\"scatterpolargl\":[{\"type\":\"scatterpolargl\",\"marker\":{\"colorbar\":{\"outlinewidth\":0,\"ticks\":\"\"}}}],\"bar\":[{\"error_x\":{\"color\":\"#2a3f5f\"},\"error_y\":{\"color\":\"#2a3f5f\"},\"marker\":{\"line\":{\"color\":\"#E5ECF6\",\"width\":0.5},\"pattern\":{\"fillmode\":\"overlay\",\"size\":10,\"solidity\":0.2}},\"type\":\"bar\"}],\"scattergeo\":[{\"type\":\"scattergeo\",\"marker\":{\"colorbar\":{\"outlinewidth\":0,\"ticks\":\"\"}}}],\"scatterpolar\":[{\"type\":\"scatterpolar\",\"marker\":{\"colorbar\":{\"outlinewidth\":0,\"ticks\":\"\"}}}],\"histogram\":[{\"marker\":{\"pattern\":{\"fillmode\":\"overlay\",\"size\":10,\"solidity\":0.2}},\"type\":\"histogram\"}],\"scattergl\":[{\"type\":\"scattergl\",\"marker\":{\"colorbar\":{\"outlinewidth\":0,\"ticks\":\"\"}}}],\"scatter3d\":[{\"type\":\"scatter3d\",\"line\":{\"colorbar\":{\"outlinewidth\":0,\"ticks\":\"\"}},\"marker\":{\"colorbar\":{\"outlinewidth\":0,\"ticks\":\"\"}}}],\"scattermapbox\":[{\"type\":\"scattermapbox\",\"marker\":{\"colorbar\":{\"outlinewidth\":0,\"ticks\":\"\"}}}],\"scatterternary\":[{\"type\":\"scatterternary\",\"marker\":{\"colorbar\":{\"outlinewidth\":0,\"ticks\":\"\"}}}],\"scattercarpet\":[{\"type\":\"scattercarpet\",\"marker\":{\"colorbar\":{\"outlinewidth\":0,\"ticks\":\"\"}}}],\"carpet\":[{\"aaxis\":{\"endlinecolor\":\"#2a3f5f\",\"gridcolor\":\"white\",\"linecolor\":\"white\",\"minorgridcolor\":\"white\",\"startlinecolor\":\"#2a3f5f\"},\"baxis\":{\"endlinecolor\":\"#2a3f5f\",\"gridcolor\":\"white\",\"linecolor\":\"white\",\"minorgridcolor\":\"white\",\"startlinecolor\":\"#2a3f5f\"},\"type\":\"carpet\"}],\"table\":[{\"cells\":{\"fill\":{\"color\":\"#EBF0F8\"},\"line\":{\"color\":\"white\"}},\"header\":{\"fill\":{\"color\":\"#C8D4E3\"},\"line\":{\"color\":\"white\"}},\"type\":\"table\"}],\"barpolar\":[{\"marker\":{\"line\":{\"color\":\"#E5ECF6\",\"width\":0.5},\"pattern\":{\"fillmode\":\"overlay\",\"size\":10,\"solidity\":0.2}},\"type\":\"barpolar\"}],\"pie\":[{\"automargin\":true,\"type\":\"pie\"}]},\"layout\":{\"autotypenumbers\":\"strict\",\"colorway\":[\"#636efa\",\"#EF553B\",\"#00cc96\",\"#ab63fa\",\"#FFA15A\",\"#19d3f3\",\"#FF6692\",\"#B6E880\",\"#FF97FF\",\"#FECB52\"],\"font\":{\"color\":\"#2a3f5f\"},\"hovermode\":\"closest\",\"hoverlabel\":{\"align\":\"left\"},\"paper_bgcolor\":\"white\",\"plot_bgcolor\":\"#E5ECF6\",\"polar\":{\"bgcolor\":\"#E5ECF6\",\"angularaxis\":{\"gridcolor\":\"white\",\"linecolor\":\"white\",\"ticks\":\"\"},\"radialaxis\":{\"gridcolor\":\"white\",\"linecolor\":\"white\",\"ticks\":\"\"}},\"ternary\":{\"bgcolor\":\"#E5ECF6\",\"aaxis\":{\"gridcolor\":\"white\",\"linecolor\":\"white\",\"ticks\":\"\"},\"baxis\":{\"gridcolor\":\"white\",\"linecolor\":\"white\",\"ticks\":\"\"},\"caxis\":{\"gridcolor\":\"white\",\"linecolor\":\"white\",\"ticks\":\"\"}},\"coloraxis\":{\"colorbar\":{\"outlinewidth\":0,\"ticks\":\"\"}},\"colorscale\":{\"sequential\":[[0.0,\"#0d0887\"],[0.1111111111111111,\"#46039f\"],[0.2222222222222222,\"#7201a8\"],[0.3333333333333333,\"#9c179e\"],[0.4444444444444444,\"#bd3786\"],[0.5555555555555556,\"#d8576b\"],[0.6666666666666666,\"#ed7953\"],[0.7777777777777778,\"#fb9f3a\"],[0.8888888888888888,\"#fdca26\"],[1.0,\"#f0f921\"]],\"sequentialminus\":[[0.0,\"#0d0887\"],[0.1111111111111111,\"#46039f\"],[0.2222222222222222,\"#7201a8\"],[0.3333333333333333,\"#9c179e\"],[0.4444444444444444,\"#bd3786\"],[0.5555555555555556,\"#d8576b\"],[0.6666666666666666,\"#ed7953\"],[0.7777777777777778,\"#fb9f3a\"],[0.8888888888888888,\"#fdca26\"],[1.0,\"#f0f921\"]],\"diverging\":[[0,\"#8e0152\"],[0.1,\"#c51b7d\"],[0.2,\"#de77ae\"],[0.3,\"#f1b6da\"],[0.4,\"#fde0ef\"],[0.5,\"#f7f7f7\"],[0.6,\"#e6f5d0\"],[0.7,\"#b8e186\"],[0.8,\"#7fbc41\"],[0.9,\"#4d9221\"],[1,\"#276419\"]]},\"xaxis\":{\"gridcolor\":\"white\",\"linecolor\":\"white\",\"ticks\":\"\",\"title\":{\"standoff\":15},\"zerolinecolor\":\"white\",\"automargin\":true,\"zerolinewidth\":2},\"yaxis\":{\"gridcolor\":\"white\",\"linecolor\":\"white\",\"ticks\":\"\",\"title\":{\"standoff\":15},\"zerolinecolor\":\"white\",\"automargin\":true,\"zerolinewidth\":2},\"scene\":{\"xaxis\":{\"backgroundcolor\":\"#E5ECF6\",\"gridcolor\":\"white\",\"linecolor\":\"white\",\"showbackground\":true,\"ticks\":\"\",\"zerolinecolor\":\"white\",\"gridwidth\":2},\"yaxis\":{\"backgroundcolor\":\"#E5ECF6\",\"gridcolor\":\"white\",\"linecolor\":\"white\",\"showbackground\":true,\"ticks\":\"\",\"zerolinecolor\":\"white\",\"gridwidth\":2},\"zaxis\":{\"backgroundcolor\":\"#E5ECF6\",\"gridcolor\":\"white\",\"linecolor\":\"white\",\"showbackground\":true,\"ticks\":\"\",\"zerolinecolor\":\"white\",\"gridwidth\":2}},\"shapedefaults\":{\"line\":{\"color\":\"#2a3f5f\"}},\"annotationdefaults\":{\"arrowcolor\":\"#2a3f5f\",\"arrowhead\":0,\"arrowwidth\":1},\"geo\":{\"bgcolor\":\"white\",\"landcolor\":\"#E5ECF6\",\"subunitcolor\":\"white\",\"showland\":true,\"showlakes\":true,\"lakecolor\":\"white\"},\"title\":{\"x\":0.05},\"mapbox\":{\"style\":\"light\"}}},\"xaxis\":{\"anchor\":\"y\",\"domain\":[0.0,1.0],\"title\":{\"text\":\"bookmarks\"}},\"yaxis\":{\"anchor\":\"x\",\"domain\":[0.0,1.0],\"title\":{\"text\":\"likes\"}},\"legend\":{\"tracegroupgap\":0,\"itemsizing\":\"constant\"},\"title\":{\"text\":\"Relationship Between likes and bookmarks\"}},                        {\"responsive\": true}                    ).then(function(){\n",
              "                            \n",
              "var gd = document.getElementById('436785bc-da50-4e0f-be1d-0b98fa029d88');\n",
              "var x = new MutationObserver(function (mutations, observer) {{\n",
              "        var display = window.getComputedStyle(gd).display;\n",
              "        if (!display || display === 'none') {{\n",
              "            console.log([gd, 'removed!']);\n",
              "            Plotly.purge(gd);\n",
              "            observer.disconnect();\n",
              "        }}\n",
              "}});\n",
              "\n",
              "// Listen for the removal of the full notebook cells\n",
              "var notebookContainer = gd.closest('#notebook-container');\n",
              "if (notebookContainer) {{\n",
              "    x.observe(notebookContainer, {childList: true});\n",
              "}}\n",
              "\n",
              "// Listen for the clearing of the current output cell\n",
              "var outputEl = gd.closest('.output');\n",
              "if (outputEl) {{\n",
              "    x.observe(outputEl, {childList: true});\n",
              "}}\n",
              "\n",
              "                        })                };                            </script>        </div>\n",
              "</body>\n",
              "</html>"
            ]
          },
          "metadata": {}
        }
      ]
    },
    {
      "cell_type": "code",
      "source": [
        "figure = px.scatter(data_frame = df, x=\"bookmarks\",\n",
        "                    y=\"replies\", size=\"replies\", trendline=\"ols\",\n",
        "                    title = \"Relationship Between replies and bookmarks\")\n",
        "figure.show()"
      ],
      "metadata": {
        "colab": {
          "base_uri": "https://localhost:8080/"
        },
        "id": "Zqeo_zAzbAgr",
        "outputId": "97ebd924-a729-478e-d593-f3d3fc10997b"
      },
      "execution_count": null,
      "outputs": [
        {
          "output_type": "display_data",
          "data": {
            "text/html": [
              "<html>\n",
              "<head><meta charset=\"utf-8\" /></head>\n",
              "<body>\n",
              "    <div>            <script src=\"https://cdnjs.cloudflare.com/ajax/libs/mathjax/2.7.5/MathJax.js?config=TeX-AMS-MML_SVG\"></script><script type=\"text/javascript\">if (window.MathJax && window.MathJax.Hub && window.MathJax.Hub.Config) {window.MathJax.Hub.Config({SVG: {font: \"STIX-Web\"}});}</script>                <script type=\"text/javascript\">window.PlotlyConfig = {MathJaxConfig: 'local'};</script>\n",
              "        <script charset=\"utf-8\" src=\"https://cdn.plot.ly/plotly-2.24.1.min.js\"></script>                <div id=\"963a008c-e000-4e4d-94a9-8d7a30d3f4d1\" class=\"plotly-graph-div\" style=\"height:525px; width:100%;\"></div>            <script type=\"text/javascript\">                                    window.PLOTLYENV=window.PLOTLYENV || {};                                    if (document.getElementById(\"963a008c-e000-4e4d-94a9-8d7a30d3f4d1\")) {                    Plotly.newPlot(                        \"963a008c-e000-4e4d-94a9-8d7a30d3f4d1\",                        [{\"hovertemplate\":\"bookmarks=%{x}\\u003cbr\\u003ereplies=%{marker.size}\\u003cextra\\u003e\\u003c\\u002fextra\\u003e\",\"legendgroup\":\"\",\"marker\":{\"color\":\"#636efa\",\"size\":[174,123,286,234,280,440,238,69,158,442,143,866,168,490,191,53,65,149,69,79,51,81,303,100,724,125,21,12,56,153,159,179,294,3447,420,128,472,143,492,304,190,472,315,150,103,128,292,110,257,107,108,145,96,176,235,163,236,133,131,255,129,307,133,121,115,254,115,66,78,274,144,111,51,122,75,82,234,127,222,199,185,105,119,148,86,187,118,198,247,414,144,97,111,114,194,112,268,112,180,174,160,200,268,99,262,32,37,153,208,22,10,5,2,2,9,6,2,4,3,6,5,3,4,304,171,156,245,218,145,206,162,141,124,119,192,119,258,139,234,294,232,141,127,162,178,228,467,555,234,470,110,177,137,76,127,107,36,1490,9,10,193,91,11,9,36,49,60,97,420,103,59,92,148,0,232,96,170,110,200,155,150,211,146,142,5414,73,123,118,248,100,565,131,129,91,170,193,356,52,37,61,111,196,438,113,276,302,113,138,142,238,231,156,189,182,278,21,181,455,155,256,262,188,196,204,243,139,176,72,853,204,256,129,135,537,246,109,247,84,195,218,508,467,205,155,87,198,47,134,195,152,265,324,158,106,205,81,56,19,113,317,203,97,84,260,104,147,237,186,92,106,144,91,215,172,132,188,78,138,138,272,529,246,169,176,112,397,161,159,125,282,341,182,190,113,147,257,137,158,129,232,140,259,579,195,380,118,187,142,392,83,187,634,142,270,124,56,118,330,172,184,31,157,110,122,112,110,234,138,332,187,164,227,124,166,132,201,373,357,255,262,227,179,170,112,158,235,158,185,201,253,1185,907,662,310,44,241,143,171,270,143,130,603,174,65,339,395,465,205,208,389,195,240,338,391,150,360,187,193,345,80,185,254,95,81,345,254,106,197,217,218,64,254,37,216,158,206,91,245,338,208,146,197,477,186,182,82,204,160,232,419,98,196,122,535,266,243,248,326,66,174,243,507,141,628,161,50,68,42,553,445,322,197,475,82,70,347,284,36,235,461,181,153,202,257,91,2183,220,77,248,276,285,123,164,119,124,203,154,200,218,235,155,205,96,51,129,272,139,162,419,2154,178,112,475,196,236,72,121,570,192,43,196,138,49,157,155,198,165,189,159,159,132,183,220,173,64,156,32,68,86,114,76,189,126,161,43,115,72,144,106,165,360,90,833,121,152,111,124,191,46,71,223,85,113,803,25,814,30,73,81,73,23,166,77,77,129,81,70,127,124,69,16,287,127,291,171,162,211,193,65,83,96,143,721,114,86,122,194,123,97,85,101,97,81,71,126,598,122,311,181,144,165,176,212,286,93,189,96,1492,447,117,127,92,154,223,164,253,258,103,247,46,72,153,119,128,335,288,103,73,40,103,49,253,82,0,97,105,314,92,137,157,99,84,7,448,40,88,38,87,162,376,110,73,72,290,265,150,84,122,198,196,53,167,75,98,0,0,142,182,141,91,218,116,33,547,663,143,197,330,609,231,135,59,0,57,56,244,229,65,32,70,17,50,99,173,88,24,80,222,61,427,32,17,55,93,233,92,191,265,233,201,186,169,62,75,86,119,153,151,51,270,16,83,68,148,91,88,128,0,265,1080,64,58,310,138,180,120,171,101,88,79,87,192,0,0,116,45,19,104,149,179,195,39,0,167,620,53,60,173,67,57,111,109,317,420,232,142,189,294,90,111,79,125,70,110,94,94,28,63,66,141,114,71,521,115,88,310,265,127,166,993,72,119,61,150,174,37,156,103,137,62,151,99,715,134,63,115,226,180,305,71,131,165,370,128,290,321,487,342,179,115,470,101,40,178,366,1085,153,27233,403,153,170,121,86,161,45,132,91,174,132,207,136,154,1105,45,139,246,238,325,112,401,83,416,73,77,119,106,125,137,224,153,89,370,218],\"sizemode\":\"area\",\"sizeref\":68.0825,\"symbol\":\"circle\"},\"mode\":\"markers\",\"name\":\"\",\"orientation\":\"v\",\"showlegend\":false,\"x\":[33,66,71,113,93,121,88,12,98,214,43,36,51,108,56,8,35,73,23,114,89,31,84,23,39,29,3,3,17,38,32,16,37,144,292,18,419,42,360,67,52,419,76,39,73,33,89,16,52,27,47,19,14,95,104,109,294,97,46,90,13,169,26,19,33,106,18,54,36,74,31,22,8,102,17,28,215,36,43,37,30,28,87,40,42,43,17,106,63,86,17,14,23,14,62,11,253,11,83,47,28,55,253,40,43,0,5,70,51,5,0,0,0,0,0,0,0,0,2,2,0,0,0,54,92,23,128,117,34,29,20,21,41,31,23,47,44,36,238,79,27,80,63,51,185,20,204,118,36,88,22,31,27,22,32,45,7,473,6,7,36,17,4,2,31,4,12,15,204,116,17,37,29,99,44,20,82,88,31,42,50,18,175,54,98,30,41,74,161,31,522,22,31,19,30,28,148,5,0,23,80,58,173,107,23,66,107,29,93,156,83,21,26,83,136,6,17,215,34,86,49,64,18,38,113,28,54,14,176,38,32,31,11,169,111,19,15,46,76,152,478,282,33,46,12,170,10,21,32,29,92,104,302,10,55,21,12,0,23,174,81,56,11,33,15,53,102,26,25,70,16,18,964,35,15,38,10,103,35,32,395,154,18,123,59,252,79,20,11,38,266,27,24,19,74,49,151,13,9,30,29,358,232,51,325,15,39,38,173,19,34,316,38,107,29,3,24,91,65,84,0,42,13,25,11,17,16,70,486,34,23,24,16,67,15,24,144,259,44,24,37,11,16,14,17,42,25,95,32,102,825,522,336,64,0,36,32,11,64,25,29,528,53,10,173,87,93,31,13,69,53,20,151,65,20,112,20,26,66,30,13,23,6,8,65,23,11,38,40,22,11,16,5,26,17,81,3,136,109,33,33,29,321,50,40,10,71,91,67,288,4,34,11,131,38,29,42,52,9,20,60,123,22,59,48,16,14,11,100,113,78,99,370,12,13,68,151,15,114,118,54,41,22,55,13,212,34,147,88,71,125,17,81,15,25,42,22,25,79,19,27,41,20,24,23,70,14,100,25,2821,26,36,196,15,60,9,19,159,154,45,45,49,41,24,101,52,29,20,30,21,22,21,61,27,7,24,6,17,23,26,22,45,102,24,6,14,26,23,19,249,91,24,339,20,37,31,15,108,16,17,115,15,66,118,7,744,10,26,6,20,9,139,13,44,219,21,59,21,34,17,5,74,27,70,17,17,78,78,23,19,14,164,154,15,32,39,29,12,44,18,12,26,13,17,41,330,27,80,31,13,81,33,40,118,22,42,36,186,245,17,55,55,115,33,34,54,78,16,104,3,25,62,35,40,106,133,13,15,4,31,9,53,76,26,87,61,196,21,27,108,19,21,2,618,58,19,16,51,18,27,28,21,9,109,283,33,29,35,93,68,7,127,12,26,15,3,29,72,35,33,64,31,7,654,749,13,31,60,128,80,23,8,25,12,22,100,55,19,6,12,11,21,22,47,13,23,15,40,15,20,13,0,9,52,62,35,85,76,62,192,20,40,10,12,15,20,42,30,134,78,0,18,18,42,11,36,34,7,49,102,13,6,312,23,20,13,21,13,8,19,44,140,38,5,35,9,8,12,40,33,134,30,33,77,264,6,12,29,44,6,28,19,32,85,56,23,19,239,23,12,28,20,16,30,21,86,34,13,16,80,18,10,309,25,16,106,68,26,49,64,18,35,4,35,44,8,49,17,22,14,24,13,120,27,7,24,71,157,36,10,9,56,84,18,42,124,134,65,31,20,277,19,18,28,77,928,52,760,43,15,20,15,17,26,15,25,30,30,28,20,21,21,80,3,44,118,153,500,67,204,17,517,16,41,20,20,62,130,54,48,14,47,84],\"xaxis\":\"x\",\"y\":[174,123,286,234,280,440,238,69,158,442,143,866,168,490,191,53,65,149,69,79,51,81,303,100,724,125,21,12,56,153,159,179,294,3447,420,128,472,143,492,304,190,472,315,150,103,128,292,110,257,107,108,145,96,176,235,163,236,133,131,255,129,307,133,121,115,254,115,66,78,274,144,111,51,122,75,82,234,127,222,199,185,105,119,148,86,187,118,198,247,414,144,97,111,114,194,112,268,112,180,174,160,200,268,99,262,32,37,153,208,22,10,5,2,2,9,6,2,4,3,6,5,3,4,304,171,156,245,218,145,206,162,141,124,119,192,119,258,139,234,294,232,141,127,162,178,228,467,555,234,470,110,177,137,76,127,107,36,1490,9,10,193,91,11,9,36,49,60,97,420,103,59,92,148,0,232,96,170,110,200,155,150,211,146,142,5414,73,123,118,248,100,565,131,129,91,170,193,356,52,37,61,111,196,438,113,276,302,113,138,142,238,231,156,189,182,278,21,181,455,155,256,262,188,196,204,243,139,176,72,853,204,256,129,135,537,246,109,247,84,195,218,508,467,205,155,87,198,47,134,195,152,265,324,158,106,205,81,56,19,113,317,203,97,84,260,104,147,237,186,92,106,144,91,215,172,132,188,78,138,138,272,529,246,169,176,112,397,161,159,125,282,341,182,190,113,147,257,137,158,129,232,140,259,579,195,380,118,187,142,392,83,187,634,142,270,124,56,118,330,172,184,31,157,110,122,112,110,234,138,332,187,164,227,124,166,132,201,373,357,255,262,227,179,170,112,158,235,158,185,201,253,1185,907,662,310,44,241,143,171,270,143,130,603,174,65,339,395,465,205,208,389,195,240,338,391,150,360,187,193,345,80,185,254,95,81,345,254,106,197,217,218,64,254,37,216,158,206,91,245,338,208,146,197,477,186,182,82,204,160,232,419,98,196,122,535,266,243,248,326,66,174,243,507,141,628,161,50,68,42,553,445,322,197,475,82,70,347,284,36,235,461,181,153,202,257,91,2183,220,77,248,276,285,123,164,119,124,203,154,200,218,235,155,205,96,51,129,272,139,162,419,2154,178,112,475,196,236,72,121,570,192,43,196,138,49,157,155,198,165,189,159,159,132,183,220,173,64,156,32,68,86,114,76,189,126,161,43,115,72,144,106,165,360,90,833,121,152,111,124,191,46,71,223,85,113,803,25,814,30,73,81,73,23,166,77,77,129,81,70,127,124,69,16,287,127,291,171,162,211,193,65,83,96,143,721,114,86,122,194,123,97,85,101,97,81,71,126,598,122,311,181,144,165,176,212,286,93,189,96,1492,447,117,127,92,154,223,164,253,258,103,247,46,72,153,119,128,335,288,103,73,40,103,49,253,82,0,97,105,314,92,137,157,99,84,7,448,40,88,38,87,162,376,110,73,72,290,265,150,84,122,198,196,53,167,75,98,0,0,142,182,141,91,218,116,33,547,663,143,197,330,609,231,135,59,0,57,56,244,229,65,32,70,17,50,99,173,88,24,80,222,61,427,32,17,55,93,233,92,191,265,233,201,186,169,62,75,86,119,153,151,51,270,16,83,68,148,91,88,128,0,265,1080,64,58,310,138,180,120,171,101,88,79,87,192,0,0,116,45,19,104,149,179,195,39,0,167,620,53,60,173,67,57,111,109,317,420,232,142,189,294,90,111,79,125,70,110,94,94,28,63,66,141,114,71,521,115,88,310,265,127,166,993,72,119,61,150,174,37,156,103,137,62,151,99,715,134,63,115,226,180,305,71,131,165,370,128,290,321,487,342,179,115,470,101,40,178,366,1085,153,27233,403,153,170,121,86,161,45,132,91,174,132,207,136,154,1105,45,139,246,238,325,112,401,83,416,73,77,119,106,125,137,224,153,89,370,218],\"yaxis\":\"y\",\"type\":\"scatter\"},{\"hovertemplate\":\"\\u003cb\\u003eOLS trendline\\u003c\\u002fb\\u003e\\u003cbr\\u003ereplies = 1.98837 * bookmarks + 93.3754\\u003cbr\\u003eR\\u003csup\\u003e2\\u003c\\u002fsup\\u003e=0.083733\\u003cbr\\u003e\\u003cbr\\u003ebookmarks=%{x}\\u003cbr\\u003ereplies=%{y} \\u003cb\\u003e(trend)\\u003c\\u002fb\\u003e\\u003cextra\\u003e\\u003c\\u002fextra\\u003e\",\"legendgroup\":\"\",\"marker\":{\"color\":\"#636efa\",\"symbol\":\"circle\"},\"mode\":\"lines\",\"name\":\"\",\"showlegend\":false,\"x\":[0,0,0,0,0,0,0,0,0,0,0,0,0,0,0,0,0,0,2,2,2,2,3,3,3,3,3,3,3,4,4,4,4,4,5,5,5,5,5,5,6,6,6,6,6,6,6,6,6,6,7,7,7,7,7,7,7,7,8,8,8,8,8,8,8,9,9,9,9,9,9,9,9,9,10,10,10,10,10,10,10,10,10,11,11,11,11,11,11,11,11,11,11,11,11,11,11,12,12,12,12,12,12,12,12,12,12,12,12,12,12,13,13,13,13,13,13,13,13,13,13,13,13,13,13,13,13,13,13,13,14,14,14,14,14,14,14,14,14,14,14,15,15,15,15,15,15,15,15,15,15,15,15,15,15,15,15,15,15,15,15,16,16,16,16,16,16,16,16,16,16,16,16,16,16,16,17,17,17,17,17,17,17,17,17,17,17,17,17,17,17,17,17,17,17,17,17,18,18,18,18,18,18,18,18,18,18,18,18,18,18,19,19,19,19,19,19,19,19,19,19,19,19,19,19,19,19,19,20,20,20,20,20,20,20,20,20,20,20,20,20,20,20,20,20,20,20,20,20,20,21,21,21,21,21,21,21,21,21,21,21,21,21,21,21,21,22,22,22,22,22,22,22,22,22,22,22,22,22,22,23,23,23,23,23,23,23,23,23,23,23,23,23,23,23,23,23,23,23,23,24,24,24,24,24,24,24,24,24,24,24,24,25,25,25,25,25,25,25,25,25,25,25,26,26,26,26,26,26,26,26,26,26,26,26,26,26,27,27,27,27,27,27,27,27,27,27,27,28,28,28,28,28,28,28,28,28,28,29,29,29,29,29,29,29,29,29,29,29,29,29,29,29,30,30,30,30,30,30,30,30,30,30,30,31,31,31,31,31,31,31,31,31,31,31,31,31,31,31,31,32,32,32,32,32,32,32,32,32,33,33,33,33,33,33,33,33,33,33,33,33,33,34,34,34,34,34,34,34,34,34,34,35,35,35,35,35,35,35,35,35,35,36,36,36,36,36,36,36,36,36,36,36,37,37,37,37,37,38,38,38,38,38,38,38,38,38,38,39,39,39,39,40,40,40,40,40,40,40,40,40,41,41,41,41,41,41,41,42,42,42,42,42,42,42,42,42,42,42,43,43,43,43,43,44,44,44,44,44,44,44,44,44,45,45,45,45,46,46,46,47,47,47,47,47,48,48,49,49,49,49,49,49,50,50,51,51,51,51,51,52,52,52,52,52,52,53,53,53,53,54,54,54,54,54,54,54,55,55,55,55,55,55,56,56,56,56,58,58,59,59,59,60,60,60,61,61,62,62,62,62,62,63,63,64,64,64,64,64,65,65,65,65,66,66,66,66,67,67,67,67,68,68,68,69,70,70,70,70,70,71,71,71,71,72,73,73,74,74,74,74,76,76,76,76,77,77,78,78,78,78,78,79,79,79,80,80,80,80,80,80,81,81,81,81,82,83,83,83,84,84,84,84,85,85,86,86,86,87,87,87,88,88,88,88,89,89,90,91,91,91,92,92,93,93,93,93,95,95,97,98,98,99,99,100,100,100,101,102,102,102,102,102,103,104,104,104,106,106,106,106,107,107,107,108,108,108,109,109,109,111,112,113,113,113,114,114,115,115,116,117,118,118,118,118,118,120,121,123,123,124,125,127,128,128,130,131,133,134,134,134,136,136,139,140,144,144,147,148,151,151,151,152,153,154,154,154,156,157,159,161,164,169,169,170,173,173,173,174,175,176,185,186,192,196,196,204,204,204,212,214,215,215,219,232,238,239,245,249,252,253,253,259,264,266,277,282,283,288,292,294,302,309,312,316,321,325,330,336,339,358,360,370,395,419,419,473,478,486,500,517,522,522,528,618,654,744,749,760,825,928,964,2821],\"xaxis\":\"x\",\"y\":[93.37536660585384,93.37536660585384,93.37536660585384,93.37536660585384,93.37536660585384,93.37536660585384,93.37536660585384,93.37536660585384,93.37536660585384,93.37536660585384,93.37536660585384,93.37536660585384,93.37536660585384,93.37536660585384,93.37536660585384,93.37536660585384,93.37536660585384,93.37536660585384,97.35209885657957,97.35209885657957,97.35209885657957,97.35209885657957,99.34046498194243,99.34046498194243,99.34046498194243,99.34046498194243,99.34046498194243,99.34046498194243,99.34046498194243,101.32883110730529,101.32883110730529,101.32883110730529,101.32883110730529,101.32883110730529,103.31719723266816,103.31719723266816,103.31719723266816,103.31719723266816,103.31719723266816,103.31719723266816,105.30556335803102,105.30556335803102,105.30556335803102,105.30556335803102,105.30556335803102,105.30556335803102,105.30556335803102,105.30556335803102,105.30556335803102,105.30556335803102,107.2939294833939,107.2939294833939,107.2939294833939,107.2939294833939,107.2939294833939,107.2939294833939,107.2939294833939,107.2939294833939,109.28229560875675,109.28229560875675,109.28229560875675,109.28229560875675,109.28229560875675,109.28229560875675,109.28229560875675,111.27066173411961,111.27066173411961,111.27066173411961,111.27066173411961,111.27066173411961,111.27066173411961,111.27066173411961,111.27066173411961,111.27066173411961,113.25902785948247,113.25902785948247,113.25902785948247,113.25902785948247,113.25902785948247,113.25902785948247,113.25902785948247,113.25902785948247,113.25902785948247,115.24739398484535,115.24739398484535,115.24739398484535,115.24739398484535,115.24739398484535,115.24739398484535,115.24739398484535,115.24739398484535,115.24739398484535,115.24739398484535,115.24739398484535,115.24739398484535,115.24739398484535,115.24739398484535,117.2357601102082,117.2357601102082,117.2357601102082,117.2357601102082,117.2357601102082,117.2357601102082,117.2357601102082,117.2357601102082,117.2357601102082,117.2357601102082,117.2357601102082,117.2357601102082,117.2357601102082,117.2357601102082,119.22412623557108,119.22412623557108,119.22412623557108,119.22412623557108,119.22412623557108,119.22412623557108,119.22412623557108,119.22412623557108,119.22412623557108,119.22412623557108,119.22412623557108,119.22412623557108,119.22412623557108,119.22412623557108,119.22412623557108,119.22412623557108,119.22412623557108,119.22412623557108,119.22412623557108,121.21249236093394,121.21249236093394,121.21249236093394,121.21249236093394,121.21249236093394,121.21249236093394,121.21249236093394,121.21249236093394,121.21249236093394,121.21249236093394,121.21249236093394,123.2008584862968,123.2008584862968,123.2008584862968,123.2008584862968,123.2008584862968,123.2008584862968,123.2008584862968,123.2008584862968,123.2008584862968,123.2008584862968,123.2008584862968,123.2008584862968,123.2008584862968,123.2008584862968,123.2008584862968,123.2008584862968,123.2008584862968,123.2008584862968,123.2008584862968,123.2008584862968,125.18922461165967,125.18922461165967,125.18922461165967,125.18922461165967,125.18922461165967,125.18922461165967,125.18922461165967,125.18922461165967,125.18922461165967,125.18922461165967,125.18922461165967,125.18922461165967,125.18922461165967,125.18922461165967,125.18922461165967,127.17759073702253,127.17759073702253,127.17759073702253,127.17759073702253,127.17759073702253,127.17759073702253,127.17759073702253,127.17759073702253,127.17759073702253,127.17759073702253,127.17759073702253,127.17759073702253,127.17759073702253,127.17759073702253,127.17759073702253,127.17759073702253,127.17759073702253,127.17759073702253,127.17759073702253,127.17759073702253,127.17759073702253,129.1659568623854,129.1659568623854,129.1659568623854,129.1659568623854,129.1659568623854,129.1659568623854,129.1659568623854,129.1659568623854,129.1659568623854,129.1659568623854,129.1659568623854,129.1659568623854,129.1659568623854,129.1659568623854,131.15432298774826,131.15432298774826,131.15432298774826,131.15432298774826,131.15432298774826,131.15432298774826,131.15432298774826,131.15432298774826,131.15432298774826,131.15432298774826,131.15432298774826,131.15432298774826,131.15432298774826,131.15432298774826,131.15432298774826,131.15432298774826,131.15432298774826,133.14268911311112,133.14268911311112,133.14268911311112,133.14268911311112,133.14268911311112,133.14268911311112,133.14268911311112,133.14268911311112,133.14268911311112,133.14268911311112,133.14268911311112,133.14268911311112,133.14268911311112,133.14268911311112,133.14268911311112,133.14268911311112,133.14268911311112,133.14268911311112,133.14268911311112,133.14268911311112,133.14268911311112,133.14268911311112,135.13105523847398,135.13105523847398,135.13105523847398,135.13105523847398,135.13105523847398,135.13105523847398,135.13105523847398,135.13105523847398,135.13105523847398,135.13105523847398,135.13105523847398,135.13105523847398,135.13105523847398,135.13105523847398,135.13105523847398,135.13105523847398,137.11942136383686,137.11942136383686,137.11942136383686,137.11942136383686,137.11942136383686,137.11942136383686,137.11942136383686,137.11942136383686,137.11942136383686,137.11942136383686,137.11942136383686,137.11942136383686,137.11942136383686,137.11942136383686,139.10778748919972,139.10778748919972,139.10778748919972,139.10778748919972,139.10778748919972,139.10778748919972,139.10778748919972,139.10778748919972,139.10778748919972,139.10778748919972,139.10778748919972,139.10778748919972,139.10778748919972,139.10778748919972,139.10778748919972,139.10778748919972,139.10778748919972,139.10778748919972,139.10778748919972,139.10778748919972,141.09615361456258,141.09615361456258,141.09615361456258,141.09615361456258,141.09615361456258,141.09615361456258,141.09615361456258,141.09615361456258,141.09615361456258,141.09615361456258,141.09615361456258,141.09615361456258,143.08451973992544,143.08451973992544,143.08451973992544,143.08451973992544,143.08451973992544,143.08451973992544,143.08451973992544,143.08451973992544,143.08451973992544,143.08451973992544,143.08451973992544,145.0728858652883,145.0728858652883,145.0728858652883,145.0728858652883,145.0728858652883,145.0728858652883,145.0728858652883,145.0728858652883,145.0728858652883,145.0728858652883,145.0728858652883,145.0728858652883,145.0728858652883,145.0728858652883,147.06125199065116,147.06125199065116,147.06125199065116,147.06125199065116,147.06125199065116,147.06125199065116,147.06125199065116,147.06125199065116,147.06125199065116,147.06125199065116,147.06125199065116,149.04961811601402,149.04961811601402,149.04961811601402,149.04961811601402,149.04961811601402,149.04961811601402,149.04961811601402,149.04961811601402,149.04961811601402,149.04961811601402,151.0379842413769,151.0379842413769,151.0379842413769,151.0379842413769,151.0379842413769,151.0379842413769,151.0379842413769,151.0379842413769,151.0379842413769,151.0379842413769,151.0379842413769,151.0379842413769,151.0379842413769,151.0379842413769,151.0379842413769,153.02635036673976,153.02635036673976,153.02635036673976,153.02635036673976,153.02635036673976,153.02635036673976,153.02635036673976,153.02635036673976,153.02635036673976,153.02635036673976,153.02635036673976,155.01471649210262,155.01471649210262,155.01471649210262,155.01471649210262,155.01471649210262,155.01471649210262,155.01471649210262,155.01471649210262,155.01471649210262,155.01471649210262,155.01471649210262,155.01471649210262,155.01471649210262,155.01471649210262,155.01471649210262,155.01471649210262,157.00308261746548,157.00308261746548,157.00308261746548,157.00308261746548,157.00308261746548,157.00308261746548,157.00308261746548,157.00308261746548,157.00308261746548,158.99144874282837,158.99144874282837,158.99144874282837,158.99144874282837,158.99144874282837,158.99144874282837,158.99144874282837,158.99144874282837,158.99144874282837,158.99144874282837,158.99144874282837,158.99144874282837,158.99144874282837,160.97981486819123,160.97981486819123,160.97981486819123,160.97981486819123,160.97981486819123,160.97981486819123,160.97981486819123,160.97981486819123,160.97981486819123,160.97981486819123,162.96818099355409,162.96818099355409,162.96818099355409,162.96818099355409,162.96818099355409,162.96818099355409,162.96818099355409,162.96818099355409,162.96818099355409,162.96818099355409,164.95654711891694,164.95654711891694,164.95654711891694,164.95654711891694,164.95654711891694,164.95654711891694,164.95654711891694,164.95654711891694,164.95654711891694,164.95654711891694,164.95654711891694,166.9449132442798,166.9449132442798,166.9449132442798,166.9449132442798,166.9449132442798,168.93327936964266,168.93327936964266,168.93327936964266,168.93327936964266,168.93327936964266,168.93327936964266,168.93327936964266,168.93327936964266,168.93327936964266,168.93327936964266,170.92164549500552,170.92164549500552,170.92164549500552,170.92164549500552,172.91001162036838,172.91001162036838,172.91001162036838,172.91001162036838,172.91001162036838,172.91001162036838,172.91001162036838,172.91001162036838,172.91001162036838,174.89837774573127,174.89837774573127,174.89837774573127,174.89837774573127,174.89837774573127,174.89837774573127,174.89837774573127,176.88674387109413,176.88674387109413,176.88674387109413,176.88674387109413,176.88674387109413,176.88674387109413,176.88674387109413,176.88674387109413,176.88674387109413,176.88674387109413,176.88674387109413,178.87510999645698,178.87510999645698,178.87510999645698,178.87510999645698,178.87510999645698,180.86347612181987,180.86347612181987,180.86347612181987,180.86347612181987,180.86347612181987,180.86347612181987,180.86347612181987,180.86347612181987,180.86347612181987,182.85184224718273,182.85184224718273,182.85184224718273,182.85184224718273,184.8402083725456,184.8402083725456,184.8402083725456,186.82857449790845,186.82857449790845,186.82857449790845,186.82857449790845,186.82857449790845,188.8169406232713,188.8169406232713,190.80530674863417,190.80530674863417,190.80530674863417,190.80530674863417,190.80530674863417,190.80530674863417,192.79367287399702,192.79367287399702,194.78203899935988,194.78203899935988,194.78203899935988,194.78203899935988,194.78203899935988,196.77040512472277,196.77040512472277,196.77040512472277,196.77040512472277,196.77040512472277,196.77040512472277,198.75877125008563,198.75877125008563,198.75877125008563,198.75877125008563,200.7471373754485,200.7471373754485,200.7471373754485,200.7471373754485,200.7471373754485,200.7471373754485,200.7471373754485,202.73550350081138,202.73550350081138,202.73550350081138,202.73550350081138,202.73550350081138,202.73550350081138,204.72386962617423,204.72386962617423,204.72386962617423,204.72386962617423,208.70060187689995,208.70060187689995,210.6889680022628,210.6889680022628,210.6889680022628,212.67733412762567,212.67733412762567,212.67733412762567,214.66570025298853,214.66570025298853,216.6540663783514,216.6540663783514,216.6540663783514,216.6540663783514,216.6540663783514,218.64243250371428,218.64243250371428,220.63079862907713,220.63079862907713,220.63079862907713,220.63079862907713,220.63079862907713,222.61916475444002,222.61916475444002,222.61916475444002,222.61916475444002,224.60753087980288,224.60753087980288,224.60753087980288,224.60753087980288,226.59589700516574,226.59589700516574,226.59589700516574,226.59589700516574,228.5842631305286,228.5842631305286,228.5842631305286,230.57262925589146,232.56099538125432,232.56099538125432,232.56099538125432,232.56099538125432,232.56099538125432,234.54936150661717,234.54936150661717,234.54936150661717,234.54936150661717,236.53772763198003,238.5260937573429,238.5260937573429,240.51445988270575,240.51445988270575,240.51445988270575,240.51445988270575,244.49119213343153,244.49119213343153,244.49119213343153,244.49119213343153,246.47955825879438,246.47955825879438,248.46792438415724,248.46792438415724,248.46792438415724,248.46792438415724,248.46792438415724,250.4562905095201,250.4562905095201,250.4562905095201,252.44465663488296,252.44465663488296,252.44465663488296,252.44465663488296,252.44465663488296,252.44465663488296,254.43302276024582,254.43302276024582,254.43302276024582,254.43302276024582,256.4213888856087,258.40975501097154,258.40975501097154,258.40975501097154,260.3981211363344,260.3981211363344,260.3981211363344,260.3981211363344,262.38648726169725,262.38648726169725,264.3748533870601,264.3748533870601,264.3748533870601,266.36321951242303,266.36321951242303,266.36321951242303,268.3515856377859,268.3515856377859,268.3515856377859,268.3515856377859,270.33995176314875,270.33995176314875,272.3283178885116,274.31668401387446,274.31668401387446,274.31668401387446,276.3050501392373,276.3050501392373,278.2934162646002,278.2934162646002,278.2934162646002,278.2934162646002,282.2701485153259,282.2701485153259,286.2468807660516,288.23524689141453,288.23524689141453,290.2236130167774,290.2236130167774,292.21197914214025,292.21197914214025,292.21197914214025,294.2003452675031,296.18871139286597,296.18871139286597,296.18871139286597,296.18871139286597,296.18871139286597,298.1770775182288,300.1654436435917,300.1654436435917,300.1654436435917,304.1421758943174,304.1421758943174,304.1421758943174,304.1421758943174,306.13054201968026,306.13054201968026,306.13054201968026,308.1189081450431,308.1189081450431,308.1189081450431,310.10727427040604,310.10727427040604,310.10727427040604,314.08400652113176,316.0723726464946,318.0607387718575,318.0607387718575,318.0607387718575,320.04910489722033,320.04910489722033,322.0374710225832,322.0374710225832,324.02583714794605,326.0142032733089,328.00256939867177,328.00256939867177,328.00256939867177,328.00256939867177,328.00256939867177,331.97930164939754,333.9676677747604,337.9444000254861,337.9444000254861,339.932766150849,341.92113227621184,345.89786452693755,347.8862306523004,347.8862306523004,351.8629629030262,353.85132902838905,357.82806127911476,359.8164274044776,359.8164274044776,359.8164274044776,363.79315965520334,363.79315965520334,369.7582580312919,371.74662415665483,379.70008865810627,379.70008865810627,385.66518703419484,387.6535531595577,393.61865153564634,393.61865153564634,393.61865153564634,395.6070176610092,397.59538378637205,399.5837499117349,399.5837499117349,399.5837499117349,403.56048216246063,405.5488482878235,409.5255805385492,413.5023127892749,419.46741116536356,429.40924179217785,429.40924179217785,431.3976079175407,437.36270629362934,437.36270629362934,437.36270629362934,439.3510724189922,441.33943854435506,443.3278046697179,461.2230997979837,463.21146592334657,475.1416626755237,483.0951271769752,483.0951271769752,499.0020561798781,499.0020561798781,499.0020561798781,514.908985182781,518.8857174335067,520.8740835588695,520.8740835588695,528.8275480603211,554.6763076900382,566.6065044422154,568.5948705675783,580.5250673197555,588.478531821207,594.4436301972955,596.4319963226584,596.4319963226584,608.3621930748357,618.30402370165,622.2807559523757,644.1527833313671,654.0946139581815,656.0829800835444,666.0248107103587,673.9782752118101,677.9550074625358,693.8619364654388,707.7804993429788,713.7455977190674,721.6990622205188,731.6408928473331,739.5943573487847,749.536187975599,761.4663847277761,767.4314831038647,805.2104394857591,809.1871717364849,829.0708329901136,878.7799861241851,926.5007731328939,926.5007731328939,1033.8725439024884,1043.8143745293028,1059.7213035322056,1087.5584292872857,1121.3606534184544,1131.3024840452688,1131.3024840452688,1143.232680797446,1322.1856320801037,1393.7668125931668,1572.7197638758246,1582.6615945026388,1604.5336218816303,1733.7774200302165,1938.5791309425915,2010.1603114556547,5702.556206254493],\"yaxis\":\"y\",\"type\":\"scatter\"}],                        {\"template\":{\"data\":{\"histogram2dcontour\":[{\"type\":\"histogram2dcontour\",\"colorbar\":{\"outlinewidth\":0,\"ticks\":\"\"},\"colorscale\":[[0.0,\"#0d0887\"],[0.1111111111111111,\"#46039f\"],[0.2222222222222222,\"#7201a8\"],[0.3333333333333333,\"#9c179e\"],[0.4444444444444444,\"#bd3786\"],[0.5555555555555556,\"#d8576b\"],[0.6666666666666666,\"#ed7953\"],[0.7777777777777778,\"#fb9f3a\"],[0.8888888888888888,\"#fdca26\"],[1.0,\"#f0f921\"]]}],\"choropleth\":[{\"type\":\"choropleth\",\"colorbar\":{\"outlinewidth\":0,\"ticks\":\"\"}}],\"histogram2d\":[{\"type\":\"histogram2d\",\"colorbar\":{\"outlinewidth\":0,\"ticks\":\"\"},\"colorscale\":[[0.0,\"#0d0887\"],[0.1111111111111111,\"#46039f\"],[0.2222222222222222,\"#7201a8\"],[0.3333333333333333,\"#9c179e\"],[0.4444444444444444,\"#bd3786\"],[0.5555555555555556,\"#d8576b\"],[0.6666666666666666,\"#ed7953\"],[0.7777777777777778,\"#fb9f3a\"],[0.8888888888888888,\"#fdca26\"],[1.0,\"#f0f921\"]]}],\"heatmap\":[{\"type\":\"heatmap\",\"colorbar\":{\"outlinewidth\":0,\"ticks\":\"\"},\"colorscale\":[[0.0,\"#0d0887\"],[0.1111111111111111,\"#46039f\"],[0.2222222222222222,\"#7201a8\"],[0.3333333333333333,\"#9c179e\"],[0.4444444444444444,\"#bd3786\"],[0.5555555555555556,\"#d8576b\"],[0.6666666666666666,\"#ed7953\"],[0.7777777777777778,\"#fb9f3a\"],[0.8888888888888888,\"#fdca26\"],[1.0,\"#f0f921\"]]}],\"heatmapgl\":[{\"type\":\"heatmapgl\",\"colorbar\":{\"outlinewidth\":0,\"ticks\":\"\"},\"colorscale\":[[0.0,\"#0d0887\"],[0.1111111111111111,\"#46039f\"],[0.2222222222222222,\"#7201a8\"],[0.3333333333333333,\"#9c179e\"],[0.4444444444444444,\"#bd3786\"],[0.5555555555555556,\"#d8576b\"],[0.6666666666666666,\"#ed7953\"],[0.7777777777777778,\"#fb9f3a\"],[0.8888888888888888,\"#fdca26\"],[1.0,\"#f0f921\"]]}],\"contourcarpet\":[{\"type\":\"contourcarpet\",\"colorbar\":{\"outlinewidth\":0,\"ticks\":\"\"}}],\"contour\":[{\"type\":\"contour\",\"colorbar\":{\"outlinewidth\":0,\"ticks\":\"\"},\"colorscale\":[[0.0,\"#0d0887\"],[0.1111111111111111,\"#46039f\"],[0.2222222222222222,\"#7201a8\"],[0.3333333333333333,\"#9c179e\"],[0.4444444444444444,\"#bd3786\"],[0.5555555555555556,\"#d8576b\"],[0.6666666666666666,\"#ed7953\"],[0.7777777777777778,\"#fb9f3a\"],[0.8888888888888888,\"#fdca26\"],[1.0,\"#f0f921\"]]}],\"surface\":[{\"type\":\"surface\",\"colorbar\":{\"outlinewidth\":0,\"ticks\":\"\"},\"colorscale\":[[0.0,\"#0d0887\"],[0.1111111111111111,\"#46039f\"],[0.2222222222222222,\"#7201a8\"],[0.3333333333333333,\"#9c179e\"],[0.4444444444444444,\"#bd3786\"],[0.5555555555555556,\"#d8576b\"],[0.6666666666666666,\"#ed7953\"],[0.7777777777777778,\"#fb9f3a\"],[0.8888888888888888,\"#fdca26\"],[1.0,\"#f0f921\"]]}],\"mesh3d\":[{\"type\":\"mesh3d\",\"colorbar\":{\"outlinewidth\":0,\"ticks\":\"\"}}],\"scatter\":[{\"fillpattern\":{\"fillmode\":\"overlay\",\"size\":10,\"solidity\":0.2},\"type\":\"scatter\"}],\"parcoords\":[{\"type\":\"parcoords\",\"line\":{\"colorbar\":{\"outlinewidth\":0,\"ticks\":\"\"}}}],\"scatterpolargl\":[{\"type\":\"scatterpolargl\",\"marker\":{\"colorbar\":{\"outlinewidth\":0,\"ticks\":\"\"}}}],\"bar\":[{\"error_x\":{\"color\":\"#2a3f5f\"},\"error_y\":{\"color\":\"#2a3f5f\"},\"marker\":{\"line\":{\"color\":\"#E5ECF6\",\"width\":0.5},\"pattern\":{\"fillmode\":\"overlay\",\"size\":10,\"solidity\":0.2}},\"type\":\"bar\"}],\"scattergeo\":[{\"type\":\"scattergeo\",\"marker\":{\"colorbar\":{\"outlinewidth\":0,\"ticks\":\"\"}}}],\"scatterpolar\":[{\"type\":\"scatterpolar\",\"marker\":{\"colorbar\":{\"outlinewidth\":0,\"ticks\":\"\"}}}],\"histogram\":[{\"marker\":{\"pattern\":{\"fillmode\":\"overlay\",\"size\":10,\"solidity\":0.2}},\"type\":\"histogram\"}],\"scattergl\":[{\"type\":\"scattergl\",\"marker\":{\"colorbar\":{\"outlinewidth\":0,\"ticks\":\"\"}}}],\"scatter3d\":[{\"type\":\"scatter3d\",\"line\":{\"colorbar\":{\"outlinewidth\":0,\"ticks\":\"\"}},\"marker\":{\"colorbar\":{\"outlinewidth\":0,\"ticks\":\"\"}}}],\"scattermapbox\":[{\"type\":\"scattermapbox\",\"marker\":{\"colorbar\":{\"outlinewidth\":0,\"ticks\":\"\"}}}],\"scatterternary\":[{\"type\":\"scatterternary\",\"marker\":{\"colorbar\":{\"outlinewidth\":0,\"ticks\":\"\"}}}],\"scattercarpet\":[{\"type\":\"scattercarpet\",\"marker\":{\"colorbar\":{\"outlinewidth\":0,\"ticks\":\"\"}}}],\"carpet\":[{\"aaxis\":{\"endlinecolor\":\"#2a3f5f\",\"gridcolor\":\"white\",\"linecolor\":\"white\",\"minorgridcolor\":\"white\",\"startlinecolor\":\"#2a3f5f\"},\"baxis\":{\"endlinecolor\":\"#2a3f5f\",\"gridcolor\":\"white\",\"linecolor\":\"white\",\"minorgridcolor\":\"white\",\"startlinecolor\":\"#2a3f5f\"},\"type\":\"carpet\"}],\"table\":[{\"cells\":{\"fill\":{\"color\":\"#EBF0F8\"},\"line\":{\"color\":\"white\"}},\"header\":{\"fill\":{\"color\":\"#C8D4E3\"},\"line\":{\"color\":\"white\"}},\"type\":\"table\"}],\"barpolar\":[{\"marker\":{\"line\":{\"color\":\"#E5ECF6\",\"width\":0.5},\"pattern\":{\"fillmode\":\"overlay\",\"size\":10,\"solidity\":0.2}},\"type\":\"barpolar\"}],\"pie\":[{\"automargin\":true,\"type\":\"pie\"}]},\"layout\":{\"autotypenumbers\":\"strict\",\"colorway\":[\"#636efa\",\"#EF553B\",\"#00cc96\",\"#ab63fa\",\"#FFA15A\",\"#19d3f3\",\"#FF6692\",\"#B6E880\",\"#FF97FF\",\"#FECB52\"],\"font\":{\"color\":\"#2a3f5f\"},\"hovermode\":\"closest\",\"hoverlabel\":{\"align\":\"left\"},\"paper_bgcolor\":\"white\",\"plot_bgcolor\":\"#E5ECF6\",\"polar\":{\"bgcolor\":\"#E5ECF6\",\"angularaxis\":{\"gridcolor\":\"white\",\"linecolor\":\"white\",\"ticks\":\"\"},\"radialaxis\":{\"gridcolor\":\"white\",\"linecolor\":\"white\",\"ticks\":\"\"}},\"ternary\":{\"bgcolor\":\"#E5ECF6\",\"aaxis\":{\"gridcolor\":\"white\",\"linecolor\":\"white\",\"ticks\":\"\"},\"baxis\":{\"gridcolor\":\"white\",\"linecolor\":\"white\",\"ticks\":\"\"},\"caxis\":{\"gridcolor\":\"white\",\"linecolor\":\"white\",\"ticks\":\"\"}},\"coloraxis\":{\"colorbar\":{\"outlinewidth\":0,\"ticks\":\"\"}},\"colorscale\":{\"sequential\":[[0.0,\"#0d0887\"],[0.1111111111111111,\"#46039f\"],[0.2222222222222222,\"#7201a8\"],[0.3333333333333333,\"#9c179e\"],[0.4444444444444444,\"#bd3786\"],[0.5555555555555556,\"#d8576b\"],[0.6666666666666666,\"#ed7953\"],[0.7777777777777778,\"#fb9f3a\"],[0.8888888888888888,\"#fdca26\"],[1.0,\"#f0f921\"]],\"sequentialminus\":[[0.0,\"#0d0887\"],[0.1111111111111111,\"#46039f\"],[0.2222222222222222,\"#7201a8\"],[0.3333333333333333,\"#9c179e\"],[0.4444444444444444,\"#bd3786\"],[0.5555555555555556,\"#d8576b\"],[0.6666666666666666,\"#ed7953\"],[0.7777777777777778,\"#fb9f3a\"],[0.8888888888888888,\"#fdca26\"],[1.0,\"#f0f921\"]],\"diverging\":[[0,\"#8e0152\"],[0.1,\"#c51b7d\"],[0.2,\"#de77ae\"],[0.3,\"#f1b6da\"],[0.4,\"#fde0ef\"],[0.5,\"#f7f7f7\"],[0.6,\"#e6f5d0\"],[0.7,\"#b8e186\"],[0.8,\"#7fbc41\"],[0.9,\"#4d9221\"],[1,\"#276419\"]]},\"xaxis\":{\"gridcolor\":\"white\",\"linecolor\":\"white\",\"ticks\":\"\",\"title\":{\"standoff\":15},\"zerolinecolor\":\"white\",\"automargin\":true,\"zerolinewidth\":2},\"yaxis\":{\"gridcolor\":\"white\",\"linecolor\":\"white\",\"ticks\":\"\",\"title\":{\"standoff\":15},\"zerolinecolor\":\"white\",\"automargin\":true,\"zerolinewidth\":2},\"scene\":{\"xaxis\":{\"backgroundcolor\":\"#E5ECF6\",\"gridcolor\":\"white\",\"linecolor\":\"white\",\"showbackground\":true,\"ticks\":\"\",\"zerolinecolor\":\"white\",\"gridwidth\":2},\"yaxis\":{\"backgroundcolor\":\"#E5ECF6\",\"gridcolor\":\"white\",\"linecolor\":\"white\",\"showbackground\":true,\"ticks\":\"\",\"zerolinecolor\":\"white\",\"gridwidth\":2},\"zaxis\":{\"backgroundcolor\":\"#E5ECF6\",\"gridcolor\":\"white\",\"linecolor\":\"white\",\"showbackground\":true,\"ticks\":\"\",\"zerolinecolor\":\"white\",\"gridwidth\":2}},\"shapedefaults\":{\"line\":{\"color\":\"#2a3f5f\"}},\"annotationdefaults\":{\"arrowcolor\":\"#2a3f5f\",\"arrowhead\":0,\"arrowwidth\":1},\"geo\":{\"bgcolor\":\"white\",\"landcolor\":\"#E5ECF6\",\"subunitcolor\":\"white\",\"showland\":true,\"showlakes\":true,\"lakecolor\":\"white\"},\"title\":{\"x\":0.05},\"mapbox\":{\"style\":\"light\"}}},\"xaxis\":{\"anchor\":\"y\",\"domain\":[0.0,1.0],\"title\":{\"text\":\"bookmarks\"}},\"yaxis\":{\"anchor\":\"x\",\"domain\":[0.0,1.0],\"title\":{\"text\":\"replies\"}},\"legend\":{\"tracegroupgap\":0,\"itemsizing\":\"constant\"},\"title\":{\"text\":\"Relationship Between replies and bookmarks\"}},                        {\"responsive\": true}                    ).then(function(){\n",
              "                            \n",
              "var gd = document.getElementById('963a008c-e000-4e4d-94a9-8d7a30d3f4d1');\n",
              "var x = new MutationObserver(function (mutations, observer) {{\n",
              "        var display = window.getComputedStyle(gd).display;\n",
              "        if (!display || display === 'none') {{\n",
              "            console.log([gd, 'removed!']);\n",
              "            Plotly.purge(gd);\n",
              "            observer.disconnect();\n",
              "        }}\n",
              "}});\n",
              "\n",
              "// Listen for the removal of the full notebook cells\n",
              "var notebookContainer = gd.closest('#notebook-container');\n",
              "if (notebookContainer) {{\n",
              "    x.observe(notebookContainer, {childList: true});\n",
              "}}\n",
              "\n",
              "// Listen for the clearing of the current output cell\n",
              "var outputEl = gd.closest('.output');\n",
              "if (outputEl) {{\n",
              "    x.observe(outputEl, {childList: true});\n",
              "}}\n",
              "\n",
              "                        })                };                            </script>        </div>\n",
              "</body>\n",
              "</html>"
            ]
          },
          "metadata": {}
        }
      ]
    },
    {
      "cell_type": "code",
      "source": [
        "figure = px.scatter(data_frame = df, x=\"bookmarks\",\n",
        "                    y=\"views\", size=\"views\", trendline=\"ols\",\n",
        "                    title = \"Relationship Between views and bookmarks\")\n",
        "figure.show()"
      ],
      "metadata": {
        "colab": {
          "base_uri": "https://localhost:8080/"
        },
        "id": "Wv76o4ifbr24",
        "outputId": "5ad1c13f-cea8-49c2-fb2e-3fd13aba0a67"
      },
      "execution_count": null,
      "outputs": [
        {
          "output_type": "display_data",
          "data": {
            "text/html": [
              "<html>\n",
              "<head><meta charset=\"utf-8\" /></head>\n",
              "<body>\n",
              "    <div>            <script src=\"https://cdnjs.cloudflare.com/ajax/libs/mathjax/2.7.5/MathJax.js?config=TeX-AMS-MML_SVG\"></script><script type=\"text/javascript\">if (window.MathJax && window.MathJax.Hub && window.MathJax.Hub.Config) {window.MathJax.Hub.Config({SVG: {font: \"STIX-Web\"}});}</script>                <script type=\"text/javascript\">window.PlotlyConfig = {MathJaxConfig: 'local'};</script>\n",
              "        <script charset=\"utf-8\" src=\"https://cdn.plot.ly/plotly-2.24.1.min.js\"></script>                <div id=\"10a21b36-eae6-4000-88a5-c2ba969f6b5e\" class=\"plotly-graph-div\" style=\"height:525px; width:100%;\"></div>            <script type=\"text/javascript\">                                    window.PLOTLYENV=window.PLOTLYENV || {};                                    if (document.getElementById(\"10a21b36-eae6-4000-88a5-c2ba969f6b5e\")) {                    Plotly.newPlot(                        \"10a21b36-eae6-4000-88a5-c2ba969f6b5e\",                        [{\"hovertemplate\":\"bookmarks=%{x}\\u003cbr\\u003eviews=%{marker.size}\\u003cextra\\u003e\\u003c\\u002fextra\\u003e\",\"legendgroup\":\"\",\"marker\":{\"color\":\"#636efa\",\"size\":[494034,617053,716856,859856,830161,905034,886684,457012,645656,865082,613321,728886,611506,942201,1583017,358399,517962,1521004,379633,534712,494654,400781,528868,441470,665722,658373,584630,540268,485112,502247,608466,512231,678433,1527670,816225,484251,1836437,665100,1269178,969383,734638,1836437,807393,648270,678746,643931,979019,550374,742404,609051,644988,543113,510655,571058,1119336,668226,1144775,774238,762144,780808,538959,802894,584422,613903,578420,670779,653346,590462,903585,787298,711958,587767,399727,735309,609161,536472,945480,650502,691711,926159,742038,727690,693002,711300,621097,1282189,773845,805539,769162,1139566,787585,668216,787498,626342,1045042,1148806,1263863,1262668,1104018,1107947,961590,1051904,1263863,734341,1066308,327361,361444,858847,1830740,698313,550740,187116,7732,7682,125586,132450,6473,6688,6519,91743,77825,57608,8506,861678,1026647,919743,991527,1181853,763954,965889,737859,1134263,1303623,630472,838120,842038,919989,665029,1097101,1055738,1025196,878083,935137,1715679,1166204,1241593,2058686,1705861,979617,16958423,766228,827173,720482,662827,903491,762153,530113,2353680,524499,525640,1101569,1844805,331526,323787,604599,700273,1238567,714802,1659730,1282995,807088,751601,879900,800469,1176402,776754,1096599,952406,1118865,1028263,1141328,1077186,1412803,1222916,1288840,882732,842937,968580,1833541,762186,2038476,944680,784673,653090,798307,1120540,1895835,657646,375521,655245,801606,1078983,1730369,1104204,1258463,1360267,1104204,870072,935718,1240208,1108260,994186,909279,939987,955250,680226,968888,1325504,1090897,1078982,1234271,1034938,1224364,2424335,1277829,1212075,1249824,787010,1828107,2424335,1164175,867575,1787377,1174770,2970409,1016320,1165499,979544,1222808,1746491,2966023,2272234,1145639,1077873,890275,1198007,498599,895144,970566,1101040,1930783,1917741,1161598,1536482,1313572,910949,704249,881613,878170,1749316,1203640,1097114,750077,1406621,990083,1109191,1723204,1251796,971788,1846686,1095984,748167,1272199,1180178,878628,1164210,1298757,1068665,1104923,777101,1780452,1313006,1028303,1159605,926565,2041865,1162855,817405,803004,1150407,1448700,876937,773662,788426,906451,1546063,1206924,707873,1284876,884624,911462,1337466,2243115,930973,4975809,821436,804574,943069,2085906,593393,839940,3246505,1020951,1948308,938416,977504,819532,1314857,1391485,1028540,439324,1168933,821530,857826,927713,1311112,1219095,1692694,1555876,920332,1186096,1281329,660153,1061525,944272,1188489,1468050,2234347,1350222,1092592,1046422,891306,923221,745827,897239,1139911,870677,1043703,745054,1219812,2843875,2760406,1891133,1466305,475504,1179539,811480,875418,1281114,867565,754096,3132577,1256535,495766,1654338,2922474,2419982,1387690,1206563,1600177,1110696,1165845,1337068,1647384,1726951,1585132,992549,1164398,1284688,941505,1108566,1076463,857510,846767,1640782,1076463,839248,1100445,1386552,1114069,555456,1484880,489630,1257973,1063848,1614110,1093677,1850748,2581192,1714807,1672398,1771979,3562999,1677793,1623552,1199527,2053489,3156993,1863720,2231114,1218983,2721297,2400421,2270305,1786518,1484237,1617309,2705106,1075395,1907924,1946658,4057355,1743275,2099516,1861090,811617,1082922,884857,4919934,3305356,2516940,2484141,4965816,951638,1003512,3980259,3063610,925763,3041589,5725838,2046197,2835426,2639706,3269762,1182673,3860921,2682809,1405569,2288642,2019559,1751660,1475433,1545664,1324544,1044537,1246258,1448630,1324138,1372334,1156836,899200,1001558,795048,771800,909297,1423773,918653,1141506,1238884,7434573,1033311,1620985,2739164,1247030,1247990,643191,1050908,2399652,1918894,832159,1111075,1090644,533128,1109757,1593836,1224796,1074343,1172640,1459741,1572431,1433150,1484816,1510715,1051715,565609,1085845,665052,913242,1276748,1067913,1386760,955937,1351819,1112028,879487,1083960,1211707,1038919,973925,1683062,1881971,994845,3668251,1147509,1355969,1300708,1507763,1959507,1040232,1205325,1619012,916949,1118821,932295,532632,2942994,598359,919697,974535,782690,475420,1592627,841165,902836,1747891,941922,1103605,1078495,1250043,1103673,804730,1744969,1233844,2023781,1227781,1264133,1649349,1269196,1004200,1024153,960510,1356247,2430731,1325458,1629014,1318806,1184769,1620433,1038336,979873,924471,1177858,1840118,1007706,920744,2729834,1041893,1741432,1418853,1355302,2498700,1179469,1711902,2348377,1182841,1258122,940547,2483460,3706109,1175087,1476080,1372524,1308629,1617365,1518137,1761796,2230065,1194146,2290576,1417685,1146575,1638315,1277663,1032772,2191207,1964718,1422028,1390787,858647,2164799,1111210,1748881,1845035,1244067,1112398,982275,1969729,1007221,1183012,1268693,1056793,2227722,630788,4853035,878388,1013886,1011715,1101218,1261203,1288569,1214131,983737,928929,1925497,2246417,1410229,1180179,1367761,1753670,1531114,878426,1440062,934432,1091909,1023254,708365,1384368,1303684,1475473,1064188,1841124,1232790,689062,3477581,8468684,1233335,1316019,2470123,2591906,1986512,1423340,1155836,1279562,859569,844219,1936706,2973736,979848,713922,1011180,680326,665182,1523940,1360732,900714,846738,848722,1585578,966275,1504818,1101598,334053,1399840,1592072,1969196,1309391,1625413,2085747,1969196,1915528,1535941,1504371,780199,1083087,889745,901513,1494788,1311160,1135788,2368847,634795,1241511,879474,1417606,1520133,1041866,1609689,1009729,1871558,6065576,1079741,883870,2520913,1476707,1450155,1973148,1308035,1235784,1063035,1071510,1057287,1596220,1499189,732131,1280749,944105,793846,1077725,1837397,1537308,2153444,1569427,1478921,1308705,3499675,863603,1492638,1589991,1290370,1000209,1450973,1225492,1904858,2079424,1855149,1392019,1305194,2189348,878716,1163083,822024,1171516,1096661,1015612,1143173,1297010,760628,1013514,776846,1266487,1228221,1060509,2534371,1170039,1142420,2049060,1678367,1271985,1499907,5974805,1173103,1470363,987068,1314452,1782716,865122,1765210,1398548,1629338,1311200,1333736,981689,3263276,1534298,1536004,1258618,1733820,1802496,1517621,888058,1590895,2594358,2757494,1615733,2452075,3750319,3508128,2955776,1991741,1242220,3499696,1358883,1536958,1432104,2322961,6836310,1228997,22418701,1368678,1278287,1547008,1298268,1278066,1832719,1276035,1694053,1426379,1760222,1282817,1836253,1282121,1735882,1192750,757177,1222518,1945381,1869916,2409009,1401651,3121256,1089565,2854721,1070835,1221063,1251883,1259728,1302662,1391896,2130335,1778297,1817814,2687900,1836008],\"sizemode\":\"area\",\"sizeref\":56046.7525,\"symbol\":\"circle\"},\"mode\":\"markers\",\"name\":\"\",\"orientation\":\"v\",\"showlegend\":false,\"x\":[33,66,71,113,93,121,88,12,98,214,43,36,51,108,56,8,35,73,23,114,89,31,84,23,39,29,3,3,17,38,32,16,37,144,292,18,419,42,360,67,52,419,76,39,73,33,89,16,52,27,47,19,14,95,104,109,294,97,46,90,13,169,26,19,33,106,18,54,36,74,31,22,8,102,17,28,215,36,43,37,30,28,87,40,42,43,17,106,63,86,17,14,23,14,62,11,253,11,83,47,28,55,253,40,43,0,5,70,51,5,0,0,0,0,0,0,0,0,2,2,0,0,0,54,92,23,128,117,34,29,20,21,41,31,23,47,44,36,238,79,27,80,63,51,185,20,204,118,36,88,22,31,27,22,32,45,7,473,6,7,36,17,4,2,31,4,12,15,204,116,17,37,29,99,44,20,82,88,31,42,50,18,175,54,98,30,41,74,161,31,522,22,31,19,30,28,148,5,0,23,80,58,173,107,23,66,107,29,93,156,83,21,26,83,136,6,17,215,34,86,49,64,18,38,113,28,54,14,176,38,32,31,11,169,111,19,15,46,76,152,478,282,33,46,12,170,10,21,32,29,92,104,302,10,55,21,12,0,23,174,81,56,11,33,15,53,102,26,25,70,16,18,964,35,15,38,10,103,35,32,395,154,18,123,59,252,79,20,11,38,266,27,24,19,74,49,151,13,9,30,29,358,232,51,325,15,39,38,173,19,34,316,38,107,29,3,24,91,65,84,0,42,13,25,11,17,16,70,486,34,23,24,16,67,15,24,144,259,44,24,37,11,16,14,17,42,25,95,32,102,825,522,336,64,0,36,32,11,64,25,29,528,53,10,173,87,93,31,13,69,53,20,151,65,20,112,20,26,66,30,13,23,6,8,65,23,11,38,40,22,11,16,5,26,17,81,3,136,109,33,33,29,321,50,40,10,71,91,67,288,4,34,11,131,38,29,42,52,9,20,60,123,22,59,48,16,14,11,100,113,78,99,370,12,13,68,151,15,114,118,54,41,22,55,13,212,34,147,88,71,125,17,81,15,25,42,22,25,79,19,27,41,20,24,23,70,14,100,25,2821,26,36,196,15,60,9,19,159,154,45,45,49,41,24,101,52,29,20,30,21,22,21,61,27,7,24,6,17,23,26,22,45,102,24,6,14,26,23,19,249,91,24,339,20,37,31,15,108,16,17,115,15,66,118,7,744,10,26,6,20,9,139,13,44,219,21,59,21,34,17,5,74,27,70,17,17,78,78,23,19,14,164,154,15,32,39,29,12,44,18,12,26,13,17,41,330,27,80,31,13,81,33,40,118,22,42,36,186,245,17,55,55,115,33,34,54,78,16,104,3,25,62,35,40,106,133,13,15,4,31,9,53,76,26,87,61,196,21,27,108,19,21,2,618,58,19,16,51,18,27,28,21,9,109,283,33,29,35,93,68,7,127,12,26,15,3,29,72,35,33,64,31,7,654,749,13,31,60,128,80,23,8,25,12,22,100,55,19,6,12,11,21,22,47,13,23,15,40,15,20,13,0,9,52,62,35,85,76,62,192,20,40,10,12,15,20,42,30,134,78,0,18,18,42,11,36,34,7,49,102,13,6,312,23,20,13,21,13,8,19,44,140,38,5,35,9,8,12,40,33,134,30,33,77,264,6,12,29,44,6,28,19,32,85,56,23,19,239,23,12,28,20,16,30,21,86,34,13,16,80,18,10,309,25,16,106,68,26,49,64,18,35,4,35,44,8,49,17,22,14,24,13,120,27,7,24,71,157,36,10,9,56,84,18,42,124,134,65,31,20,277,19,18,28,77,928,52,760,43,15,20,15,17,26,15,25,30,30,28,20,21,21,80,3,44,118,153,500,67,204,17,517,16,41,20,20,62,130,54,48,14,47,84],\"xaxis\":\"x\",\"y\":[494034,617053,716856,859856,830161,905034,886684,457012,645656,865082,613321,728886,611506,942201,1583017,358399,517962,1521004,379633,534712,494654,400781,528868,441470,665722,658373,584630,540268,485112,502247,608466,512231,678433,1527670,816225,484251,1836437,665100,1269178,969383,734638,1836437,807393,648270,678746,643931,979019,550374,742404,609051,644988,543113,510655,571058,1119336,668226,1144775,774238,762144,780808,538959,802894,584422,613903,578420,670779,653346,590462,903585,787298,711958,587767,399727,735309,609161,536472,945480,650502,691711,926159,742038,727690,693002,711300,621097,1282189,773845,805539,769162,1139566,787585,668216,787498,626342,1045042,1148806,1263863,1262668,1104018,1107947,961590,1051904,1263863,734341,1066308,327361,361444,858847,1830740,698313,550740,187116,7732,7682,125586,132450,6473,6688,6519,91743,77825,57608,8506,861678,1026647,919743,991527,1181853,763954,965889,737859,1134263,1303623,630472,838120,842038,919989,665029,1097101,1055738,1025196,878083,935137,1715679,1166204,1241593,2058686,1705861,979617,16958423,766228,827173,720482,662827,903491,762153,530113,2353680,524499,525640,1101569,1844805,331526,323787,604599,700273,1238567,714802,1659730,1282995,807088,751601,879900,800469,1176402,776754,1096599,952406,1118865,1028263,1141328,1077186,1412803,1222916,1288840,882732,842937,968580,1833541,762186,2038476,944680,784673,653090,798307,1120540,1895835,657646,375521,655245,801606,1078983,1730369,1104204,1258463,1360267,1104204,870072,935718,1240208,1108260,994186,909279,939987,955250,680226,968888,1325504,1090897,1078982,1234271,1034938,1224364,2424335,1277829,1212075,1249824,787010,1828107,2424335,1164175,867575,1787377,1174770,2970409,1016320,1165499,979544,1222808,1746491,2966023,2272234,1145639,1077873,890275,1198007,498599,895144,970566,1101040,1930783,1917741,1161598,1536482,1313572,910949,704249,881613,878170,1749316,1203640,1097114,750077,1406621,990083,1109191,1723204,1251796,971788,1846686,1095984,748167,1272199,1180178,878628,1164210,1298757,1068665,1104923,777101,1780452,1313006,1028303,1159605,926565,2041865,1162855,817405,803004,1150407,1448700,876937,773662,788426,906451,1546063,1206924,707873,1284876,884624,911462,1337466,2243115,930973,4975809,821436,804574,943069,2085906,593393,839940,3246505,1020951,1948308,938416,977504,819532,1314857,1391485,1028540,439324,1168933,821530,857826,927713,1311112,1219095,1692694,1555876,920332,1186096,1281329,660153,1061525,944272,1188489,1468050,2234347,1350222,1092592,1046422,891306,923221,745827,897239,1139911,870677,1043703,745054,1219812,2843875,2760406,1891133,1466305,475504,1179539,811480,875418,1281114,867565,754096,3132577,1256535,495766,1654338,2922474,2419982,1387690,1206563,1600177,1110696,1165845,1337068,1647384,1726951,1585132,992549,1164398,1284688,941505,1108566,1076463,857510,846767,1640782,1076463,839248,1100445,1386552,1114069,555456,1484880,489630,1257973,1063848,1614110,1093677,1850748,2581192,1714807,1672398,1771979,3562999,1677793,1623552,1199527,2053489,3156993,1863720,2231114,1218983,2721297,2400421,2270305,1786518,1484237,1617309,2705106,1075395,1907924,1946658,4057355,1743275,2099516,1861090,811617,1082922,884857,4919934,3305356,2516940,2484141,4965816,951638,1003512,3980259,3063610,925763,3041589,5725838,2046197,2835426,2639706,3269762,1182673,3860921,2682809,1405569,2288642,2019559,1751660,1475433,1545664,1324544,1044537,1246258,1448630,1324138,1372334,1156836,899200,1001558,795048,771800,909297,1423773,918653,1141506,1238884,7434573,1033311,1620985,2739164,1247030,1247990,643191,1050908,2399652,1918894,832159,1111075,1090644,533128,1109757,1593836,1224796,1074343,1172640,1459741,1572431,1433150,1484816,1510715,1051715,565609,1085845,665052,913242,1276748,1067913,1386760,955937,1351819,1112028,879487,1083960,1211707,1038919,973925,1683062,1881971,994845,3668251,1147509,1355969,1300708,1507763,1959507,1040232,1205325,1619012,916949,1118821,932295,532632,2942994,598359,919697,974535,782690,475420,1592627,841165,902836,1747891,941922,1103605,1078495,1250043,1103673,804730,1744969,1233844,2023781,1227781,1264133,1649349,1269196,1004200,1024153,960510,1356247,2430731,1325458,1629014,1318806,1184769,1620433,1038336,979873,924471,1177858,1840118,1007706,920744,2729834,1041893,1741432,1418853,1355302,2498700,1179469,1711902,2348377,1182841,1258122,940547,2483460,3706109,1175087,1476080,1372524,1308629,1617365,1518137,1761796,2230065,1194146,2290576,1417685,1146575,1638315,1277663,1032772,2191207,1964718,1422028,1390787,858647,2164799,1111210,1748881,1845035,1244067,1112398,982275,1969729,1007221,1183012,1268693,1056793,2227722,630788,4853035,878388,1013886,1011715,1101218,1261203,1288569,1214131,983737,928929,1925497,2246417,1410229,1180179,1367761,1753670,1531114,878426,1440062,934432,1091909,1023254,708365,1384368,1303684,1475473,1064188,1841124,1232790,689062,3477581,8468684,1233335,1316019,2470123,2591906,1986512,1423340,1155836,1279562,859569,844219,1936706,2973736,979848,713922,1011180,680326,665182,1523940,1360732,900714,846738,848722,1585578,966275,1504818,1101598,334053,1399840,1592072,1969196,1309391,1625413,2085747,1969196,1915528,1535941,1504371,780199,1083087,889745,901513,1494788,1311160,1135788,2368847,634795,1241511,879474,1417606,1520133,1041866,1609689,1009729,1871558,6065576,1079741,883870,2520913,1476707,1450155,1973148,1308035,1235784,1063035,1071510,1057287,1596220,1499189,732131,1280749,944105,793846,1077725,1837397,1537308,2153444,1569427,1478921,1308705,3499675,863603,1492638,1589991,1290370,1000209,1450973,1225492,1904858,2079424,1855149,1392019,1305194,2189348,878716,1163083,822024,1171516,1096661,1015612,1143173,1297010,760628,1013514,776846,1266487,1228221,1060509,2534371,1170039,1142420,2049060,1678367,1271985,1499907,5974805,1173103,1470363,987068,1314452,1782716,865122,1765210,1398548,1629338,1311200,1333736,981689,3263276,1534298,1536004,1258618,1733820,1802496,1517621,888058,1590895,2594358,2757494,1615733,2452075,3750319,3508128,2955776,1991741,1242220,3499696,1358883,1536958,1432104,2322961,6836310,1228997,22418701,1368678,1278287,1547008,1298268,1278066,1832719,1276035,1694053,1426379,1760222,1282817,1836253,1282121,1735882,1192750,757177,1222518,1945381,1869916,2409009,1401651,3121256,1089565,2854721,1070835,1221063,1251883,1259728,1302662,1391896,2130335,1778297,1817814,2687900,1836008],\"yaxis\":\"y\",\"type\":\"scatter\"},{\"hovertemplate\":\"\\u003cb\\u003eOLS trendline\\u003c\\u002fb\\u003e\\u003cbr\\u003eviews = 4103.56 * bookmarks + 1.08489e+06\\u003cbr\\u003eR\\u003csup\\u003e2\\u003c\\u002fsup\\u003e=0.227857\\u003cbr\\u003e\\u003cbr\\u003ebookmarks=%{x}\\u003cbr\\u003eviews=%{y} \\u003cb\\u003e(trend)\\u003c\\u002fb\\u003e\\u003cextra\\u003e\\u003c\\u002fextra\\u003e\",\"legendgroup\":\"\",\"marker\":{\"color\":\"#636efa\",\"symbol\":\"circle\"},\"mode\":\"lines\",\"name\":\"\",\"showlegend\":false,\"x\":[0,0,0,0,0,0,0,0,0,0,0,0,0,0,0,0,0,0,2,2,2,2,3,3,3,3,3,3,3,4,4,4,4,4,5,5,5,5,5,5,6,6,6,6,6,6,6,6,6,6,7,7,7,7,7,7,7,7,8,8,8,8,8,8,8,9,9,9,9,9,9,9,9,9,10,10,10,10,10,10,10,10,10,11,11,11,11,11,11,11,11,11,11,11,11,11,11,12,12,12,12,12,12,12,12,12,12,12,12,12,12,13,13,13,13,13,13,13,13,13,13,13,13,13,13,13,13,13,13,13,14,14,14,14,14,14,14,14,14,14,14,15,15,15,15,15,15,15,15,15,15,15,15,15,15,15,15,15,15,15,15,16,16,16,16,16,16,16,16,16,16,16,16,16,16,16,17,17,17,17,17,17,17,17,17,17,17,17,17,17,17,17,17,17,17,17,17,18,18,18,18,18,18,18,18,18,18,18,18,18,18,19,19,19,19,19,19,19,19,19,19,19,19,19,19,19,19,19,20,20,20,20,20,20,20,20,20,20,20,20,20,20,20,20,20,20,20,20,20,20,21,21,21,21,21,21,21,21,21,21,21,21,21,21,21,21,22,22,22,22,22,22,22,22,22,22,22,22,22,22,23,23,23,23,23,23,23,23,23,23,23,23,23,23,23,23,23,23,23,23,24,24,24,24,24,24,24,24,24,24,24,24,25,25,25,25,25,25,25,25,25,25,25,26,26,26,26,26,26,26,26,26,26,26,26,26,26,27,27,27,27,27,27,27,27,27,27,27,28,28,28,28,28,28,28,28,28,28,29,29,29,29,29,29,29,29,29,29,29,29,29,29,29,30,30,30,30,30,30,30,30,30,30,30,31,31,31,31,31,31,31,31,31,31,31,31,31,31,31,31,32,32,32,32,32,32,32,32,32,33,33,33,33,33,33,33,33,33,33,33,33,33,34,34,34,34,34,34,34,34,34,34,35,35,35,35,35,35,35,35,35,35,36,36,36,36,36,36,36,36,36,36,36,37,37,37,37,37,38,38,38,38,38,38,38,38,38,38,39,39,39,39,40,40,40,40,40,40,40,40,40,41,41,41,41,41,41,41,42,42,42,42,42,42,42,42,42,42,42,43,43,43,43,43,44,44,44,44,44,44,44,44,44,45,45,45,45,46,46,46,47,47,47,47,47,48,48,49,49,49,49,49,49,50,50,51,51,51,51,51,52,52,52,52,52,52,53,53,53,53,54,54,54,54,54,54,54,55,55,55,55,55,55,56,56,56,56,58,58,59,59,59,60,60,60,61,61,62,62,62,62,62,63,63,64,64,64,64,64,65,65,65,65,66,66,66,66,67,67,67,67,68,68,68,69,70,70,70,70,70,71,71,71,71,72,73,73,74,74,74,74,76,76,76,76,77,77,78,78,78,78,78,79,79,79,80,80,80,80,80,80,81,81,81,81,82,83,83,83,84,84,84,84,85,85,86,86,86,87,87,87,88,88,88,88,89,89,90,91,91,91,92,92,93,93,93,93,95,95,97,98,98,99,99,100,100,100,101,102,102,102,102,102,103,104,104,104,106,106,106,106,107,107,107,108,108,108,109,109,109,111,112,113,113,113,114,114,115,115,116,117,118,118,118,118,118,120,121,123,123,124,125,127,128,128,130,131,133,134,134,134,136,136,139,140,144,144,147,148,151,151,151,152,153,154,154,154,156,157,159,161,164,169,169,170,173,173,173,174,175,176,185,186,192,196,196,204,204,204,212,214,215,215,219,232,238,239,245,249,252,253,253,259,264,266,277,282,283,288,292,294,302,309,312,316,321,325,330,336,339,358,360,370,395,419,419,473,478,486,500,517,522,522,528,618,654,744,749,760,825,928,964,2821],\"xaxis\":\"x\",\"y\":[1084890.3682090375,1084890.3682090375,1084890.3682090375,1084890.3682090375,1084890.3682090375,1084890.3682090375,1084890.3682090375,1084890.3682090375,1084890.3682090375,1084890.3682090375,1084890.3682090375,1084890.3682090375,1084890.3682090375,1084890.3682090375,1084890.3682090375,1084890.3682090375,1084890.3682090375,1084890.3682090375,1093097.4782868077,1093097.4782868077,1093097.4782868077,1093097.4782868077,1097201.0333256926,1097201.0333256926,1097201.0333256926,1097201.0333256926,1097201.0333256926,1097201.0333256926,1097201.0333256926,1101304.5883645776,1101304.5883645776,1101304.5883645776,1101304.5883645776,1101304.5883645776,1105408.1434034628,1105408.1434034628,1105408.1434034628,1105408.1434034628,1105408.1434034628,1105408.1434034628,1109511.6984423478,1109511.6984423478,1109511.6984423478,1109511.6984423478,1109511.6984423478,1109511.6984423478,1109511.6984423478,1109511.6984423478,1109511.6984423478,1109511.6984423478,1113615.2534812328,1113615.2534812328,1113615.2534812328,1113615.2534812328,1113615.2534812328,1113615.2534812328,1113615.2534812328,1113615.2534812328,1117718.8085201178,1117718.8085201178,1117718.8085201178,1117718.8085201178,1117718.8085201178,1117718.8085201178,1117718.8085201178,1121822.363559003,1121822.363559003,1121822.363559003,1121822.363559003,1121822.363559003,1121822.363559003,1121822.363559003,1121822.363559003,1121822.363559003,1125925.918597888,1125925.918597888,1125925.918597888,1125925.918597888,1125925.918597888,1125925.918597888,1125925.918597888,1125925.918597888,1125925.918597888,1130029.473636773,1130029.473636773,1130029.473636773,1130029.473636773,1130029.473636773,1130029.473636773,1130029.473636773,1130029.473636773,1130029.473636773,1130029.473636773,1130029.473636773,1130029.473636773,1130029.473636773,1130029.473636773,1134133.0286756582,1134133.0286756582,1134133.0286756582,1134133.0286756582,1134133.0286756582,1134133.0286756582,1134133.0286756582,1134133.0286756582,1134133.0286756582,1134133.0286756582,1134133.0286756582,1134133.0286756582,1134133.0286756582,1134133.0286756582,1138236.5837145431,1138236.5837145431,1138236.5837145431,1138236.5837145431,1138236.5837145431,1138236.5837145431,1138236.5837145431,1138236.5837145431,1138236.5837145431,1138236.5837145431,1138236.5837145431,1138236.5837145431,1138236.5837145431,1138236.5837145431,1138236.5837145431,1138236.5837145431,1138236.5837145431,1138236.5837145431,1138236.5837145431,1142340.1387534281,1142340.1387534281,1142340.1387534281,1142340.1387534281,1142340.1387534281,1142340.1387534281,1142340.1387534281,1142340.1387534281,1142340.1387534281,1142340.1387534281,1142340.1387534281,1146443.6937923133,1146443.6937923133,1146443.6937923133,1146443.6937923133,1146443.6937923133,1146443.6937923133,1146443.6937923133,1146443.6937923133,1146443.6937923133,1146443.6937923133,1146443.6937923133,1146443.6937923133,1146443.6937923133,1146443.6937923133,1146443.6937923133,1146443.6937923133,1146443.6937923133,1146443.6937923133,1146443.6937923133,1146443.6937923133,1150547.2488311983,1150547.2488311983,1150547.2488311983,1150547.2488311983,1150547.2488311983,1150547.2488311983,1150547.2488311983,1150547.2488311983,1150547.2488311983,1150547.2488311983,1150547.2488311983,1150547.2488311983,1150547.2488311983,1150547.2488311983,1150547.2488311983,1154650.8038700833,1154650.8038700833,1154650.8038700833,1154650.8038700833,1154650.8038700833,1154650.8038700833,1154650.8038700833,1154650.8038700833,1154650.8038700833,1154650.8038700833,1154650.8038700833,1154650.8038700833,1154650.8038700833,1154650.8038700833,1154650.8038700833,1154650.8038700833,1154650.8038700833,1154650.8038700833,1154650.8038700833,1154650.8038700833,1154650.8038700833,1158754.3589089685,1158754.3589089685,1158754.3589089685,1158754.3589089685,1158754.3589089685,1158754.3589089685,1158754.3589089685,1158754.3589089685,1158754.3589089685,1158754.3589089685,1158754.3589089685,1158754.3589089685,1158754.3589089685,1158754.3589089685,1162857.9139478535,1162857.9139478535,1162857.9139478535,1162857.9139478535,1162857.9139478535,1162857.9139478535,1162857.9139478535,1162857.9139478535,1162857.9139478535,1162857.9139478535,1162857.9139478535,1162857.9139478535,1162857.9139478535,1162857.9139478535,1162857.9139478535,1162857.9139478535,1162857.9139478535,1166961.4689867385,1166961.4689867385,1166961.4689867385,1166961.4689867385,1166961.4689867385,1166961.4689867385,1166961.4689867385,1166961.4689867385,1166961.4689867385,1166961.4689867385,1166961.4689867385,1166961.4689867385,1166961.4689867385,1166961.4689867385,1166961.4689867385,1166961.4689867385,1166961.4689867385,1166961.4689867385,1166961.4689867385,1166961.4689867385,1166961.4689867385,1166961.4689867385,1171065.0240256235,1171065.0240256235,1171065.0240256235,1171065.0240256235,1171065.0240256235,1171065.0240256235,1171065.0240256235,1171065.0240256235,1171065.0240256235,1171065.0240256235,1171065.0240256235,1171065.0240256235,1171065.0240256235,1171065.0240256235,1171065.0240256235,1171065.0240256235,1175168.5790645087,1175168.5790645087,1175168.5790645087,1175168.5790645087,1175168.5790645087,1175168.5790645087,1175168.5790645087,1175168.5790645087,1175168.5790645087,1175168.5790645087,1175168.5790645087,1175168.5790645087,1175168.5790645087,1175168.5790645087,1179272.1341033936,1179272.1341033936,1179272.1341033936,1179272.1341033936,1179272.1341033936,1179272.1341033936,1179272.1341033936,1179272.1341033936,1179272.1341033936,1179272.1341033936,1179272.1341033936,1179272.1341033936,1179272.1341033936,1179272.1341033936,1179272.1341033936,1179272.1341033936,1179272.1341033936,1179272.1341033936,1179272.1341033936,1179272.1341033936,1183375.6891422786,1183375.6891422786,1183375.6891422786,1183375.6891422786,1183375.6891422786,1183375.6891422786,1183375.6891422786,1183375.6891422786,1183375.6891422786,1183375.6891422786,1183375.6891422786,1183375.6891422786,1187479.2441811638,1187479.2441811638,1187479.2441811638,1187479.2441811638,1187479.2441811638,1187479.2441811638,1187479.2441811638,1187479.2441811638,1187479.2441811638,1187479.2441811638,1187479.2441811638,1191582.7992200488,1191582.7992200488,1191582.7992200488,1191582.7992200488,1191582.7992200488,1191582.7992200488,1191582.7992200488,1191582.7992200488,1191582.7992200488,1191582.7992200488,1191582.7992200488,1191582.7992200488,1191582.7992200488,1191582.7992200488,1195686.3542589338,1195686.3542589338,1195686.3542589338,1195686.3542589338,1195686.3542589338,1195686.3542589338,1195686.3542589338,1195686.3542589338,1195686.3542589338,1195686.3542589338,1195686.3542589338,1199789.9092978188,1199789.9092978188,1199789.9092978188,1199789.9092978188,1199789.9092978188,1199789.9092978188,1199789.9092978188,1199789.9092978188,1199789.9092978188,1199789.9092978188,1203893.464336704,1203893.464336704,1203893.464336704,1203893.464336704,1203893.464336704,1203893.464336704,1203893.464336704,1203893.464336704,1203893.464336704,1203893.464336704,1203893.464336704,1203893.464336704,1203893.464336704,1203893.464336704,1203893.464336704,1207997.019375589,1207997.019375589,1207997.019375589,1207997.019375589,1207997.019375589,1207997.019375589,1207997.019375589,1207997.019375589,1207997.019375589,1207997.019375589,1207997.019375589,1212100.574414474,1212100.574414474,1212100.574414474,1212100.574414474,1212100.574414474,1212100.574414474,1212100.574414474,1212100.574414474,1212100.574414474,1212100.574414474,1212100.574414474,1212100.574414474,1212100.574414474,1212100.574414474,1212100.574414474,1212100.574414474,1216204.1294533592,1216204.1294533592,1216204.1294533592,1216204.1294533592,1216204.1294533592,1216204.1294533592,1216204.1294533592,1216204.1294533592,1216204.1294533592,1220307.6844922442,1220307.6844922442,1220307.6844922442,1220307.6844922442,1220307.6844922442,1220307.6844922442,1220307.6844922442,1220307.6844922442,1220307.6844922442,1220307.6844922442,1220307.6844922442,1220307.6844922442,1220307.6844922442,1224411.2395311291,1224411.2395311291,1224411.2395311291,1224411.2395311291,1224411.2395311291,1224411.2395311291,1224411.2395311291,1224411.2395311291,1224411.2395311291,1224411.2395311291,1228514.7945700143,1228514.7945700143,1228514.7945700143,1228514.7945700143,1228514.7945700143,1228514.7945700143,1228514.7945700143,1228514.7945700143,1228514.7945700143,1228514.7945700143,1232618.3496088993,1232618.3496088993,1232618.3496088993,1232618.3496088993,1232618.3496088993,1232618.3496088993,1232618.3496088993,1232618.3496088993,1232618.3496088993,1232618.3496088993,1232618.3496088993,1236721.9046477843,1236721.9046477843,1236721.9046477843,1236721.9046477843,1236721.9046477843,1240825.4596866695,1240825.4596866695,1240825.4596866695,1240825.4596866695,1240825.4596866695,1240825.4596866695,1240825.4596866695,1240825.4596866695,1240825.4596866695,1240825.4596866695,1244929.0147255545,1244929.0147255545,1244929.0147255545,1244929.0147255545,1249032.5697644395,1249032.5697644395,1249032.5697644395,1249032.5697644395,1249032.5697644395,1249032.5697644395,1249032.5697644395,1249032.5697644395,1249032.5697644395,1253136.1248033247,1253136.1248033247,1253136.1248033247,1253136.1248033247,1253136.1248033247,1253136.1248033247,1253136.1248033247,1257239.6798422097,1257239.6798422097,1257239.6798422097,1257239.6798422097,1257239.6798422097,1257239.6798422097,1257239.6798422097,1257239.6798422097,1257239.6798422097,1257239.6798422097,1257239.6798422097,1261343.2348810947,1261343.2348810947,1261343.2348810947,1261343.2348810947,1261343.2348810947,1265446.7899199796,1265446.7899199796,1265446.7899199796,1265446.7899199796,1265446.7899199796,1265446.7899199796,1265446.7899199796,1265446.7899199796,1265446.7899199796,1269550.3449588649,1269550.3449588649,1269550.3449588649,1269550.3449588649,1273653.8999977498,1273653.8999977498,1273653.8999977498,1277757.4550366348,1277757.4550366348,1277757.4550366348,1277757.4550366348,1277757.4550366348,1281861.01007552,1281861.01007552,1285964.565114405,1285964.565114405,1285964.565114405,1285964.565114405,1285964.565114405,1285964.565114405,1290068.12015329,1290068.12015329,1294171.675192175,1294171.675192175,1294171.675192175,1294171.675192175,1294171.675192175,1298275.2302310602,1298275.2302310602,1298275.2302310602,1298275.2302310602,1298275.2302310602,1298275.2302310602,1302378.7852699452,1302378.7852699452,1302378.7852699452,1302378.7852699452,1306482.3403088301,1306482.3403088301,1306482.3403088301,1306482.3403088301,1306482.3403088301,1306482.3403088301,1306482.3403088301,1310585.8953477154,1310585.8953477154,1310585.8953477154,1310585.8953477154,1310585.8953477154,1310585.8953477154,1314689.4503866003,1314689.4503866003,1314689.4503866003,1314689.4503866003,1322896.5604643705,1322896.5604643705,1327000.1155032555,1327000.1155032555,1327000.1155032555,1331103.6705421405,1331103.6705421405,1331103.6705421405,1335207.2255810257,1335207.2255810257,1339310.7806199107,1339310.7806199107,1339310.7806199107,1339310.7806199107,1339310.7806199107,1343414.3356587957,1343414.3356587957,1347517.8906976809,1347517.8906976809,1347517.8906976809,1347517.8906976809,1347517.8906976809,1351621.4457365659,1351621.4457365659,1351621.4457365659,1351621.4457365659,1355725.0007754508,1355725.0007754508,1355725.0007754508,1355725.0007754508,1359828.555814336,1359828.555814336,1359828.555814336,1359828.555814336,1363932.110853221,1363932.110853221,1363932.110853221,1368035.665892106,1372139.220930991,1372139.220930991,1372139.220930991,1372139.220930991,1372139.220930991,1376242.7759698762,1376242.7759698762,1376242.7759698762,1376242.7759698762,1380346.3310087612,1384449.8860476462,1384449.8860476462,1388553.4410865312,1388553.4410865312,1388553.4410865312,1388553.4410865312,1396760.5511643013,1396760.5511643013,1396760.5511643013,1396760.5511643013,1400864.1062031863,1400864.1062031863,1404967.6612420715,1404967.6612420715,1404967.6612420715,1404967.6612420715,1404967.6612420715,1409071.2162809565,1409071.2162809565,1409071.2162809565,1413174.7713198415,1413174.7713198415,1413174.7713198415,1413174.7713198415,1413174.7713198415,1413174.7713198415,1417278.3263587267,1417278.3263587267,1417278.3263587267,1417278.3263587267,1421381.8813976117,1425485.4364364967,1425485.4364364967,1425485.4364364967,1429588.991475382,1429588.991475382,1429588.991475382,1429588.991475382,1433692.5465142669,1433692.5465142669,1437796.1015531518,1437796.1015531518,1437796.1015531518,1441899.656592037,1441899.656592037,1441899.656592037,1446003.211630922,1446003.211630922,1446003.211630922,1446003.211630922,1450106.766669807,1450106.766669807,1454210.3217086922,1458313.8767475772,1458313.8767475772,1458313.8767475772,1462417.4317864622,1462417.4317864622,1466520.9868253472,1466520.9868253472,1466520.9868253472,1466520.9868253472,1474728.0969031174,1474728.0969031174,1482935.2069808873,1487038.7620197725,1487038.7620197725,1491142.3170586575,1491142.3170586575,1495245.8720975425,1495245.8720975425,1495245.8720975425,1499349.4271364277,1503452.9821753127,1503452.9821753127,1503452.9821753127,1503452.9821753127,1503452.9821753127,1507556.5372141977,1511660.092253083,1511660.092253083,1511660.092253083,1519867.2023308529,1519867.2023308529,1519867.2023308529,1519867.2023308529,1523970.757369738,1523970.757369738,1523970.757369738,1528074.312408623,1528074.312408623,1528074.312408623,1532177.867447508,1532177.867447508,1532177.867447508,1540384.9775252782,1544488.5325641632,1548592.0876030484,1548592.0876030484,1548592.0876030484,1552695.6426419334,1552695.6426419334,1556799.1976808184,1556799.1976808184,1560902.7527197034,1565006.3077585886,1569109.8627974736,1569109.8627974736,1569109.8627974736,1569109.8627974736,1569109.8627974736,1577316.9728752435,1581420.5279141287,1589627.6379918987,1589627.6379918987,1593731.193030784,1597834.748069669,1606041.858147439,1610145.413186324,1610145.413186324,1618352.5232640943,1622456.0783029792,1630663.1883807494,1634766.7434196344,1634766.7434196344,1634766.7434196344,1642973.8534974046,1642973.8534974046,1655284.5186140598,1659388.0736529445,1675802.293808485,1675802.293808485,1688112.95892514,1692216.513964025,1704527.1790806802,1704527.1790806802,1704527.1790806802,1708630.7341195652,1712734.2891584504,1716837.8441973354,1716837.8441973354,1716837.8441973354,1725044.9542751056,1729148.5093139906,1737355.6193917608,1745562.7294695308,1757873.394586186,1778391.169780611,1778391.169780611,1782494.7248194963,1794805.3899361514,1794805.3899361514,1794805.3899361514,1798908.9449750364,1803012.5000139214,1807116.0550528066,1844048.0504027721,1848151.605441657,1872772.9356749672,1889187.1558305076,1889187.1558305076,1922015.596141588,1922015.596141588,1922015.596141588,1954844.0364526683,1963051.1465304384,1967154.7015693234,1967154.7015693234,1983568.9217248638,2036915.1372303693,2061536.4674636796,2065640.0225025648,2090261.3527358752,2106675.572891415,2118986.2380080707,2123089.7930469555,2123089.7930469555,2147711.123280266,2168228.898474691,2176436.008552461,2221575.1139801964,2242092.889174622,2246196.4442135068,2266714.2194079324,2283128.4395634728,2291335.5496412427,2324163.989952323,2352888.8752245186,2365199.5403411733,2381613.7604967137,2402131.5356911393,2418545.755846679,2439063.5310411043,2463684.8612744147,2475995.52639107,2553963.0721298857,2562170.182207656,2603205.7325965064,2705794.608568633,2804279.9295018744,2804279.9295018744,3025871.9016016666,3046389.676796092,3079218.1171071725,3136667.887651563,3206428.323312609,3226946.0985070346,3226946.0985070346,3251567.4287403445,3620887.3822399992,3768615.3636398613,4137935.3171395157,4158453.0923339413,4203592.197761677,4470323.275289205,4892989.444294365,5040717.425694227,12661019.132903768],\"yaxis\":\"y\",\"type\":\"scatter\"}],                        {\"template\":{\"data\":{\"histogram2dcontour\":[{\"type\":\"histogram2dcontour\",\"colorbar\":{\"outlinewidth\":0,\"ticks\":\"\"},\"colorscale\":[[0.0,\"#0d0887\"],[0.1111111111111111,\"#46039f\"],[0.2222222222222222,\"#7201a8\"],[0.3333333333333333,\"#9c179e\"],[0.4444444444444444,\"#bd3786\"],[0.5555555555555556,\"#d8576b\"],[0.6666666666666666,\"#ed7953\"],[0.7777777777777778,\"#fb9f3a\"],[0.8888888888888888,\"#fdca26\"],[1.0,\"#f0f921\"]]}],\"choropleth\":[{\"type\":\"choropleth\",\"colorbar\":{\"outlinewidth\":0,\"ticks\":\"\"}}],\"histogram2d\":[{\"type\":\"histogram2d\",\"colorbar\":{\"outlinewidth\":0,\"ticks\":\"\"},\"colorscale\":[[0.0,\"#0d0887\"],[0.1111111111111111,\"#46039f\"],[0.2222222222222222,\"#7201a8\"],[0.3333333333333333,\"#9c179e\"],[0.4444444444444444,\"#bd3786\"],[0.5555555555555556,\"#d8576b\"],[0.6666666666666666,\"#ed7953\"],[0.7777777777777778,\"#fb9f3a\"],[0.8888888888888888,\"#fdca26\"],[1.0,\"#f0f921\"]]}],\"heatmap\":[{\"type\":\"heatmap\",\"colorbar\":{\"outlinewidth\":0,\"ticks\":\"\"},\"colorscale\":[[0.0,\"#0d0887\"],[0.1111111111111111,\"#46039f\"],[0.2222222222222222,\"#7201a8\"],[0.3333333333333333,\"#9c179e\"],[0.4444444444444444,\"#bd3786\"],[0.5555555555555556,\"#d8576b\"],[0.6666666666666666,\"#ed7953\"],[0.7777777777777778,\"#fb9f3a\"],[0.8888888888888888,\"#fdca26\"],[1.0,\"#f0f921\"]]}],\"heatmapgl\":[{\"type\":\"heatmapgl\",\"colorbar\":{\"outlinewidth\":0,\"ticks\":\"\"},\"colorscale\":[[0.0,\"#0d0887\"],[0.1111111111111111,\"#46039f\"],[0.2222222222222222,\"#7201a8\"],[0.3333333333333333,\"#9c179e\"],[0.4444444444444444,\"#bd3786\"],[0.5555555555555556,\"#d8576b\"],[0.6666666666666666,\"#ed7953\"],[0.7777777777777778,\"#fb9f3a\"],[0.8888888888888888,\"#fdca26\"],[1.0,\"#f0f921\"]]}],\"contourcarpet\":[{\"type\":\"contourcarpet\",\"colorbar\":{\"outlinewidth\":0,\"ticks\":\"\"}}],\"contour\":[{\"type\":\"contour\",\"colorbar\":{\"outlinewidth\":0,\"ticks\":\"\"},\"colorscale\":[[0.0,\"#0d0887\"],[0.1111111111111111,\"#46039f\"],[0.2222222222222222,\"#7201a8\"],[0.3333333333333333,\"#9c179e\"],[0.4444444444444444,\"#bd3786\"],[0.5555555555555556,\"#d8576b\"],[0.6666666666666666,\"#ed7953\"],[0.7777777777777778,\"#fb9f3a\"],[0.8888888888888888,\"#fdca26\"],[1.0,\"#f0f921\"]]}],\"surface\":[{\"type\":\"surface\",\"colorbar\":{\"outlinewidth\":0,\"ticks\":\"\"},\"colorscale\":[[0.0,\"#0d0887\"],[0.1111111111111111,\"#46039f\"],[0.2222222222222222,\"#7201a8\"],[0.3333333333333333,\"#9c179e\"],[0.4444444444444444,\"#bd3786\"],[0.5555555555555556,\"#d8576b\"],[0.6666666666666666,\"#ed7953\"],[0.7777777777777778,\"#fb9f3a\"],[0.8888888888888888,\"#fdca26\"],[1.0,\"#f0f921\"]]}],\"mesh3d\":[{\"type\":\"mesh3d\",\"colorbar\":{\"outlinewidth\":0,\"ticks\":\"\"}}],\"scatter\":[{\"fillpattern\":{\"fillmode\":\"overlay\",\"size\":10,\"solidity\":0.2},\"type\":\"scatter\"}],\"parcoords\":[{\"type\":\"parcoords\",\"line\":{\"colorbar\":{\"outlinewidth\":0,\"ticks\":\"\"}}}],\"scatterpolargl\":[{\"type\":\"scatterpolargl\",\"marker\":{\"colorbar\":{\"outlinewidth\":0,\"ticks\":\"\"}}}],\"bar\":[{\"error_x\":{\"color\":\"#2a3f5f\"},\"error_y\":{\"color\":\"#2a3f5f\"},\"marker\":{\"line\":{\"color\":\"#E5ECF6\",\"width\":0.5},\"pattern\":{\"fillmode\":\"overlay\",\"size\":10,\"solidity\":0.2}},\"type\":\"bar\"}],\"scattergeo\":[{\"type\":\"scattergeo\",\"marker\":{\"colorbar\":{\"outlinewidth\":0,\"ticks\":\"\"}}}],\"scatterpolar\":[{\"type\":\"scatterpolar\",\"marker\":{\"colorbar\":{\"outlinewidth\":0,\"ticks\":\"\"}}}],\"histogram\":[{\"marker\":{\"pattern\":{\"fillmode\":\"overlay\",\"size\":10,\"solidity\":0.2}},\"type\":\"histogram\"}],\"scattergl\":[{\"type\":\"scattergl\",\"marker\":{\"colorbar\":{\"outlinewidth\":0,\"ticks\":\"\"}}}],\"scatter3d\":[{\"type\":\"scatter3d\",\"line\":{\"colorbar\":{\"outlinewidth\":0,\"ticks\":\"\"}},\"marker\":{\"colorbar\":{\"outlinewidth\":0,\"ticks\":\"\"}}}],\"scattermapbox\":[{\"type\":\"scattermapbox\",\"marker\":{\"colorbar\":{\"outlinewidth\":0,\"ticks\":\"\"}}}],\"scatterternary\":[{\"type\":\"scatterternary\",\"marker\":{\"colorbar\":{\"outlinewidth\":0,\"ticks\":\"\"}}}],\"scattercarpet\":[{\"type\":\"scattercarpet\",\"marker\":{\"colorbar\":{\"outlinewidth\":0,\"ticks\":\"\"}}}],\"carpet\":[{\"aaxis\":{\"endlinecolor\":\"#2a3f5f\",\"gridcolor\":\"white\",\"linecolor\":\"white\",\"minorgridcolor\":\"white\",\"startlinecolor\":\"#2a3f5f\"},\"baxis\":{\"endlinecolor\":\"#2a3f5f\",\"gridcolor\":\"white\",\"linecolor\":\"white\",\"minorgridcolor\":\"white\",\"startlinecolor\":\"#2a3f5f\"},\"type\":\"carpet\"}],\"table\":[{\"cells\":{\"fill\":{\"color\":\"#EBF0F8\"},\"line\":{\"color\":\"white\"}},\"header\":{\"fill\":{\"color\":\"#C8D4E3\"},\"line\":{\"color\":\"white\"}},\"type\":\"table\"}],\"barpolar\":[{\"marker\":{\"line\":{\"color\":\"#E5ECF6\",\"width\":0.5},\"pattern\":{\"fillmode\":\"overlay\",\"size\":10,\"solidity\":0.2}},\"type\":\"barpolar\"}],\"pie\":[{\"automargin\":true,\"type\":\"pie\"}]},\"layout\":{\"autotypenumbers\":\"strict\",\"colorway\":[\"#636efa\",\"#EF553B\",\"#00cc96\",\"#ab63fa\",\"#FFA15A\",\"#19d3f3\",\"#FF6692\",\"#B6E880\",\"#FF97FF\",\"#FECB52\"],\"font\":{\"color\":\"#2a3f5f\"},\"hovermode\":\"closest\",\"hoverlabel\":{\"align\":\"left\"},\"paper_bgcolor\":\"white\",\"plot_bgcolor\":\"#E5ECF6\",\"polar\":{\"bgcolor\":\"#E5ECF6\",\"angularaxis\":{\"gridcolor\":\"white\",\"linecolor\":\"white\",\"ticks\":\"\"},\"radialaxis\":{\"gridcolor\":\"white\",\"linecolor\":\"white\",\"ticks\":\"\"}},\"ternary\":{\"bgcolor\":\"#E5ECF6\",\"aaxis\":{\"gridcolor\":\"white\",\"linecolor\":\"white\",\"ticks\":\"\"},\"baxis\":{\"gridcolor\":\"white\",\"linecolor\":\"white\",\"ticks\":\"\"},\"caxis\":{\"gridcolor\":\"white\",\"linecolor\":\"white\",\"ticks\":\"\"}},\"coloraxis\":{\"colorbar\":{\"outlinewidth\":0,\"ticks\":\"\"}},\"colorscale\":{\"sequential\":[[0.0,\"#0d0887\"],[0.1111111111111111,\"#46039f\"],[0.2222222222222222,\"#7201a8\"],[0.3333333333333333,\"#9c179e\"],[0.4444444444444444,\"#bd3786\"],[0.5555555555555556,\"#d8576b\"],[0.6666666666666666,\"#ed7953\"],[0.7777777777777778,\"#fb9f3a\"],[0.8888888888888888,\"#fdca26\"],[1.0,\"#f0f921\"]],\"sequentialminus\":[[0.0,\"#0d0887\"],[0.1111111111111111,\"#46039f\"],[0.2222222222222222,\"#7201a8\"],[0.3333333333333333,\"#9c179e\"],[0.4444444444444444,\"#bd3786\"],[0.5555555555555556,\"#d8576b\"],[0.6666666666666666,\"#ed7953\"],[0.7777777777777778,\"#fb9f3a\"],[0.8888888888888888,\"#fdca26\"],[1.0,\"#f0f921\"]],\"diverging\":[[0,\"#8e0152\"],[0.1,\"#c51b7d\"],[0.2,\"#de77ae\"],[0.3,\"#f1b6da\"],[0.4,\"#fde0ef\"],[0.5,\"#f7f7f7\"],[0.6,\"#e6f5d0\"],[0.7,\"#b8e186\"],[0.8,\"#7fbc41\"],[0.9,\"#4d9221\"],[1,\"#276419\"]]},\"xaxis\":{\"gridcolor\":\"white\",\"linecolor\":\"white\",\"ticks\":\"\",\"title\":{\"standoff\":15},\"zerolinecolor\":\"white\",\"automargin\":true,\"zerolinewidth\":2},\"yaxis\":{\"gridcolor\":\"white\",\"linecolor\":\"white\",\"ticks\":\"\",\"title\":{\"standoff\":15},\"zerolinecolor\":\"white\",\"automargin\":true,\"zerolinewidth\":2},\"scene\":{\"xaxis\":{\"backgroundcolor\":\"#E5ECF6\",\"gridcolor\":\"white\",\"linecolor\":\"white\",\"showbackground\":true,\"ticks\":\"\",\"zerolinecolor\":\"white\",\"gridwidth\":2},\"yaxis\":{\"backgroundcolor\":\"#E5ECF6\",\"gridcolor\":\"white\",\"linecolor\":\"white\",\"showbackground\":true,\"ticks\":\"\",\"zerolinecolor\":\"white\",\"gridwidth\":2},\"zaxis\":{\"backgroundcolor\":\"#E5ECF6\",\"gridcolor\":\"white\",\"linecolor\":\"white\",\"showbackground\":true,\"ticks\":\"\",\"zerolinecolor\":\"white\",\"gridwidth\":2}},\"shapedefaults\":{\"line\":{\"color\":\"#2a3f5f\"}},\"annotationdefaults\":{\"arrowcolor\":\"#2a3f5f\",\"arrowhead\":0,\"arrowwidth\":1},\"geo\":{\"bgcolor\":\"white\",\"landcolor\":\"#E5ECF6\",\"subunitcolor\":\"white\",\"showland\":true,\"showlakes\":true,\"lakecolor\":\"white\"},\"title\":{\"x\":0.05},\"mapbox\":{\"style\":\"light\"}}},\"xaxis\":{\"anchor\":\"y\",\"domain\":[0.0,1.0],\"title\":{\"text\":\"bookmarks\"}},\"yaxis\":{\"anchor\":\"x\",\"domain\":[0.0,1.0],\"title\":{\"text\":\"views\"}},\"legend\":{\"tracegroupgap\":0,\"itemsizing\":\"constant\"},\"title\":{\"text\":\"Relationship Between views and bookmarks\"}},                        {\"responsive\": true}                    ).then(function(){\n",
              "                            \n",
              "var gd = document.getElementById('10a21b36-eae6-4000-88a5-c2ba969f6b5e');\n",
              "var x = new MutationObserver(function (mutations, observer) {{\n",
              "        var display = window.getComputedStyle(gd).display;\n",
              "        if (!display || display === 'none') {{\n",
              "            console.log([gd, 'removed!']);\n",
              "            Plotly.purge(gd);\n",
              "            observer.disconnect();\n",
              "        }}\n",
              "}});\n",
              "\n",
              "// Listen for the removal of the full notebook cells\n",
              "var notebookContainer = gd.closest('#notebook-container');\n",
              "if (notebookContainer) {{\n",
              "    x.observe(notebookContainer, {childList: true});\n",
              "}}\n",
              "\n",
              "// Listen for the clearing of the current output cell\n",
              "var outputEl = gd.closest('.output');\n",
              "if (outputEl) {{\n",
              "    x.observe(outputEl, {childList: true});\n",
              "}}\n",
              "\n",
              "                        })                };                            </script>        </div>\n",
              "</body>\n",
              "</html>"
            ]
          },
          "metadata": {}
        }
      ]
    },
    {
      "cell_type": "markdown",
      "source": [
        "# Preprocessing"
      ],
      "metadata": {
        "id": "gvh3qkcRdwSO"
      }
    },
    {
      "cell_type": "code",
      "source": [
        "df.head(1)"
      ],
      "metadata": {
        "colab": {
          "base_uri": "https://localhost:8080/",
          "height": 170
        },
        "id": "4XGyZ61cd1x3",
        "outputId": "4b9cabaf-1195-4425-b053-fcf808b2e8de"
      },
      "execution_count": null,
      "outputs": [
        {
          "output_type": "execute_result",
          "data": {
            "text/plain": [
              "   replies  reposts  likes  bookmarks   views  Is_reposted  Images  Videos  \\\n",
              "0      174      278   1748         33  494034            0       1       1   \n",
              "\n",
              "        date                time  \\\n",
              "0 2023-12-29 2024-01-04 15:06:23   \n",
              "\n",
              "                                                text month_name day_of_week  \\\n",
              "0  It's been a year full of science on the @Space...   December      Friday   \n",
              "\n",
              "  hour_interval  \n",
              "0             3  "
            ],
            "text/html": [
              "\n",
              "  <div id=\"df-a8d53a7d-1b3f-42b5-bd40-4a58566956b1\" class=\"colab-df-container\">\n",
              "    <div>\n",
              "<style scoped>\n",
              "    .dataframe tbody tr th:only-of-type {\n",
              "        vertical-align: middle;\n",
              "    }\n",
              "\n",
              "    .dataframe tbody tr th {\n",
              "        vertical-align: top;\n",
              "    }\n",
              "\n",
              "    .dataframe thead th {\n",
              "        text-align: right;\n",
              "    }\n",
              "</style>\n",
              "<table border=\"1\" class=\"dataframe\">\n",
              "  <thead>\n",
              "    <tr style=\"text-align: right;\">\n",
              "      <th></th>\n",
              "      <th>replies</th>\n",
              "      <th>reposts</th>\n",
              "      <th>likes</th>\n",
              "      <th>bookmarks</th>\n",
              "      <th>views</th>\n",
              "      <th>Is_reposted</th>\n",
              "      <th>Images</th>\n",
              "      <th>Videos</th>\n",
              "      <th>date</th>\n",
              "      <th>time</th>\n",
              "      <th>text</th>\n",
              "      <th>month_name</th>\n",
              "      <th>day_of_week</th>\n",
              "      <th>hour_interval</th>\n",
              "    </tr>\n",
              "  </thead>\n",
              "  <tbody>\n",
              "    <tr>\n",
              "      <th>0</th>\n",
              "      <td>174</td>\n",
              "      <td>278</td>\n",
              "      <td>1748</td>\n",
              "      <td>33</td>\n",
              "      <td>494034</td>\n",
              "      <td>0</td>\n",
              "      <td>1</td>\n",
              "      <td>1</td>\n",
              "      <td>2023-12-29</td>\n",
              "      <td>2024-01-04 15:06:23</td>\n",
              "      <td>It's been a year full of science on the @Space...</td>\n",
              "      <td>December</td>\n",
              "      <td>Friday</td>\n",
              "      <td>3</td>\n",
              "    </tr>\n",
              "  </tbody>\n",
              "</table>\n",
              "</div>\n",
              "    <div class=\"colab-df-buttons\">\n",
              "\n",
              "  <div class=\"colab-df-container\">\n",
              "    <button class=\"colab-df-convert\" onclick=\"convertToInteractive('df-a8d53a7d-1b3f-42b5-bd40-4a58566956b1')\"\n",
              "            title=\"Convert this dataframe to an interactive table.\"\n",
              "            style=\"display:none;\">\n",
              "\n",
              "  <svg xmlns=\"http://www.w3.org/2000/svg\" height=\"24px\" viewBox=\"0 -960 960 960\">\n",
              "    <path d=\"M120-120v-720h720v720H120Zm60-500h600v-160H180v160Zm220 220h160v-160H400v160Zm0 220h160v-160H400v160ZM180-400h160v-160H180v160Zm440 0h160v-160H620v160ZM180-180h160v-160H180v160Zm440 0h160v-160H620v160Z\"/>\n",
              "  </svg>\n",
              "    </button>\n",
              "\n",
              "  <style>\n",
              "    .colab-df-container {\n",
              "      display:flex;\n",
              "      gap: 12px;\n",
              "    }\n",
              "\n",
              "    .colab-df-convert {\n",
              "      background-color: #E8F0FE;\n",
              "      border: none;\n",
              "      border-radius: 50%;\n",
              "      cursor: pointer;\n",
              "      display: none;\n",
              "      fill: #1967D2;\n",
              "      height: 32px;\n",
              "      padding: 0 0 0 0;\n",
              "      width: 32px;\n",
              "    }\n",
              "\n",
              "    .colab-df-convert:hover {\n",
              "      background-color: #E2EBFA;\n",
              "      box-shadow: 0px 1px 2px rgba(60, 64, 67, 0.3), 0px 1px 3px 1px rgba(60, 64, 67, 0.15);\n",
              "      fill: #174EA6;\n",
              "    }\n",
              "\n",
              "    .colab-df-buttons div {\n",
              "      margin-bottom: 4px;\n",
              "    }\n",
              "\n",
              "    [theme=dark] .colab-df-convert {\n",
              "      background-color: #3B4455;\n",
              "      fill: #D2E3FC;\n",
              "    }\n",
              "\n",
              "    [theme=dark] .colab-df-convert:hover {\n",
              "      background-color: #434B5C;\n",
              "      box-shadow: 0px 1px 3px 1px rgba(0, 0, 0, 0.15);\n",
              "      filter: drop-shadow(0px 1px 2px rgba(0, 0, 0, 0.3));\n",
              "      fill: #FFFFFF;\n",
              "    }\n",
              "  </style>\n",
              "\n",
              "    <script>\n",
              "      const buttonEl =\n",
              "        document.querySelector('#df-a8d53a7d-1b3f-42b5-bd40-4a58566956b1 button.colab-df-convert');\n",
              "      buttonEl.style.display =\n",
              "        google.colab.kernel.accessAllowed ? 'block' : 'none';\n",
              "\n",
              "      async function convertToInteractive(key) {\n",
              "        const element = document.querySelector('#df-a8d53a7d-1b3f-42b5-bd40-4a58566956b1');\n",
              "        const dataTable =\n",
              "          await google.colab.kernel.invokeFunction('convertToInteractive',\n",
              "                                                    [key], {});\n",
              "        if (!dataTable) return;\n",
              "\n",
              "        const docLinkHtml = 'Like what you see? Visit the ' +\n",
              "          '<a target=\"_blank\" href=https://colab.research.google.com/notebooks/data_table.ipynb>data table notebook</a>'\n",
              "          + ' to learn more about interactive tables.';\n",
              "        element.innerHTML = '';\n",
              "        dataTable['output_type'] = 'display_data';\n",
              "        await google.colab.output.renderOutput(dataTable, element);\n",
              "        const docLink = document.createElement('div');\n",
              "        docLink.innerHTML = docLinkHtml;\n",
              "        element.appendChild(docLink);\n",
              "      }\n",
              "    </script>\n",
              "  </div>\n",
              "\n",
              "\n",
              "    </div>\n",
              "  </div>\n"
            ]
          },
          "metadata": {},
          "execution_count": 640
        }
      ]
    },
    {
      "cell_type": "code",
      "source": [
        "df.drop(columns=[\"date\",\"time\",\"text\",\"month_name\"],inplace=True)\n",
        "df.head(2)"
      ],
      "metadata": {
        "colab": {
          "base_uri": "https://localhost:8080/",
          "height": 112
        },
        "id": "IdSM1P1th3r5",
        "outputId": "f1f11845-ec6d-4015-f998-5cf4a1a34e23"
      },
      "execution_count": null,
      "outputs": [
        {
          "output_type": "execute_result",
          "data": {
            "text/plain": [
              "   replies  reposts  likes  bookmarks   views  Is_reposted  Images  Videos  \\\n",
              "0      174      278   1748         33  494034            0       1       1   \n",
              "1      123     1015   4748         66  617053            1       2       1   \n",
              "\n",
              "  day_of_week hour_interval  \n",
              "0      Friday             3  \n",
              "1    Thursday             3  "
            ],
            "text/html": [
              "\n",
              "  <div id=\"df-b8403c95-fc45-4af6-842b-437ab7ae8040\" class=\"colab-df-container\">\n",
              "    <div>\n",
              "<style scoped>\n",
              "    .dataframe tbody tr th:only-of-type {\n",
              "        vertical-align: middle;\n",
              "    }\n",
              "\n",
              "    .dataframe tbody tr th {\n",
              "        vertical-align: top;\n",
              "    }\n",
              "\n",
              "    .dataframe thead th {\n",
              "        text-align: right;\n",
              "    }\n",
              "</style>\n",
              "<table border=\"1\" class=\"dataframe\">\n",
              "  <thead>\n",
              "    <tr style=\"text-align: right;\">\n",
              "      <th></th>\n",
              "      <th>replies</th>\n",
              "      <th>reposts</th>\n",
              "      <th>likes</th>\n",
              "      <th>bookmarks</th>\n",
              "      <th>views</th>\n",
              "      <th>Is_reposted</th>\n",
              "      <th>Images</th>\n",
              "      <th>Videos</th>\n",
              "      <th>day_of_week</th>\n",
              "      <th>hour_interval</th>\n",
              "    </tr>\n",
              "  </thead>\n",
              "  <tbody>\n",
              "    <tr>\n",
              "      <th>0</th>\n",
              "      <td>174</td>\n",
              "      <td>278</td>\n",
              "      <td>1748</td>\n",
              "      <td>33</td>\n",
              "      <td>494034</td>\n",
              "      <td>0</td>\n",
              "      <td>1</td>\n",
              "      <td>1</td>\n",
              "      <td>Friday</td>\n",
              "      <td>3</td>\n",
              "    </tr>\n",
              "    <tr>\n",
              "      <th>1</th>\n",
              "      <td>123</td>\n",
              "      <td>1015</td>\n",
              "      <td>4748</td>\n",
              "      <td>66</td>\n",
              "      <td>617053</td>\n",
              "      <td>1</td>\n",
              "      <td>2</td>\n",
              "      <td>1</td>\n",
              "      <td>Thursday</td>\n",
              "      <td>3</td>\n",
              "    </tr>\n",
              "  </tbody>\n",
              "</table>\n",
              "</div>\n",
              "    <div class=\"colab-df-buttons\">\n",
              "\n",
              "  <div class=\"colab-df-container\">\n",
              "    <button class=\"colab-df-convert\" onclick=\"convertToInteractive('df-b8403c95-fc45-4af6-842b-437ab7ae8040')\"\n",
              "            title=\"Convert this dataframe to an interactive table.\"\n",
              "            style=\"display:none;\">\n",
              "\n",
              "  <svg xmlns=\"http://www.w3.org/2000/svg\" height=\"24px\" viewBox=\"0 -960 960 960\">\n",
              "    <path d=\"M120-120v-720h720v720H120Zm60-500h600v-160H180v160Zm220 220h160v-160H400v160Zm0 220h160v-160H400v160ZM180-400h160v-160H180v160Zm440 0h160v-160H620v160ZM180-180h160v-160H180v160Zm440 0h160v-160H620v160Z\"/>\n",
              "  </svg>\n",
              "    </button>\n",
              "\n",
              "  <style>\n",
              "    .colab-df-container {\n",
              "      display:flex;\n",
              "      gap: 12px;\n",
              "    }\n",
              "\n",
              "    .colab-df-convert {\n",
              "      background-color: #E8F0FE;\n",
              "      border: none;\n",
              "      border-radius: 50%;\n",
              "      cursor: pointer;\n",
              "      display: none;\n",
              "      fill: #1967D2;\n",
              "      height: 32px;\n",
              "      padding: 0 0 0 0;\n",
              "      width: 32px;\n",
              "    }\n",
              "\n",
              "    .colab-df-convert:hover {\n",
              "      background-color: #E2EBFA;\n",
              "      box-shadow: 0px 1px 2px rgba(60, 64, 67, 0.3), 0px 1px 3px 1px rgba(60, 64, 67, 0.15);\n",
              "      fill: #174EA6;\n",
              "    }\n",
              "\n",
              "    .colab-df-buttons div {\n",
              "      margin-bottom: 4px;\n",
              "    }\n",
              "\n",
              "    [theme=dark] .colab-df-convert {\n",
              "      background-color: #3B4455;\n",
              "      fill: #D2E3FC;\n",
              "    }\n",
              "\n",
              "    [theme=dark] .colab-df-convert:hover {\n",
              "      background-color: #434B5C;\n",
              "      box-shadow: 0px 1px 3px 1px rgba(0, 0, 0, 0.15);\n",
              "      filter: drop-shadow(0px 1px 2px rgba(0, 0, 0, 0.3));\n",
              "      fill: #FFFFFF;\n",
              "    }\n",
              "  </style>\n",
              "\n",
              "    <script>\n",
              "      const buttonEl =\n",
              "        document.querySelector('#df-b8403c95-fc45-4af6-842b-437ab7ae8040 button.colab-df-convert');\n",
              "      buttonEl.style.display =\n",
              "        google.colab.kernel.accessAllowed ? 'block' : 'none';\n",
              "\n",
              "      async function convertToInteractive(key) {\n",
              "        const element = document.querySelector('#df-b8403c95-fc45-4af6-842b-437ab7ae8040');\n",
              "        const dataTable =\n",
              "          await google.colab.kernel.invokeFunction('convertToInteractive',\n",
              "                                                    [key], {});\n",
              "        if (!dataTable) return;\n",
              "\n",
              "        const docLinkHtml = 'Like what you see? Visit the ' +\n",
              "          '<a target=\"_blank\" href=https://colab.research.google.com/notebooks/data_table.ipynb>data table notebook</a>'\n",
              "          + ' to learn more about interactive tables.';\n",
              "        element.innerHTML = '';\n",
              "        dataTable['output_type'] = 'display_data';\n",
              "        await google.colab.output.renderOutput(dataTable, element);\n",
              "        const docLink = document.createElement('div');\n",
              "        docLink.innerHTML = docLinkHtml;\n",
              "        element.appendChild(docLink);\n",
              "      }\n",
              "    </script>\n",
              "  </div>\n",
              "\n",
              "\n",
              "<div id=\"df-7c35a3b2-705d-4afc-8bf3-2ec00737f995\">\n",
              "  <button class=\"colab-df-quickchart\" onclick=\"quickchart('df-7c35a3b2-705d-4afc-8bf3-2ec00737f995')\"\n",
              "            title=\"Suggest charts\"\n",
              "            style=\"display:none;\">\n",
              "\n",
              "<svg xmlns=\"http://www.w3.org/2000/svg\" height=\"24px\"viewBox=\"0 0 24 24\"\n",
              "     width=\"24px\">\n",
              "    <g>\n",
              "        <path d=\"M19 3H5c-1.1 0-2 .9-2 2v14c0 1.1.9 2 2 2h14c1.1 0 2-.9 2-2V5c0-1.1-.9-2-2-2zM9 17H7v-7h2v7zm4 0h-2V7h2v10zm4 0h-2v-4h2v4z\"/>\n",
              "    </g>\n",
              "</svg>\n",
              "  </button>\n",
              "\n",
              "<style>\n",
              "  .colab-df-quickchart {\n",
              "      --bg-color: #E8F0FE;\n",
              "      --fill-color: #1967D2;\n",
              "      --hover-bg-color: #E2EBFA;\n",
              "      --hover-fill-color: #174EA6;\n",
              "      --disabled-fill-color: #AAA;\n",
              "      --disabled-bg-color: #DDD;\n",
              "  }\n",
              "\n",
              "  [theme=dark] .colab-df-quickchart {\n",
              "      --bg-color: #3B4455;\n",
              "      --fill-color: #D2E3FC;\n",
              "      --hover-bg-color: #434B5C;\n",
              "      --hover-fill-color: #FFFFFF;\n",
              "      --disabled-bg-color: #3B4455;\n",
              "      --disabled-fill-color: #666;\n",
              "  }\n",
              "\n",
              "  .colab-df-quickchart {\n",
              "    background-color: var(--bg-color);\n",
              "    border: none;\n",
              "    border-radius: 50%;\n",
              "    cursor: pointer;\n",
              "    display: none;\n",
              "    fill: var(--fill-color);\n",
              "    height: 32px;\n",
              "    padding: 0;\n",
              "    width: 32px;\n",
              "  }\n",
              "\n",
              "  .colab-df-quickchart:hover {\n",
              "    background-color: var(--hover-bg-color);\n",
              "    box-shadow: 0 1px 2px rgba(60, 64, 67, 0.3), 0 1px 3px 1px rgba(60, 64, 67, 0.15);\n",
              "    fill: var(--button-hover-fill-color);\n",
              "  }\n",
              "\n",
              "  .colab-df-quickchart-complete:disabled,\n",
              "  .colab-df-quickchart-complete:disabled:hover {\n",
              "    background-color: var(--disabled-bg-color);\n",
              "    fill: var(--disabled-fill-color);\n",
              "    box-shadow: none;\n",
              "  }\n",
              "\n",
              "  .colab-df-spinner {\n",
              "    border: 2px solid var(--fill-color);\n",
              "    border-color: transparent;\n",
              "    border-bottom-color: var(--fill-color);\n",
              "    animation:\n",
              "      spin 1s steps(1) infinite;\n",
              "  }\n",
              "\n",
              "  @keyframes spin {\n",
              "    0% {\n",
              "      border-color: transparent;\n",
              "      border-bottom-color: var(--fill-color);\n",
              "      border-left-color: var(--fill-color);\n",
              "    }\n",
              "    20% {\n",
              "      border-color: transparent;\n",
              "      border-left-color: var(--fill-color);\n",
              "      border-top-color: var(--fill-color);\n",
              "    }\n",
              "    30% {\n",
              "      border-color: transparent;\n",
              "      border-left-color: var(--fill-color);\n",
              "      border-top-color: var(--fill-color);\n",
              "      border-right-color: var(--fill-color);\n",
              "    }\n",
              "    40% {\n",
              "      border-color: transparent;\n",
              "      border-right-color: var(--fill-color);\n",
              "      border-top-color: var(--fill-color);\n",
              "    }\n",
              "    60% {\n",
              "      border-color: transparent;\n",
              "      border-right-color: var(--fill-color);\n",
              "    }\n",
              "    80% {\n",
              "      border-color: transparent;\n",
              "      border-right-color: var(--fill-color);\n",
              "      border-bottom-color: var(--fill-color);\n",
              "    }\n",
              "    90% {\n",
              "      border-color: transparent;\n",
              "      border-bottom-color: var(--fill-color);\n",
              "    }\n",
              "  }\n",
              "</style>\n",
              "\n",
              "  <script>\n",
              "    async function quickchart(key) {\n",
              "      const quickchartButtonEl =\n",
              "        document.querySelector('#' + key + ' button');\n",
              "      quickchartButtonEl.disabled = true;  // To prevent multiple clicks.\n",
              "      quickchartButtonEl.classList.add('colab-df-spinner');\n",
              "      try {\n",
              "        const charts = await google.colab.kernel.invokeFunction(\n",
              "            'suggestCharts', [key], {});\n",
              "      } catch (error) {\n",
              "        console.error('Error during call to suggestCharts:', error);\n",
              "      }\n",
              "      quickchartButtonEl.classList.remove('colab-df-spinner');\n",
              "      quickchartButtonEl.classList.add('colab-df-quickchart-complete');\n",
              "    }\n",
              "    (() => {\n",
              "      let quickchartButtonEl =\n",
              "        document.querySelector('#df-7c35a3b2-705d-4afc-8bf3-2ec00737f995 button');\n",
              "      quickchartButtonEl.style.display =\n",
              "        google.colab.kernel.accessAllowed ? 'block' : 'none';\n",
              "    })();\n",
              "  </script>\n",
              "</div>\n",
              "\n",
              "    </div>\n",
              "  </div>\n"
            ]
          },
          "metadata": {},
          "execution_count": 641
        }
      ]
    },
    {
      "cell_type": "code",
      "source": [
        "df.info()"
      ],
      "metadata": {
        "colab": {
          "base_uri": "https://localhost:8080/"
        },
        "id": "PRBlbnGlu15C",
        "outputId": "19e17e10-f0ca-4c3e-8a8f-826c25486ae3"
      },
      "execution_count": null,
      "outputs": [
        {
          "output_type": "stream",
          "name": "stdout",
          "text": [
            "<class 'pandas.core.frame.DataFrame'>\n",
            "RangeIndex: 833 entries, 0 to 832\n",
            "Data columns (total 10 columns):\n",
            " #   Column         Non-Null Count  Dtype   \n",
            "---  ------         --------------  -----   \n",
            " 0   replies        833 non-null    int64   \n",
            " 1   reposts        833 non-null    int64   \n",
            " 2   likes          833 non-null    int64   \n",
            " 3   bookmarks      833 non-null    int64   \n",
            " 4   views          833 non-null    int64   \n",
            " 5   Is_reposted    833 non-null    int64   \n",
            " 6   Images         833 non-null    int64   \n",
            " 7   Videos         833 non-null    int64   \n",
            " 8   day_of_week    833 non-null    object  \n",
            " 9   hour_interval  833 non-null    category\n",
            "dtypes: category(1), int64(8), object(1)\n",
            "memory usage: 59.7+ KB\n"
          ]
        }
      ]
    },
    {
      "cell_type": "code",
      "source": [
        "from sklearn.compose import ColumnTransformer\n",
        "from sklearn.model_selection import train_test_split\n",
        "from sklearn.pipeline import Pipeline, make_pipeline\n",
        "from sklearn.preprocessing import OneHotEncoder, RobustScaler\n",
        "import numpy as np"
      ],
      "metadata": {
        "id": "rBS4RxOwwhP1"
      },
      "execution_count": null,
      "outputs": []
    },
    {
      "cell_type": "code",
      "source": [
        "y = df[\"bookmarks\"]\n",
        "x = df.drop(columns=[\"bookmarks\"])"
      ],
      "metadata": {
        "id": "4bc-I_fqxb-P"
      },
      "execution_count": null,
      "outputs": []
    },
    {
      "cell_type": "code",
      "source": [
        "x_train, x_test_values, y_train, y_test_values = train_test_split(x, y, test_size=0.2, random_state=42)"
      ],
      "metadata": {
        "id": "o2pzY1q7zoZH"
      },
      "execution_count": null,
      "outputs": []
    },
    {
      "cell_type": "code",
      "source": [
        "# Identify numeric and string columns\n",
        "numeric_cols = list(x.select_dtypes(include=[ 'int64']).columns)\n",
        "string_cols = list(x.select_dtypes(include=['object','category']).columns)\n",
        "print(\"Numeric cols:\",numeric_cols)\n",
        "print(\"String cols:\",string_cols)"
      ],
      "metadata": {
        "colab": {
          "base_uri": "https://localhost:8080/"
        },
        "id": "uMrlAzwOzriw",
        "outputId": "23cfece6-3626-43cd-f07d-80a3037d6b23"
      },
      "execution_count": null,
      "outputs": [
        {
          "output_type": "stream",
          "name": "stdout",
          "text": [
            "Numeric cols: ['replies', 'reposts', 'likes', 'views', 'Is_reposted', 'Images', 'Videos']\n",
            "String cols: ['day_of_week', 'hour_interval']\n"
          ]
        }
      ]
    },
    {
      "cell_type": "code",
      "source": [
        "numeric_cols.remove(\"Is_reposted\")\n",
        "#string_cols.remove(\"id\")\n",
        "string_cols.append(\"Is_reposted\")"
      ],
      "metadata": {
        "id": "uFlIV2lk0yip"
      },
      "execution_count": null,
      "outputs": []
    },
    {
      "cell_type": "code",
      "source": [
        "print(\"Numeric cols:\",numeric_cols)\n",
        "print(\"String cols:\",string_cols)"
      ],
      "metadata": {
        "colab": {
          "base_uri": "https://localhost:8080/"
        },
        "id": "FF9D-5V461ZK",
        "outputId": "aaab99de-060d-4fb2-ea8e-9683e2908a6c"
      },
      "execution_count": null,
      "outputs": [
        {
          "output_type": "stream",
          "name": "stdout",
          "text": [
            "Numeric cols: ['replies', 'reposts', 'likes', 'views', 'Images', 'Videos']\n",
            "String cols: ['day_of_week', 'hour_interval', 'Is_reposted']\n"
          ]
        }
      ]
    },
    {
      "cell_type": "code",
      "source": [
        "from sklearn.preprocessing import StandardScaler"
      ],
      "metadata": {
        "id": "_j0NZMjT3RW4"
      },
      "execution_count": null,
      "outputs": []
    },
    {
      "cell_type": "code",
      "source": [
        "# Create transformers with specified columns\n",
        "numeric_transformer = Pipeline(steps=[\n",
        "    ('scaler', StandardScaler())\n",
        "])\n",
        "\n",
        "string_transformer = Pipeline(steps=[\n",
        "    ('onehot', OneHotEncoder(handle_unknown='ignore'))\n",
        "])"
      ],
      "metadata": {
        "id": "zwIggiAbwbqr"
      },
      "execution_count": null,
      "outputs": []
    },
    {
      "cell_type": "code",
      "source": [
        "from sklearn.compose import make_column_transformer"
      ],
      "metadata": {
        "id": "MA24qSG84EpV"
      },
      "execution_count": null,
      "outputs": []
    },
    {
      "cell_type": "code",
      "source": [
        "# Create column transformer\n",
        "preprocessor = make_column_transformer(\n",
        "    (numeric_transformer, numeric_cols),\n",
        "    (string_transformer, string_cols)\n",
        ")\n",
        "\n",
        "# Create the full pipeline\n",
        "pipeline = make_pipeline(preprocessor)"
      ],
      "metadata": {
        "id": "iPZx_x0-31Ls"
      },
      "execution_count": null,
      "outputs": []
    },
    {
      "cell_type": "code",
      "source": [
        "# Apply the pipeline to the DataFrame\n",
        "x_train_transformed = pipeline.fit_transform(x_train)"
      ],
      "metadata": {
        "id": "ibG3Igc14R6A"
      },
      "execution_count": null,
      "outputs": []
    },
    {
      "cell_type": "code",
      "source": [
        "print(x_train_transformed[0])"
      ],
      "metadata": {
        "colab": {
          "base_uri": "https://localhost:8080/"
        },
        "id": "avAq37Sh4V4D",
        "outputId": "954d25ae-cbc8-45b0-f6b3-e94f3fe3d5b1"
      },
      "execution_count": null,
      "outputs": [
        {
          "output_type": "stream",
          "name": "stdout",
          "text": [
            "[-0.04554984  1.14782034  1.16466779  0.41455606 -0.38621829 -0.67155074\n",
            "  0.          0.          0.          0.          1.          0.\n",
            "  0.          0.          0.          0.          1.          1.\n",
            "  0.        ]\n"
          ]
        }
      ]
    },
    {
      "cell_type": "code",
      "source": [
        "total_cols = numeric_cols + [\"day_1\",\"day_2\",\"day_3\",\"day_4\",\"day_5\",\"day_6\",\"day_7\",\"time_1\",\"time_2\",\"time_3\",\"time_4\",\"repost_1\",\"repost_2\"]\n",
        "x_train_transformed = pd.DataFrame(x_train_transformed, columns=total_cols)\n",
        "x_train_transformed.head()"
      ],
      "metadata": {
        "colab": {
          "base_uri": "https://localhost:8080/",
          "height": 226
        },
        "id": "PvOd3_YF7hDr",
        "outputId": "7e011983-e359-442d-bbfd-bc4527818dec"
      },
      "execution_count": null,
      "outputs": [
        {
          "output_type": "execute_result",
          "data": {
            "text/plain": [
              "    replies   reposts     likes     views    Images    Videos  day_1  day_2  \\\n",
              "0 -0.045550  1.147820  1.164668  0.414556 -0.386218 -0.671551    0.0    0.0   \n",
              "1 -0.076978 -0.370881 -0.488248 -0.401133 -1.605277 -0.671551    1.0    0.0   \n",
              "2 -0.134287 -0.597873 -0.668920 -0.459985 -0.386218 -0.671551    0.0    0.0   \n",
              "3  0.026549  0.579913  0.612722  0.764695 -0.386218 -0.671551    0.0    0.0   \n",
              "4  0.312173  1.348258  1.704153  0.666854 -0.386218 -0.671551    0.0    0.0   \n",
              "\n",
              "   day_3  day_4  day_5  day_6  day_7  time_1  time_2  time_3  time_4  \\\n",
              "0    0.0    0.0    1.0    0.0    0.0     0.0     0.0     0.0     1.0   \n",
              "1    0.0    0.0    0.0    0.0    0.0     0.0     0.0     1.0     0.0   \n",
              "2    0.0    0.0    0.0    0.0    1.0     0.0     0.0     1.0     0.0   \n",
              "3    0.0    0.0    1.0    0.0    0.0     0.0     0.0     1.0     0.0   \n",
              "4    0.0    1.0    0.0    0.0    0.0     0.0     0.0     0.0     1.0   \n",
              "\n",
              "   repost_1  repost_2  \n",
              "0       1.0       0.0  \n",
              "1       1.0       0.0  \n",
              "2       1.0       0.0  \n",
              "3       1.0       0.0  \n",
              "4       1.0       0.0  "
            ],
            "text/html": [
              "\n",
              "  <div id=\"df-04262e9a-4ed2-4521-8268-a86fc940edfb\" class=\"colab-df-container\">\n",
              "    <div>\n",
              "<style scoped>\n",
              "    .dataframe tbody tr th:only-of-type {\n",
              "        vertical-align: middle;\n",
              "    }\n",
              "\n",
              "    .dataframe tbody tr th {\n",
              "        vertical-align: top;\n",
              "    }\n",
              "\n",
              "    .dataframe thead th {\n",
              "        text-align: right;\n",
              "    }\n",
              "</style>\n",
              "<table border=\"1\" class=\"dataframe\">\n",
              "  <thead>\n",
              "    <tr style=\"text-align: right;\">\n",
              "      <th></th>\n",
              "      <th>replies</th>\n",
              "      <th>reposts</th>\n",
              "      <th>likes</th>\n",
              "      <th>views</th>\n",
              "      <th>Images</th>\n",
              "      <th>Videos</th>\n",
              "      <th>day_1</th>\n",
              "      <th>day_2</th>\n",
              "      <th>day_3</th>\n",
              "      <th>day_4</th>\n",
              "      <th>day_5</th>\n",
              "      <th>day_6</th>\n",
              "      <th>day_7</th>\n",
              "      <th>time_1</th>\n",
              "      <th>time_2</th>\n",
              "      <th>time_3</th>\n",
              "      <th>time_4</th>\n",
              "      <th>repost_1</th>\n",
              "      <th>repost_2</th>\n",
              "    </tr>\n",
              "  </thead>\n",
              "  <tbody>\n",
              "    <tr>\n",
              "      <th>0</th>\n",
              "      <td>-0.045550</td>\n",
              "      <td>1.147820</td>\n",
              "      <td>1.164668</td>\n",
              "      <td>0.414556</td>\n",
              "      <td>-0.386218</td>\n",
              "      <td>-0.671551</td>\n",
              "      <td>0.0</td>\n",
              "      <td>0.0</td>\n",
              "      <td>0.0</td>\n",
              "      <td>0.0</td>\n",
              "      <td>1.0</td>\n",
              "      <td>0.0</td>\n",
              "      <td>0.0</td>\n",
              "      <td>0.0</td>\n",
              "      <td>0.0</td>\n",
              "      <td>0.0</td>\n",
              "      <td>1.0</td>\n",
              "      <td>1.0</td>\n",
              "      <td>0.0</td>\n",
              "    </tr>\n",
              "    <tr>\n",
              "      <th>1</th>\n",
              "      <td>-0.076978</td>\n",
              "      <td>-0.370881</td>\n",
              "      <td>-0.488248</td>\n",
              "      <td>-0.401133</td>\n",
              "      <td>-1.605277</td>\n",
              "      <td>-0.671551</td>\n",
              "      <td>1.0</td>\n",
              "      <td>0.0</td>\n",
              "      <td>0.0</td>\n",
              "      <td>0.0</td>\n",
              "      <td>0.0</td>\n",
              "      <td>0.0</td>\n",
              "      <td>0.0</td>\n",
              "      <td>0.0</td>\n",
              "      <td>0.0</td>\n",
              "      <td>1.0</td>\n",
              "      <td>0.0</td>\n",
              "      <td>1.0</td>\n",
              "      <td>0.0</td>\n",
              "    </tr>\n",
              "    <tr>\n",
              "      <th>2</th>\n",
              "      <td>-0.134287</td>\n",
              "      <td>-0.597873</td>\n",
              "      <td>-0.668920</td>\n",
              "      <td>-0.459985</td>\n",
              "      <td>-0.386218</td>\n",
              "      <td>-0.671551</td>\n",
              "      <td>0.0</td>\n",
              "      <td>0.0</td>\n",
              "      <td>0.0</td>\n",
              "      <td>0.0</td>\n",
              "      <td>0.0</td>\n",
              "      <td>0.0</td>\n",
              "      <td>1.0</td>\n",
              "      <td>0.0</td>\n",
              "      <td>0.0</td>\n",
              "      <td>1.0</td>\n",
              "      <td>0.0</td>\n",
              "      <td>1.0</td>\n",
              "      <td>0.0</td>\n",
              "    </tr>\n",
              "    <tr>\n",
              "      <th>3</th>\n",
              "      <td>0.026549</td>\n",
              "      <td>0.579913</td>\n",
              "      <td>0.612722</td>\n",
              "      <td>0.764695</td>\n",
              "      <td>-0.386218</td>\n",
              "      <td>-0.671551</td>\n",
              "      <td>0.0</td>\n",
              "      <td>0.0</td>\n",
              "      <td>0.0</td>\n",
              "      <td>0.0</td>\n",
              "      <td>1.0</td>\n",
              "      <td>0.0</td>\n",
              "      <td>0.0</td>\n",
              "      <td>0.0</td>\n",
              "      <td>0.0</td>\n",
              "      <td>1.0</td>\n",
              "      <td>0.0</td>\n",
              "      <td>1.0</td>\n",
              "      <td>0.0</td>\n",
              "    </tr>\n",
              "    <tr>\n",
              "      <th>4</th>\n",
              "      <td>0.312173</td>\n",
              "      <td>1.348258</td>\n",
              "      <td>1.704153</td>\n",
              "      <td>0.666854</td>\n",
              "      <td>-0.386218</td>\n",
              "      <td>-0.671551</td>\n",
              "      <td>0.0</td>\n",
              "      <td>0.0</td>\n",
              "      <td>0.0</td>\n",
              "      <td>1.0</td>\n",
              "      <td>0.0</td>\n",
              "      <td>0.0</td>\n",
              "      <td>0.0</td>\n",
              "      <td>0.0</td>\n",
              "      <td>0.0</td>\n",
              "      <td>0.0</td>\n",
              "      <td>1.0</td>\n",
              "      <td>1.0</td>\n",
              "      <td>0.0</td>\n",
              "    </tr>\n",
              "  </tbody>\n",
              "</table>\n",
              "</div>\n",
              "    <div class=\"colab-df-buttons\">\n",
              "\n",
              "  <div class=\"colab-df-container\">\n",
              "    <button class=\"colab-df-convert\" onclick=\"convertToInteractive('df-04262e9a-4ed2-4521-8268-a86fc940edfb')\"\n",
              "            title=\"Convert this dataframe to an interactive table.\"\n",
              "            style=\"display:none;\">\n",
              "\n",
              "  <svg xmlns=\"http://www.w3.org/2000/svg\" height=\"24px\" viewBox=\"0 -960 960 960\">\n",
              "    <path d=\"M120-120v-720h720v720H120Zm60-500h600v-160H180v160Zm220 220h160v-160H400v160Zm0 220h160v-160H400v160ZM180-400h160v-160H180v160Zm440 0h160v-160H620v160ZM180-180h160v-160H180v160Zm440 0h160v-160H620v160Z\"/>\n",
              "  </svg>\n",
              "    </button>\n",
              "\n",
              "  <style>\n",
              "    .colab-df-container {\n",
              "      display:flex;\n",
              "      gap: 12px;\n",
              "    }\n",
              "\n",
              "    .colab-df-convert {\n",
              "      background-color: #E8F0FE;\n",
              "      border: none;\n",
              "      border-radius: 50%;\n",
              "      cursor: pointer;\n",
              "      display: none;\n",
              "      fill: #1967D2;\n",
              "      height: 32px;\n",
              "      padding: 0 0 0 0;\n",
              "      width: 32px;\n",
              "    }\n",
              "\n",
              "    .colab-df-convert:hover {\n",
              "      background-color: #E2EBFA;\n",
              "      box-shadow: 0px 1px 2px rgba(60, 64, 67, 0.3), 0px 1px 3px 1px rgba(60, 64, 67, 0.15);\n",
              "      fill: #174EA6;\n",
              "    }\n",
              "\n",
              "    .colab-df-buttons div {\n",
              "      margin-bottom: 4px;\n",
              "    }\n",
              "\n",
              "    [theme=dark] .colab-df-convert {\n",
              "      background-color: #3B4455;\n",
              "      fill: #D2E3FC;\n",
              "    }\n",
              "\n",
              "    [theme=dark] .colab-df-convert:hover {\n",
              "      background-color: #434B5C;\n",
              "      box-shadow: 0px 1px 3px 1px rgba(0, 0, 0, 0.15);\n",
              "      filter: drop-shadow(0px 1px 2px rgba(0, 0, 0, 0.3));\n",
              "      fill: #FFFFFF;\n",
              "    }\n",
              "  </style>\n",
              "\n",
              "    <script>\n",
              "      const buttonEl =\n",
              "        document.querySelector('#df-04262e9a-4ed2-4521-8268-a86fc940edfb button.colab-df-convert');\n",
              "      buttonEl.style.display =\n",
              "        google.colab.kernel.accessAllowed ? 'block' : 'none';\n",
              "\n",
              "      async function convertToInteractive(key) {\n",
              "        const element = document.querySelector('#df-04262e9a-4ed2-4521-8268-a86fc940edfb');\n",
              "        const dataTable =\n",
              "          await google.colab.kernel.invokeFunction('convertToInteractive',\n",
              "                                                    [key], {});\n",
              "        if (!dataTable) return;\n",
              "\n",
              "        const docLinkHtml = 'Like what you see? Visit the ' +\n",
              "          '<a target=\"_blank\" href=https://colab.research.google.com/notebooks/data_table.ipynb>data table notebook</a>'\n",
              "          + ' to learn more about interactive tables.';\n",
              "        element.innerHTML = '';\n",
              "        dataTable['output_type'] = 'display_data';\n",
              "        await google.colab.output.renderOutput(dataTable, element);\n",
              "        const docLink = document.createElement('div');\n",
              "        docLink.innerHTML = docLinkHtml;\n",
              "        element.appendChild(docLink);\n",
              "      }\n",
              "    </script>\n",
              "  </div>\n",
              "\n",
              "\n",
              "<div id=\"df-a9294619-bf45-400f-bf09-0d0e1fde821e\">\n",
              "  <button class=\"colab-df-quickchart\" onclick=\"quickchart('df-a9294619-bf45-400f-bf09-0d0e1fde821e')\"\n",
              "            title=\"Suggest charts\"\n",
              "            style=\"display:none;\">\n",
              "\n",
              "<svg xmlns=\"http://www.w3.org/2000/svg\" height=\"24px\"viewBox=\"0 0 24 24\"\n",
              "     width=\"24px\">\n",
              "    <g>\n",
              "        <path d=\"M19 3H5c-1.1 0-2 .9-2 2v14c0 1.1.9 2 2 2h14c1.1 0 2-.9 2-2V5c0-1.1-.9-2-2-2zM9 17H7v-7h2v7zm4 0h-2V7h2v10zm4 0h-2v-4h2v4z\"/>\n",
              "    </g>\n",
              "</svg>\n",
              "  </button>\n",
              "\n",
              "<style>\n",
              "  .colab-df-quickchart {\n",
              "      --bg-color: #E8F0FE;\n",
              "      --fill-color: #1967D2;\n",
              "      --hover-bg-color: #E2EBFA;\n",
              "      --hover-fill-color: #174EA6;\n",
              "      --disabled-fill-color: #AAA;\n",
              "      --disabled-bg-color: #DDD;\n",
              "  }\n",
              "\n",
              "  [theme=dark] .colab-df-quickchart {\n",
              "      --bg-color: #3B4455;\n",
              "      --fill-color: #D2E3FC;\n",
              "      --hover-bg-color: #434B5C;\n",
              "      --hover-fill-color: #FFFFFF;\n",
              "      --disabled-bg-color: #3B4455;\n",
              "      --disabled-fill-color: #666;\n",
              "  }\n",
              "\n",
              "  .colab-df-quickchart {\n",
              "    background-color: var(--bg-color);\n",
              "    border: none;\n",
              "    border-radius: 50%;\n",
              "    cursor: pointer;\n",
              "    display: none;\n",
              "    fill: var(--fill-color);\n",
              "    height: 32px;\n",
              "    padding: 0;\n",
              "    width: 32px;\n",
              "  }\n",
              "\n",
              "  .colab-df-quickchart:hover {\n",
              "    background-color: var(--hover-bg-color);\n",
              "    box-shadow: 0 1px 2px rgba(60, 64, 67, 0.3), 0 1px 3px 1px rgba(60, 64, 67, 0.15);\n",
              "    fill: var(--button-hover-fill-color);\n",
              "  }\n",
              "\n",
              "  .colab-df-quickchart-complete:disabled,\n",
              "  .colab-df-quickchart-complete:disabled:hover {\n",
              "    background-color: var(--disabled-bg-color);\n",
              "    fill: var(--disabled-fill-color);\n",
              "    box-shadow: none;\n",
              "  }\n",
              "\n",
              "  .colab-df-spinner {\n",
              "    border: 2px solid var(--fill-color);\n",
              "    border-color: transparent;\n",
              "    border-bottom-color: var(--fill-color);\n",
              "    animation:\n",
              "      spin 1s steps(1) infinite;\n",
              "  }\n",
              "\n",
              "  @keyframes spin {\n",
              "    0% {\n",
              "      border-color: transparent;\n",
              "      border-bottom-color: var(--fill-color);\n",
              "      border-left-color: var(--fill-color);\n",
              "    }\n",
              "    20% {\n",
              "      border-color: transparent;\n",
              "      border-left-color: var(--fill-color);\n",
              "      border-top-color: var(--fill-color);\n",
              "    }\n",
              "    30% {\n",
              "      border-color: transparent;\n",
              "      border-left-color: var(--fill-color);\n",
              "      border-top-color: var(--fill-color);\n",
              "      border-right-color: var(--fill-color);\n",
              "    }\n",
              "    40% {\n",
              "      border-color: transparent;\n",
              "      border-right-color: var(--fill-color);\n",
              "      border-top-color: var(--fill-color);\n",
              "    }\n",
              "    60% {\n",
              "      border-color: transparent;\n",
              "      border-right-color: var(--fill-color);\n",
              "    }\n",
              "    80% {\n",
              "      border-color: transparent;\n",
              "      border-right-color: var(--fill-color);\n",
              "      border-bottom-color: var(--fill-color);\n",
              "    }\n",
              "    90% {\n",
              "      border-color: transparent;\n",
              "      border-bottom-color: var(--fill-color);\n",
              "    }\n",
              "  }\n",
              "</style>\n",
              "\n",
              "  <script>\n",
              "    async function quickchart(key) {\n",
              "      const quickchartButtonEl =\n",
              "        document.querySelector('#' + key + ' button');\n",
              "      quickchartButtonEl.disabled = true;  // To prevent multiple clicks.\n",
              "      quickchartButtonEl.classList.add('colab-df-spinner');\n",
              "      try {\n",
              "        const charts = await google.colab.kernel.invokeFunction(\n",
              "            'suggestCharts', [key], {});\n",
              "      } catch (error) {\n",
              "        console.error('Error during call to suggestCharts:', error);\n",
              "      }\n",
              "      quickchartButtonEl.classList.remove('colab-df-spinner');\n",
              "      quickchartButtonEl.classList.add('colab-df-quickchart-complete');\n",
              "    }\n",
              "    (() => {\n",
              "      let quickchartButtonEl =\n",
              "        document.querySelector('#df-a9294619-bf45-400f-bf09-0d0e1fde821e button');\n",
              "      quickchartButtonEl.style.display =\n",
              "        google.colab.kernel.accessAllowed ? 'block' : 'none';\n",
              "    })();\n",
              "  </script>\n",
              "</div>\n",
              "\n",
              "    </div>\n",
              "  </div>\n"
            ]
          },
          "metadata": {},
          "execution_count": 655
        }
      ]
    },
    {
      "cell_type": "code",
      "source": [
        "y_train[0]"
      ],
      "metadata": {
        "colab": {
          "base_uri": "https://localhost:8080/"
        },
        "id": "H2z53gNF9GhS",
        "outputId": "242b3413-6b93-48a0-cb2e-9932c58a4730"
      },
      "execution_count": null,
      "outputs": [
        {
          "output_type": "execute_result",
          "data": {
            "text/plain": [
              "33"
            ]
          },
          "metadata": {},
          "execution_count": 656
        }
      ]
    },
    {
      "cell_type": "markdown",
      "source": [
        "# Data Modelling"
      ],
      "metadata": {
        "id": "kbY5YSgZ_r3X"
      }
    },
    {
      "cell_type": "code",
      "source": [
        "from sklearn.preprocessing import PolynomialFeatures\n",
        "from sklearn.linear_model import BayesianRidge\n",
        "model = make_pipeline(PolynomialFeatures(), BayesianRidge())\n",
        "model.fit(x_train_transformed,y_train)"
      ],
      "metadata": {
        "id": "W1mcsLF6_wLp",
        "colab": {
          "base_uri": "https://localhost:8080/",
          "height": 124
        },
        "outputId": "827d2e1e-5399-4c1f-beea-4f5f51b951eb"
      },
      "execution_count": null,
      "outputs": [
        {
          "output_type": "execute_result",
          "data": {
            "text/plain": [
              "Pipeline(steps=[('polynomialfeatures', PolynomialFeatures()),\n",
              "                ('bayesianridge', BayesianRidge())])"
            ],
            "text/html": [
              "<style>#sk-container-id-45 {color: black;background-color: white;}#sk-container-id-45 pre{padding: 0;}#sk-container-id-45 div.sk-toggleable {background-color: white;}#sk-container-id-45 label.sk-toggleable__label {cursor: pointer;display: block;width: 100%;margin-bottom: 0;padding: 0.3em;box-sizing: border-box;text-align: center;}#sk-container-id-45 label.sk-toggleable__label-arrow:before {content: \"▸\";float: left;margin-right: 0.25em;color: #696969;}#sk-container-id-45 label.sk-toggleable__label-arrow:hover:before {color: black;}#sk-container-id-45 div.sk-estimator:hover label.sk-toggleable__label-arrow:before {color: black;}#sk-container-id-45 div.sk-toggleable__content {max-height: 0;max-width: 0;overflow: hidden;text-align: left;background-color: #f0f8ff;}#sk-container-id-45 div.sk-toggleable__content pre {margin: 0.2em;color: black;border-radius: 0.25em;background-color: #f0f8ff;}#sk-container-id-45 input.sk-toggleable__control:checked~div.sk-toggleable__content {max-height: 200px;max-width: 100%;overflow: auto;}#sk-container-id-45 input.sk-toggleable__control:checked~label.sk-toggleable__label-arrow:before {content: \"▾\";}#sk-container-id-45 div.sk-estimator input.sk-toggleable__control:checked~label.sk-toggleable__label {background-color: #d4ebff;}#sk-container-id-45 div.sk-label input.sk-toggleable__control:checked~label.sk-toggleable__label {background-color: #d4ebff;}#sk-container-id-45 input.sk-hidden--visually {border: 0;clip: rect(1px 1px 1px 1px);clip: rect(1px, 1px, 1px, 1px);height: 1px;margin: -1px;overflow: hidden;padding: 0;position: absolute;width: 1px;}#sk-container-id-45 div.sk-estimator {font-family: monospace;background-color: #f0f8ff;border: 1px dotted black;border-radius: 0.25em;box-sizing: border-box;margin-bottom: 0.5em;}#sk-container-id-45 div.sk-estimator:hover {background-color: #d4ebff;}#sk-container-id-45 div.sk-parallel-item::after {content: \"\";width: 100%;border-bottom: 1px solid gray;flex-grow: 1;}#sk-container-id-45 div.sk-label:hover label.sk-toggleable__label {background-color: #d4ebff;}#sk-container-id-45 div.sk-serial::before {content: \"\";position: absolute;border-left: 1px solid gray;box-sizing: border-box;top: 0;bottom: 0;left: 50%;z-index: 0;}#sk-container-id-45 div.sk-serial {display: flex;flex-direction: column;align-items: center;background-color: white;padding-right: 0.2em;padding-left: 0.2em;position: relative;}#sk-container-id-45 div.sk-item {position: relative;z-index: 1;}#sk-container-id-45 div.sk-parallel {display: flex;align-items: stretch;justify-content: center;background-color: white;position: relative;}#sk-container-id-45 div.sk-item::before, #sk-container-id-45 div.sk-parallel-item::before {content: \"\";position: absolute;border-left: 1px solid gray;box-sizing: border-box;top: 0;bottom: 0;left: 50%;z-index: -1;}#sk-container-id-45 div.sk-parallel-item {display: flex;flex-direction: column;z-index: 1;position: relative;background-color: white;}#sk-container-id-45 div.sk-parallel-item:first-child::after {align-self: flex-end;width: 50%;}#sk-container-id-45 div.sk-parallel-item:last-child::after {align-self: flex-start;width: 50%;}#sk-container-id-45 div.sk-parallel-item:only-child::after {width: 0;}#sk-container-id-45 div.sk-dashed-wrapped {border: 1px dashed gray;margin: 0 0.4em 0.5em 0.4em;box-sizing: border-box;padding-bottom: 0.4em;background-color: white;}#sk-container-id-45 div.sk-label label {font-family: monospace;font-weight: bold;display: inline-block;line-height: 1.2em;}#sk-container-id-45 div.sk-label-container {text-align: center;}#sk-container-id-45 div.sk-container {/* jupyter's `normalize.less` sets `[hidden] { display: none; }` but bootstrap.min.css set `[hidden] { display: none !important; }` so we also need the `!important` here to be able to override the default hidden behavior on the sphinx rendered scikit-learn.org. See: https://github.com/scikit-learn/scikit-learn/issues/21755 */display: inline-block !important;position: relative;}#sk-container-id-45 div.sk-text-repr-fallback {display: none;}</style><div id=\"sk-container-id-45\" class=\"sk-top-container\"><div class=\"sk-text-repr-fallback\"><pre>Pipeline(steps=[(&#x27;polynomialfeatures&#x27;, PolynomialFeatures()),\n",
              "                (&#x27;bayesianridge&#x27;, BayesianRidge())])</pre><b>In a Jupyter environment, please rerun this cell to show the HTML representation or trust the notebook. <br />On GitHub, the HTML representation is unable to render, please try loading this page with nbviewer.org.</b></div><div class=\"sk-container\" hidden><div class=\"sk-item sk-dashed-wrapped\"><div class=\"sk-label-container\"><div class=\"sk-label sk-toggleable\"><input class=\"sk-toggleable__control sk-hidden--visually\" id=\"sk-estimator-id-154\" type=\"checkbox\" ><label for=\"sk-estimator-id-154\" class=\"sk-toggleable__label sk-toggleable__label-arrow\">Pipeline</label><div class=\"sk-toggleable__content\"><pre>Pipeline(steps=[(&#x27;polynomialfeatures&#x27;, PolynomialFeatures()),\n",
              "                (&#x27;bayesianridge&#x27;, BayesianRidge())])</pre></div></div></div><div class=\"sk-serial\"><div class=\"sk-item\"><div class=\"sk-estimator sk-toggleable\"><input class=\"sk-toggleable__control sk-hidden--visually\" id=\"sk-estimator-id-155\" type=\"checkbox\" ><label for=\"sk-estimator-id-155\" class=\"sk-toggleable__label sk-toggleable__label-arrow\">PolynomialFeatures</label><div class=\"sk-toggleable__content\"><pre>PolynomialFeatures()</pre></div></div></div><div class=\"sk-item\"><div class=\"sk-estimator sk-toggleable\"><input class=\"sk-toggleable__control sk-hidden--visually\" id=\"sk-estimator-id-156\" type=\"checkbox\" ><label for=\"sk-estimator-id-156\" class=\"sk-toggleable__label sk-toggleable__label-arrow\">BayesianRidge</label><div class=\"sk-toggleable__content\"><pre>BayesianRidge()</pre></div></div></div></div></div></div></div>"
            ]
          },
          "metadata": {},
          "execution_count": 657
        }
      ]
    },
    {
      "cell_type": "code",
      "source": [
        "from sklearn.metrics import mean_squared_error\n",
        "y = model.predict(x_train_transformed)\n",
        "print(mean_squared_error(y_train,y))"
      ],
      "metadata": {
        "colab": {
          "base_uri": "https://localhost:8080/"
        },
        "id": "heRGozvHIbKq",
        "outputId": "e0b96dcc-78b1-4e96-9a0d-8987d7442a49"
      },
      "execution_count": null,
      "outputs": [
        {
          "output_type": "stream",
          "name": "stdout",
          "text": [
            "2090.718566013962\n"
          ]
        }
      ]
    },
    {
      "cell_type": "code",
      "source": [
        "model.score(x_train_transformed,y_train)"
      ],
      "metadata": {
        "colab": {
          "base_uri": "https://localhost:8080/"
        },
        "id": "pF-5peJmAhcQ",
        "outputId": "e1b9ec3c-b182-44d5-c728-499cedbe0977"
      },
      "execution_count": null,
      "outputs": [
        {
          "output_type": "execute_result",
          "data": {
            "text/plain": [
              "0.9096090278101543"
            ]
          },
          "metadata": {},
          "execution_count": 659
        }
      ]
    },
    {
      "cell_type": "code",
      "source": [
        "x_test_transformed = pipeline.transform(x_test_values)\n",
        "total_cols = numeric_cols + [\"day_1\",\"day_2\",\"day_3\",\"day_4\",\"day_5\",\"day_6\",\"day_7\",\"time_1\",\"time_2\",\"time_3\",\"time_4\",\"repost_1\",\"repost_2\"]\n",
        "x_test_transformed = pd.DataFrame(x_test_transformed, columns=total_cols)\n"
      ],
      "metadata": {
        "id": "nP70G3v6BkS-"
      },
      "execution_count": null,
      "outputs": []
    },
    {
      "cell_type": "code",
      "source": [
        "model.score(x_test_transformed,y_test_values)"
      ],
      "metadata": {
        "colab": {
          "base_uri": "https://localhost:8080/"
        },
        "id": "OUy5RtgtKeof",
        "outputId": "4d97772a-3803-4a63-b95f-6b8f229ebff5"
      },
      "execution_count": null,
      "outputs": [
        {
          "output_type": "execute_result",
          "data": {
            "text/plain": [
              "0.745874437089602"
            ]
          },
          "metadata": {},
          "execution_count": 661
        }
      ]
    },
    {
      "cell_type": "markdown",
      "source": [
        "# Hyperperameter Tuning"
      ],
      "metadata": {
        "id": "R_FxrvInMiOV"
      }
    },
    {
      "cell_type": "markdown",
      "source": [
        "**Default Perameters are better**"
      ],
      "metadata": {
        "id": "WdezadFRXJ4r"
      }
    },
    {
      "cell_type": "code",
      "source": [
        "import warnings\n",
        "\n",
        "# To suppress all warnings:\n",
        "warnings.filterwarnings(\"ignore\")"
      ],
      "metadata": {
        "id": "BSCNCajvOCIC"
      },
      "execution_count": null,
      "outputs": []
    },
    {
      "cell_type": "code",
      "source": [
        "from sklearn.model_selection import GridSearchCV\n",
        "class_model = make_pipeline(PolynomialFeatures(), BayesianRidge())"
      ],
      "metadata": {
        "id": "TwkpWaGpF0S7"
      },
      "execution_count": null,
      "outputs": []
    },
    {
      "cell_type": "code",
      "source": [
        "# Hyperparameters\n",
        "alpha_1 = [100.0,1000.0,10000.0]\n",
        "alpha_2 = [1e-8,1e-7, 1e-6]\n",
        "lambda_1 = [1e-12, 1e-10,1e-9]\n",
        "lambda_2 = [1000.0,10000.0,100000.0]\n",
        "p_grid = {\n",
        "    'polynomialfeatures__degree': [2, 3],\n",
        "    'bayesianridge__alpha_1': alpha_1,\n",
        "    'bayesianridge__alpha_2': alpha_2,\n",
        "    'bayesianridge__lambda_1': lambda_1,\n",
        "    'bayesianridge__lambda_2': lambda_2\n",
        "}\n"
      ],
      "metadata": {
        "id": "TFP6DemBNXaH"
      },
      "execution_count": null,
      "outputs": []
    },
    {
      "cell_type": "code",
      "source": [
        "grid_search_cv = GridSearchCV(class_model, p_grid, cv=5, scoring='r2', n_jobs=-1)\n",
        "grid_search_cv.fit(x_train_transformed,y_train)"
      ],
      "metadata": {
        "id": "9mkz7Eh2cA8j",
        "colab": {
          "base_uri": "https://localhost:8080/",
          "height": 150
        },
        "outputId": "bd72fc76-eff5-4903-e4e2-31b5d6a923f2"
      },
      "execution_count": null,
      "outputs": [
        {
          "output_type": "execute_result",
          "data": {
            "text/plain": [
              "GridSearchCV(cv=5,\n",
              "             estimator=Pipeline(steps=[('polynomialfeatures',\n",
              "                                        PolynomialFeatures()),\n",
              "                                       ('bayesianridge', BayesianRidge())]),\n",
              "             n_jobs=-1,\n",
              "             param_grid={'bayesianridge__alpha_1': [100.0, 1000.0, 10000.0],\n",
              "                         'bayesianridge__alpha_2': [1e-08, 1e-07, 1e-06],\n",
              "                         'bayesianridge__lambda_1': [1e-12, 1e-10, 1e-09],\n",
              "                         'bayesianridge__lambda_2': [1000.0, 10000.0, 100000.0],\n",
              "                         'polynomialfeatures__degree': [2, 3]},\n",
              "             scoring='r2')"
            ],
            "text/html": [
              "<style>#sk-container-id-46 {color: black;background-color: white;}#sk-container-id-46 pre{padding: 0;}#sk-container-id-46 div.sk-toggleable {background-color: white;}#sk-container-id-46 label.sk-toggleable__label {cursor: pointer;display: block;width: 100%;margin-bottom: 0;padding: 0.3em;box-sizing: border-box;text-align: center;}#sk-container-id-46 label.sk-toggleable__label-arrow:before {content: \"▸\";float: left;margin-right: 0.25em;color: #696969;}#sk-container-id-46 label.sk-toggleable__label-arrow:hover:before {color: black;}#sk-container-id-46 div.sk-estimator:hover label.sk-toggleable__label-arrow:before {color: black;}#sk-container-id-46 div.sk-toggleable__content {max-height: 0;max-width: 0;overflow: hidden;text-align: left;background-color: #f0f8ff;}#sk-container-id-46 div.sk-toggleable__content pre {margin: 0.2em;color: black;border-radius: 0.25em;background-color: #f0f8ff;}#sk-container-id-46 input.sk-toggleable__control:checked~div.sk-toggleable__content {max-height: 200px;max-width: 100%;overflow: auto;}#sk-container-id-46 input.sk-toggleable__control:checked~label.sk-toggleable__label-arrow:before {content: \"▾\";}#sk-container-id-46 div.sk-estimator input.sk-toggleable__control:checked~label.sk-toggleable__label {background-color: #d4ebff;}#sk-container-id-46 div.sk-label input.sk-toggleable__control:checked~label.sk-toggleable__label {background-color: #d4ebff;}#sk-container-id-46 input.sk-hidden--visually {border: 0;clip: rect(1px 1px 1px 1px);clip: rect(1px, 1px, 1px, 1px);height: 1px;margin: -1px;overflow: hidden;padding: 0;position: absolute;width: 1px;}#sk-container-id-46 div.sk-estimator {font-family: monospace;background-color: #f0f8ff;border: 1px dotted black;border-radius: 0.25em;box-sizing: border-box;margin-bottom: 0.5em;}#sk-container-id-46 div.sk-estimator:hover {background-color: #d4ebff;}#sk-container-id-46 div.sk-parallel-item::after {content: \"\";width: 100%;border-bottom: 1px solid gray;flex-grow: 1;}#sk-container-id-46 div.sk-label:hover label.sk-toggleable__label {background-color: #d4ebff;}#sk-container-id-46 div.sk-serial::before {content: \"\";position: absolute;border-left: 1px solid gray;box-sizing: border-box;top: 0;bottom: 0;left: 50%;z-index: 0;}#sk-container-id-46 div.sk-serial {display: flex;flex-direction: column;align-items: center;background-color: white;padding-right: 0.2em;padding-left: 0.2em;position: relative;}#sk-container-id-46 div.sk-item {position: relative;z-index: 1;}#sk-container-id-46 div.sk-parallel {display: flex;align-items: stretch;justify-content: center;background-color: white;position: relative;}#sk-container-id-46 div.sk-item::before, #sk-container-id-46 div.sk-parallel-item::before {content: \"\";position: absolute;border-left: 1px solid gray;box-sizing: border-box;top: 0;bottom: 0;left: 50%;z-index: -1;}#sk-container-id-46 div.sk-parallel-item {display: flex;flex-direction: column;z-index: 1;position: relative;background-color: white;}#sk-container-id-46 div.sk-parallel-item:first-child::after {align-self: flex-end;width: 50%;}#sk-container-id-46 div.sk-parallel-item:last-child::after {align-self: flex-start;width: 50%;}#sk-container-id-46 div.sk-parallel-item:only-child::after {width: 0;}#sk-container-id-46 div.sk-dashed-wrapped {border: 1px dashed gray;margin: 0 0.4em 0.5em 0.4em;box-sizing: border-box;padding-bottom: 0.4em;background-color: white;}#sk-container-id-46 div.sk-label label {font-family: monospace;font-weight: bold;display: inline-block;line-height: 1.2em;}#sk-container-id-46 div.sk-label-container {text-align: center;}#sk-container-id-46 div.sk-container {/* jupyter's `normalize.less` sets `[hidden] { display: none; }` but bootstrap.min.css set `[hidden] { display: none !important; }` so we also need the `!important` here to be able to override the default hidden behavior on the sphinx rendered scikit-learn.org. See: https://github.com/scikit-learn/scikit-learn/issues/21755 */display: inline-block !important;position: relative;}#sk-container-id-46 div.sk-text-repr-fallback {display: none;}</style><div id=\"sk-container-id-46\" class=\"sk-top-container\"><div class=\"sk-text-repr-fallback\"><pre>GridSearchCV(cv=5,\n",
              "             estimator=Pipeline(steps=[(&#x27;polynomialfeatures&#x27;,\n",
              "                                        PolynomialFeatures()),\n",
              "                                       (&#x27;bayesianridge&#x27;, BayesianRidge())]),\n",
              "             n_jobs=-1,\n",
              "             param_grid={&#x27;bayesianridge__alpha_1&#x27;: [100.0, 1000.0, 10000.0],\n",
              "                         &#x27;bayesianridge__alpha_2&#x27;: [1e-08, 1e-07, 1e-06],\n",
              "                         &#x27;bayesianridge__lambda_1&#x27;: [1e-12, 1e-10, 1e-09],\n",
              "                         &#x27;bayesianridge__lambda_2&#x27;: [1000.0, 10000.0, 100000.0],\n",
              "                         &#x27;polynomialfeatures__degree&#x27;: [2, 3]},\n",
              "             scoring=&#x27;r2&#x27;)</pre><b>In a Jupyter environment, please rerun this cell to show the HTML representation or trust the notebook. <br />On GitHub, the HTML representation is unable to render, please try loading this page with nbviewer.org.</b></div><div class=\"sk-container\" hidden><div class=\"sk-item sk-dashed-wrapped\"><div class=\"sk-label-container\"><div class=\"sk-label sk-toggleable\"><input class=\"sk-toggleable__control sk-hidden--visually\" id=\"sk-estimator-id-157\" type=\"checkbox\" ><label for=\"sk-estimator-id-157\" class=\"sk-toggleable__label sk-toggleable__label-arrow\">GridSearchCV</label><div class=\"sk-toggleable__content\"><pre>GridSearchCV(cv=5,\n",
              "             estimator=Pipeline(steps=[(&#x27;polynomialfeatures&#x27;,\n",
              "                                        PolynomialFeatures()),\n",
              "                                       (&#x27;bayesianridge&#x27;, BayesianRidge())]),\n",
              "             n_jobs=-1,\n",
              "             param_grid={&#x27;bayesianridge__alpha_1&#x27;: [100.0, 1000.0, 10000.0],\n",
              "                         &#x27;bayesianridge__alpha_2&#x27;: [1e-08, 1e-07, 1e-06],\n",
              "                         &#x27;bayesianridge__lambda_1&#x27;: [1e-12, 1e-10, 1e-09],\n",
              "                         &#x27;bayesianridge__lambda_2&#x27;: [1000.0, 10000.0, 100000.0],\n",
              "                         &#x27;polynomialfeatures__degree&#x27;: [2, 3]},\n",
              "             scoring=&#x27;r2&#x27;)</pre></div></div></div><div class=\"sk-parallel\"><div class=\"sk-parallel-item\"><div class=\"sk-item\"><div class=\"sk-label-container\"><div class=\"sk-label sk-toggleable\"><input class=\"sk-toggleable__control sk-hidden--visually\" id=\"sk-estimator-id-158\" type=\"checkbox\" ><label for=\"sk-estimator-id-158\" class=\"sk-toggleable__label sk-toggleable__label-arrow\">estimator: Pipeline</label><div class=\"sk-toggleable__content\"><pre>Pipeline(steps=[(&#x27;polynomialfeatures&#x27;, PolynomialFeatures()),\n",
              "                (&#x27;bayesianridge&#x27;, BayesianRidge())])</pre></div></div></div><div class=\"sk-serial\"><div class=\"sk-item\"><div class=\"sk-serial\"><div class=\"sk-item\"><div class=\"sk-estimator sk-toggleable\"><input class=\"sk-toggleable__control sk-hidden--visually\" id=\"sk-estimator-id-159\" type=\"checkbox\" ><label for=\"sk-estimator-id-159\" class=\"sk-toggleable__label sk-toggleable__label-arrow\">PolynomialFeatures</label><div class=\"sk-toggleable__content\"><pre>PolynomialFeatures()</pre></div></div></div><div class=\"sk-item\"><div class=\"sk-estimator sk-toggleable\"><input class=\"sk-toggleable__control sk-hidden--visually\" id=\"sk-estimator-id-160\" type=\"checkbox\" ><label for=\"sk-estimator-id-160\" class=\"sk-toggleable__label sk-toggleable__label-arrow\">BayesianRidge</label><div class=\"sk-toggleable__content\"><pre>BayesianRidge()</pre></div></div></div></div></div></div></div></div></div></div></div></div>"
            ]
          },
          "metadata": {},
          "execution_count": 665
        }
      ]
    },
    {
      "cell_type": "code",
      "source": [
        "best_parameters = grid_search_cv.best_params_\n",
        "print(best_parameters)"
      ],
      "metadata": {
        "colab": {
          "base_uri": "https://localhost:8080/"
        },
        "id": "S-AxUQUZNy9b",
        "outputId": "eaf892d0-ef69-4fe1-a6fc-1c4d0e15019e"
      },
      "execution_count": null,
      "outputs": [
        {
          "output_type": "stream",
          "name": "stdout",
          "text": [
            "{'bayesianridge__alpha_1': 1000.0, 'bayesianridge__alpha_2': 1e-07, 'bayesianridge__lambda_1': 1e-12, 'bayesianridge__lambda_2': 100000.0, 'polynomialfeatures__degree': 2}\n"
          ]
        }
      ]
    },
    {
      "cell_type": "code",
      "source": [
        "from sklearn.preprocessing import RobustScaler"
      ],
      "metadata": {
        "id": "BVeZeg10vb-z"
      },
      "execution_count": null,
      "outputs": []
    },
    {
      "cell_type": "code",
      "source": [
        "lasso_best_model = make_pipeline(\n",
        "    PolynomialFeatures(best_parameters['polynomialfeatures__degree']),\n",
        "                                 BayesianRidge(lambda_1=best_parameters['bayesianridge__lambda_1'],\n",
        "                                               lambda_2=best_parameters['bayesianridge__lambda_2'],\n",
        "                                               alpha_1=best_parameters['bayesianridge__alpha_1'],\n",
        "                                               alpha_2=best_parameters['bayesianridge__alpha_2']))\n",
        "lasso_best_model.fit(x_train_transformed, y_train)"
      ],
      "metadata": {
        "colab": {
          "base_uri": "https://localhost:8080/",
          "height": 124
        },
        "id": "4F6w68_QRgn0",
        "outputId": "bb5c86f2-7c07-4a12-ef61-7da30f85edc2"
      },
      "execution_count": null,
      "outputs": [
        {
          "output_type": "execute_result",
          "data": {
            "text/plain": [
              "Pipeline(steps=[('polynomialfeatures', PolynomialFeatures()),\n",
              "                ('bayesianridge',\n",
              "                 BayesianRidge(alpha_1=1000.0, alpha_2=1e-07, lambda_1=1e-12,\n",
              "                               lambda_2=100000.0))])"
            ],
            "text/html": [
              "<style>#sk-container-id-47 {color: black;background-color: white;}#sk-container-id-47 pre{padding: 0;}#sk-container-id-47 div.sk-toggleable {background-color: white;}#sk-container-id-47 label.sk-toggleable__label {cursor: pointer;display: block;width: 100%;margin-bottom: 0;padding: 0.3em;box-sizing: border-box;text-align: center;}#sk-container-id-47 label.sk-toggleable__label-arrow:before {content: \"▸\";float: left;margin-right: 0.25em;color: #696969;}#sk-container-id-47 label.sk-toggleable__label-arrow:hover:before {color: black;}#sk-container-id-47 div.sk-estimator:hover label.sk-toggleable__label-arrow:before {color: black;}#sk-container-id-47 div.sk-toggleable__content {max-height: 0;max-width: 0;overflow: hidden;text-align: left;background-color: #f0f8ff;}#sk-container-id-47 div.sk-toggleable__content pre {margin: 0.2em;color: black;border-radius: 0.25em;background-color: #f0f8ff;}#sk-container-id-47 input.sk-toggleable__control:checked~div.sk-toggleable__content {max-height: 200px;max-width: 100%;overflow: auto;}#sk-container-id-47 input.sk-toggleable__control:checked~label.sk-toggleable__label-arrow:before {content: \"▾\";}#sk-container-id-47 div.sk-estimator input.sk-toggleable__control:checked~label.sk-toggleable__label {background-color: #d4ebff;}#sk-container-id-47 div.sk-label input.sk-toggleable__control:checked~label.sk-toggleable__label {background-color: #d4ebff;}#sk-container-id-47 input.sk-hidden--visually {border: 0;clip: rect(1px 1px 1px 1px);clip: rect(1px, 1px, 1px, 1px);height: 1px;margin: -1px;overflow: hidden;padding: 0;position: absolute;width: 1px;}#sk-container-id-47 div.sk-estimator {font-family: monospace;background-color: #f0f8ff;border: 1px dotted black;border-radius: 0.25em;box-sizing: border-box;margin-bottom: 0.5em;}#sk-container-id-47 div.sk-estimator:hover {background-color: #d4ebff;}#sk-container-id-47 div.sk-parallel-item::after {content: \"\";width: 100%;border-bottom: 1px solid gray;flex-grow: 1;}#sk-container-id-47 div.sk-label:hover label.sk-toggleable__label {background-color: #d4ebff;}#sk-container-id-47 div.sk-serial::before {content: \"\";position: absolute;border-left: 1px solid gray;box-sizing: border-box;top: 0;bottom: 0;left: 50%;z-index: 0;}#sk-container-id-47 div.sk-serial {display: flex;flex-direction: column;align-items: center;background-color: white;padding-right: 0.2em;padding-left: 0.2em;position: relative;}#sk-container-id-47 div.sk-item {position: relative;z-index: 1;}#sk-container-id-47 div.sk-parallel {display: flex;align-items: stretch;justify-content: center;background-color: white;position: relative;}#sk-container-id-47 div.sk-item::before, #sk-container-id-47 div.sk-parallel-item::before {content: \"\";position: absolute;border-left: 1px solid gray;box-sizing: border-box;top: 0;bottom: 0;left: 50%;z-index: -1;}#sk-container-id-47 div.sk-parallel-item {display: flex;flex-direction: column;z-index: 1;position: relative;background-color: white;}#sk-container-id-47 div.sk-parallel-item:first-child::after {align-self: flex-end;width: 50%;}#sk-container-id-47 div.sk-parallel-item:last-child::after {align-self: flex-start;width: 50%;}#sk-container-id-47 div.sk-parallel-item:only-child::after {width: 0;}#sk-container-id-47 div.sk-dashed-wrapped {border: 1px dashed gray;margin: 0 0.4em 0.5em 0.4em;box-sizing: border-box;padding-bottom: 0.4em;background-color: white;}#sk-container-id-47 div.sk-label label {font-family: monospace;font-weight: bold;display: inline-block;line-height: 1.2em;}#sk-container-id-47 div.sk-label-container {text-align: center;}#sk-container-id-47 div.sk-container {/* jupyter's `normalize.less` sets `[hidden] { display: none; }` but bootstrap.min.css set `[hidden] { display: none !important; }` so we also need the `!important` here to be able to override the default hidden behavior on the sphinx rendered scikit-learn.org. See: https://github.com/scikit-learn/scikit-learn/issues/21755 */display: inline-block !important;position: relative;}#sk-container-id-47 div.sk-text-repr-fallback {display: none;}</style><div id=\"sk-container-id-47\" class=\"sk-top-container\"><div class=\"sk-text-repr-fallback\"><pre>Pipeline(steps=[(&#x27;polynomialfeatures&#x27;, PolynomialFeatures()),\n",
              "                (&#x27;bayesianridge&#x27;,\n",
              "                 BayesianRidge(alpha_1=1000.0, alpha_2=1e-07, lambda_1=1e-12,\n",
              "                               lambda_2=100000.0))])</pre><b>In a Jupyter environment, please rerun this cell to show the HTML representation or trust the notebook. <br />On GitHub, the HTML representation is unable to render, please try loading this page with nbviewer.org.</b></div><div class=\"sk-container\" hidden><div class=\"sk-item sk-dashed-wrapped\"><div class=\"sk-label-container\"><div class=\"sk-label sk-toggleable\"><input class=\"sk-toggleable__control sk-hidden--visually\" id=\"sk-estimator-id-161\" type=\"checkbox\" ><label for=\"sk-estimator-id-161\" class=\"sk-toggleable__label sk-toggleable__label-arrow\">Pipeline</label><div class=\"sk-toggleable__content\"><pre>Pipeline(steps=[(&#x27;polynomialfeatures&#x27;, PolynomialFeatures()),\n",
              "                (&#x27;bayesianridge&#x27;,\n",
              "                 BayesianRidge(alpha_1=1000.0, alpha_2=1e-07, lambda_1=1e-12,\n",
              "                               lambda_2=100000.0))])</pre></div></div></div><div class=\"sk-serial\"><div class=\"sk-item\"><div class=\"sk-estimator sk-toggleable\"><input class=\"sk-toggleable__control sk-hidden--visually\" id=\"sk-estimator-id-162\" type=\"checkbox\" ><label for=\"sk-estimator-id-162\" class=\"sk-toggleable__label sk-toggleable__label-arrow\">PolynomialFeatures</label><div class=\"sk-toggleable__content\"><pre>PolynomialFeatures()</pre></div></div></div><div class=\"sk-item\"><div class=\"sk-estimator sk-toggleable\"><input class=\"sk-toggleable__control sk-hidden--visually\" id=\"sk-estimator-id-163\" type=\"checkbox\" ><label for=\"sk-estimator-id-163\" class=\"sk-toggleable__label sk-toggleable__label-arrow\">BayesianRidge</label><div class=\"sk-toggleable__content\"><pre>BayesianRidge(alpha_1=1000.0, alpha_2=1e-07, lambda_1=1e-12, lambda_2=100000.0)</pre></div></div></div></div></div></div></div>"
            ]
          },
          "metadata": {},
          "execution_count": 667
        }
      ]
    },
    {
      "cell_type": "code",
      "source": [
        "lasso_best_model.score(x_train_transformed, y_train)"
      ],
      "metadata": {
        "colab": {
          "base_uri": "https://localhost:8080/"
        },
        "id": "nXiGBWLoR3EE",
        "outputId": "b0d56aed-4eaa-4181-8e0b-56d50f9bd58f"
      },
      "execution_count": null,
      "outputs": [
        {
          "output_type": "execute_result",
          "data": {
            "text/plain": [
              "0.9238964420961051"
            ]
          },
          "metadata": {},
          "execution_count": 668
        }
      ]
    },
    {
      "cell_type": "code",
      "source": [
        "x_test_transformed = pipeline.transform(x_test_values)\n",
        "total_cols = numeric_cols + [\"day_1\",\"day_2\",\"day_3\",\"day_4\",\"day_5\",\"day_6\",\"day_7\",\"time_1\",\"time_2\",\"time_3\",\"time_4\",\"repost_1\",\"repost_2\"]\n",
        "x_test_transformed = pd.DataFrame(x_test_transformed, columns=total_cols)\n",
        "lasso_best_model.score(x_test_transformed, y_test_values)"
      ],
      "metadata": {
        "colab": {
          "base_uri": "https://localhost:8080/"
        },
        "id": "LNjYYkRFSIuc",
        "outputId": "40f06b2d-998c-49a4-d4b0-73fc7bf283ff"
      },
      "execution_count": null,
      "outputs": [
        {
          "output_type": "execute_result",
          "data": {
            "text/plain": [
              "0.48718420689107167"
            ]
          },
          "metadata": {},
          "execution_count": 669
        }
      ]
    },
    {
      "cell_type": "markdown",
      "source": [
        "# Bagging"
      ],
      "metadata": {
        "id": "uz_XWWN9XWyY"
      }
    },
    {
      "cell_type": "code",
      "source": [
        "from sklearn.ensemble import BaggingRegressor"
      ],
      "metadata": {
        "id": "dqwpPs3zXcoM"
      },
      "execution_count": null,
      "outputs": []
    },
    {
      "cell_type": "code",
      "source": [
        "base_regressor = make_pipeline(PolynomialFeatures(), BayesianRidge())\n",
        "bagging_regressor = BaggingRegressor(base_regressor,n_estimators=5, random_state=42)\n",
        "bagging_regressor.fit(x_train_transformed, y_train)"
      ],
      "metadata": {
        "colab": {
          "base_uri": "https://localhost:8080/",
          "height": 150
        },
        "id": "gxq5_n2SXm1Q",
        "outputId": "ce71782f-f2c9-4f85-93e3-23a6e0265a61"
      },
      "execution_count": null,
      "outputs": [
        {
          "output_type": "execute_result",
          "data": {
            "text/plain": [
              "BaggingRegressor(estimator=Pipeline(steps=[('polynomialfeatures',\n",
              "                                            PolynomialFeatures()),\n",
              "                                           ('bayesianridge', BayesianRidge())]),\n",
              "                 n_estimators=5, random_state=42)"
            ],
            "text/html": [
              "<style>#sk-container-id-53 {color: black;background-color: white;}#sk-container-id-53 pre{padding: 0;}#sk-container-id-53 div.sk-toggleable {background-color: white;}#sk-container-id-53 label.sk-toggleable__label {cursor: pointer;display: block;width: 100%;margin-bottom: 0;padding: 0.3em;box-sizing: border-box;text-align: center;}#sk-container-id-53 label.sk-toggleable__label-arrow:before {content: \"▸\";float: left;margin-right: 0.25em;color: #696969;}#sk-container-id-53 label.sk-toggleable__label-arrow:hover:before {color: black;}#sk-container-id-53 div.sk-estimator:hover label.sk-toggleable__label-arrow:before {color: black;}#sk-container-id-53 div.sk-toggleable__content {max-height: 0;max-width: 0;overflow: hidden;text-align: left;background-color: #f0f8ff;}#sk-container-id-53 div.sk-toggleable__content pre {margin: 0.2em;color: black;border-radius: 0.25em;background-color: #f0f8ff;}#sk-container-id-53 input.sk-toggleable__control:checked~div.sk-toggleable__content {max-height: 200px;max-width: 100%;overflow: auto;}#sk-container-id-53 input.sk-toggleable__control:checked~label.sk-toggleable__label-arrow:before {content: \"▾\";}#sk-container-id-53 div.sk-estimator input.sk-toggleable__control:checked~label.sk-toggleable__label {background-color: #d4ebff;}#sk-container-id-53 div.sk-label input.sk-toggleable__control:checked~label.sk-toggleable__label {background-color: #d4ebff;}#sk-container-id-53 input.sk-hidden--visually {border: 0;clip: rect(1px 1px 1px 1px);clip: rect(1px, 1px, 1px, 1px);height: 1px;margin: -1px;overflow: hidden;padding: 0;position: absolute;width: 1px;}#sk-container-id-53 div.sk-estimator {font-family: monospace;background-color: #f0f8ff;border: 1px dotted black;border-radius: 0.25em;box-sizing: border-box;margin-bottom: 0.5em;}#sk-container-id-53 div.sk-estimator:hover {background-color: #d4ebff;}#sk-container-id-53 div.sk-parallel-item::after {content: \"\";width: 100%;border-bottom: 1px solid gray;flex-grow: 1;}#sk-container-id-53 div.sk-label:hover label.sk-toggleable__label {background-color: #d4ebff;}#sk-container-id-53 div.sk-serial::before {content: \"\";position: absolute;border-left: 1px solid gray;box-sizing: border-box;top: 0;bottom: 0;left: 50%;z-index: 0;}#sk-container-id-53 div.sk-serial {display: flex;flex-direction: column;align-items: center;background-color: white;padding-right: 0.2em;padding-left: 0.2em;position: relative;}#sk-container-id-53 div.sk-item {position: relative;z-index: 1;}#sk-container-id-53 div.sk-parallel {display: flex;align-items: stretch;justify-content: center;background-color: white;position: relative;}#sk-container-id-53 div.sk-item::before, #sk-container-id-53 div.sk-parallel-item::before {content: \"\";position: absolute;border-left: 1px solid gray;box-sizing: border-box;top: 0;bottom: 0;left: 50%;z-index: -1;}#sk-container-id-53 div.sk-parallel-item {display: flex;flex-direction: column;z-index: 1;position: relative;background-color: white;}#sk-container-id-53 div.sk-parallel-item:first-child::after {align-self: flex-end;width: 50%;}#sk-container-id-53 div.sk-parallel-item:last-child::after {align-self: flex-start;width: 50%;}#sk-container-id-53 div.sk-parallel-item:only-child::after {width: 0;}#sk-container-id-53 div.sk-dashed-wrapped {border: 1px dashed gray;margin: 0 0.4em 0.5em 0.4em;box-sizing: border-box;padding-bottom: 0.4em;background-color: white;}#sk-container-id-53 div.sk-label label {font-family: monospace;font-weight: bold;display: inline-block;line-height: 1.2em;}#sk-container-id-53 div.sk-label-container {text-align: center;}#sk-container-id-53 div.sk-container {/* jupyter's `normalize.less` sets `[hidden] { display: none; }` but bootstrap.min.css set `[hidden] { display: none !important; }` so we also need the `!important` here to be able to override the default hidden behavior on the sphinx rendered scikit-learn.org. See: https://github.com/scikit-learn/scikit-learn/issues/21755 */display: inline-block !important;position: relative;}#sk-container-id-53 div.sk-text-repr-fallback {display: none;}</style><div id=\"sk-container-id-53\" class=\"sk-top-container\"><div class=\"sk-text-repr-fallback\"><pre>BaggingRegressor(estimator=Pipeline(steps=[(&#x27;polynomialfeatures&#x27;,\n",
              "                                            PolynomialFeatures()),\n",
              "                                           (&#x27;bayesianridge&#x27;, BayesianRidge())]),\n",
              "                 n_estimators=5, random_state=42)</pre><b>In a Jupyter environment, please rerun this cell to show the HTML representation or trust the notebook. <br />On GitHub, the HTML representation is unable to render, please try loading this page with nbviewer.org.</b></div><div class=\"sk-container\" hidden><div class=\"sk-item sk-dashed-wrapped\"><div class=\"sk-label-container\"><div class=\"sk-label sk-toggleable\"><input class=\"sk-toggleable__control sk-hidden--visually\" id=\"sk-estimator-id-179\" type=\"checkbox\" ><label for=\"sk-estimator-id-179\" class=\"sk-toggleable__label sk-toggleable__label-arrow\">BaggingRegressor</label><div class=\"sk-toggleable__content\"><pre>BaggingRegressor(estimator=Pipeline(steps=[(&#x27;polynomialfeatures&#x27;,\n",
              "                                            PolynomialFeatures()),\n",
              "                                           (&#x27;bayesianridge&#x27;, BayesianRidge())]),\n",
              "                 n_estimators=5, random_state=42)</pre></div></div></div><div class=\"sk-parallel\"><div class=\"sk-parallel-item\"><div class=\"sk-item\"><div class=\"sk-label-container\"><div class=\"sk-label sk-toggleable\"><input class=\"sk-toggleable__control sk-hidden--visually\" id=\"sk-estimator-id-180\" type=\"checkbox\" ><label for=\"sk-estimator-id-180\" class=\"sk-toggleable__label sk-toggleable__label-arrow\">estimator: Pipeline</label><div class=\"sk-toggleable__content\"><pre>Pipeline(steps=[(&#x27;polynomialfeatures&#x27;, PolynomialFeatures()),\n",
              "                (&#x27;bayesianridge&#x27;, BayesianRidge())])</pre></div></div></div><div class=\"sk-serial\"><div class=\"sk-item\"><div class=\"sk-serial\"><div class=\"sk-item\"><div class=\"sk-estimator sk-toggleable\"><input class=\"sk-toggleable__control sk-hidden--visually\" id=\"sk-estimator-id-181\" type=\"checkbox\" ><label for=\"sk-estimator-id-181\" class=\"sk-toggleable__label sk-toggleable__label-arrow\">PolynomialFeatures</label><div class=\"sk-toggleable__content\"><pre>PolynomialFeatures()</pre></div></div></div><div class=\"sk-item\"><div class=\"sk-estimator sk-toggleable\"><input class=\"sk-toggleable__control sk-hidden--visually\" id=\"sk-estimator-id-182\" type=\"checkbox\" ><label for=\"sk-estimator-id-182\" class=\"sk-toggleable__label sk-toggleable__label-arrow\">BayesianRidge</label><div class=\"sk-toggleable__content\"><pre>BayesianRidge()</pre></div></div></div></div></div></div></div></div></div></div></div></div>"
            ]
          },
          "metadata": {},
          "execution_count": 690
        }
      ]
    },
    {
      "cell_type": "code",
      "source": [
        "bagging_regressor.score(x_train_transformed, y_train)"
      ],
      "metadata": {
        "colab": {
          "base_uri": "https://localhost:8080/"
        },
        "id": "CtvUFstfYMMg",
        "outputId": "8b2f6b0a-d530-43e6-db6f-8490fca9351b"
      },
      "execution_count": null,
      "outputs": [
        {
          "output_type": "execute_result",
          "data": {
            "text/plain": [
              "0.5120184834552799"
            ]
          },
          "metadata": {},
          "execution_count": 691
        }
      ]
    },
    {
      "cell_type": "code",
      "source": [
        "bagging_regressor.score(x_test_transformed, y_test_values)"
      ],
      "metadata": {
        "colab": {
          "base_uri": "https://localhost:8080/"
        },
        "id": "5jTCQQLYYXkL",
        "outputId": "6b5aed07-577b-40de-f567-feb80d46c49b"
      },
      "execution_count": null,
      "outputs": [
        {
          "output_type": "execute_result",
          "data": {
            "text/plain": [
              "0.5345223516110063"
            ]
          },
          "metadata": {},
          "execution_count": 692
        }
      ]
    },
    {
      "cell_type": "markdown",
      "source": [
        "## Hyperperameter Tunning"
      ],
      "metadata": {
        "id": "LxXtkgenex_R"
      }
    },
    {
      "cell_type": "code",
      "source": [
        "param_grid = {\n",
        "    'n_estimators': [5,10,15, 20,25]  # Adjust the range as needed\n",
        "}"
      ],
      "metadata": {
        "id": "TWXED8xafEta"
      },
      "execution_count": null,
      "outputs": []
    },
    {
      "cell_type": "code",
      "source": [
        "base_reg = make_pipeline(PolynomialFeatures(), BayesianRidge())\n",
        "bagging_reg = BaggingRegressor(base_reg,n_estimators=5, random_state=42)\n",
        "grid_search_cv = GridSearchCV(bagging_reg, param_grid, cv=5, scoring='neg_mean_squared_error', n_jobs=-1)\n",
        "grid_search_cv.fit(x_train_transformed, y_train)"
      ],
      "metadata": {
        "colab": {
          "base_uri": "https://localhost:8080/",
          "height": 190
        },
        "id": "stEBUGINe4rI",
        "outputId": "328a5f1a-66cd-487a-ad0c-3045c8fe3669"
      },
      "execution_count": null,
      "outputs": [
        {
          "output_type": "execute_result",
          "data": {
            "text/plain": [
              "GridSearchCV(cv=5,\n",
              "             estimator=BaggingRegressor(estimator=Pipeline(steps=[('polynomialfeatures',\n",
              "                                                                   PolynomialFeatures()),\n",
              "                                                                  ('bayesianridge',\n",
              "                                                                   BayesianRidge())]),\n",
              "                                        n_estimators=5, random_state=42),\n",
              "             n_jobs=-1, param_grid={'n_estimators': [5, 10, 15, 20, 25]},\n",
              "             scoring='neg_mean_squared_error')"
            ],
            "text/html": [
              "<style>#sk-container-id-70 {color: black;background-color: white;}#sk-container-id-70 pre{padding: 0;}#sk-container-id-70 div.sk-toggleable {background-color: white;}#sk-container-id-70 label.sk-toggleable__label {cursor: pointer;display: block;width: 100%;margin-bottom: 0;padding: 0.3em;box-sizing: border-box;text-align: center;}#sk-container-id-70 label.sk-toggleable__label-arrow:before {content: \"▸\";float: left;margin-right: 0.25em;color: #696969;}#sk-container-id-70 label.sk-toggleable__label-arrow:hover:before {color: black;}#sk-container-id-70 div.sk-estimator:hover label.sk-toggleable__label-arrow:before {color: black;}#sk-container-id-70 div.sk-toggleable__content {max-height: 0;max-width: 0;overflow: hidden;text-align: left;background-color: #f0f8ff;}#sk-container-id-70 div.sk-toggleable__content pre {margin: 0.2em;color: black;border-radius: 0.25em;background-color: #f0f8ff;}#sk-container-id-70 input.sk-toggleable__control:checked~div.sk-toggleable__content {max-height: 200px;max-width: 100%;overflow: auto;}#sk-container-id-70 input.sk-toggleable__control:checked~label.sk-toggleable__label-arrow:before {content: \"▾\";}#sk-container-id-70 div.sk-estimator input.sk-toggleable__control:checked~label.sk-toggleable__label {background-color: #d4ebff;}#sk-container-id-70 div.sk-label input.sk-toggleable__control:checked~label.sk-toggleable__label {background-color: #d4ebff;}#sk-container-id-70 input.sk-hidden--visually {border: 0;clip: rect(1px 1px 1px 1px);clip: rect(1px, 1px, 1px, 1px);height: 1px;margin: -1px;overflow: hidden;padding: 0;position: absolute;width: 1px;}#sk-container-id-70 div.sk-estimator {font-family: monospace;background-color: #f0f8ff;border: 1px dotted black;border-radius: 0.25em;box-sizing: border-box;margin-bottom: 0.5em;}#sk-container-id-70 div.sk-estimator:hover {background-color: #d4ebff;}#sk-container-id-70 div.sk-parallel-item::after {content: \"\";width: 100%;border-bottom: 1px solid gray;flex-grow: 1;}#sk-container-id-70 div.sk-label:hover label.sk-toggleable__label {background-color: #d4ebff;}#sk-container-id-70 div.sk-serial::before {content: \"\";position: absolute;border-left: 1px solid gray;box-sizing: border-box;top: 0;bottom: 0;left: 50%;z-index: 0;}#sk-container-id-70 div.sk-serial {display: flex;flex-direction: column;align-items: center;background-color: white;padding-right: 0.2em;padding-left: 0.2em;position: relative;}#sk-container-id-70 div.sk-item {position: relative;z-index: 1;}#sk-container-id-70 div.sk-parallel {display: flex;align-items: stretch;justify-content: center;background-color: white;position: relative;}#sk-container-id-70 div.sk-item::before, #sk-container-id-70 div.sk-parallel-item::before {content: \"\";position: absolute;border-left: 1px solid gray;box-sizing: border-box;top: 0;bottom: 0;left: 50%;z-index: -1;}#sk-container-id-70 div.sk-parallel-item {display: flex;flex-direction: column;z-index: 1;position: relative;background-color: white;}#sk-container-id-70 div.sk-parallel-item:first-child::after {align-self: flex-end;width: 50%;}#sk-container-id-70 div.sk-parallel-item:last-child::after {align-self: flex-start;width: 50%;}#sk-container-id-70 div.sk-parallel-item:only-child::after {width: 0;}#sk-container-id-70 div.sk-dashed-wrapped {border: 1px dashed gray;margin: 0 0.4em 0.5em 0.4em;box-sizing: border-box;padding-bottom: 0.4em;background-color: white;}#sk-container-id-70 div.sk-label label {font-family: monospace;font-weight: bold;display: inline-block;line-height: 1.2em;}#sk-container-id-70 div.sk-label-container {text-align: center;}#sk-container-id-70 div.sk-container {/* jupyter's `normalize.less` sets `[hidden] { display: none; }` but bootstrap.min.css set `[hidden] { display: none !important; }` so we also need the `!important` here to be able to override the default hidden behavior on the sphinx rendered scikit-learn.org. See: https://github.com/scikit-learn/scikit-learn/issues/21755 */display: inline-block !important;position: relative;}#sk-container-id-70 div.sk-text-repr-fallback {display: none;}</style><div id=\"sk-container-id-70\" class=\"sk-top-container\"><div class=\"sk-text-repr-fallback\"><pre>GridSearchCV(cv=5,\n",
              "             estimator=BaggingRegressor(estimator=Pipeline(steps=[(&#x27;polynomialfeatures&#x27;,\n",
              "                                                                   PolynomialFeatures()),\n",
              "                                                                  (&#x27;bayesianridge&#x27;,\n",
              "                                                                   BayesianRidge())]),\n",
              "                                        n_estimators=5, random_state=42),\n",
              "             n_jobs=-1, param_grid={&#x27;n_estimators&#x27;: [5, 10, 15, 20, 25]},\n",
              "             scoring=&#x27;neg_mean_squared_error&#x27;)</pre><b>In a Jupyter environment, please rerun this cell to show the HTML representation or trust the notebook. <br />On GitHub, the HTML representation is unable to render, please try loading this page with nbviewer.org.</b></div><div class=\"sk-container\" hidden><div class=\"sk-item sk-dashed-wrapped\"><div class=\"sk-label-container\"><div class=\"sk-label sk-toggleable\"><input class=\"sk-toggleable__control sk-hidden--visually\" id=\"sk-estimator-id-254\" type=\"checkbox\" ><label for=\"sk-estimator-id-254\" class=\"sk-toggleable__label sk-toggleable__label-arrow\">GridSearchCV</label><div class=\"sk-toggleable__content\"><pre>GridSearchCV(cv=5,\n",
              "             estimator=BaggingRegressor(estimator=Pipeline(steps=[(&#x27;polynomialfeatures&#x27;,\n",
              "                                                                   PolynomialFeatures()),\n",
              "                                                                  (&#x27;bayesianridge&#x27;,\n",
              "                                                                   BayesianRidge())]),\n",
              "                                        n_estimators=5, random_state=42),\n",
              "             n_jobs=-1, param_grid={&#x27;n_estimators&#x27;: [5, 10, 15, 20, 25]},\n",
              "             scoring=&#x27;neg_mean_squared_error&#x27;)</pre></div></div></div><div class=\"sk-parallel\"><div class=\"sk-parallel-item\"><div class=\"sk-item\"><div class=\"sk-label-container\"><div class=\"sk-label sk-toggleable\"><input class=\"sk-toggleable__control sk-hidden--visually\" id=\"sk-estimator-id-255\" type=\"checkbox\" ><label for=\"sk-estimator-id-255\" class=\"sk-toggleable__label sk-toggleable__label-arrow\">estimator: BaggingRegressor</label><div class=\"sk-toggleable__content\"><pre>BaggingRegressor(estimator=Pipeline(steps=[(&#x27;polynomialfeatures&#x27;,\n",
              "                                            PolynomialFeatures()),\n",
              "                                           (&#x27;bayesianridge&#x27;, BayesianRidge())]),\n",
              "                 n_estimators=5, random_state=42)</pre></div></div></div><div class=\"sk-serial\"><div class=\"sk-item sk-dashed-wrapped\"><div class=\"sk-parallel\"><div class=\"sk-parallel-item\"><div class=\"sk-item\"><div class=\"sk-label-container\"><div class=\"sk-label sk-toggleable\"><input class=\"sk-toggleable__control sk-hidden--visually\" id=\"sk-estimator-id-256\" type=\"checkbox\" ><label for=\"sk-estimator-id-256\" class=\"sk-toggleable__label sk-toggleable__label-arrow\">estimator: Pipeline</label><div class=\"sk-toggleable__content\"><pre>Pipeline(steps=[(&#x27;polynomialfeatures&#x27;, PolynomialFeatures()),\n",
              "                (&#x27;bayesianridge&#x27;, BayesianRidge())])</pre></div></div></div><div class=\"sk-serial\"><div class=\"sk-item\"><div class=\"sk-serial\"><div class=\"sk-item\"><div class=\"sk-estimator sk-toggleable\"><input class=\"sk-toggleable__control sk-hidden--visually\" id=\"sk-estimator-id-257\" type=\"checkbox\" ><label for=\"sk-estimator-id-257\" class=\"sk-toggleable__label sk-toggleable__label-arrow\">PolynomialFeatures</label><div class=\"sk-toggleable__content\"><pre>PolynomialFeatures()</pre></div></div></div><div class=\"sk-item\"><div class=\"sk-estimator sk-toggleable\"><input class=\"sk-toggleable__control sk-hidden--visually\" id=\"sk-estimator-id-258\" type=\"checkbox\" ><label for=\"sk-estimator-id-258\" class=\"sk-toggleable__label sk-toggleable__label-arrow\">BayesianRidge</label><div class=\"sk-toggleable__content\"><pre>BayesianRidge()</pre></div></div></div></div></div></div></div></div></div></div></div></div></div></div></div></div></div>"
            ]
          },
          "metadata": {},
          "execution_count": 738
        }
      ]
    },
    {
      "cell_type": "code",
      "source": [
        "best_parameters = grid_search_cv.best_params_\n",
        "print(\"Best Parameters:\", best_parameters)"
      ],
      "metadata": {
        "colab": {
          "base_uri": "https://localhost:8080/"
        },
        "id": "uSCaPEFdfgAY",
        "outputId": "501ce2a8-8925-40e4-81c4-3769997c216d"
      },
      "execution_count": null,
      "outputs": [
        {
          "output_type": "stream",
          "name": "stdout",
          "text": [
            "Best Parameters: {'n_estimators': 20}\n"
          ]
        }
      ]
    },
    {
      "cell_type": "code",
      "source": [
        "best_bagging_model = BaggingRegressor(base_reg, n_estimators=best_parameters['n_estimators'], random_state=42)\n",
        "best_bagging_model.fit(x_train_transformed, y_train)"
      ],
      "metadata": {
        "colab": {
          "base_uri": "https://localhost:8080/",
          "height": 150
        },
        "id": "4c8p6t2OfnQF",
        "outputId": "46e9ec4f-6e87-4c3f-f523-1458be79a4d5"
      },
      "execution_count": null,
      "outputs": [
        {
          "output_type": "execute_result",
          "data": {
            "text/plain": [
              "BaggingRegressor(estimator=Pipeline(steps=[('polynomialfeatures',\n",
              "                                            PolynomialFeatures()),\n",
              "                                           ('bayesianridge', BayesianRidge())]),\n",
              "                 n_estimators=20, random_state=42)"
            ],
            "text/html": [
              "<style>#sk-container-id-71 {color: black;background-color: white;}#sk-container-id-71 pre{padding: 0;}#sk-container-id-71 div.sk-toggleable {background-color: white;}#sk-container-id-71 label.sk-toggleable__label {cursor: pointer;display: block;width: 100%;margin-bottom: 0;padding: 0.3em;box-sizing: border-box;text-align: center;}#sk-container-id-71 label.sk-toggleable__label-arrow:before {content: \"▸\";float: left;margin-right: 0.25em;color: #696969;}#sk-container-id-71 label.sk-toggleable__label-arrow:hover:before {color: black;}#sk-container-id-71 div.sk-estimator:hover label.sk-toggleable__label-arrow:before {color: black;}#sk-container-id-71 div.sk-toggleable__content {max-height: 0;max-width: 0;overflow: hidden;text-align: left;background-color: #f0f8ff;}#sk-container-id-71 div.sk-toggleable__content pre {margin: 0.2em;color: black;border-radius: 0.25em;background-color: #f0f8ff;}#sk-container-id-71 input.sk-toggleable__control:checked~div.sk-toggleable__content {max-height: 200px;max-width: 100%;overflow: auto;}#sk-container-id-71 input.sk-toggleable__control:checked~label.sk-toggleable__label-arrow:before {content: \"▾\";}#sk-container-id-71 div.sk-estimator input.sk-toggleable__control:checked~label.sk-toggleable__label {background-color: #d4ebff;}#sk-container-id-71 div.sk-label input.sk-toggleable__control:checked~label.sk-toggleable__label {background-color: #d4ebff;}#sk-container-id-71 input.sk-hidden--visually {border: 0;clip: rect(1px 1px 1px 1px);clip: rect(1px, 1px, 1px, 1px);height: 1px;margin: -1px;overflow: hidden;padding: 0;position: absolute;width: 1px;}#sk-container-id-71 div.sk-estimator {font-family: monospace;background-color: #f0f8ff;border: 1px dotted black;border-radius: 0.25em;box-sizing: border-box;margin-bottom: 0.5em;}#sk-container-id-71 div.sk-estimator:hover {background-color: #d4ebff;}#sk-container-id-71 div.sk-parallel-item::after {content: \"\";width: 100%;border-bottom: 1px solid gray;flex-grow: 1;}#sk-container-id-71 div.sk-label:hover label.sk-toggleable__label {background-color: #d4ebff;}#sk-container-id-71 div.sk-serial::before {content: \"\";position: absolute;border-left: 1px solid gray;box-sizing: border-box;top: 0;bottom: 0;left: 50%;z-index: 0;}#sk-container-id-71 div.sk-serial {display: flex;flex-direction: column;align-items: center;background-color: white;padding-right: 0.2em;padding-left: 0.2em;position: relative;}#sk-container-id-71 div.sk-item {position: relative;z-index: 1;}#sk-container-id-71 div.sk-parallel {display: flex;align-items: stretch;justify-content: center;background-color: white;position: relative;}#sk-container-id-71 div.sk-item::before, #sk-container-id-71 div.sk-parallel-item::before {content: \"\";position: absolute;border-left: 1px solid gray;box-sizing: border-box;top: 0;bottom: 0;left: 50%;z-index: -1;}#sk-container-id-71 div.sk-parallel-item {display: flex;flex-direction: column;z-index: 1;position: relative;background-color: white;}#sk-container-id-71 div.sk-parallel-item:first-child::after {align-self: flex-end;width: 50%;}#sk-container-id-71 div.sk-parallel-item:last-child::after {align-self: flex-start;width: 50%;}#sk-container-id-71 div.sk-parallel-item:only-child::after {width: 0;}#sk-container-id-71 div.sk-dashed-wrapped {border: 1px dashed gray;margin: 0 0.4em 0.5em 0.4em;box-sizing: border-box;padding-bottom: 0.4em;background-color: white;}#sk-container-id-71 div.sk-label label {font-family: monospace;font-weight: bold;display: inline-block;line-height: 1.2em;}#sk-container-id-71 div.sk-label-container {text-align: center;}#sk-container-id-71 div.sk-container {/* jupyter's `normalize.less` sets `[hidden] { display: none; }` but bootstrap.min.css set `[hidden] { display: none !important; }` so we also need the `!important` here to be able to override the default hidden behavior on the sphinx rendered scikit-learn.org. See: https://github.com/scikit-learn/scikit-learn/issues/21755 */display: inline-block !important;position: relative;}#sk-container-id-71 div.sk-text-repr-fallback {display: none;}</style><div id=\"sk-container-id-71\" class=\"sk-top-container\"><div class=\"sk-text-repr-fallback\"><pre>BaggingRegressor(estimator=Pipeline(steps=[(&#x27;polynomialfeatures&#x27;,\n",
              "                                            PolynomialFeatures()),\n",
              "                                           (&#x27;bayesianridge&#x27;, BayesianRidge())]),\n",
              "                 n_estimators=20, random_state=42)</pre><b>In a Jupyter environment, please rerun this cell to show the HTML representation or trust the notebook. <br />On GitHub, the HTML representation is unable to render, please try loading this page with nbviewer.org.</b></div><div class=\"sk-container\" hidden><div class=\"sk-item sk-dashed-wrapped\"><div class=\"sk-label-container\"><div class=\"sk-label sk-toggleable\"><input class=\"sk-toggleable__control sk-hidden--visually\" id=\"sk-estimator-id-259\" type=\"checkbox\" ><label for=\"sk-estimator-id-259\" class=\"sk-toggleable__label sk-toggleable__label-arrow\">BaggingRegressor</label><div class=\"sk-toggleable__content\"><pre>BaggingRegressor(estimator=Pipeline(steps=[(&#x27;polynomialfeatures&#x27;,\n",
              "                                            PolynomialFeatures()),\n",
              "                                           (&#x27;bayesianridge&#x27;, BayesianRidge())]),\n",
              "                 n_estimators=20, random_state=42)</pre></div></div></div><div class=\"sk-parallel\"><div class=\"sk-parallel-item\"><div class=\"sk-item\"><div class=\"sk-label-container\"><div class=\"sk-label sk-toggleable\"><input class=\"sk-toggleable__control sk-hidden--visually\" id=\"sk-estimator-id-260\" type=\"checkbox\" ><label for=\"sk-estimator-id-260\" class=\"sk-toggleable__label sk-toggleable__label-arrow\">estimator: Pipeline</label><div class=\"sk-toggleable__content\"><pre>Pipeline(steps=[(&#x27;polynomialfeatures&#x27;, PolynomialFeatures()),\n",
              "                (&#x27;bayesianridge&#x27;, BayesianRidge())])</pre></div></div></div><div class=\"sk-serial\"><div class=\"sk-item\"><div class=\"sk-serial\"><div class=\"sk-item\"><div class=\"sk-estimator sk-toggleable\"><input class=\"sk-toggleable__control sk-hidden--visually\" id=\"sk-estimator-id-261\" type=\"checkbox\" ><label for=\"sk-estimator-id-261\" class=\"sk-toggleable__label sk-toggleable__label-arrow\">PolynomialFeatures</label><div class=\"sk-toggleable__content\"><pre>PolynomialFeatures()</pre></div></div></div><div class=\"sk-item\"><div class=\"sk-estimator sk-toggleable\"><input class=\"sk-toggleable__control sk-hidden--visually\" id=\"sk-estimator-id-262\" type=\"checkbox\" ><label for=\"sk-estimator-id-262\" class=\"sk-toggleable__label sk-toggleable__label-arrow\">BayesianRidge</label><div class=\"sk-toggleable__content\"><pre>BayesianRidge()</pre></div></div></div></div></div></div></div></div></div></div></div></div>"
            ]
          },
          "metadata": {},
          "execution_count": 740
        }
      ]
    },
    {
      "cell_type": "code",
      "source": [
        "best_bagging_model.score(x_train_transformed, y_train)"
      ],
      "metadata": {
        "colab": {
          "base_uri": "https://localhost:8080/"
        },
        "id": "P8on1zIAf5FC",
        "outputId": "fde661d3-7672-4749-9490-1aa631f3b7a3"
      },
      "execution_count": null,
      "outputs": [
        {
          "output_type": "execute_result",
          "data": {
            "text/plain": [
              "0.8690871160193923"
            ]
          },
          "metadata": {},
          "execution_count": 741
        }
      ]
    },
    {
      "cell_type": "code",
      "source": [
        "best_bagging_model.score(x_test_transformed, y_test_values)"
      ],
      "metadata": {
        "colab": {
          "base_uri": "https://localhost:8080/"
        },
        "id": "91DYZChOf_gS",
        "outputId": "428d0b0c-8868-48f8-cbcb-e37f5682282c"
      },
      "execution_count": null,
      "outputs": [
        {
          "output_type": "execute_result",
          "data": {
            "text/plain": [
              "0.7130027239241399"
            ]
          },
          "metadata": {},
          "execution_count": 742
        }
      ]
    },
    {
      "cell_type": "markdown",
      "source": [
        "# Boosting"
      ],
      "metadata": {
        "id": "gsJcA1zvY2ug"
      }
    },
    {
      "cell_type": "code",
      "source": [
        "from sklearn.ensemble import GradientBoostingRegressor"
      ],
      "metadata": {
        "id": "87iTfwU3Y54y"
      },
      "execution_count": null,
      "outputs": []
    },
    {
      "cell_type": "code",
      "source": [
        "base_reg = make_pipeline(PolynomialFeatures(), BayesianRidge())\n",
        "base_reg_instance = base_reg.steps[-1][1]             # Get the regressor instance from the base_reg pipeline\n",
        "boost = GradientBoostingRegressor(base_reg_instance, n_estimators=100, random_state=42)"
      ],
      "metadata": {
        "colab": {
          "base_uri": "https://localhost:8080/",
          "height": 245
        },
        "id": "dzm3cgVHZIAO",
        "outputId": "15093998-8505-4b91-f6fb-c1768c6f7efe"
      },
      "execution_count": null,
      "outputs": [
        {
          "output_type": "error",
          "ename": "TypeError",
          "evalue": "ignored",
          "traceback": [
            "\u001b[0;31m---------------------------------------------------------------------------\u001b[0m",
            "\u001b[0;31mTypeError\u001b[0m                                 Traceback (most recent call last)",
            "\u001b[0;32m<ipython-input-747-742cfd127163>\u001b[0m in \u001b[0;36m<cell line: 3>\u001b[0;34m()\u001b[0m\n\u001b[1;32m      1\u001b[0m \u001b[0mbase_reg\u001b[0m \u001b[0;34m=\u001b[0m \u001b[0mmake_pipeline\u001b[0m\u001b[0;34m(\u001b[0m\u001b[0mPolynomialFeatures\u001b[0m\u001b[0;34m(\u001b[0m\u001b[0;34m)\u001b[0m\u001b[0;34m,\u001b[0m \u001b[0mBayesianRidge\u001b[0m\u001b[0;34m(\u001b[0m\u001b[0;34m)\u001b[0m\u001b[0;34m)\u001b[0m\u001b[0;34m\u001b[0m\u001b[0;34m\u001b[0m\u001b[0m\n\u001b[1;32m      2\u001b[0m \u001b[0mbase_reg_instance\u001b[0m \u001b[0;34m=\u001b[0m \u001b[0mbase_reg\u001b[0m\u001b[0;34m.\u001b[0m\u001b[0msteps\u001b[0m\u001b[0;34m[\u001b[0m\u001b[0;34m-\u001b[0m\u001b[0;36m1\u001b[0m\u001b[0;34m]\u001b[0m\u001b[0;34m[\u001b[0m\u001b[0;36m1\u001b[0m\u001b[0;34m]\u001b[0m             \u001b[0;31m# Get the regressor instance from the base_reg pipeline\u001b[0m\u001b[0;34m\u001b[0m\u001b[0;34m\u001b[0m\u001b[0m\n\u001b[0;32m----> 3\u001b[0;31m \u001b[0mboost\u001b[0m \u001b[0;34m=\u001b[0m \u001b[0mGradientBoostingRegressor\u001b[0m\u001b[0;34m(\u001b[0m\u001b[0mbase_reg_instance\u001b[0m\u001b[0;34m,\u001b[0m \u001b[0mrandom_state\u001b[0m\u001b[0;34m=\u001b[0m\u001b[0;36m42\u001b[0m\u001b[0;34m)\u001b[0m\u001b[0;34m\u001b[0m\u001b[0;34m\u001b[0m\u001b[0m\n\u001b[0m",
            "\u001b[0;31mTypeError\u001b[0m: GradientBoostingRegressor.__init__() takes 1 positional argument but 2 positional arguments (and 1 keyword-only argument) were given"
          ]
        }
      ]
    },
    {
      "cell_type": "code",
      "source": [
        "boost.fit(x_train_transformed,y_train)"
      ],
      "metadata": {
        "colab": {
          "base_uri": "https://localhost:8080/",
          "height": 74
        },
        "id": "N1Th0u5TZUGf",
        "outputId": "7cefc082-f35a-442a-a652-d8d57ffab0e3"
      },
      "execution_count": null,
      "outputs": [
        {
          "output_type": "execute_result",
          "data": {
            "text/plain": [
              "GradientBoostingRegressor()"
            ],
            "text/html": [
              "<style>#sk-container-id-52 {color: black;background-color: white;}#sk-container-id-52 pre{padding: 0;}#sk-container-id-52 div.sk-toggleable {background-color: white;}#sk-container-id-52 label.sk-toggleable__label {cursor: pointer;display: block;width: 100%;margin-bottom: 0;padding: 0.3em;box-sizing: border-box;text-align: center;}#sk-container-id-52 label.sk-toggleable__label-arrow:before {content: \"▸\";float: left;margin-right: 0.25em;color: #696969;}#sk-container-id-52 label.sk-toggleable__label-arrow:hover:before {color: black;}#sk-container-id-52 div.sk-estimator:hover label.sk-toggleable__label-arrow:before {color: black;}#sk-container-id-52 div.sk-toggleable__content {max-height: 0;max-width: 0;overflow: hidden;text-align: left;background-color: #f0f8ff;}#sk-container-id-52 div.sk-toggleable__content pre {margin: 0.2em;color: black;border-radius: 0.25em;background-color: #f0f8ff;}#sk-container-id-52 input.sk-toggleable__control:checked~div.sk-toggleable__content {max-height: 200px;max-width: 100%;overflow: auto;}#sk-container-id-52 input.sk-toggleable__control:checked~label.sk-toggleable__label-arrow:before {content: \"▾\";}#sk-container-id-52 div.sk-estimator input.sk-toggleable__control:checked~label.sk-toggleable__label {background-color: #d4ebff;}#sk-container-id-52 div.sk-label input.sk-toggleable__control:checked~label.sk-toggleable__label {background-color: #d4ebff;}#sk-container-id-52 input.sk-hidden--visually {border: 0;clip: rect(1px 1px 1px 1px);clip: rect(1px, 1px, 1px, 1px);height: 1px;margin: -1px;overflow: hidden;padding: 0;position: absolute;width: 1px;}#sk-container-id-52 div.sk-estimator {font-family: monospace;background-color: #f0f8ff;border: 1px dotted black;border-radius: 0.25em;box-sizing: border-box;margin-bottom: 0.5em;}#sk-container-id-52 div.sk-estimator:hover {background-color: #d4ebff;}#sk-container-id-52 div.sk-parallel-item::after {content: \"\";width: 100%;border-bottom: 1px solid gray;flex-grow: 1;}#sk-container-id-52 div.sk-label:hover label.sk-toggleable__label {background-color: #d4ebff;}#sk-container-id-52 div.sk-serial::before {content: \"\";position: absolute;border-left: 1px solid gray;box-sizing: border-box;top: 0;bottom: 0;left: 50%;z-index: 0;}#sk-container-id-52 div.sk-serial {display: flex;flex-direction: column;align-items: center;background-color: white;padding-right: 0.2em;padding-left: 0.2em;position: relative;}#sk-container-id-52 div.sk-item {position: relative;z-index: 1;}#sk-container-id-52 div.sk-parallel {display: flex;align-items: stretch;justify-content: center;background-color: white;position: relative;}#sk-container-id-52 div.sk-item::before, #sk-container-id-52 div.sk-parallel-item::before {content: \"\";position: absolute;border-left: 1px solid gray;box-sizing: border-box;top: 0;bottom: 0;left: 50%;z-index: -1;}#sk-container-id-52 div.sk-parallel-item {display: flex;flex-direction: column;z-index: 1;position: relative;background-color: white;}#sk-container-id-52 div.sk-parallel-item:first-child::after {align-self: flex-end;width: 50%;}#sk-container-id-52 div.sk-parallel-item:last-child::after {align-self: flex-start;width: 50%;}#sk-container-id-52 div.sk-parallel-item:only-child::after {width: 0;}#sk-container-id-52 div.sk-dashed-wrapped {border: 1px dashed gray;margin: 0 0.4em 0.5em 0.4em;box-sizing: border-box;padding-bottom: 0.4em;background-color: white;}#sk-container-id-52 div.sk-label label {font-family: monospace;font-weight: bold;display: inline-block;line-height: 1.2em;}#sk-container-id-52 div.sk-label-container {text-align: center;}#sk-container-id-52 div.sk-container {/* jupyter's `normalize.less` sets `[hidden] { display: none; }` but bootstrap.min.css set `[hidden] { display: none !important; }` so we also need the `!important` here to be able to override the default hidden behavior on the sphinx rendered scikit-learn.org. See: https://github.com/scikit-learn/scikit-learn/issues/21755 */display: inline-block !important;position: relative;}#sk-container-id-52 div.sk-text-repr-fallback {display: none;}</style><div id=\"sk-container-id-52\" class=\"sk-top-container\"><div class=\"sk-text-repr-fallback\"><pre>GradientBoostingRegressor()</pre><b>In a Jupyter environment, please rerun this cell to show the HTML representation or trust the notebook. <br />On GitHub, the HTML representation is unable to render, please try loading this page with nbviewer.org.</b></div><div class=\"sk-container\" hidden><div class=\"sk-item\"><div class=\"sk-estimator sk-toggleable\"><input class=\"sk-toggleable__control sk-hidden--visually\" id=\"sk-estimator-id-178\" type=\"checkbox\" checked><label for=\"sk-estimator-id-178\" class=\"sk-toggleable__label sk-toggleable__label-arrow\">GradientBoostingRegressor</label><div class=\"sk-toggleable__content\"><pre>GradientBoostingRegressor()</pre></div></div></div></div></div>"
            ]
          },
          "metadata": {},
          "execution_count": 687
        }
      ]
    },
    {
      "cell_type": "code",
      "source": [
        "boo.score(x_train_transformed,y_train)"
      ],
      "metadata": {
        "colab": {
          "base_uri": "https://localhost:8080/"
        },
        "id": "UpXC7Fe0ZeM5",
        "outputId": "c2cfac17-9157-43ef-ca4c-dfc3473076b3"
      },
      "execution_count": null,
      "outputs": [
        {
          "output_type": "execute_result",
          "data": {
            "text/plain": [
              "0.9713899122010179"
            ]
          },
          "metadata": {},
          "execution_count": 688
        }
      ]
    },
    {
      "cell_type": "code",
      "source": [
        "boo.score(x_test_transformed,y_test_values)"
      ],
      "metadata": {
        "colab": {
          "base_uri": "https://localhost:8080/"
        },
        "id": "jnKfjCQOZlOe",
        "outputId": "90fc42f1-e728-405c-c02c-85565e7bb435"
      },
      "execution_count": null,
      "outputs": [
        {
          "output_type": "execute_result",
          "data": {
            "text/plain": [
              "0.46348986528762903"
            ]
          },
          "metadata": {},
          "execution_count": 689
        }
      ]
    },
    {
      "cell_type": "markdown",
      "source": [
        "# Auto"
      ],
      "metadata": {
        "id": "J7ANC6So9ka2"
      }
    },
    {
      "cell_type": "code",
      "source": [
        "!pip install setuptools numpy scipy joblib"
      ],
      "metadata": {
        "colab": {
          "base_uri": "https://localhost:8080/"
        },
        "id": "IeyQ_3hs9pJn",
        "outputId": "5c2e19c9-163d-4ed8-d54d-ea287cbffc41"
      },
      "execution_count": null,
      "outputs": [
        {
          "output_type": "stream",
          "name": "stdout",
          "text": [
            "Requirement already satisfied: setuptools in /usr/local/lib/python3.10/dist-packages (67.7.2)\n",
            "Requirement already satisfied: numpy in /usr/local/lib/python3.10/dist-packages (1.23.5)\n",
            "Requirement already satisfied: scipy in /usr/local/lib/python3.10/dist-packages (1.11.4)\n",
            "Requirement already satisfied: joblib in /usr/local/lib/python3.10/dist-packages (1.3.2)\n"
          ]
        }
      ]
    },
    {
      "cell_type": "code",
      "source": [
        "# Install dependencies\n",
        "!apt-get install -y\n",
        "!pip install Cython numpy\n",
        "\n",
        "# Install Auto-sklearn\n",
        "!pip install auto-sklearn"
      ],
      "metadata": {
        "colab": {
          "base_uri": "https://localhost:8080/"
        },
        "id": "EbLIPlKj_r2m",
        "outputId": "4f3862b7-8657-4217-de43-5645dd13cf55"
      },
      "execution_count": null,
      "outputs": [
        {
          "output_type": "stream",
          "name": "stdout",
          "text": [
            "Reading package lists... Done\n",
            "Building dependency tree... Done\n",
            "Reading state information... Done\n",
            "0 upgraded, 0 newly installed, 0 to remove and 24 not upgraded.\n",
            "Requirement already satisfied: Cython in /usr/local/lib/python3.10/dist-packages (3.0.6)\n",
            "Requirement already satisfied: numpy in /usr/local/lib/python3.10/dist-packages (1.23.5)\n",
            "Collecting auto-sklearn\n",
            "  Downloading auto-sklearn-0.15.0.tar.gz (6.5 MB)\n",
            "\u001b[2K     \u001b[90m━━━━━━━━━━━━━━━━━━━━━━━━━━━━━━━━━━━━━━━━\u001b[0m \u001b[32m6.5/6.5 MB\u001b[0m \u001b[31m12.0 MB/s\u001b[0m eta \u001b[36m0:00:00\u001b[0m\n",
            "\u001b[?25h  Installing build dependencies ... \u001b[?25l\u001b[?25hdone\n",
            "  Getting requirements to build wheel ... \u001b[?25l\u001b[?25hdone\n",
            "  Preparing metadata (pyproject.toml) ... \u001b[?25l\u001b[?25hdone\n",
            "Requirement already satisfied: setuptools in /usr/local/lib/python3.10/dist-packages (from auto-sklearn) (67.7.2)\n",
            "Requirement already satisfied: typing-extensions in /usr/local/lib/python3.10/dist-packages (from auto-sklearn) (4.5.0)\n",
            "Requirement already satisfied: distro in /usr/lib/python3/dist-packages (from auto-sklearn) (1.7.0)\n",
            "Requirement already satisfied: numpy>=1.9.0 in /usr/local/lib/python3.10/dist-packages (from auto-sklearn) (1.23.5)\n",
            "Requirement already satisfied: scipy>=1.7.0 in /usr/local/lib/python3.10/dist-packages (from auto-sklearn) (1.11.4)\n",
            "Requirement already satisfied: joblib in /usr/local/lib/python3.10/dist-packages (from auto-sklearn) (1.3.2)\n",
            "Collecting scikit-learn<0.25.0,>=0.24.0 (from auto-sklearn)\n",
            "  Downloading scikit-learn-0.24.2.tar.gz (7.5 MB)\n",
            "\u001b[2K     \u001b[90m━━━━━━━━━━━━━━━━━━━━━━━━━━━━━━━━━━━━━━━━\u001b[0m \u001b[32m7.5/7.5 MB\u001b[0m \u001b[31m49.0 MB/s\u001b[0m eta \u001b[36m0:00:00\u001b[0m\n",
            "\u001b[?25h  Installing build dependencies ... \u001b[?25l\u001b[?25hdone\n",
            "  Getting requirements to build wheel ... \u001b[?25l\u001b[?25hdone\n",
            "  \u001b[1;31merror\u001b[0m: \u001b[1msubprocess-exited-with-error\u001b[0m\n",
            "  \n",
            "  \u001b[31m×\u001b[0m \u001b[32mPreparing metadata \u001b[0m\u001b[1;32m(\u001b[0m\u001b[32mpyproject.toml\u001b[0m\u001b[1;32m)\u001b[0m did not run successfully.\n",
            "  \u001b[31m│\u001b[0m exit code: \u001b[1;36m1\u001b[0m\n",
            "  \u001b[31m╰─>\u001b[0m See above for output.\n",
            "  \n",
            "  \u001b[1;35mnote\u001b[0m: This error originates from a subprocess, and is likely not a problem with pip.\n",
            "  Preparing metadata (pyproject.toml) ... \u001b[?25l\u001b[?25herror\n",
            "\u001b[1;31merror\u001b[0m: \u001b[1mmetadata-generation-failed\u001b[0m\n",
            "\n",
            "\u001b[31m×\u001b[0m Encountered error while generating package metadata.\n",
            "\u001b[31m╰─>\u001b[0m See above for output.\n",
            "\n",
            "\u001b[1;35mnote\u001b[0m: This is an issue with the package mentioned above, not pip.\n",
            "\u001b[1;36mhint\u001b[0m: See above for details.\n"
          ]
        }
      ]
    },
    {
      "cell_type": "code",
      "source": [
        "!pip install auto-sklearn"
      ],
      "metadata": {
        "id": "NPrzkdEl_yH9"
      },
      "execution_count": null,
      "outputs": []
    },
    {
      "cell_type": "code",
      "source": [
        "import autosklearn.regression\n",
        "from sklearn.model_selection import train_test_split\n",
        "from sklearn.metrics import mean_squared_error"
      ],
      "metadata": {
        "colab": {
          "base_uri": "https://localhost:8080/",
          "height": 211
        },
        "id": "rt8IU4J29mRg",
        "outputId": "58129a9e-ab2e-45a1-9a30-300f6172c290"
      },
      "execution_count": null,
      "outputs": [
        {
          "output_type": "error",
          "ename": "ModuleNotFoundError",
          "evalue": "ignored",
          "traceback": [
            "\u001b[0;31m---------------------------------------------------------------------------\u001b[0m",
            "\u001b[0;31mModuleNotFoundError\u001b[0m                       Traceback (most recent call last)",
            "\u001b[0;32m<ipython-input-127-80d3a5ea4b41>\u001b[0m in \u001b[0;36m<cell line: 1>\u001b[0;34m()\u001b[0m\n\u001b[0;32m----> 1\u001b[0;31m \u001b[0;32mimport\u001b[0m \u001b[0mautosklearn\u001b[0m\u001b[0;34m.\u001b[0m\u001b[0mregression\u001b[0m\u001b[0;34m\u001b[0m\u001b[0;34m\u001b[0m\u001b[0m\n\u001b[0m\u001b[1;32m      2\u001b[0m \u001b[0;32mfrom\u001b[0m \u001b[0msklearn\u001b[0m\u001b[0;34m.\u001b[0m\u001b[0mmodel_selection\u001b[0m \u001b[0;32mimport\u001b[0m \u001b[0mtrain_test_split\u001b[0m\u001b[0;34m\u001b[0m\u001b[0;34m\u001b[0m\u001b[0m\n\u001b[1;32m      3\u001b[0m \u001b[0;32mfrom\u001b[0m \u001b[0msklearn\u001b[0m\u001b[0;34m.\u001b[0m\u001b[0mmetrics\u001b[0m \u001b[0;32mimport\u001b[0m \u001b[0mmean_squared_error\u001b[0m\u001b[0;34m\u001b[0m\u001b[0;34m\u001b[0m\u001b[0m\n",
            "\u001b[0;31mModuleNotFoundError\u001b[0m: No module named 'autosklearn'"
          ]
        }
      ]
    },
    {
      "cell_type": "code",
      "source": [
        "# Configure Auto-sklearn\n",
        "automl = autosklearn.regression.AutoSklearnRegressor(\n",
        "    time_left_for_this_task=3600,  # Maximum time in seconds for the optimization process\n",
        "    per_run_time_limit=300,          # Maximum time in seconds for a single model training\n",
        "    ensemble_size=1,                # Number of models to include in the final ensemble\n",
        "    ensemble_nbest=1,               # Number of best models to include in the ensemble\n",
        "    seed=42,                        # Random seed for reproducibility\n",
        ")"
      ],
      "metadata": {
        "id": "3RkwUAnH92ed"
      },
      "execution_count": null,
      "outputs": []
    },
    {
      "cell_type": "code",
      "source": [
        "# Run Auto-sklearn\n",
        "automl.fit(x_train_transformed, y_train)"
      ],
      "metadata": {
        "id": "-NHHUZtn95uD"
      },
      "execution_count": null,
      "outputs": []
    },
    {
      "cell_type": "code",
      "source": [
        "# Print the final ensemble\n",
        "print(automl.show_models())"
      ],
      "metadata": {
        "id": "xTX3Z_ok9_wB"
      },
      "execution_count": null,
      "outputs": []
    },
    {
      "cell_type": "code",
      "source": [
        "# Make predictions on the test set\n",
        "y_pred = automl.predict(x_test_transformed_test)\n",
        "\n",
        "# Evaluate the performance\n",
        "mse = mean_squared_error(y_test_values, y_pred)\n",
        "print(f'Mean Squared Error on test set: {mse}')"
      ],
      "metadata": {
        "id": "8iGK5abe-GlE"
      },
      "execution_count": null,
      "outputs": []
    },
    {
      "cell_type": "code",
      "source": [
        "import autosklearn\n",
        "import autosklearn.regression"
      ],
      "metadata": {
        "colab": {
          "base_uri": "https://localhost:8080/",
          "height": 332
        },
        "id": "xLRY_CS67wMO",
        "outputId": "fddc478f-f7a8-4be4-8fc0-5811b449bcc2"
      },
      "execution_count": null,
      "outputs": [
        {
          "output_type": "error",
          "ename": "ModuleNotFoundError",
          "evalue": "ignored",
          "traceback": [
            "\u001b[0;31m---------------------------------------------------------------------------\u001b[0m",
            "\u001b[0;31mModuleNotFoundError\u001b[0m                       Traceback (most recent call last)",
            "\u001b[0;32m<ipython-input-2-94f025936d6a>\u001b[0m in \u001b[0;36m<cell line: 1>\u001b[0;34m()\u001b[0m\n\u001b[0;32m----> 1\u001b[0;31m \u001b[0;32mimport\u001b[0m \u001b[0mautosklearn\u001b[0m\u001b[0;34m\u001b[0m\u001b[0;34m\u001b[0m\u001b[0m\n\u001b[0m\u001b[1;32m      2\u001b[0m \u001b[0;32mimport\u001b[0m \u001b[0mautosklearn\u001b[0m\u001b[0;34m.\u001b[0m\u001b[0mregression\u001b[0m\u001b[0;34m\u001b[0m\u001b[0;34m\u001b[0m\u001b[0m\n",
            "\u001b[0;31mModuleNotFoundError\u001b[0m: No module named 'autosklearn'",
            "",
            "\u001b[0;31m---------------------------------------------------------------------------\u001b[0;32m\nNOTE: If your import is failing due to a missing package, you can\nmanually install dependencies using either !pip or !apt.\n\nTo view examples of installing some common dependencies, click the\n\"Open Examples\" button below.\n\u001b[0;31m---------------------------------------------------------------------------\u001b[0m\n"
          ],
          "errorDetails": {
            "actions": [
              {
                "action": "open_url",
                "actionText": "Open Examples",
                "url": "/notebooks/snippets/importing_libraries.ipynb"
              }
            ]
          }
        }
      ]
    },
    {
      "cell_type": "code",
      "source": [
        "!pip install auto-sklearn --pre"
      ],
      "metadata": {
        "colab": {
          "base_uri": "https://localhost:8080/"
        },
        "id": "dwzQIzsU9V1H",
        "outputId": "e8517f57-6eee-4cf9-8143-3296e06e2ec6"
      },
      "execution_count": null,
      "outputs": [
        {
          "output_type": "stream",
          "name": "stdout",
          "text": [
            "Collecting auto-sklearn\n",
            "  Downloading auto-sklearn-0.15.0.tar.gz (6.5 MB)\n",
            "\u001b[2K     \u001b[90m━━━━━━━━━━━━━━━━━━━━━━━━━━━━━━━━━━━━━━━━\u001b[0m \u001b[32m6.5/6.5 MB\u001b[0m \u001b[31m20.4 MB/s\u001b[0m eta \u001b[36m0:00:00\u001b[0m\n",
            "\u001b[?25h  Installing build dependencies ... \u001b[?25l\u001b[?25hdone\n",
            "  Getting requirements to build wheel ... \u001b[?25l\u001b[?25hdone\n",
            "  Preparing metadata (pyproject.toml) ... \u001b[?25l\u001b[?25hdone\n",
            "Requirement already satisfied: setuptools in /usr/local/lib/python3.10/dist-packages (from auto-sklearn) (67.7.2)\n",
            "Requirement already satisfied: typing-extensions in /usr/local/lib/python3.10/dist-packages (from auto-sklearn) (4.5.0)\n",
            "Requirement already satisfied: distro in /usr/lib/python3/dist-packages (from auto-sklearn) (1.7.0)\n",
            "Requirement already satisfied: numpy>=1.9.0 in /usr/local/lib/python3.10/dist-packages (from auto-sklearn) (1.23.5)\n",
            "Requirement already satisfied: scipy>=1.7.0 in /usr/local/lib/python3.10/dist-packages (from auto-sklearn) (1.11.4)\n",
            "Requirement already satisfied: joblib in /usr/local/lib/python3.10/dist-packages (from auto-sklearn) (1.3.2)\n",
            "Collecting scikit-learn<0.25.0,>=0.24.0 (from auto-sklearn)\n",
            "  Downloading scikit-learn-0.24.2.tar.gz (7.5 MB)\n",
            "\u001b[2K     \u001b[90m━━━━━━━━━━━━━━━━━━━━━━━━━━━━━━━━━━━━━━━━\u001b[0m \u001b[32m7.5/7.5 MB\u001b[0m \u001b[31m41.0 MB/s\u001b[0m eta \u001b[36m0:00:00\u001b[0m\n",
            "\u001b[?25h  Installing build dependencies ... \u001b[?25l\u001b[?25hdone\n",
            "  Getting requirements to build wheel ... \u001b[?25l\u001b[?25hdone\n",
            "  \u001b[1;31merror\u001b[0m: \u001b[1msubprocess-exited-with-error\u001b[0m\n",
            "  \n",
            "  \u001b[31m×\u001b[0m \u001b[32mPreparing metadata \u001b[0m\u001b[1;32m(\u001b[0m\u001b[32mpyproject.toml\u001b[0m\u001b[1;32m)\u001b[0m did not run successfully.\n",
            "  \u001b[31m│\u001b[0m exit code: \u001b[1;36m1\u001b[0m\n",
            "  \u001b[31m╰─>\u001b[0m See above for output.\n",
            "  \n",
            "  \u001b[1;35mnote\u001b[0m: This error originates from a subprocess, and is likely not a problem with pip.\n",
            "  Preparing metadata (pyproject.toml) ... \u001b[?25l\u001b[?25herror\n",
            "\u001b[1;31merror\u001b[0m: \u001b[1mmetadata-generation-failed\u001b[0m\n",
            "\n",
            "\u001b[31m×\u001b[0m Encountered error while generating package metadata.\n",
            "\u001b[31m╰─>\u001b[0m See above for output.\n",
            "\n",
            "\u001b[1;35mnote\u001b[0m: This is an issue with the package mentioned above, not pip.\n",
            "\u001b[1;36mhint\u001b[0m: See above for details.\n"
          ]
        }
      ]
    }
  ]
}